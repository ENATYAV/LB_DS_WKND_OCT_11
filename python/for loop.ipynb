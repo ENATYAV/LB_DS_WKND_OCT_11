{
 "cells": [
  {
   "cell_type": "code",
   "execution_count": 1,
   "metadata": {},
   "outputs": [
    {
     "name": "stdout",
     "output_type": "stream",
     "text": [
      "hello world:0\n",
      "hello world:1\n",
      "hello world:2\n",
      "hello world:3\n",
      "hello world:4\n",
      "hello world:5\n",
      "hello world:6\n",
      "hello world:7\n",
      "hello world:8\n",
      "hello world:9\n",
      "hello world\n",
      "hello world\n",
      "hello world\n",
      "hello world\n",
      "hello world\n",
      "hello world\n",
      "hello world\n",
      "hello world\n",
      "hello world\n",
      "hello world\n"
     ]
    }
   ],
   "source": [
    "#example-1- print 1-10\n",
    "\n",
    "for i in range(10): # will print 0 -(10-1)\n",
    "    print(f'hello world:{i}')\n",
    "\n",
    "for i in range(1,11):\n",
    "    print('hello world')"
   ]
  },
  {
   "cell_type": "code",
   "execution_count": 8,
   "metadata": {},
   "outputs": [
    {
     "name": "stdout",
     "output_type": "stream",
     "text": [
      "enter any num for sum: 10\n",
      "sum for 10 is 55\n"
     ]
    }
   ],
   "source": [
    "#exaple-2- sum of numbers\n",
    "num= eval(input('enter any num for sum: '))\n",
    "total=0\n",
    "for i in range(1,num+1):\n",
    "    total+=i\n",
    "print(f'sum for {num} is {total}')"
   ]
  },
  {
   "cell_type": "code",
   "execution_count": 18,
   "metadata": {},
   "outputs": [
    {
     "name": "stdout",
     "output_type": "stream",
     "text": [
      "enter any number : 1234\n",
      "sum to digits of 1234 is 10\n"
     ]
    }
   ],
   "source": [
    "#Example-2 Ask user to input any nymber like 12345\n",
    "        # Sum the digits of number like---1+2+3+4+5\n",
    "\n",
    "num= input('enter any number : ')\n",
    "total= 0\n",
    "for i in range(len(num)):\n",
    "    total+=int(num[i])\n",
    "print(f'sum to digits of {num} is {total}')"
   ]
  },
  {
   "cell_type": "code",
   "execution_count": 34,
   "metadata": {},
   "outputs": [
    {
     "name": "stdout",
     "output_type": "stream",
     "text": [
      "enter your name: navneet yadav mridul yadav\n",
      "n: 2\n",
      "a: 5\n",
      "v: 3\n",
      "e: 2\n",
      "t: 1\n",
      " : 3\n",
      "y: 2\n",
      "d: 3\n",
      "m: 1\n",
      "r: 1\n",
      "i: 1\n",
      "u: 1\n",
      "l: 1\n"
     ]
    }
   ],
   "source": [
    "# Example-3 take  string input from user and print laters and count\n",
    "  # input'Navneet'\n",
    "  # output-\n",
    "  # n:2\n",
    "  # a:1\n",
    "  # v:1\n",
    "  # v:1\n",
    "  # e:2\n",
    "  # t:1\n",
    "\n",
    "name= input('enter your name: ')\n",
    "count=0\n",
    "temp_var=''\n",
    "for i in range(0,len(name)):\n",
    "    if name[i] not in temp_var:\n",
    "        temp_var+=name[i]\n",
    "        print(f'{name[i]}: {name.count(name[i])}')\n",
    "       "
   ]
  },
  {
   "cell_type": "markdown",
   "metadata": {},
   "source": [
    "## Break & continue\n"
   ]
  },
  {
   "cell_type": "code",
   "execution_count": 38,
   "metadata": {},
   "outputs": [
    {
     "name": "stdout",
     "output_type": "stream",
     "text": [
      "0\n",
      "1\n",
      "2\n",
      "3\n",
      "4\n"
     ]
    }
   ],
   "source": [
    "# break : is used to break loop'\n",
    "\n",
    "for i in range(11):\n",
    "    if i==5:     ## loop execution will be breaked when i==5\n",
    "        break\n",
    "    print(i)\n",
    "    "
   ]
  },
  {
   "cell_type": "code",
   "execution_count": 37,
   "metadata": {},
   "outputs": [
    {
     "name": "stdout",
     "output_type": "stream",
     "text": [
      "0\n",
      "1\n",
      "2\n",
      "3\n",
      "4\n",
      "6\n",
      "7\n",
      "8\n",
      "9\n",
      "10\n"
     ]
    }
   ],
   "source": [
    "# continue: is used for to escape loop when condition is true \n",
    "\n",
    "for i in range(11):\n",
    "    if i==5:     ## when i==5 will skip when i==5 ,rest condition will execut\n",
    "        continue\n",
    "    print(i)"
   ]
  },
  {
   "cell_type": "code",
   "execution_count": null,
   "metadata": {},
   "outputs": [],
   "source": [
    "# example: number guessing game\n",
    "\n",
    "import random\n",
    "winning_number= random.randint(1,100)\n",
    "num =eval(input('enter number between 1 to 100 : '))\n",
    "count=1\n",
    "game_over= False\n",
    "while not game_over:\n",
    "    if winning_number==num:\n",
    "        print(f'you win and you guess in {count} times')\n",
    "        game_over= True\n",
    "    else:\n",
    "        if winning_number < num:\n",
    "            print('too high')            \n",
    "        else:\n",
    "            print('too low')\n",
    "        num= eval(input('guess again :'))\n",
    "        count+=1\n",
    "\n",
    "              \n",
    "    \n",
    "\n",
    "        \n",
    "    "
   ]
  },
  {
   "cell_type": "code",
   "execution_count": null,
   "metadata": {},
   "outputs": [],
   "source": []
  },
  {
   "cell_type": "code",
   "execution_count": null,
   "metadata": {},
   "outputs": [],
   "source": []
  },
  {
   "cell_type": "code",
   "execution_count": null,
   "metadata": {},
   "outputs": [],
   "source": []
  },
  {
   "cell_type": "code",
   "execution_count": null,
   "metadata": {},
   "outputs": [],
   "source": []
  }
 ],
 "metadata": {
  "kernelspec": {
   "display_name": "Python 3",
   "language": "python",
   "name": "python3"
  },
  "language_info": {
   "codemirror_mode": {
    "name": "ipython",
    "version": 3
   },
   "file_extension": ".py",
   "mimetype": "text/x-python",
   "name": "python",
   "nbconvert_exporter": "python",
   "pygments_lexer": "ipython3",
   "version": "3.7.6"
  }
 },
 "nbformat": 4,
 "nbformat_minor": 4
}
