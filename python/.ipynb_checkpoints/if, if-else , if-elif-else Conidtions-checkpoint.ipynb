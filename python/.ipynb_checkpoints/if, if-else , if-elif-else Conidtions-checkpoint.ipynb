{
 "cells": [
  {
   "cell_type": "code",
   "execution_count": 6,
   "metadata": {},
   "outputs": [
    {
     "name": "stdout",
     "output_type": "stream",
     "text": [
      "Guess a number b/w 1- 50 : 16\n",
      "Too Low\n"
     ]
    }
   ],
   "source": [
    "# make a variable , like winning_number and assign any number to it\n",
    "#ask user to guess a number\n",
    "# if user guessed curretly then print \"YOU WIN!!!\"\n",
    "# if user didn't guessed correctly than:\n",
    "      # if user guessed lower than actual number then print \"Too low\"\n",
    "       # if user guessed higher than actual number then print \"Too High\"\n",
    "\n",
    "winning_number = 20\n",
    "guessed_number = int(input('Guess a number b/w 1- 50 : '))\n",
    "\n",
    "if guessed_number == winning_number:\n",
    "    print('YOU WIN !!!!')\n",
    "else:\n",
    "    if guessed_number < winning_number:\n",
    "        print('Too Low')\n",
    "    else:\n",
    "        print('Too High')"
   ]
  },
  {
   "cell_type": "markdown",
   "metadata": {},
   "source": [
    "## example -2- WATCH COCO MOVIE\n",
    " #Ask user to enter name & age\n",
    " #if user name started with 'a' or 'A' and age is above than 1o then\n",
    "   #print('you can watch coco')\n",
    " #else  print 'sorry!, you cannot watch COCO'\n",
    "\n",
    "\n"
   ]
  },
  {
   "cell_type": "code",
   "execution_count": 13,
   "metadata": {},
   "outputs": [
    {
     "name": "stdout",
     "output_type": "stream",
     "text": [
      "enter your name & age comma seperated : anish , 20\n",
      "You can watch COCO\n",
      "enter your name & age comma seperated : anish , 20\n",
      "You can watch COCO\n"
     ]
    }
   ],
   "source": [
    "#ist way\n",
    "name, age= input('enter your name & age comma seperated :').split(',')\n",
    "name= name.strip()# to remove space entered\n",
    "age= eval(age.strip())# rempove space entered and convert into int\n",
    "if (name[0] == 'a' or name[0]== 'A') and age>10:\n",
    "    print('You can watch COCO')\n",
    "else:\n",
    "    print('you cannot watch COCO')\n",
    "    \n",
    "    \n",
    "# 2nd way:\n",
    "\n",
    "name, age= input('enter your name & age comma seperated :').split(',')\n",
    "name= name.strip().lower()# to remove space entered\n",
    "age= eval(age.strip())# rempove space entered and convert into int\n",
    "if (name[0] == 'a') and age>10:\n",
    "    print('You can watch COCO')\n",
    "else:\n",
    "    print('you cannot watch COCO')"
   ]
  },
  {
   "cell_type": "markdown",
   "metadata": {},
   "source": [
    "## if-elif-else statement\n",
    "#used for multi condition staement"
   ]
  },
  {
   "cell_type": "code",
   "execution_count": 19,
   "metadata": {},
   "outputs": [
    {
     "name": "stdout",
     "output_type": "stream",
     "text": [
      "enter your age : 70\n",
      "200\n"
     ]
    }
   ],
   "source": [
    "# example:\n",
    "# ticket price for Moive\n",
    "  # free for 0-3year\n",
    "  # 150  for 4-11 years\n",
    "  # 250 for 5-60 years\n",
    "  # 200 for >60 years\n",
    "\n",
    "age= eval(input('enter your age : '))\n",
    "if age<=0:\n",
    "    print('you cannot age is not valid')\n",
    "elif 0<age<=3:\n",
    "    print('free')\n",
    "elif 4<=age <=11:\n",
    "    print('150')\n",
    "elif 11<age<60:\n",
    "    print('250')\n",
    "else:\n",
    "    print('200')"
   ]
  },
  {
   "cell_type": "markdown",
   "metadata": {},
   "source": [
    "## check string is empty or not"
   ]
  },
  {
   "cell_type": "code",
   "execution_count": 23,
   "metadata": {},
   "outputs": [
    {
     "name": "stdout",
     "output_type": "stream",
     "text": [
      "enter your name :navneet\n",
      "string is not empty\n"
     ]
    }
   ],
   "source": [
    "name= input('enter your name :')\n",
    "if name:\n",
    "    print('string is not empty')\n",
    "else:\n",
    "    print('string is empty')"
   ]
  }
 ],
 "metadata": {
  "kernelspec": {
   "display_name": "Python 3",
   "language": "python",
   "name": "python3"
  },
  "language_info": {
   "codemirror_mode": {
    "name": "ipython",
    "version": 3
   },
   "file_extension": ".py",
   "mimetype": "text/x-python",
   "name": "python",
   "nbconvert_exporter": "python",
   "pygments_lexer": "ipython3",
   "version": "3.7.6"
  }
 },
 "nbformat": 4,
 "nbformat_minor": 4
}
