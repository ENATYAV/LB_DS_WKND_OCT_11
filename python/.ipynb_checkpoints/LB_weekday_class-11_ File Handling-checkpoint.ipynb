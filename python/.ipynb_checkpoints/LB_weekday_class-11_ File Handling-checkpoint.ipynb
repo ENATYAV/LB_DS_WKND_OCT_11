{
 "cells": [
  {
   "cell_type": "markdown",
   "metadata": {},
   "source": [
    "# Types of files"
   ]
  },
  {
   "cell_type": "code",
   "execution_count": null,
   "metadata": {},
   "outputs": [],
   "source": [
    "# 1. text file-->in text format\n",
    "# 2. Binary file--->images ,video files,audio"
   ]
  },
  {
   "cell_type": "markdown",
   "metadata": {},
   "source": [
    "# open() and close() function"
   ]
  },
  {
   "cell_type": "code",
   "execution_count": null,
   "metadata": {},
   "outputs": [],
   "source": [
    "# open()-->to do any operation we need to open a file\n",
    "# close()-->to save changes in file after operation and exit to close the file"
   ]
  },
  {
   "cell_type": "code",
   "execution_count": null,
   "metadata": {},
   "outputs": [],
   "source": [
    "#syntax to open file:\n",
    "# open('file name with extension', 'mode of the operation')\n",
    "# open function return a file object and can assign to a variable and variable will be pointing to a file\n",
    "# f= open('file name with extension', 'mode of the operation')\n",
    "#  here f is pointing to file and can perform any action\n",
    "# f.read(),f.write(), f.close()"
   ]
  },
  {
   "cell_type": "markdown",
   "metadata": {},
   "source": [
    "# modes of operation"
   ]
  },
  {
   "cell_type": "code",
   "execution_count": null,
   "metadata": {},
   "outputs": [],
   "source": [
    "# 1. read mode   --> 'r' (only read)\n",
    "# 2. write mode  --> 'w' (only write)\n",
    "# 3. append mode  -->'a' ()\n",
    "# 4. read and write mode-->'r+' (mean feature is read but we can write also)\n",
    "# 5. write and read mode-->'w+' (mean feature is write but we can read also)\n",
    "# 6. append and read mode-->'a+'"
   ]
  },
  {
   "cell_type": "markdown",
   "metadata": {},
   "source": [
    "# reading a file"
   ]
  },
  {
   "cell_type": "code",
   "execution_count": null,
   "metadata": {},
   "outputs": [],
   "source": [
    "# function to read a files\n",
    "1. read()  --->read whole file and than return string\n",
    "2. read(n)---> to read n number of character from current curser position and return string object\n",
    "3. readline() -->read one line at a time from current curser position and return string object\n",
    "4. readlines()--> read all the lines files and returns a list of string and every string in list is one line"
   ]
  },
  {
   "cell_type": "code",
   "execution_count": null,
   "metadata": {},
   "outputs": [],
   "source": [
    "# note : in python file line break is new line(\\n)"
   ]
  },
  {
   "cell_type": "markdown",
   "metadata": {},
   "source": [
    "# write in file"
   ]
  },
  {
   "cell_type": "code",
   "execution_count": null,
   "metadata": {},
   "outputs": [],
   "source": [
    "#write into a file\n",
    "# write('string')-- and write  the data into a file from current curser poistion\n",
    "#writelines(['line1\\n','line2\\n','line3\\n'])"
   ]
  },
  {
   "cell_type": "markdown",
   "metadata": {},
   "source": [
    "# read mode-'r'\n",
    "#1. if file doesnot exist than  give ' FileNotFoundError'\n",
    "#2. if file exist than it will open the file in read mode and place cursor at the begining of the file\n",
    "#3. Allowed to read the file not write file"
   ]
  },
  {
   "cell_type": "markdown",
   "metadata": {},
   "source": [
    "# write mode--'w'\n",
    "#1. if file doesnot exist than it will create new file with given name\n",
    "#2. if file exist than it will open the file in write mode and place curser at the begining of the file after deleting \n",
    "#the content of the file\n",
    "#3. Allowed to write into the file not read file"
   ]
  },
  {
   "cell_type": "code",
   "execution_count": null,
   "metadata": {},
   "outputs": [],
   "source": []
  },
  {
   "cell_type": "markdown",
   "metadata": {},
   "source": [
    "# Append mode --'a'\n",
    "#1. if file doesnot exist than it will create new file with given name\n",
    "#2. if file exist than it will open the file in write mode and place curser at the end of the file  \n",
    "#3. Allowed to write into the file cannot read file"
   ]
  },
  {
   "cell_type": "markdown",
   "metadata": {},
   "source": [
    "# read and write mode---'r+'\n",
    "#1. if file doesnot exist than give ' FileNotFoundError'\n",
    "#2. if file exist than it will open the file in read mode and place cursor at the begining of the file\n",
    "#3. Allowed to read and write file"
   ]
  },
  {
   "cell_type": "markdown",
   "metadata": {},
   "source": [
    "# write and read mode-->'w+'\n",
    "#1. if file doesnot exist than it will create new file with given name\n",
    "#2. if file exist than it will open the file in write mode and place curser at the begining of the file after deleting existing the content of the file\n",
    "\n",
    "#3. Allowed to write into the file and  read file"
   ]
  },
  {
   "cell_type": "markdown",
   "metadata": {},
   "source": [
    "# append and read mode-->'a+'\n",
    "#1. if file doesnot exist than it will create new file with given name\n",
    "#2. if file exist than it will open the file in write mode and place curser at the end of the file \n",
    "#3. Allowed to write into the file and read file"
   ]
  },
  {
   "cell_type": "markdown",
   "metadata": {},
   "source": [
    "# Binary file--> methods will be remains same but mode will be appended by 'b'\n",
    "#1. read mode   --> 'rb' (only read)\n",
    "#2. write mode  --> 'wb' (only write)\n",
    "#3. append mode  -->'ab' ()\n",
    "#4. read and write mode-->'rb+'/'r+b' (mean feature is read but we can write also)\n",
    "#5. write and read mode-->'wb+'/'w+b' (mean feature is write but we can read also)\n",
    "#6. append and read mode-->'ab+'/'a+b'"
   ]
  },
  {
   "cell_type": "markdown",
   "metadata": {},
   "source": [
    "# tell() method"
   ]
  },
  {
   "cell_type": "code",
   "execution_count": null,
   "metadata": {},
   "outputs": [],
   "source": [
    "# this return current posiotion of curser in file\n",
    "# filename.tell()"
   ]
  },
  {
   "cell_type": "markdown",
   "metadata": {},
   "source": [
    "# seek() method"
   ]
  },
  {
   "cell_type": "code",
   "execution_count": null,
   "metadata": {},
   "outputs": [],
   "source": [
    "#filename.seek(poition)--> to move curser at specific position"
   ]
  },
  {
   "cell_type": "markdown",
   "metadata": {},
   "source": [
    "# open() with with"
   ]
  },
  {
   "cell_type": "code",
   "execution_count": null,
   "metadata": {},
   "outputs": [],
   "source": [
    "#syntex\n",
    "# with open('filename with extension', 'mode') as new name of file:\n",
    "# example--> with open('python.png','r') as p:"
   ]
  },
  {
   "cell_type": "markdown",
   "metadata": {},
   "source": [
    "# write one file to anither file"
   ]
  },
  {
   "cell_type": "code",
   "execution_count": null,
   "metadata": {},
   "outputs": [],
   "source": [
    "with open('python.py', 'r') as fr: # read file\n",
    "    with open('new.py', 'r') as fw: # write file\n",
    "        fw.write(fr.read())\n",
    "# note: with key word files close automatically no need to use close() function to close file\n",
    "        "
   ]
  },
  {
   "cell_type": "code",
   "execution_count": null,
   "metadata": {},
   "outputs": [],
   "source": []
  },
  {
   "cell_type": "code",
   "execution_count": null,
   "metadata": {},
   "outputs": [],
   "source": []
  },
  {
   "cell_type": "code",
   "execution_count": null,
   "metadata": {},
   "outputs": [],
   "source": []
  },
  {
   "cell_type": "code",
   "execution_count": null,
   "metadata": {},
   "outputs": [],
   "source": []
  },
  {
   "cell_type": "code",
   "execution_count": null,
   "metadata": {},
   "outputs": [],
   "source": []
  },
  {
   "cell_type": "code",
   "execution_count": null,
   "metadata": {},
   "outputs": [],
   "source": []
  },
  {
   "cell_type": "code",
   "execution_count": null,
   "metadata": {},
   "outputs": [],
   "source": []
  },
  {
   "cell_type": "code",
   "execution_count": null,
   "metadata": {},
   "outputs": [],
   "source": []
  },
  {
   "cell_type": "code",
   "execution_count": null,
   "metadata": {},
   "outputs": [],
   "source": []
  }
 ],
 "metadata": {
  "kernelspec": {
   "display_name": "Python 3",
   "language": "python",
   "name": "python3"
  },
  "language_info": {
   "codemirror_mode": {
    "name": "ipython",
    "version": 3
   },
   "file_extension": ".py",
   "mimetype": "text/x-python",
   "name": "python",
   "nbconvert_exporter": "python",
   "pygments_lexer": "ipython3",
   "version": "3.7.6"
  }
 },
 "nbformat": 4,
 "nbformat_minor": 4
}
