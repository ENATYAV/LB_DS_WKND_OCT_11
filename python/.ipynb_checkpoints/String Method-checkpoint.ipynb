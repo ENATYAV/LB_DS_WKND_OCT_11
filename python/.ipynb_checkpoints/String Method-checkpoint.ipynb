{
 "cells": [
  {
   "cell_type": "markdown",
   "metadata": {},
   "source": [
    "## String Method\n"
   ]
  },
  {
   "cell_type": "code",
   "execution_count": 11,
   "metadata": {},
   "outputs": [
    {
     "name": "stdout",
     "output_type": "stream",
     "text": [
      "13\n",
      "navneet yadav\n",
      "NAVNEET YADAV\n",
      "Navneet Yadav\n",
      "2\n"
     ]
    }
   ],
   "source": [
    "name= 'NaVneet yAdav'\n",
    "# len()--> To calculated lenght of string\n",
    "\n",
    "print(len(name)) \n",
    "# lower()- method--->change all characters in lower case\n",
    "print(name.lower())\n",
    "\n",
    "# upper()- method--->change all characters in upper case\n",
    "print(name.upper())\n",
    "\n",
    "#Title()- method--->change first character in capital and rest in small case\n",
    "print(name.title())\n",
    "\n",
    "#count()- method-->count particular character in string\n",
    "print(name.count('e'))\n",
    "\n"
   ]
  },
  {
   "cell_type": "markdown",
   "metadata": {},
   "source": [
    "## exercise\n",
    "#Input--Take two comma seperated Input from user\n",
    "#a) user's name- example- 'navneet\n",
    "#d) a single character\n",
    "#output-->\n",
    "#1) user length\n",
    "#2)count the character that user inputed (bonus: case insensitive count)\n"
   ]
  },
  {
   "cell_type": "code",
   "execution_count": 16,
   "metadata": {},
   "outputs": [
    {
     "name": "stdout",
     "output_type": "stream",
     "text": [
      "enter name and charater :Navneet,n\n",
      "lenght of string is 7\n",
      " character count : 2\n"
     ]
    }
   ],
   "source": [
    "name, char= input('enter name and charater :').split(',')\n",
    "print(f'lenght of string is {len(name)}')\n",
    "print(f' character count : {name.lower().count(char.lower())}')"
   ]
  },
  {
   "cell_type": "code",
   "execution_count": 21,
   "metadata": {},
   "outputs": [
    {
     "name": "stdout",
     "output_type": "stream",
     "text": [
      "   navneet    ...........\n",
      "navneet    ...........\n",
      "   navneet...........\n",
      "navneet...........\n",
      "enter name and charater :Navneet, n\n",
      "lenght of string is 7\n",
      "character count : 2\n"
     ]
    }
   ],
   "source": [
    "# Strip() method--->used to remove spaces outside string(left & right side)\n",
    "# lstrip()--->remove left side sapces only\n",
    "# rstrip()--->remove right side sapces only\n",
    "\n",
    "#example-1 :\n",
    "\n",
    "name= '   navneet    '\n",
    "dots= '...........'\n",
    "print(name + dots)\n",
    "print(name.lstrip()  +dots)\n",
    "print(name.rstrip()+dots)\n",
    "print(name.strip()+dots)\n",
    "\n",
    "\n",
    "# Example-2:\n",
    "\n",
    "name, char= input('enter name and charater :').split(',')\n",
    "print(f'lenght of string is {len(name)}')\n",
    "print(f'character count : {name.lower().strip().count(char.lower().strip())}')"
   ]
  },
  {
   "cell_type": "code",
   "execution_count": 27,
   "metadata": {},
   "outputs": [
    {
     "name": "stdout",
     "output_type": "stream",
     "text": [
      "she_is_good_girl_and_is_good_dance_too\n",
      "she was good girl and was good dance too\n",
      "she was good girl and is good dance too\n",
      "she was good girl and was good dance too\n"
     ]
    }
   ],
   "source": [
    "# replace()--method--> replace once character/element of string with other\n",
    "# replace(old character/element , new )\n",
    "\n",
    "#Example:-\n",
    "\n",
    "string= 'she is good girl and is good dance too'\n",
    "print(string.replace(\" \",\"_\"))  # replace sapce with _\n",
    "print(string.replace(\"is\",\"was\"))  # replace all \"is\" with \"was\"\n",
    "print(string.replace(\"is\",\"was\",1)) # replace 1st \"is\" with \"was\"\n",
    "print(string.replace(\"is\",\"was\",2)) # replace 2 \"is\" with \"was\"\n"
   ]
  },
  {
   "cell_type": "code",
   "execution_count": 36,
   "metadata": {},
   "outputs": [
    {
     "name": "stdout",
     "output_type": "stream",
     "text": [
      "4\n",
      "19\n",
      "42\n",
      "4\n",
      "19\n",
      "42\n"
     ]
    }
   ],
   "source": [
    "# Find()-->method--->to find postion of charadter/word in string\n",
    "\n",
    "#example-1\n",
    "\n",
    "string= 'she is good girl , is good dancer too and is beautyful'\n",
    "\n",
    "print(string.find(\"is\")) # ist 'is' position\n",
    "print(string.find(\"is\", 5)) # 2nd 'is' poition\n",
    "print(string.find(\"is\", 20)) # 3rd 'is' poition\n",
    "\n",
    "## can restored postion in any variable \n",
    "is_pos1= string.find(\"is\")  # ist 'is' position\n",
    "is_pos2= string.find(\"is\", is_pos1+1) # 2nd 'is' poition\n",
    "is_pos3= string.find(\"is\", is_pos2+1) # 3rd 'is' poition\n",
    "print(is_pos1)\n",
    "print(is_pos2)\n",
    "print(is_pos3)"
   ]
  },
  {
   "cell_type": "code",
   "execution_count": 42,
   "metadata": {},
   "outputs": [
    {
     "name": "stdout",
     "output_type": "stream",
     "text": [
      "**navneet**\n",
      "****navneet****\n"
     ]
    }
   ],
   "source": [
    "## center() method-->  used to add some character, symbol both side of string\n",
    "#  center( length of string + number , \"char/symbol to add\")\n",
    "\n",
    "s= 'navneet'\n",
    "#**navneet**\n",
    "print(s.center(len(s)+4 ,\"*\"))\n",
    "print(s.center(len(s)+8 ,\"*\"))\n"
   ]
  },
  {
   "cell_type": "code",
   "execution_count": 49,
   "metadata": {},
   "outputs": [
    {
     "name": "stdout",
     "output_type": "stream",
     "text": [
      "navneet\n",
      "navneet\n"
     ]
    }
   ],
   "source": [
    "## strings are immutable means once string is defined cannot changed\n",
    "\n",
    "#Example:\n",
    "\n",
    "s= 'navneet'\n",
    "# s[0] = 'N' #TypeError: 'str' object does not support item assignment\n",
    "print(s)\n",
    "\n",
    "s.replace('n', 'N') # will not be raplces, can be print or  restored in  new variable\n",
    "print(s)"
   ]
  },
  {
   "cell_type": "code",
   "execution_count": null,
   "metadata": {},
   "outputs": [],
   "source": [
    "# Assignment operator"
   ]
  },
  {
   "cell_type": "code",
   "execution_count": null,
   "metadata": {},
   "outputs": [],
   "source": []
  }
 ],
 "metadata": {
  "kernelspec": {
   "display_name": "Python 3",
   "language": "python",
   "name": "python3"
  },
  "language_info": {
   "codemirror_mode": {
    "name": "ipython",
    "version": 3
   },
   "file_extension": ".py",
   "mimetype": "text/x-python",
   "name": "python",
   "nbconvert_exporter": "python",
   "pygments_lexer": "ipython3",
   "version": "3.7.6"
  }
 },
 "nbformat": 4,
 "nbformat_minor": 4
}
