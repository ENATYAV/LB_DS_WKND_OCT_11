{
 "cells": [
  {
   "cell_type": "markdown",
   "metadata": {},
   "source": [
    "# *args or * operators"
   ]
  },
  {
   "cell_type": "markdown",
   "metadata": {},
   "source": [
    "### *args as normal parameter"
   ]
  },
  {
   "cell_type": "code",
   "execution_count": 10,
   "metadata": {},
   "outputs": [
    {
     "name": "stdout",
     "output_type": "stream",
     "text": [
      "(1, 2, 3, 4) <class 'tuple'>\n",
      "10\n",
      "10\n",
      "120\n"
     ]
    }
   ],
   "source": [
    "# by using *args in place in parameter we can pass multiple arguments when donot know how many arguments will be passed\n",
    "# if we donot use *args and pass more or less argements than will give \"type error\"\n",
    "\n",
    "# *args or * operator create tuple of all arguments passed in function\n",
    "# note: all is doing by \"*\" , we can use any name/variable in place of name'args'. but recommendation is to use same\n",
    "\n",
    "# example\n",
    "\n",
    "# def total(a,b):\n",
    "#     return a+b\n",
    "# print(total(2,3,4,5))# TypeError: total() takes 2 positional arguments but 4 were given\n",
    "\n",
    "def all_total(*args): # we can use any avaiable in place of name 'args' but we should use 'args'\n",
    "    print(args, type(args)) \n",
    "all_total(1,2,3,4)\n",
    "\n",
    "def all_total(*args): # * operator/args converting all passed arguments in tuple\n",
    "    return sum(args) #  returning sum of tuple items\n",
    "print(all_total(1,2,3,4))\n",
    "\n",
    "#### or\n",
    "def all_total(*args):  # * operator/args converting all passed arguments in tuple\n",
    "    total=0\n",
    "    for i in args:\n",
    "        total+=i\n",
    "    return total \n",
    "print(all_total(1,2,3,4))\n",
    "\n",
    "#example: define as function returning multiply\n",
    "\n",
    "## normal method\n",
    "def multiply_num(*args):\n",
    "    multiply = 1\n",
    "    for i in args:\n",
    "        multiply *= i\n",
    "    return multiply\n",
    "print(multiply_num(2,3,4,5))\n",
    "\n"
   ]
  },
  {
   "cell_type": "markdown",
   "metadata": {},
   "source": [
    "## *args with normal parameter"
   ]
  },
  {
   "cell_type": "code",
   "execution_count": 17,
   "metadata": {},
   "outputs": [
    {
     "name": "stdout",
     "output_type": "stream",
     "text": [
      "1\n",
      "2\n",
      "(3, 4)\n",
      "12\n",
      "2\n",
      "3\n",
      "(4, 5)\n",
      "20\n"
     ]
    }
   ],
   "source": [
    "# if only *args is defined and call function without passing any parameter than no error will come\n",
    "\n",
    "def multiply_num(*args):\n",
    "    multiply = 1\n",
    "    for i in args:\n",
    "        multiply *= i\n",
    "    return multiply\n",
    "print(multiply_num())\n",
    "\n",
    "# Normal parameter with * args\n",
    "\n",
    "def multiply_num(num,*args): # num is normal parameter\n",
    "    multiply = 1\n",
    "    print(num)\n",
    "    print(args)\n",
    "    for i in args: # loop will run only on args which is tuple\n",
    "        multiply *= i\n",
    "    return multiply\n",
    "print(multiply_num(2,3,4)) # 2 will assigned to num and 3,4 to args\n",
    "\n",
    "# it is compulsory to pass no of argements = no of normal parameter\n",
    "\n",
    "# def multiply_num(num,*args): # num is normal parameter\n",
    "#     multiply = 1\n",
    "#     print(num)\n",
    "#     print(args)\n",
    "#     for i in args: # loop will run only on args which is tuple\n",
    "#         multiply *= i\n",
    "#     return multiply\n",
    "# print(multiply_num()) # TypeError: multiply_num() missing 1 required positional argument: 'num', because we declared one normal parameter\n",
    "\n",
    "def multiply_num(num1,num2,*args): # num1 & num2 is normal parameter\n",
    "    multiply = 1\n",
    "    print(num1)\n",
    "    print(num2)\n",
    "    print(args)\n",
    "    for i in args: # loop will run only on args which is tuple\n",
    "        multiply *= i\n",
    "    return multiply\n",
    "print(multiply_num(2,3,4,5)) # 2 will assigned to num1, 3 to num2 and 4 & 5 to args\n",
    "\n",
    "\n",
    "# if we use normal parameter and * args than *args should follow normal paramater(means first define normal parameter than * args)\n",
    "# because if we declare * args before normal parameter than all passed arguments will be assigned to *args\n",
    "# no argement will be assigned to normal parameter and will give error\n",
    "\n",
    "# def multiply_num(*args,num): # num is normal parameter, we cannot declare *args before num\n",
    "#     multiply = 1\n",
    "#     print(num)\n",
    "#     print(args)\n",
    "#     for i in args: # loop will run only on args which is tuple\n",
    "#         multiply *= i\n",
    "#     return multiply\n",
    "# print(multiply_num(2,3,4)) # TypeError: multiply_num() missing 1 required keyword-only argument: 'num' / because all 2,3,4 will be assigned to args\n",
    "\n",
    "\n"
   ]
  },
  {
   "cell_type": "markdown",
   "metadata": {},
   "source": [
    "### args as argument"
   ]
  },
  {
   "cell_type": "code",
   "execution_count": 21,
   "metadata": {},
   "outputs": [
    {
     "name": "stdout",
     "output_type": "stream",
     "text": [
      "([2, 3, 4],)\n",
      "[2, 3, 4]\n",
      "(2, 3, 4)\n",
      "24\n"
     ]
    }
   ],
   "source": [
    "def multiply_num(*args): # num is normal parameter\n",
    "    multiply = 1\n",
    "    print(args) # ([2,3,4],) , because args will take a list and will convert tuple with one element which is list\n",
    "    for i in args: # loop will run only on args which is tuple\n",
    "        multiply *= i \n",
    "    return multiply\n",
    "numbers=[2,3,4]\n",
    "print(multiply_num(numbers)) #  output-->[2,3,4]\n",
    "\n",
    "## note: when we pass any list,tuple or other data type in *args whe should pass *args as argument also. that will unpack list/tuple etc\n",
    "\n",
    "\n",
    "def multiply_num(*args): # this *args will pack unpacked elemets in tuple\n",
    "    multiply = 1\n",
    "    print(args) # (2,3,4) , because args will take a list and will convert tuple with one element which is list\n",
    "    for i in args: # loop will run only on args which is tuple\n",
    "        multiply *= i \n",
    "    return multiply\n",
    "nums=[2,3,4]\n",
    "print(multiply_num(*nums)) #  this *operator  will unpack list nums,  output-->24"
   ]
  },
  {
   "cell_type": "code",
   "execution_count": 27,
   "metadata": {},
   "outputs": [
    {
     "name": "stdout",
     "output_type": "stream",
     "text": [
      "[1, 8, 27, 64, 125, 216]\n",
      "[1, 8, 27, 64, 125, 216]\n",
      "hey !!! you didn't pass any argument\n",
      "hey !!! you didn't pass any argument\n"
     ]
    }
   ],
   "source": [
    "# exercise\n",
    "#define a finction which will take one normal parameter and second will be iterable(list or tuple)\n",
    "# input-->3,[1,2,3,4]\n",
    "# output-->[1,3,27,64]\n",
    "# if user didn't pass any argument than  give a message , 'Hey!! you didn't passed any argument\n",
    "\n",
    "## normal method\n",
    "\n",
    "def to_power(num,*args):\n",
    "    return_lst=[]\n",
    "    if args:\n",
    "        for i in args: # args-->(1,2,3,4,5,6)\n",
    "            return_lst.append(i**num)\n",
    "        return return_lst\n",
    "    return \" hey !!! you didn't pass any argument\"\n",
    "nums=[1,2,3,4,5,6]\n",
    "print(to_power(3,*nums)) # * will unpack list items\n",
    "\n",
    "# list comprehension\n",
    "def to_power(num,*args):\n",
    "    if args:\n",
    "        return [i**num for i in args]\n",
    "    return \" hey !!! you didn't pass any argument\"\n",
    "nums=[1,2,3,4,5,6]\n",
    "print(to_power(3,*nums)) # * will unpack list items\n",
    "\n",
    "\n",
    "\n",
    "def to_power(num,*args):\n",
    "    return_lst=[]\n",
    "    if args:\n",
    "        for i in args: # args-->(1,2,3,4,5,6)\n",
    "            return_lst.append(i**num)\n",
    "        return return_lst\n",
    "    return \"hey !!! you didn't pass any argument\"\n",
    "nums=[1,2,3,4,5,6]\n",
    "print(to_power(3)) # * will unpack list items\n",
    "\n",
    "# list comprehension\n",
    "def to_power(num,*args):\n",
    "    if args:\n",
    "        return [i**num for i in args]\n",
    "    return \"hey !!! you didn't pass any argument\"\n",
    "nums=[1,2,3,4,5,6]\n",
    "print(to_power(3)) # * will unpack list items\n",
    "        "
   ]
  },
  {
   "cell_type": "markdown",
   "metadata": {},
   "source": [
    "#  **kwards (keyword argument) or( double star operator)"
   ]
  },
  {
   "cell_type": "code",
   "execution_count": 7,
   "metadata": {},
   "outputs": [
    {
     "name": "stdout",
     "output_type": "stream",
     "text": [
      "{'first_name': 'navneet', 'last_name': 'yadav'}\n",
      "<class 'dict'>\n",
      "first_name:navneet\n",
      "last_name:yadav\n",
      "first_name:navneet\n",
      "last_name:yadav\n"
     ]
    }
   ],
   "source": [
    "# kwargs as a parameter\n",
    "\n",
    "def func(**kwargs): ## ** will gather key arguments as a dictonary\n",
    "    print(kwargs)\n",
    "    print(type(kwargs))\n",
    "func(first_name='navneet', last_name='yadav') # keywords arguments\n",
    "\n",
    "# loop on kwargs\n",
    "def func(**kwargs): ## ** will gather key arguments as a dictonary\n",
    "    for k, v in kwargs.items():\n",
    "        print(f\"{k}:{v}\")\n",
    "func(first_name='navneet', last_name='yadav')\n",
    "\n",
    "# kwargs with normal parameter\n",
    "# if we use use kawargs with args with normal parameter than kwargs parameter should follow normal parameter\n",
    "# when we call as function we have to pass no of arguments = no of normal parameter otherwise will give  error \"TypeError: func() missing 1 required positional argument: 'name'\"\"\n",
    "\n",
    "# def func(name,**kwargs): ## ** will gather key arguments as a dictonary\n",
    "#     for k, v in kwargs.items():\n",
    "#         print(f\"{k}:{v}\")\n",
    "# func(first_name='navneet', last_name='yadav')# TypeError: func() missing 1 required positional argument: 'name' because one normal paramerter is defined in function and not passed argement\n",
    "\n",
    "def func(name,**kwargs): ## \n",
    "    for k, v in kwargs.items():\n",
    "        print(f\"{k}:{v}\")\n",
    "func('navneet',first_name='navneet', last_name='yadav')"
   ]
  },
  {
   "cell_type": "code",
   "execution_count": 9,
   "metadata": {},
   "outputs": [
    {
     "name": "stdout",
     "output_type": "stream",
     "text": [
      "first_name:navneet\n",
      "last_name:yadav\n"
     ]
    }
   ],
   "source": [
    "# kwargs as argument\n",
    "# this will unpack dictionary \n",
    "def func(**kwargs): ## this ** will gather as dictionary\n",
    "    for k, v in kwargs.items():\n",
    "        print(f\"{k}:{v}\")\n",
    "d={'first_name':'navneet', 'last_name':'yadav'}\n",
    "func(**d) # this ** will unpack dictionary \n"
   ]
  },
  {
   "cell_type": "markdown",
   "metadata": {},
   "source": [
    "# funcation with all type of parameters(normal parameter , default parameter ,args , kwargs)"
   ]
  },
  {
   "cell_type": "code",
   "execution_count": 11,
   "metadata": {},
   "outputs": [
    {
     "name": "stdout",
     "output_type": "stream",
     "text": [
      "navneet\n",
      "(1, 2, 3)\n",
      "unknown\n",
      "{'a': 1, 'b': 2}\n"
     ]
    }
   ],
   "source": [
    "# order in\"PADK\"\n",
    "# def func(normal parameter, *args, default parameter, **kwargs)\n",
    "\n",
    "# example\n",
    "def func(name,*args,last_name='unknown',**kwargs):\n",
    "    print(name)\n",
    "    print(args)\n",
    "    print(last_name)\n",
    "    print(kwargs)\n",
    "func('navneet',1,2,3,a=1,b=2)\n"
   ]
  },
  {
   "cell_type": "code",
   "execution_count": 32,
   "metadata": {},
   "outputs": [
    {
     "name": "stdout",
     "output_type": "stream",
     "text": [
      "['Teenvan', 'Vaday']\n",
      "['Navneet', 'Yadav']\n"
     ]
    }
   ],
   "source": [
    "# Exercise\n",
    "# define as function that takes list as input \n",
    "# give reverse list with fist letter capital\n",
    "#input->['navneet','yadav']\n",
    "#output-->['Teenvan','Vaday'] only when  reverse_str=true is passed\n",
    "# pass : list and reverse_str=true in function\n",
    "\n",
    "\n",
    "def func(l, **kwargs):\n",
    "    if kwargs.get('reverse_str')==True:\n",
    "        return [name[::-1].title() for name in l]\n",
    "    else:\n",
    "        return [name.title() for name in l]\n",
    "lst=['navneet','yadav']\n",
    "print(func(lst, reverse_str=True))\n",
    "\n",
    "def func(l, **kwargs):\n",
    "    if kwargs.get('reverse_str')==True:\n",
    "        return [name[::-1].title() for name in l]\n",
    "    else:\n",
    "        return [name.title() for name in l]\n",
    "lst=['navneet','yadav']\n",
    "print(func(lst)) # if reverse_str=True not passed\n"
   ]
  },
  {
   "cell_type": "code",
   "execution_count": null,
   "metadata": {},
   "outputs": [],
   "source": []
  }
 ],
 "metadata": {
  "kernelspec": {
   "display_name": "Python 3",
   "language": "python",
   "name": "python3"
  },
  "language_info": {
   "codemirror_mode": {
    "name": "ipython",
    "version": 3
   },
   "file_extension": ".py",
   "mimetype": "text/x-python",
   "name": "python",
   "nbconvert_exporter": "python",
   "pygments_lexer": "ipython3",
   "version": "3.7.6"
  }
 },
 "nbformat": 4,
 "nbformat_minor": 4
}
