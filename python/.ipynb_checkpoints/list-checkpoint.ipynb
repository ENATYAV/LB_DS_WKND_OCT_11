{
 "cells": [
  {
   "cell_type": "code",
   "execution_count": 33,
   "metadata": {},
   "outputs": [
    {
     "name": "stdout",
     "output_type": "stream",
     "text": [
      "[1, 2, 3]\n",
      "['word1', 'word2', 'word3']\n",
      "[1, 2, 3, 4, 5.0, None]\n"
     ]
    }
   ],
   "source": [
    "# list is ordered collection of items\n",
    "# can store any data type in list\n",
    "\n",
    "numbers= [1,2,3]\n",
    "print(numbers)\n",
    "words= ['word1','word2','word3' ]\n",
    "print(words)\n",
    "mix= [1,2,3,'four',5.0, None]\n",
    "print(mix)"
   ]
  },
  {
   "cell_type": "code",
   "execution_count": 34,
   "metadata": {},
   "outputs": [
    {
     "name": "stdout",
     "output_type": "stream",
     "text": [
      "1\n",
      "word1\n",
      "1\n",
      "[1, 2, 3, 4, 5.0, None]\n"
     ]
    }
   ],
   "source": [
    "# elements in list stored in sequence and can be accesses by sequence\n",
    "print(numbers[0])\n",
    "print(words[0])\n",
    "print(mix[0])\n"
   ]
  },
  {
   "cell_type": "code",
   "execution_count": 7,
   "metadata": {},
   "outputs": [
    {
     "name": "stdout",
     "output_type": "stream",
     "text": [
      "[1, 'f', 'i', 4, 's', 't']\n",
      "['f', 'i', 'r', 's', 't']\n",
      "[1, 'f', 'i', 'r', 's', 't']\n"
     ]
    }
   ],
   "source": [
    "# list are mutable , mean we can change elements of list\n",
    "# we can do indexing & slicing in list\n",
    "# numbers[0]= 'one'\n",
    "# print(numbers)\n",
    "mix[3]=4\n",
    "print(mix)\n",
    "# words[0]= 'first'\n",
    "# print(words)\n",
    "# mix= [1,2,3,'four',5.0, None]\n",
    "# mix[3]=4\n",
    "# print(mix)\n",
    "mix[0:]= 'first' # string each letter will replace element of existing list mix from index o\n",
    "print(mix)\n",
    "mix= [1,2,3,'four',5.0, None]\n",
    "mix[1:]= 'first' # string each letter will replace element of existing list mix from index 0\n",
    "print(mix)"
   ]
  },
  {
   "cell_type": "markdown",
   "metadata": {},
   "source": [
    "# add data in list \n",
    "#append() method\n",
    "#insert\n",
    "#'+' concatenation\n",
    "#extend() methos\n"
   ]
  },
  {
   "cell_type": "markdown",
   "metadata": {},
   "source": [
    "## append() method"
   ]
  },
  {
   "cell_type": "code",
   "execution_count": 18,
   "metadata": {},
   "outputs": [
    {
     "name": "stdout",
     "output_type": "stream",
     "text": [
      "2600430183304\n",
      "[1, 2, 3, 4]\n",
      "2600430183304\n",
      "2600431259272\n",
      "['mango', 'apple', 'banana', 'kiwi']\n",
      "2600431259272\n",
      "['mango', 'apple', 'banana', 'kiwi', ['kiwi', 'orange']]\n"
     ]
    }
   ],
   "source": [
    "# append method add element at last postion in list\n",
    "#append add elements in existing list\n",
    "\n",
    "num= [1,2,3]\n",
    "print(id(num))\n",
    "num.append(4)\n",
    "print(num)\n",
    "print(id(num))\n",
    "\n",
    "fruits= ['mango','apple', 'banana']\n",
    "print(id(fruits))\n",
    "fruits.append('kiwi')\n",
    "print(fruits)\n",
    "print(id(fruits))\n",
    "fruit1= ['kiwi','orange']\n",
    "fruits.append(fruit1)   # fruit1 list will be added in fruits at last index and will give list inside list\n",
    "print(fruits)"
   ]
  },
  {
   "cell_type": "markdown",
   "metadata": {},
   "source": [
    "## insert() method"
   ]
  },
  {
   "cell_type": "code",
   "execution_count": 13,
   "metadata": {},
   "outputs": [
    {
     "name": "stdout",
     "output_type": "stream",
     "text": [
      "['mango', 'kiwi', 'apple', 'banana']\n"
     ]
    }
   ],
   "source": [
    "#insert( index no, element to add) method is used to store element at particular location in list\n",
    "\n",
    "fruits= ['mango','apple', 'banana']\n",
    "fruits.insert(1,'kiwi')\n",
    "print(fruits)\n"
   ]
  },
  {
   "cell_type": "markdown",
   "metadata": {},
   "source": [
    "## String concatenation  using '+' operation\n",
    "## String concatenation  using extend() method"
   ]
  },
  {
   "cell_type": "code",
   "execution_count": 19,
   "metadata": {},
   "outputs": [
    {
     "name": "stdout",
     "output_type": "stream",
     "text": [
      "['mango', 'apple', 'banana', 'kiwi']\n",
      "['mango', 'apple', 'banana', 'kiwi']\n",
      "['mango', 'apple', 'banana', 'kiwi', ['banana', 'kiwi']]\n"
     ]
    }
   ],
   "source": [
    "fruit1= ['mango','apple']\n",
    "fruit2= ['banana','kiwi']\n",
    "fruits= fruit1+fruit2    # stored in new variable\n",
    "print(fruits)\n",
    "fruit1.extend(fruit2)  # fruit2 elements added in fruit1\n",
    "print(fruit1)\n",
    "\n",
    "fruit1.append(fruit2) # fruit1 list will be added in fruit2 at last index and will give list inside list\n",
    "print(fruit1)\n"
   ]
  },
  {
   "cell_type": "markdown",
   "metadata": {},
   "source": [
    "# Delete elements list\n",
    "#pop() method\n",
    "#del operatior\n",
    "#remove() method"
   ]
  },
  {
   "cell_type": "code",
   "execution_count": 22,
   "metadata": {},
   "outputs": [
    {
     "name": "stdout",
     "output_type": "stream",
     "text": [
      "['mango', 'apple', 'banana']\n",
      "banana\n",
      "['mango', 'kiwi']\n"
     ]
    }
   ],
   "source": [
    "# pop() method--> by default removes element from last postion\n",
    "# we can remove element from particular postion also\n",
    "# we can stored poped element in any variable and can use or print\n",
    "\n",
    "fruits= ['mango', 'apple', 'banana', 'kiwi']\n",
    "fruits.pop()\n",
    "print(fruits)\n",
    "popped= fruits.pop()\n",
    "print(popped)\n",
    "\n",
    "fruit1= ['mango', 'apple', 'kiwi']\n",
    "fruit1.pop(1)\n",
    "print(fruit1)\n",
    "popped=fruit1.pop(1)\n",
    "\n",
    "\n"
   ]
  },
  {
   "cell_type": "code",
   "execution_count": 28,
   "metadata": {},
   "outputs": [
    {
     "name": "stdout",
     "output_type": "stream",
     "text": [
      "['mango', 'banana', 'kiwi']\n"
     ]
    }
   ],
   "source": [
    "# del operation--> can also delete element from any position\n",
    "\n",
    "fruits= ['mango', 'apple', 'banana', 'kiwi']\n",
    "del fruits[1]\n",
    "print(fruits)\n"
   ]
  },
  {
   "cell_type": "code",
   "execution_count": 70,
   "metadata": {},
   "outputs": [
    {
     "name": "stdout",
     "output_type": "stream",
     "text": [
      "['apple', 'banana', 'kiwi']\n",
      "['apple', 'mango', 'banana', 'kiwi']\n",
      "None\n"
     ]
    }
   ],
   "source": [
    "# remove() method---> we can delete particualar element from list which postion we donot know\n",
    "\n",
    "fruits= ['mango', 'apple', 'banana', 'kiwi']\n",
    "fruits.remove('mango')\n",
    "print(fruits)\n",
    "\n",
    "# if we remove element which not exist in list , will give error \"ValueError: list.remove(x): x not in list\"\n",
    "# fruits.remove('orange') ValueError: list.remove(x): x not in list\n",
    "# print(fruits)\n",
    "\n",
    "\n",
    "# if duplicate element exist in list than remove method removes fist element only\n",
    "\n",
    "fruits= ['mango', 'apple','mango', 'banana', 'kiwi']\n",
    "fruits.remove('mango')  # only first 'mango' will be removed not second\n",
    "print(fruits)\n",
    "\n",
    "removes_ele=fruits.remove('mango') # cannot store in new variable , returns none\n",
    "print(removes_ele)\n"
   ]
  },
  {
   "cell_type": "markdown",
   "metadata": {},
   "source": [
    "# membership operator(in)"
   ]
  },
  {
   "cell_type": "code",
   "execution_count": 38,
   "metadata": {},
   "outputs": [
    {
     "name": "stdout",
     "output_type": "stream",
     "text": [
      "apple is present\n",
      "orange is not present\n"
     ]
    }
   ],
   "source": [
    "# in (membership) operation is used to check element is part of list or not\n",
    "\n",
    "fruits= ['mango', 'apple','mango', 'banana', 'kiwi']\n",
    "if 'apple' in fruits:\n",
    "    print('apple is present')\n",
    "else:\n",
    "    print('apple is  not present')\n",
    "    \n",
    "fruits= ['mango', 'apple','mango', 'banana', 'kiwi']\n",
    "if 'orange' in fruits:\n",
    "    print('orange is present')\n",
    "else:\n",
    "    print('orange is not present')"
   ]
  },
  {
   "cell_type": "markdown",
   "metadata": {},
   "source": [
    "# other methods\n",
    "#1. count()\n",
    "#2. sort()\n",
    "##3. sorted() function\n",
    "##4. reverse()\n",
    "##5. clear()\n",
    "##6. copy()\n",
    "\n"
   ]
  },
  {
   "cell_type": "code",
   "execution_count": 41,
   "metadata": {},
   "outputs": [
    {
     "name": "stdout",
     "output_type": "stream",
     "text": [
      "2\n",
      "1\n",
      "2\n",
      "1\n",
      "['apple', 'banana', 'kiwi', 'mango', 'mango']\n"
     ]
    }
   ],
   "source": [
    "#count() method --->used to count  element in list\n",
    "# we can store count object in variable also\n",
    "\n",
    "fruits= ['mango', 'apple','mango', 'banana', 'kiwi']\n",
    "print(fruits.count('mango'))\n",
    "print(fruits.count('apple'))\n",
    "mango= fruits.count('mango')\n",
    "apple=(fruits.count('apple'))\n",
    "print(mango)\n",
    "print(apple)\n",
    "\n",
    "\n"
   ]
  },
  {
   "cell_type": "code",
   "execution_count": 62,
   "metadata": {},
   "outputs": [
    {
     "name": "stdout",
     "output_type": "stream",
     "text": [
      "['apple', 'banana', 'kiwi', 'mango', 'mango']\n",
      "2600423370888\n",
      "[1, 4, 9, 10, 16, 22]\n",
      "2600423370888\n",
      "140719546326240\n",
      "140719546326240\n"
     ]
    }
   ],
   "source": [
    "# sort() method--> to sort elemets alphabetically/numbers\n",
    "# this sort element in main list\n",
    "\n",
    "fruits.sort()\n",
    "print(fruits)\n",
    "numbers= [10,22,4,9,16,1]\n",
    "print(id(numbers))\n",
    "numbers.sort()\n",
    "\n",
    "print(numbers)\n",
    "print(id(numbers))\n",
    "\n",
    "num=numbers.sort()  # list is sorted but, cannot store object in new variable\n",
    "print(id(num)) # num variable has 'None' value because no value is assigned after sort() method\n",
    "print(id(None))\n"
   ]
  },
  {
   "cell_type": "code",
   "execution_count": 60,
   "metadata": {},
   "outputs": [
    {
     "name": "stdout",
     "output_type": "stream",
     "text": [
      "[10, 22, 4, 9, 16, 1]\n",
      "2600422757384\n",
      "[10, 22, 4, 9, 16, 1]\n",
      "2600422757384\n",
      "[1, 4, 9, 10, 16, 22]\n",
      "2600422776008\n"
     ]
    }
   ],
   "source": [
    "# sorted() function--> to sort elemets alphabetically/numbers\n",
    "# donot sort element in main list\n",
    "# return shorted list\n",
    "# can store sorted object in new variable\n",
    "\n",
    "numbers= [10,22,4,9,16,1]\n",
    "print(numbers)\n",
    "print(id(numbers))\n",
    "\n",
    "sorted(numbers) # will not short\n",
    "print(numbers)\n",
    "print(id(numbers))\n",
    "\n",
    "new_lst= sorted(numbers) # will sort list and  need to stored list in new variable\n",
    "print(new_lst)\n",
    "print(id(new_lst))\n"
   ]
  },
  {
   "cell_type": "code",
   "execution_count": 63,
   "metadata": {},
   "outputs": [
    {
     "name": "stdout",
     "output_type": "stream",
     "text": [
      "[]\n"
     ]
    }
   ],
   "source": [
    "# clear() method--->will clear/ empty/remove all elements list\n",
    "numbers= [10,22,4,9,16,1]\n",
    "numbers.clear()\n",
    "print(numbers)"
   ]
  },
  {
   "cell_type": "code",
   "execution_count": 64,
   "metadata": {},
   "outputs": [
    {
     "name": "stdout",
     "output_type": "stream",
     "text": [
      "[10, 22, 4, 9, 16, 1]\n",
      "[10, 22, 4, 9, 16, 1]\n"
     ]
    }
   ],
   "source": [
    "# copy method()--> to make copy of list\n",
    "\n",
    "numbers= [10,22,4,9,16,1]\n",
    "print(numbers)\n",
    "numbers_copy = numbers.copy()\n",
    "print(numbers_copy)"
   ]
  },
  {
   "cell_type": "code",
   "execution_count": 68,
   "metadata": {},
   "outputs": [
    {
     "name": "stdout",
     "output_type": "stream",
     "text": [
      "[10, 22, 4, 9, 16, 1] 2600427205064\n",
      "[1, 16, 9, 4, 22, 10] 2600427205064\n"
     ]
    }
   ],
   "source": [
    "# reverse method()--> reverse the list\n",
    "# reverse list and stores in same memory location\n",
    "numbers= [10,22,4,9,16,1]\n",
    "print(numbers, id(numbers))\n",
    "numbers.reverse()\n",
    "print(numbers,id(numbers))\n",
    "# reversed_lst=numbers.reverse() # wil returns 'None'\n",
    "# print(reversed_lst)"
   ]
  },
  {
   "cell_type": "markdown",
   "metadata": {},
   "source": [
    "# is & ==(equals to)"
   ]
  },
  {
   "cell_type": "code",
   "execution_count": 75,
   "metadata": {},
   "outputs": [
    {
     "name": "stdout",
     "output_type": "stream",
     "text": [
      "2600430776392\n",
      "2600425513032\n",
      "True\n",
      "False\n",
      "2600425514760\n",
      "2600427220104\n",
      "False\n",
      "False\n"
     ]
    }
   ],
   "source": [
    "# ' is' used to check memory location, returns boolean values(True/False)\n",
    "# == used to check element of list are equal or not , if elements are same than check lenght \n",
    "# == also  returns boolean values(True/False)\n",
    "\n",
    "fruit1= ['apple', 'banana', 'kiwi', 'mango']\n",
    "fruit2= ['apple', 'banana', 'kiwi', 'mango']\n",
    "print(id(fruit1))\n",
    "print(id(fruit2))\n",
    "print( fruit1==fruit2)\n",
    "print( fruit1 is fruit2)# false as fruit1 & fruit2 id(memory location) is different\n",
    "\n",
    "fruit1= ['apple', 'banana', 'kiwi']\n",
    "fruit2= ['apple', 'banana', 'kiwi', 'mango']\n",
    "print(id(fruit1))\n",
    "print(id(fruit2))\n",
    "print( fruit1==fruit2) # false as fruit1 lenght is less than fruit2\n",
    "print( fruit1 is fruit2)# false as fruit1 & fruit2 id(memory location) is different"
   ]
  },
  {
   "cell_type": "markdown",
   "metadata": {},
   "source": [
    "# split() & join() methods"
   ]
  },
  {
   "cell_type": "code",
   "execution_count": 82,
   "metadata": {},
   "outputs": [
    {
     "name": "stdout",
     "output_type": "stream",
     "text": [
      "['Navneet', '36'] <class 'list'>\n",
      "['Navneet', '36'] <class 'list'>\n",
      "Navneet\n",
      "36\n",
      "Navneet\n",
      "36\n",
      "Navneet,36\n",
      "Navneet_36 <class 'str'>\n"
     ]
    }
   ],
   "source": [
    "# split() method --->  convert string into list\n",
    "# we can assign into different variabls also\n",
    "\n",
    "user_info= 'Navneet 36'.split() # will split from space by default\n",
    "print(user_info, type(user_info))\n",
    "\n",
    "user_info= 'Navneet,36'.split(',') # will split from ,(comma)-->can be any thing but need to mention\n",
    "print(user_info, type(user_info))\n",
    "\n",
    "user,age= 'Navneet 36'.split() # will split from space by default-and assigned values in different variables\n",
    "print(user)\n",
    "print(age)\n",
    "user,age= 'Navneet,36'.split(',') # will split from ,(comma)-->and assigned values in different variables\n",
    "print(user)\n",
    "print(age)\n",
    "\n",
    "\n",
    "# join () method---> convert list into  string\n",
    "# used for string items/elements in list\n",
    "\n",
    "user_info= ['Navneet', '36']\n",
    "print(','.join(user_info))  # add by ',' comma, can be any think sapce or other \n",
    "name_age= '_'.join(user_info) # can store into variable \n",
    "print(name_age, type(name_age))"
   ]
  },
  {
   "cell_type": "markdown",
   "metadata": {},
   "source": [
    "# index(method)"
   ]
  },
  {
   "cell_type": "code",
   "execution_count": 32,
   "metadata": {},
   "outputs": [
    {
     "name": "stdout",
     "output_type": "stream",
     "text": [
      "0\n"
     ]
    },
    {
     "ename": "AttributeError",
     "evalue": "'list' object has no attribute 'find'",
     "output_type": "error",
     "traceback": [
      "\u001b[1;31m---------------------------------------------------------------------------\u001b[0m",
      "\u001b[1;31mAttributeError\u001b[0m                            Traceback (most recent call last)",
      "\u001b[1;32m<ipython-input-32-ffbecc141d7d>\u001b[0m in \u001b[0;36m<module>\u001b[1;34m\u001b[0m\n\u001b[0;32m      4\u001b[0m \u001b[0mfruit\u001b[0m\u001b[1;33m=\u001b[0m \u001b[1;33m[\u001b[0m\u001b[1;34m'apple'\u001b[0m\u001b[1;33m,\u001b[0m \u001b[1;34m'banana'\u001b[0m\u001b[1;33m,\u001b[0m \u001b[1;34m'kiwi'\u001b[0m\u001b[1;33m,\u001b[0m \u001b[1;34m'mango'\u001b[0m\u001b[1;33m]\u001b[0m\u001b[1;33m\u001b[0m\u001b[1;33m\u001b[0m\u001b[0m\n\u001b[0;32m      5\u001b[0m \u001b[0mprint\u001b[0m\u001b[1;33m(\u001b[0m\u001b[0mfruit\u001b[0m\u001b[1;33m.\u001b[0m\u001b[0mindex\u001b[0m\u001b[1;33m(\u001b[0m\u001b[1;34m'apple'\u001b[0m\u001b[1;33m)\u001b[0m\u001b[1;33m)\u001b[0m\u001b[1;33m\u001b[0m\u001b[1;33m\u001b[0m\u001b[0m\n\u001b[1;32m----> 6\u001b[1;33m \u001b[0mprint\u001b[0m\u001b[1;33m(\u001b[0m\u001b[0mfruit\u001b[0m\u001b[1;33m.\u001b[0m\u001b[0mfind\u001b[0m\u001b[1;33m(\u001b[0m\u001b[1;34m'apple'\u001b[0m\u001b[1;33m)\u001b[0m\u001b[1;33m)\u001b[0m\u001b[1;33m\u001b[0m\u001b[1;33m\u001b[0m\u001b[0m\n\u001b[0m\u001b[0;32m      7\u001b[0m \u001b[1;33m\u001b[0m\u001b[0m\n\u001b[0;32m      8\u001b[0m \u001b[1;31m# apple= fruit.index('apple') # returing index value and storing in variable\u001b[0m\u001b[1;33m\u001b[0m\u001b[1;33m\u001b[0m\u001b[1;33m\u001b[0m\u001b[0m\n",
      "\u001b[1;31mAttributeError\u001b[0m: 'list' object has no attribute 'find'"
     ]
    }
   ],
   "source": [
    "# index(method) -->give poition/index number of element in list\n",
    "# index(item to serach, start , stop)-->can give start & stop argument for search for any item\n",
    "# this work same as find() method in string\n",
    "# return index value, can be store in variable\n",
    "fruit= ['apple', 'banana', 'kiwi', 'mango']\n",
    "print(fruit.index('apple'))\n",
    "\n",
    "\n",
    "apple= fruit.index('apple') # returing index value and storing in variable\n",
    "print(apple)\n",
    "\n",
    "print(fruit.index('banana')) \n",
    "\n",
    "fruit= ['apple', 'banana', 'kiwi', 'mango','apple','orange','guwawa','apple']\n",
    "print(fruit.index('apple')) # will give postion of first apple #01\n",
    "print(fruit.index('apple',1)) # will give postion of 2nd apple #04\n",
    "print(fruit.index('apple',5)) # will give postion of 2nd apple  #7\n"
   ]
  },
  {
   "cell_type": "markdown",
   "metadata": {},
   "source": [
    "# list vs array"
   ]
  },
  {
   "cell_type": "code",
   "execution_count": null,
   "metadata": {},
   "outputs": [],
   "source": [
    "# both are ordered/sequence collection of data\n",
    "# Array is used in c,c++, java to store homogenous/same data  type\n",
    "# list used in python &  can store hetrogenous data type( like int, float,string)\n",
    "# in python there is array(numpy array) module which has homogenous data type\n"
   ]
  },
  {
   "cell_type": "markdown",
   "metadata": {},
   "source": [
    "# loop in list"
   ]
  },
  {
   "cell_type": "code",
   "execution_count": 2,
   "metadata": {},
   "outputs": [
    {
     "name": "stdout",
     "output_type": "stream",
     "text": [
      "apple\n",
      "banana\n",
      "kiwi\n",
      "mango\n",
      "apple\n",
      "banana\n",
      "kiwi\n",
      "mango\n"
     ]
    }
   ],
   "source": [
    "# for loop \n",
    "# always use for loop, as it is clean/simple syntex\n",
    "\n",
    "fruits= ['apple', 'banana', 'kiwi', 'mango']\n",
    "for fruit in fruits:\n",
    "    print(fruit)\n",
    "    \n",
    "# while loop\n",
    "\n",
    "i=0\n",
    "while i<len(fruits):\n",
    "    print(fruits[i])\n",
    "    i+=1"
   ]
  },
  {
   "cell_type": "markdown",
   "metadata": {},
   "source": [
    "# list inside list"
   ]
  },
  {
   "cell_type": "code",
   "execution_count": 9,
   "metadata": {},
   "outputs": [
    {
     "name": "stdout",
     "output_type": "stream",
     "text": [
      "[1, 2, 3]\n",
      "[4, 5, 6]\n",
      "[7, 8, 9]\n",
      "[1, 2, 3]\n",
      "[4, 5, 6]\n",
      "[7, 8, 9]\n",
      "1\n",
      "2\n",
      "3\n",
      "4\n",
      "5\n",
      "6\n",
      "7\n",
      "8\n",
      "9\n",
      "1\n",
      "2\n",
      "3\n",
      "4\n",
      "5\n",
      "6\n",
      "7\n",
      "8\n",
      "9\n"
     ]
    }
   ],
   "source": [
    "matrix= [[1,2,3],[4,5,6],[7,8,9]] # 2d list\n",
    "# 3 items in matrix list\n",
    "print(matrix[0])\n",
    "print(matrix[1])\n",
    "print(matrix[2])\n",
    "\n",
    "# second way\n",
    "\n",
    "for i in matrix:\n",
    "    print(i)\n",
    "    \n",
    "for sublist in matrix:# loop for outside list\n",
    "    for i in sublist: # loop for inner list\n",
    "        print(i)\n",
    "\n",
    "# acces particular element from 2d list\n",
    "print(matrix[0][0]) # 1 will be accessed\n",
    "print(matrix[0][1]) # 2 will be accessed\n",
    "print(matrix[0][2]) # 3 will be accessed\n",
    "print(matrix[1][0]) # 4 will be accessed\n",
    "print(matrix[1][1]) # 5 will be accessed\n",
    "print(matrix[1][2]) # 6 will be accessed\n",
    "print(matrix[2][0]) # 7 will be accessed\n",
    "print(matrix[2][1]) # 8 will be accessed\n",
    "print(matrix[2][2]) # 9 will be accessed\n"
   ]
  },
  {
   "cell_type": "code",
   "execution_count": 17,
   "metadata": {},
   "outputs": [
    {
     "name": "stdout",
     "output_type": "stream",
     "text": [
      "1\n",
      "2\n",
      "3\n",
      "4\n",
      "5\n",
      "6\n",
      "7\n",
      "8\n",
      "9\n",
      "10\n",
      "1\n",
      "2\n",
      "3\n",
      "4\n",
      "5\n",
      "6\n",
      "7\n",
      "8\n",
      "9\n",
      "10\n"
     ]
    }
   ],
   "source": [
    "# 3d list\n",
    "matrix= [[[1,2,],[3,4,5]],[[6,7],[8,9,10]]] # 3d list\n",
    "for outer_list in matrix:\n",
    "    for sublist in outer_list:\n",
    "        for i in sublist:\n",
    "            print(i)\n",
    "            \n",
    "# second way\n",
    "print(matrix[0][0][0])\n",
    "print(matrix[0][0][1])\n",
    "print(matrix[0][1][0])\n",
    "print(matrix[0][1][1])\n",
    "print(matrix[0][1][2])\n",
    "print(matrix[1][0][0])\n",
    "print(matrix[1][0][1])\n",
    "print(matrix[1][1][0])\n",
    "print(matrix[1][1][1])\n",
    "print(matrix[1][1][2])"
   ]
  },
  {
   "cell_type": "markdown",
   "metadata": {},
   "source": [
    "# range() function"
   ]
  },
  {
   "cell_type": "code",
   "execution_count": 24,
   "metadata": {},
   "outputs": [
    {
     "name": "stdout",
     "output_type": "stream",
     "text": [
      "[1, 2, 3, 4, 5, 6, 7, 8, 9, 10]\n"
     ]
    }
   ],
   "source": [
    "# list can be generated from range() function\n",
    "lst=list(range(1,11))\n",
    "print(lst)"
   ]
  },
  {
   "cell_type": "markdown",
   "metadata": {},
   "source": [
    "# min() & max() function"
   ]
  },
  {
   "cell_type": "code",
   "execution_count": 32,
   "metadata": {},
   "outputs": [
    {
     "name": "stdout",
     "output_type": "stream",
     "text": [
      "2\n",
      "60\n",
      "58\n"
     ]
    }
   ],
   "source": [
    "# min() is used to find minimum number\n",
    "# max() is used to find max number\n",
    "\n",
    "l= [6,60,2]\n",
    "print(min(l))\n",
    "print(max(l))\n",
    "\n",
    "def difference(l):\n",
    "    return max(l)-min(l)\n",
    "print(difference(l))"
   ]
  },
  {
   "cell_type": "code",
   "execution_count": 11,
   "metadata": {},
   "outputs": [
    {
     "name": "stdout",
     "output_type": "stream",
     "text": [
      "[1, 4, 9, 16]\n"
     ]
    }
   ],
   "source": [
    "# Exercise-1\n",
    "#define a functionwhich will take list containing numbers as input\n",
    "#and returnlist containing square of every element\n",
    "#example: numbers= [,2,3,4]\n",
    "# output -[1,4,9,14]\n",
    "\n",
    "def square_list(l):\n",
    "    squared=[]\n",
    "    for i in l:\n",
    "        squared.append(i**2)\n",
    "    return squared\n",
    "lst= [1,2,3,4]\n",
    "print(square_list(lst))"
   ]
  },
  {
   "cell_type": "code",
   "execution_count": 13,
   "metadata": {},
   "outputs": [
    {
     "name": "stdout",
     "output_type": "stream",
     "text": [
      "[4, 3, 2, 1]\n",
      "[4, 3, 2, 1]\n",
      "[4, 3, 2, 1]\n",
      "[4, 3, 2, 1]\n"
     ]
    }
   ],
   "source": [
    "#exercise-2 \n",
    "# define a function that will take a list as argument and  return reverse list\n",
    "\n",
    "#ist way: list slicing\n",
    "def reverse_list(l):\n",
    "    reverse_l= l[-1::-1]\n",
    "    return reverse_l\n",
    "lst=[1,2,3,4]\n",
    "print(reverse_list(lst))\n",
    "\n",
    "# 2nd way: list slicing\n",
    "def reversed_lst(l):\n",
    "    return l[-1::-1]\n",
    "print(reversed_lst(lst))\n",
    "\n",
    "# 3rd way\n",
    "def reverse_lst(l):\n",
    "    l.reverse()\n",
    "    return l\n",
    "num=[1,2,3,4]\n",
    "print(reverse_lst(num))\n",
    "\n",
    "# 4th way with pop and append method\n",
    "\n",
    "def reverse_lst(l):\n",
    "    r_lst= []\n",
    "    for i in range(len(l)):\n",
    "        popped= l.pop()\n",
    "        r_lst.append(popped)\n",
    "    return r_lst\n",
    "num=[1,2,3,4]\n",
    "print(reverse_lst(num))\n",
    "        "
   ]
  },
  {
   "cell_type": "code",
   "execution_count": 14,
   "metadata": {},
   "outputs": [
    {
     "name": "stdout",
     "output_type": "stream",
     "text": [
      "['cba', 'gfe', 'vut', 'zyx']\n"
     ]
    }
   ],
   "source": [
    "#Exercise:\n",
    "# define a function taht take list of words as argument and return list with reverse of each element in list\n",
    "# input->['abc','efg','tuv','xyz']\n",
    "# output-->['cba','gfe','vut','zxy']\n",
    "\n",
    "lst= ['abc','efg','tuv','xyz']\n",
    "def reverse_char(l):\n",
    "    r_lst=[]\n",
    "    for i in l:\n",
    "        r_lst.append(i[::-1])\n",
    "    return r_lst\n",
    "print(reverse_char(lst))\n",
    "        \n",
    "    \n",
    "    "
   ]
  },
  {
   "cell_type": "code",
   "execution_count": 27,
   "metadata": {},
   "outputs": [
    {
     "name": "stdout",
     "output_type": "stream",
     "text": [
      "[[1, 3, 5, 7, 9], [2, 4, 6, 8, 10]]\n"
     ]
    }
   ],
   "source": [
    "# exercise\n",
    "# define a function  to filter odd and even\n",
    "# input- [1,2,3,4,5,6,7,8,9,10]\n",
    "#output--[[1,3,5,7,9],[2,4,6,8,10]]\n",
    "\n",
    "def odd_eve(num):\n",
    "    odd_num=[]\n",
    "    even_num=[]\n",
    "    for i in num:\n",
    "        if i%2 !=0:\n",
    "            odd_num.append(i)\n",
    "        else:\n",
    "            even_num.append(i)\n",
    "    output=[odd_num,even_num]\n",
    "    return output\n",
    "number=  [1,2,3,4,5,6,7,8,9,10]\n",
    "print(odd_eve(number))\n",
    "    \n",
    "                   "
   ]
  },
  {
   "cell_type": "code",
   "execution_count": 30,
   "metadata": {},
   "outputs": [
    {
     "name": "stdout",
     "output_type": "stream",
     "text": [
      "[1, 2, 9]\n",
      "[1, 2, 9]\n"
     ]
    }
   ],
   "source": [
    "#exercise-\n",
    "# define common element finder function\n",
    "# function takes two list in input and return a list\n",
    "# lst1=[1,2,5,8], list2=[1,2,7,6]\n",
    "#output-->[1,2]\n",
    "def filter_common(lst1,lst2):\n",
    "    common_lst=[]\n",
    "    for i in range(min(len(lst1),len(lst2))):\n",
    "        if lst1[i]==lst2[i]:\n",
    "            common_lst.append(lst1[i])\n",
    "    return common_lst\n",
    "l1= [1,2,5,8,9]\n",
    "l2= list2=[1,2,7,6,9]\n",
    "print(filter_common(l1,l2))\n",
    "\n",
    "## 2nd way\n",
    "def filter_common(lst1,lst2):\n",
    "    common_lst=[]\n",
    "    for i in lst1:\n",
    "        if i in lst2:\n",
    "            common_lst.append(i)\n",
    "    return common_lst\n",
    "l1= [1,2,5,8,9]\n",
    "l2= list2=[1,2,7,6,9]\n",
    "print(filter_common(l1,l2))\n"
   ]
  },
  {
   "cell_type": "code",
   "execution_count": 40,
   "metadata": {},
   "outputs": [
    {
     "name": "stdout",
     "output_type": "stream",
     "text": [
      "2\n"
     ]
    }
   ],
   "source": [
    "# exercise\n",
    "# define a function takes mixed list and find how many list inside the list\n",
    "# input--[1,2,[3,4],[5,6]]\n",
    "#output-->2\n",
    "\n",
    "def inside_lst(l):\n",
    "    count=0\n",
    "    for i in l:\n",
    "        if type(i)== list:\n",
    "            count+=1\n",
    "    return count\n",
    "mixed_lst=[1,2,[3,4],[5,6]]\n",
    "print(inside_lst(mixed_lst))"
   ]
  },
  {
   "cell_type": "code",
   "execution_count": null,
   "metadata": {},
   "outputs": [],
   "source": []
  },
  {
   "cell_type": "code",
   "execution_count": null,
   "metadata": {},
   "outputs": [],
   "source": []
  }
 ],
 "metadata": {
  "kernelspec": {
   "display_name": "Python 3",
   "language": "python",
   "name": "python3"
  },
  "language_info": {
   "codemirror_mode": {
    "name": "ipython",
    "version": 3
   },
   "file_extension": ".py",
   "mimetype": "text/x-python",
   "name": "python",
   "nbconvert_exporter": "python",
   "pygments_lexer": "ipython3",
   "version": "3.7.6"
  }
 },
 "nbformat": 4,
 "nbformat_minor": 4
}
