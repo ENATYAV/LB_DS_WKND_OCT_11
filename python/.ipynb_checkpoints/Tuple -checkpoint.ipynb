{
 "cells": [
  {
   "cell_type": "code",
   "execution_count": 7,
   "metadata": {},
   "outputs": [
    {
     "name": "stdout",
     "output_type": "stream",
     "text": [
      "('one', 'two', 'three') <class 'tuple'>\n",
      "('one',) <class 'tuple'>\n",
      "('one',) <class 'tuple'>\n",
      "('one', 'two', 'three') <class 'tuple'>\n",
      "('one', 'two', 'three') <class 'tuple'>\n"
     ]
    },
    {
     "ename": "TypeError",
     "evalue": "'tuple' object does not support item assignment",
     "output_type": "error",
     "traceback": [
      "\u001b[1;31m---------------------------------------------------------------------------\u001b[0m",
      "\u001b[1;31mTypeError\u001b[0m                                 Traceback (most recent call last)",
      "\u001b[1;32m<ipython-input-7-d411d2e44bfc>\u001b[0m in \u001b[0;36m<module>\u001b[1;34m\u001b[0m\n\u001b[0;32m     20\u001b[0m \u001b[0mprint\u001b[0m\u001b[1;33m(\u001b[0m\u001b[0mtpl\u001b[0m\u001b[1;33m,\u001b[0m \u001b[0mtype\u001b[0m\u001b[1;33m(\u001b[0m\u001b[0mtpl\u001b[0m\u001b[1;33m)\u001b[0m\u001b[1;33m)\u001b[0m\u001b[1;33m\u001b[0m\u001b[1;33m\u001b[0m\u001b[0m\n\u001b[0;32m     21\u001b[0m \u001b[1;33m\u001b[0m\u001b[0m\n\u001b[1;32m---> 22\u001b[1;33m \u001b[0mtpl\u001b[0m\u001b[1;33m[\u001b[0m\u001b[1;36m0\u001b[0m\u001b[1;33m]\u001b[0m\u001b[1;33m=\u001b[0m\u001b[1;36m1\u001b[0m\u001b[1;33m\u001b[0m\u001b[1;33m\u001b[0m\u001b[0m\n\u001b[0m\u001b[0;32m     23\u001b[0m \u001b[0mprint\u001b[0m\u001b[1;33m(\u001b[0m\u001b[0mtpl\u001b[0m\u001b[1;33m,\u001b[0m \u001b[0mtype\u001b[0m\u001b[1;33m(\u001b[0m\u001b[0mtpl\u001b[0m\u001b[1;33m)\u001b[0m\u001b[1;33m)\u001b[0m\u001b[1;33m\u001b[0m\u001b[1;33m\u001b[0m\u001b[0m\n",
      "\u001b[1;31mTypeError\u001b[0m: 'tuple' object does not support item assignment"
     ]
    }
   ],
   "source": [
    "# tuple is ordered/sequence data type\n",
    "# we can store any data type in tuple\n",
    "# data store  ()-->paranthisis in tuple\n",
    "# tuple are immutable, means once tuple is created we cannot update\n",
    "# no append,no remove, no insert, no pop, no delete like list\n",
    "# count, index,len,   methods can used in tuple\n",
    "# slicing can be done\n",
    "# tuple is used when no need to modify data\n",
    "#tuple are faster than list\n",
    "\n",
    "tpl=('one','two','three')\n",
    "print(tpl, type(tpl))\n",
    " # tuple with single character without paranthisis\n",
    "tpl= 'one',   # tuple with single character\n",
    "print(tpl,type(tpl))\n",
    " # tuple with single character\n",
    "tpl= ('one',)\n",
    "print(tpl,type(tpl))\n",
    "\n",
    "# tuple whithout paranthsis\n",
    "tpl= 'one','two','three' # tuple with multiple character\n",
    "print(tpl,type(tpl))\n",
    "tpl=('one','two','three')  # tuple with multiple character\n",
    "print(tpl, type(tpl))\n",
    "\n",
    "# tpl[0]=1 TypeError: 'tuple' object does not support item assignment\n",
    "# print(tpl, type(tpl))"
   ]
  },
  {
   "cell_type": "markdown",
   "metadata": {},
   "source": [
    "# looping in tuple"
   ]
  },
  {
   "cell_type": "code",
   "execution_count": 10,
   "metadata": {},
   "outputs": [
    {
     "name": "stdout",
     "output_type": "stream",
     "text": [
      "1\n",
      "2\n",
      "3\n",
      "4.0\n",
      "five\n",
      "1\n",
      "2\n",
      "3\n",
      "4.0\n",
      "five\n"
     ]
    }
   ],
   "source": [
    "mixed= (1,2,3,4.0,'five')\n",
    "\n",
    "# for loop\n",
    "for i in mixed:\n",
    "    print(i)\n",
    "# while loop\n",
    "i=0\n",
    "while i<len(mixed):\n",
    "    print(mixed[i])\n",
    "    i+=1\n"
   ]
  },
  {
   "cell_type": "markdown",
   "metadata": {},
   "source": [
    "# tuple unpacking"
   ]
  },
  {
   "cell_type": "code",
   "execution_count": 16,
   "metadata": {},
   "outputs": [
    {
     "name": "stdout",
     "output_type": "stream",
     "text": [
      "yamaha\n",
      "baton rounge\n",
      "taylor\n"
     ]
    }
   ],
   "source": [
    "# by tuple unpacking we can assign elements in to variables\n",
    "# take number of variable equals to number of elements in tuple\n",
    "\n",
    "guitars=('yamaha', 'baton rounge','taylor')\n",
    "guitar1,guitar2,guitar3=(guitars)\n",
    "print(guitar1)\n",
    "print(guitar2)\n",
    "print(guitar3)\n",
    "\n",
    "# guitars=('yamaha', 'baton rounge','taylor')\n",
    "# guitar1,guitar2=(guitars)  #ValueError: too many values to unpack (expected 2), because element in tuple are 3 and we have taken 2 variable\n",
    "# print(guitar1)\n",
    "# print(guitar2)\n",
    "\n",
    "# guitars=('yamaha', 'baton rounge','taylor')\n",
    "# guitar1,guitar2,guitar3,guitar4=(guitars)  #ValueError: not enough values to unpack (expected 4, got 3), because element in tuple are 3 and we have taken 4 variable\n",
    "# print(guitar1)\n",
    "# print(guitar2)\n",
    "\n"
   ]
  },
  {
   "cell_type": "markdown",
   "metadata": {},
   "source": [
    "# list inside tuple"
   ]
  },
  {
   "cell_type": "code",
   "execution_count": 19,
   "metadata": {},
   "outputs": [
    {
     "name": "stdout",
     "output_type": "stream",
     "text": [
      "('southern mangolia', ['tokyo ghoul theme', 'we made it'])\n"
     ]
    }
   ],
   "source": [
    "favorites= ('southern mangolia', ['tokyo ghoul theme','landscape'])\n",
    "# we can perform function, method list inside tuple\n",
    "\n",
    "favorites[1].pop() # last element of list will be poped\n",
    "favorites[1].append('we made it') # element will be appeneded in last position of list inside tuple\n",
    "print(favorites)"
   ]
  },
  {
   "cell_type": "markdown",
   "metadata": {},
   "source": [
    "# some functions "
   ]
  },
  {
   "cell_type": "code",
   "execution_count": 20,
   "metadata": {},
   "outputs": [
    {
     "name": "stdout",
     "output_type": "stream",
     "text": [
      "1\n",
      "4.0\n",
      "10.0\n"
     ]
    }
   ],
   "source": [
    "# we can use min(), max(), sum() functions\n",
    "\n",
    "tpl=(1,2,3,4.0)\n",
    "print(min(tpl))\n",
    "print(max(tpl))\n",
    "print(sum(tpl))"
   ]
  },
  {
   "cell_type": "markdown",
   "metadata": {},
   "source": [
    "# function returning two values"
   ]
  },
  {
   "cell_type": "code",
   "execution_count": 22,
   "metadata": {},
   "outputs": [
    {
     "name": "stdout",
     "output_type": "stream",
     "text": [
      "(9, 20) <class 'tuple'>\n",
      "9\n",
      "20\n"
     ]
    }
   ],
   "source": [
    "def func(int1, int2):\n",
    "    add= int1+int2\n",
    "    multiply = int1*int2\n",
    "    return add, multiply # will return add & multiple in tuple\n",
    "result= func(4,5)\n",
    "print(result, type(result))\n",
    "\n",
    "add, multiply= func(4,5) # by tuple unpacking we can assign values in variables\n",
    "print(add)\n",
    "print(multiply)"
   ]
  },
  {
   "cell_type": "markdown",
   "metadata": {},
   "source": [
    "# tuple from range()function, string, list"
   ]
  },
  {
   "cell_type": "code",
   "execution_count": 26,
   "metadata": {},
   "outputs": [
    {
     "name": "stdout",
     "output_type": "stream",
     "text": [
      "(1, 2, 3, 4, 5, 6, 7, 8, 9, 10) <class 'tuple'>\n",
      "('n', 'a', 'v', 'n', 'e', 'e', 't') <class 'tuple'>\n",
      "('navneet', 'smita', 'mridul') <class 'tuple'>\n"
     ]
    }
   ],
   "source": [
    "# tuple from range() function\n",
    "tpl= tuple(range(1,11)) \n",
    "print(tpl, type(tpl))\n",
    "\n",
    "# string to tuple\n",
    "tpl= tuple('navneet')\n",
    "print(tpl, type(tpl))\n",
    "\n",
    "# tuple from list\n",
    "tpl= tuple(['navneet','smita','mridul'])\n",
    "print(tpl, type(tpl))"
   ]
  },
  {
   "cell_type": "code",
   "execution_count": 27,
   "metadata": {},
   "outputs": [
    {
     "name": "stdout",
     "output_type": "stream",
     "text": [
      "(1, 2, 3, 4, 5, 6, 7, 8, 9, 10) <class 'str'>\n",
      "[1, 2, 3, 4, 5, 6, 7, 8, 9, 10] <class 'list'>\n"
     ]
    }
   ],
   "source": [
    "# tuple to string\n",
    "lst= str((1,2,3,4,5,6,7,8,9,10))\n",
    "print(lst, type(lst))\n",
    "\n",
    "# tuple to list\n",
    "lst= list((1,2,3,4,5,6,7,8,9,10))\n",
    "print(lst, type(lst))"
   ]
  }
 ],
 "metadata": {
  "kernelspec": {
   "display_name": "Python 3",
   "language": "python",
   "name": "python3"
  },
  "language_info": {
   "codemirror_mode": {
    "name": "ipython",
    "version": 3
   },
   "file_extension": ".py",
   "mimetype": "text/x-python",
   "name": "python",
   "nbconvert_exporter": "python",
   "pygments_lexer": "ipython3",
   "version": "3.7.6"
  }
 },
 "nbformat": 4,
 "nbformat_minor": 4
}
