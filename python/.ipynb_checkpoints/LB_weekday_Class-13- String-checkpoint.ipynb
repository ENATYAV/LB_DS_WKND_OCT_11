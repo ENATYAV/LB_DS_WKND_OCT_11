{
 "cells": [
  {
   "cell_type": "markdown",
   "metadata": {},
   "source": [
    "# features of string data structure"
   ]
  },
  {
   "cell_type": "code",
   "execution_count": null,
   "metadata": {},
   "outputs": [],
   "source": [
    "# 1. string is a sequence\n",
    "# 2. Ordered collection of data items\n",
    "# 3. it allows indexing and slicing operations\n",
    "# 4. Basic operations: concatenation, repeatition,membership, identity\n",
    "# 5. string is iterable\n",
    "# 6. string is immutable object, means modification is not allowed\n",
    "# 7. string support positive and negative indexing"
   ]
  },
  {
   "cell_type": "code",
   "execution_count": 5,
   "metadata": {},
   "outputs": [],
   "source": [
    "a = 'python'\n",
    "\n",
    "# +ve indexing always start from left to right\n",
    "# +ve indexing always start from right to left\n",
    "0   1  2  3  4  5  ---->\n",
    "p   y  t  h  o  n\n",
    "-6 -5 -4 -3 -2 -1  \n"
   ]
  },
  {
   "cell_type": "code",
   "execution_count": 10,
   "metadata": {},
   "outputs": [
    {
     "name": "stdout",
     "output_type": "stream",
     "text": [
      "p\n",
      "p\n",
      "p\n",
      "\n",
      "n\n",
      "n\n",
      "n\n"
     ]
    }
   ],
   "source": [
    "# accessing first element\n",
    "print(a[0])\n",
    "print(a[-len(a)])\n",
    "print(a[-6])\n",
    "\n",
    "print()\n",
    "# accessing last elemet\n",
    "print(a[-1])\n",
    "print(a[len(a)-1])\n",
    "print(a[5])"
   ]
  },
  {
   "cell_type": "markdown",
   "metadata": {},
   "source": [
    "# string slicing"
   ]
  },
  {
   "cell_type": "code",
   "execution_count": 12,
   "metadata": {},
   "outputs": [
    {
     "name": "stdout",
     "output_type": "stream",
     "text": [
      "this is a python class\n"
     ]
    }
   ],
   "source": [
    "# slicing is accessing conscutive multiple elements\n",
    "# syntex: [Start:stop:step]-->default start-->0 & default step-->1\n",
    "\n",
    "\n",
    "my_str= 'this is a python class'\n",
    "print(my_str[::])"
   ]
  },
  {
   "cell_type": "code",
   "execution_count": null,
   "metadata": {},
   "outputs": [],
   "source": []
  },
  {
   "cell_type": "code",
   "execution_count": null,
   "metadata": {},
   "outputs": [],
   "source": []
  }
 ],
 "metadata": {
  "kernelspec": {
   "display_name": "Python 3",
   "language": "python",
   "name": "python3"
  },
  "language_info": {
   "codemirror_mode": {
    "name": "ipython",
    "version": 3
   },
   "file_extension": ".py",
   "mimetype": "text/x-python",
   "name": "python",
   "nbconvert_exporter": "python",
   "pygments_lexer": "ipython3",
   "version": "3.7.6"
  }
 },
 "nbformat": 4,
 "nbformat_minor": 4
}
