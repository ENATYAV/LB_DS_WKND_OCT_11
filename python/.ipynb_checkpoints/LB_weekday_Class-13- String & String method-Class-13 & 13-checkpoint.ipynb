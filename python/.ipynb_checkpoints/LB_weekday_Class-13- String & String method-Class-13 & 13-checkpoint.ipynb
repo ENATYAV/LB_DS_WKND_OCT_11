{
 "cells": [
  {
   "cell_type": "markdown",
   "metadata": {},
   "source": [
    "# features of string data structure"
   ]
  },
  {
   "cell_type": "code",
   "execution_count": null,
   "metadata": {},
   "outputs": [],
   "source": [
    "# 1. string is a sequence\n",
    "# 2. Ordered collection of data items\n",
    "# 3. it allows indexing and slicing operations\n",
    "# 4. Basic operations: concatenation, repeatition,membership, identity\n",
    "# 5. string is iterable\n",
    "# 6. string is immutable object, means modification is not allowed\n",
    "# 7. string support positive and negative indexing"
   ]
  },
  {
   "cell_type": "code",
   "execution_count": null,
   "metadata": {},
   "outputs": [],
   "source": [
    "a='python'\n",
    "\n",
    "# +ve indexing always start from left to right\n",
    "# +ve indexing always start from right to left\n",
    "0   1  2  3  4  5 \n",
    "p   y  t  h  o  n\n",
    "-6 -5 -4 -3 -2 -1\n"
   ]
  },
  {
   "cell_type": "markdown",
   "metadata": {},
   "source": [
    "# Concatenation "
   ]
  },
  {
   "cell_type": "code",
   "execution_count": 27,
   "metadata": {},
   "outputs": [
    {
     "name": "stdout",
     "output_type": "stream",
     "text": [
      "python 2269481963056\n",
      "\n",
      "pythonclass 2269513833648\n",
      "\n",
      "pythonclassclass 2269513827232\n",
      "2269440332208\n",
      "2269481963056\n"
     ]
    }
   ],
   "source": [
    "#concatenation -- Both operand should be string type and we should use '+' operator for the concatenation\n",
    "# it concatenate two strings together\n",
    "# we can concatenate new string in same and after concatination ID will be different\n",
    "\n",
    "str1='python'\n",
    "print(str1,id(str1))\n",
    "print()\n",
    "str2='class'\n",
    "str1=str1+str2\n",
    "print(str1,id(str1))\n",
    "print()\n",
    "######## OR ########\n",
    "str1 += str2\n",
    "print(str1,id(str1))\n",
    "\n",
    "string=''\n",
    "print(id(string))\n",
    "string+= 'python'\n",
    "print(id(string))"
   ]
  },
  {
   "cell_type": "markdown",
   "metadata": {},
   "source": [
    "# repeatitaion"
   ]
  },
  {
   "cell_type": "code",
   "execution_count": 25,
   "metadata": {},
   "outputs": [
    {
     "name": "stdout",
     "output_type": "stream",
     "text": [
      "python 2269481963056\n",
      "\n",
      "pythonpythonpython\n",
      "pythonpythonpython 2269512059520\n"
     ]
    }
   ],
   "source": [
    "# one operand should be string and other should be only interger\n",
    "# after repetation new object will be created\n",
    "str1='python'\n",
    "print(str1,id(str1))\n",
    "print()\n",
    "str1=str1*3\n",
    "print(str1)\n",
    "print(str1,id(str1))"
   ]
  },
  {
   "cell_type": "markdown",
   "metadata": {},
   "source": [
    "# membership"
   ]
  },
  {
   "cell_type": "code",
   "execution_count": 6,
   "metadata": {},
   "outputs": [
    {
     "name": "stdout",
     "output_type": "stream",
     "text": [
      "True\n",
      "False\n",
      "True\n"
     ]
    }
   ],
   "source": [
    "# to check element is inside in the string or not\n",
    "# use 'in' keyword to check and return True/False\n",
    "\n",
    "str1='python'\n",
    "print('y' in str1)\n",
    "print('x' in str1)\n",
    "print('yt' in str1)"
   ]
  },
  {
   "cell_type": "markdown",
   "metadata": {},
   "source": [
    "# identity"
   ]
  },
  {
   "cell_type": "code",
   "execution_count": 11,
   "metadata": {},
   "outputs": [
    {
     "name": "stdout",
     "output_type": "stream",
     "text": [
      "True\n",
      "False\n"
     ]
    }
   ],
   "source": [
    "# use 'is'  or ' is not'  keyword to check and return True/False\n",
    "# to check ID of two string is same or not\n",
    "# string use object useability concept\n",
    "\n",
    "str1='p'\n",
    "str2='p'\n",
    "\n",
    "print(str1 is str2)\n",
    "print(str1 is not str2)"
   ]
  },
  {
   "cell_type": "markdown",
   "metadata": {},
   "source": [
    "# len() method"
   ]
  },
  {
   "cell_type": "code",
   "execution_count": 13,
   "metadata": {},
   "outputs": [
    {
     "name": "stdout",
     "output_type": "stream",
     "text": [
      "6\n",
      "21\n"
     ]
    }
   ],
   "source": [
    "# len() method--> return the total number of string, this also include spaces in string\n",
    "str1='python'\n",
    "str2=' this is python class'\n",
    "print(len(str1))\n",
    "print(len(str2))"
   ]
  },
  {
   "cell_type": "code",
   "execution_count": 16,
   "metadata": {},
   "outputs": [
    {
     "name": "stdout",
     "output_type": "stream",
     "text": [
      "2269481963056\n",
      "2269481963056\n",
      "True\n",
      "\n",
      "2269513249136\n",
      "False\n",
      "\n",
      "2269469206896\n",
      "2269469206896\n",
      "True\n"
     ]
    }
   ],
   "source": [
    "str1='python'\n",
    "str2='python'\n",
    "print( id(str1))\n",
    "print( id(str2))\n",
    "print( str1 is str2)\n",
    "print()\n",
    "str3='python1'\n",
    "print( id(str3))\n",
    "print( str1 is str3)\n",
    "print()\n",
    "print(id(str1[0]))\n",
    "print(id(str3[0]))\n",
    "print(str1[0] is str3[0]) # true because at 0 index both string has same character and charater is point to same ID due to object useability concept"
   ]
  },
  {
   "cell_type": "markdown",
   "metadata": {},
   "source": [
    "# Immutability"
   ]
  },
  {
   "cell_type": "code",
   "execution_count": 29,
   "metadata": {},
   "outputs": [
    {
     "name": "stdout",
     "output_type": "stream",
     "text": [
      "python\n",
      "python 2269481963056\n",
      "\n",
      "jython 2269513822768\n"
     ]
    }
   ],
   "source": [
    "# if object doesnot allow item assignment\n",
    "\n",
    "str1='python'\n",
    "print(str1)\n",
    "# str1[0]='j' # TypeError: 'str' object does not support item assignment\n",
    "print(str1,id(str1))\n",
    "\n",
    "#if the modification cannot be done in existing object, modification takes place and create new object\n",
    "print()\n",
    "str1=str1.replace('p','j') # str1 ID will be different as this is new object\n",
    "print(str1,id(str1))"
   ]
  },
  {
   "cell_type": "markdown",
   "metadata": {},
   "source": [
    "# string methods"
   ]
  },
  {
   "cell_type": "code",
   "execution_count": 30,
   "metadata": {},
   "outputs": [
    {
     "name": "stdout",
     "output_type": "stream",
     "text": [
      "['__add__', '__class__', '__contains__', '__delattr__', '__dir__', '__doc__', '__eq__', '__format__', '__ge__', '__getattribute__', '__getitem__', '__getnewargs__', '__gt__', '__hash__', '__init__', '__init_subclass__', '__iter__', '__le__', '__len__', '__lt__', '__mod__', '__mul__', '__ne__', '__new__', '__reduce__', '__reduce_ex__', '__repr__', '__rmod__', '__rmul__', '__setattr__', '__sizeof__', '__str__', '__subclasshook__', 'capitalize', 'casefold', 'center', 'count', 'encode', 'endswith', 'expandtabs', 'find', 'format', 'format_map', 'index', 'isalnum', 'isalpha', 'isascii', 'isdecimal', 'isdigit', 'isidentifier', 'islower', 'isnumeric', 'isprintable', 'isspace', 'istitle', 'isupper', 'join', 'ljust', 'lower', 'lstrip', 'maketrans', 'partition', 'replace', 'rfind', 'rindex', 'rjust', 'rpartition', 'rsplit', 'rstrip', 'split', 'splitlines', 'startswith', 'strip', 'swapcase', 'title', 'translate', 'upper', 'zfill']\n"
     ]
    }
   ],
   "source": [
    "# check available methods in str\n",
    "print(dir(str))"
   ]
  },
  {
   "cell_type": "code",
   "execution_count": 40,
   "metadata": {},
   "outputs": [],
   "source": [
    "# 'capitalize', 'casefold' ,'lower', 'upper','swapcase','startswith', 'endswith' methods\n",
    "\n",
    "my_str='''Peter Piper picked a peck of pickled peppers.\n",
    "A peck of pickled peppers Peter Piper picked.'''\n",
    "\n",
    "# print(my_str.capitalize()) # only First letter of scentence will become in capital\n",
    "# print()\n",
    "# print(my_str.title()) # fist character of each word will be changed into capital\n",
    "# print()\n",
    "# print(my_str.lower()) # all latter/character will become lower (chnages to ASCII value), if letter ar not in english and are in other language will not change\n",
    "# print()\n",
    "# print(my_str.casefold()) # all latter/character will become lower\n",
    "# print()\n",
    "# print(my_str.upper()) # all latter/character will become upper\n",
    "# print()\n",
    "# print(my_str.swapcase()) # changes capital to small and small to capital\n",
    "# print()\n",
    "# print(my_str.startswith('P')) # to check string starts with particular character or not\n",
    "# print()\n",
    "# print(my_str.endswith('P')) # to check string end with particular character or not\n"
   ]
  },
  {
   "cell_type": "code",
   "execution_count": 46,
   "metadata": {},
   "outputs": [
    {
     "name": "stdout",
     "output_type": "stream",
     "text": [
      "True\n",
      "True\n",
      "True\n",
      "True\n",
      "False\n",
      "False\n"
     ]
    }
   ],
   "source": [
    "# 'isalnum', 'isalpha', 'isascii', 'isdecimal', 'isdigit', 'isidentifier' methods\n",
    "# all above methods return true/false\n",
    "\n",
    "str1= 'python'\n",
    "str2= '9650455681'\n",
    "str3= 'python9650455681'\n",
    "str4= '@!$%^&**'\n",
    "str5= 'fileßen'\n",
    "str6= '\\u009F'\n",
    "\n",
    "# isalnum()checks elements in string are alpha numeric or not\n",
    "print(str1.isalnum())\n",
    "print(str2.isalnum())\n",
    "print(str3.isalnum())\n",
    "\n",
    "# isalnum() checks all elements in string are alphabetic or not\n",
    "print(str1.isalpha())\n",
    "print(str2.isalpha())\n",
    "print(str3.isalpha())\n",
    "\n",
    "\n",
    "# 'isdecimal', 'isdigit,'isnumeric'\n",
    "# isdigit()-->checks wheter digits or not\n"
   ]
  },
  {
   "cell_type": "code",
   "execution_count": null,
   "metadata": {},
   "outputs": [],
   "source": []
  },
  {
   "cell_type": "code",
   "execution_count": null,
   "metadata": {},
   "outputs": [],
   "source": []
  },
  {
   "cell_type": "code",
   "execution_count": null,
   "metadata": {},
   "outputs": [],
   "source": []
  },
  {
   "cell_type": "code",
   "execution_count": null,
   "metadata": {},
   "outputs": [],
   "source": []
  },
  {
   "cell_type": "code",
   "execution_count": null,
   "metadata": {},
   "outputs": [],
   "source": []
  },
  {
   "cell_type": "code",
   "execution_count": null,
   "metadata": {},
   "outputs": [],
   "source": []
  },
  {
   "cell_type": "code",
   "execution_count": null,
   "metadata": {},
   "outputs": [],
   "source": []
  },
  {
   "cell_type": "code",
   "execution_count": null,
   "metadata": {},
   "outputs": [],
   "source": []
  },
  {
   "cell_type": "code",
   "execution_count": null,
   "metadata": {},
   "outputs": [],
   "source": []
  },
  {
   "cell_type": "code",
   "execution_count": null,
   "metadata": {},
   "outputs": [],
   "source": []
  },
  {
   "cell_type": "code",
   "execution_count": null,
   "metadata": {},
   "outputs": [],
   "source": []
  }
 ],
 "metadata": {
  "kernelspec": {
   "display_name": "Python 3",
   "language": "python",
   "name": "python3"
  },
  "language_info": {
   "codemirror_mode": {
    "name": "ipython",
    "version": 3
   },
   "file_extension": ".py",
   "mimetype": "text/x-python",
   "name": "python",
   "nbconvert_exporter": "python",
   "pygments_lexer": "ipython3",
   "version": "3.7.6"
  }
 },
 "nbformat": 4,
 "nbformat_minor": 4
}
