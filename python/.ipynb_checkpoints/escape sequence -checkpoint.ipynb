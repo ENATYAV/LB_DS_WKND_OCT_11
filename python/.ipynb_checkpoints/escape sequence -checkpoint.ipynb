{
 "cells": [
  {
   "cell_type": "markdown",
   "metadata": {},
   "source": [
    "## escape sequences as character\n",
    "   This is \\\\ doublebacslash\n",
    "   this is /\\/\\/\\/\\ mountain\n",
    "   he is  awesome(use escape sequence instead of manual spaces)\n",
    "   \\\"\\n\\t\\' ( print this as output)"
   ]
  },
  {
   "cell_type": "markdown",
   "metadata": {},
   "source": [
    "# "
   ]
  },
  {
   "cell_type": "code",
   "execution_count": 6,
   "metadata": {},
   "outputs": [
    {
     "name": "stdout",
     "output_type": "stream",
     "text": [
      "this is \\\\ double backslash\n",
      "this is /\\/\\/\\/\\ double backslash\n",
      "this is \\awesome\n",
      "\\\"\\n\\'\n"
     ]
    }
   ],
   "source": [
    "print(r'this is \\\\ double backslash')\n",
    "print(r'this is /\\/\\/\\/\\ double backslash')\n",
    "print(r'this is \\awesome')\n",
    "print(r'\\\"\\n\\'')"
   ]
  },
  {
   "cell_type": "markdown",
   "metadata": {},
   "source": [
    "## Emoji "
   ]
  },
  {
   "cell_type": "code",
   "execution_count": 8,
   "metadata": {},
   "outputs": [
    {
     "name": "stdout",
     "output_type": "stream",
     "text": [
      "😀\n",
      "😃\n",
      "😄\n",
      "😁\n"
     ]
    }
   ],
   "source": [
    "print('\\U0001F600')\n",
    "print('\\U0001F603')\n",
    "print('\\U0001F604')\n",
    "print('\\U0001F601')"
   ]
  },
  {
   "cell_type": "markdown",
   "metadata": {},
   "source": [
    "## Python as calculator"
   ]
  },
  {
   "cell_type": "code",
   "execution_count": 18,
   "metadata": {},
   "outputs": [
    {
     "name": "stdout",
     "output_type": "stream",
     "text": [
      "1.41\n",
      "2.0\n",
      "1.5\n",
      "512\n"
     ]
    }
   ],
   "source": [
    "print(round(2**0.5 , 2))\n",
    "import math\n",
    "print(math.sqrt(4))\n",
    "print((2+3)*3/2%3)# precendece and assocativity rule (*,/,% -->left to right)\n",
    "# (5*3/2%3)\n",
    "print(2**3**2) ## Assocativity rule( for exponent right to left)"
   ]
  },
  {
   "cell_type": "code",
   "execution_count": 13,
   "metadata": {},
   "outputs": [
    {
     "name": "stdout",
     "output_type": "stream",
     "text": [
      "6\n"
     ]
    }
   ],
   "source": []
  },
  {
   "cell_type": "code",
   "execution_count": null,
   "metadata": {},
   "outputs": [],
   "source": []
  }
 ],
 "metadata": {
  "kernelspec": {
   "display_name": "Python 3",
   "language": "python",
   "name": "python3"
  },
  "language_info": {
   "codemirror_mode": {
    "name": "ipython",
    "version": 3
   },
   "file_extension": ".py",
   "mimetype": "text/x-python",
   "name": "python",
   "nbconvert_exporter": "python",
   "pygments_lexer": "ipython3",
   "version": "3.7.6"
  }
 },
 "nbformat": 4,
 "nbformat_minor": 4
}
