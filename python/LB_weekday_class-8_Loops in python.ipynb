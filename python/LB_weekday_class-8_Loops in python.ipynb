{
 "cells": [
  {
   "cell_type": "code",
   "execution_count": null,
   "metadata": {},
   "outputs": [],
   "source": [
    "# conditional statement: if, if-else\n",
    "# loop: while , for\n",
    "# transfer statement: break , continue"
   ]
  },
  {
   "cell_type": "code",
   "execution_count": 12,
   "metadata": {},
   "outputs": [
    {
     "data": {
      "text/plain": [
       "array([1505, 1540, 1575, 1610, 1645, 1680, 1715, 1750, 1785, 1820, 1855,\n",
       "       1890, 1925, 1960, 1995, 2030, 2065, 2100, 2135, 2170, 2205, 2240,\n",
       "       2275, 2310, 2345, 2380, 2415, 2450, 2485, 2520, 2555, 2590, 2625,\n",
       "       2660, 2695])"
      ]
     },
     "execution_count": 12,
     "metadata": {},
     "output_type": "execute_result"
    }
   ],
   "source": [
    "# example:\n",
    "# write a program to find those numbers which are devided by 7 and multiple of 5 , between 1500 and 2700 both included\n",
    "\n",
    "import numpy as np\n",
    "arrl= np.array(range(1500, 2700))\n",
    "arrl[(arrl%7==0) & (arrl%5==0)] # & is logical 'and ' operator in numpy not 'bitwise and' operator\n",
    "\n",
    "\n"
   ]
  },
  {
   "cell_type": "code",
   "execution_count": 11,
   "metadata": {},
   "outputs": [
    {
     "name": "stdout",
     "output_type": "stream",
     "text": [
      "[1505, 1540, 1575, 1610, 1645, 1680, 1715, 1750, 1785, 1820, 1855, 1890, 1925, 1960, 1995, 2030, 2065, 2100, 2135, 2170, 2205, 2240, 2275, 2310, 2345, 2380, 2415, 2450, 2485, 2520, 2555, 2590, 2625, 2660, 2695]\n"
     ]
    }
   ],
   "source": [
    "# second method by loop\n",
    "arr_list=[]\n",
    "for i in range(1500,2700):\n",
    "    if (i%7==0 and i%5==0):\n",
    "        arr_list.append(i)\n",
    "print(arr_list)"
   ]
  },
  {
   "cell_type": "code",
   "execution_count": null,
   "metadata": {},
   "outputs": [],
   "source": [
    "#Note: numpy array is internal module and do effective and efficient manupalation\n",
    "# while loop more loop in program reduce efficiency of program"
   ]
  },
  {
   "cell_type": "code",
   "execution_count": 16,
   "metadata": {},
   "outputs": [
    {
     "name": "stdout",
     "output_type": "stream",
     "text": [
      "enter a number : 1\n",
      "one\n",
      "number is outside of the range\n",
      "enter a number : 1\n",
      "one\n"
     ]
    }
   ],
   "source": [
    "# example-2\n",
    "# write a python program to guess a number b/w 1 to 9 and it should print the value in character.\n",
    "\n",
    "num= int(input('enter a number : '))\n",
    "if num==1:\n",
    "    print('one')\n",
    "if num==2:\n",
    "    print('two')\n",
    "if num==3:\n",
    "    print('three')\n",
    "if num==4:\n",
    "    print('four')\n",
    "if num==5:\n",
    "    print('five')\n",
    "if num==6:\n",
    "    print('six')\n",
    "if num==7:\n",
    "    print('seven')\n",
    "if num==8:\n",
    "    print('eight')\n",
    "if num==9:\n",
    "    print('nine')\n",
    "else:\n",
    "    print('number is outside of the range') # this will also execute when number b/w 1-9, this else statement corresponds to last if statement\n",
    "    \n",
    "# Note: when we have multile if statement than we should use if-elif-else \n",
    "    \n",
    "num= int(input('enter a number : '))\n",
    "if num==1:\n",
    "    print('one')\n",
    "elif num==2:\n",
    "    print('two')\n",
    "elif num==3:\n",
    "    print('three')\n",
    "elif num==4:\n",
    "    print('four')\n",
    "elif num==5:\n",
    "    print('five')\n",
    "elif num==6:\n",
    "    print('six')\n",
    "elif num==7:\n",
    "    print('seven')\n",
    "elif num==8:\n",
    "    print('eight')\n",
    "elif num==9:\n",
    "    print('nine')\n",
    "else:\n",
    "    print('number is outside of the range')"
   ]
  },
  {
   "cell_type": "markdown",
   "metadata": {},
   "source": [
    "# for & while loop"
   ]
  },
  {
   "cell_type": "code",
   "execution_count": 21,
   "metadata": {},
   "outputs": [
    {
     "name": "stdout",
     "output_type": "stream",
     "text": [
      "p\n",
      "y\n",
      "t\n",
      "h\n",
      "o\n",
      "n\n",
      "100\n",
      "400\n",
      "900\n",
      "1600\n",
      "2500\n",
      "100\n",
      "400\n",
      "900\n",
      "1600\n",
      "2500\n",
      "1600\n",
      "100\n",
      "2500\n",
      "400\n",
      "900\n",
      "1\n",
      "False\n",
      "2\n",
      "200\n",
      "(10+20j)\n",
      "300\n",
      "a\n",
      "python\n"
     ]
    }
   ],
   "source": [
    "# for is used for sequences and will run till all elements are exhausted from the sequence\n",
    "# while loop runs with condition and run till condition is true\n",
    "\n",
    "# syntex of for loop:\n",
    "# for variable in seq:\n",
    "#     code-1\n",
    "#     code-2\n",
    "\n",
    "# for loop in string\n",
    "for i in 'python':\n",
    "    print(i)\n",
    "    \n",
    "# for loop in list\n",
    "for i in [10,20,30,40,50]:\n",
    "    print(i**2)\n",
    "    \n",
    "# for loop in tuple\n",
    "for i in (10,20,30,40,50):\n",
    "    print(i**2)\n",
    "## for loop in set\n",
    "for i in {10,20,30,40,50}:\n",
    "    print(i**2)\n",
    "# for loop in dictionay\n",
    "d= {1:100, 2:200,10+20j:300,'a': 'python', False:None}\n",
    "for ele in d:\n",
    "    print(ele)\n",
    "    print(d[ele])\n",
    "    \n"
   ]
  },
  {
   "cell_type": "markdown",
   "metadata": {},
   "source": [
    "# while loop in python"
   ]
  },
  {
   "cell_type": "code",
   "execution_count": 28,
   "metadata": {},
   "outputs": [
    {
     "name": "stdout",
     "output_type": "stream",
     "text": [
      "p\n",
      "yy\n",
      "ttt\n",
      "hhhh\n",
      "ooooo\n",
      "nnnnnn\n",
      "p\n",
      "yy\n",
      "ttt\n",
      "hhhh\n",
      "ooooo\n",
      "nnnnnn\n",
      "p\n",
      "yy\n",
      "ttt\n",
      "hhhh\n",
      "ooooo\n",
      "nnnnnn\n"
     ]
    }
   ],
   "source": [
    "# while loop in python: initialization , condition checking , increment or decrement\n",
    "# if we will not do increment or decrement, loop will run infinitly\n",
    "\n",
    "# syntex\n",
    "# ind=0 # initialization\n",
    "# while ind<5: # condition checking\n",
    "#     code1\n",
    "#     code2\n",
    "#     code3\n",
    "#     i+=1 # increment/or decrement i-=1\n",
    "# example:-\n",
    "my_str= 'python'\n",
    "i=0\n",
    "j=1\n",
    "while i < len(my_str):\n",
    "    print(my_str[i]*j)\n",
    "    i+=1\n",
    "    j+=1\n",
    "#second way\n",
    "i=0\n",
    "while i < len(my_str):\n",
    "    print(my_str[i]*(i+1))\n",
    "    i+=1\n",
    "   \n",
    "    \n",
    "    \n",
    "# using for loop\n",
    "\n",
    "mul_fac=1\n",
    "for i in my_str:\n",
    "    print(i*mul_fac)\n",
    "    mul_fac+=1"
   ]
  },
  {
   "cell_type": "markdown",
   "metadata": {},
   "source": [
    "# infinit loop"
   ]
  },
  {
   "cell_type": "code",
   "execution_count": 36,
   "metadata": {},
   "outputs": [
    {
     "name": "stdout",
     "output_type": "stream",
     "text": [
      "10\n",
      "20\n",
      "\n",
      "20\n",
      "40\n",
      "\n",
      "11\n",
      "22\n",
      "\n",
      "22\n",
      "44\n",
      "\n",
      "22\n",
      "44\n",
      "\n"
     ]
    }
   ],
   "source": [
    "# while True:  # this is infinite loop\n",
    "\n",
    "# transfer statements:\n",
    "# break: to come out the loop\n",
    "# continue: used to skip current iteration\n",
    "\n",
    "# statement will be executed till condition is false , once condition is true than comes out of the loop\n",
    "# for loop:\n",
    "#     if condition:\n",
    "#         break\n",
    "#     else:\n",
    "#         statement\n",
    "\n",
    "# statement will be executed till condition is false , once condition is true than currrent iteration will be skipped and goes to next iteration\n",
    "# for loop:\n",
    "#     if condition:\n",
    "#         continue\n",
    "#     else:\n",
    "#         statement\n",
    "\n",
    "\n",
    "# Example\n",
    "lst=[[10,20,30],[11,22,33],[22,44,66]]\n",
    "\n",
    "# output:\n",
    "# 10\n",
    "# 20\n",
    "\n",
    "# 20\n",
    "# 40\n",
    "\n",
    "# 11\n",
    "# 22\n",
    "\n",
    "# 22\n",
    "# 44\n",
    "# for i in lst:\n",
    "#     for j in i:\n",
    "#         if j >= 30:\n",
    "#             continue\n",
    "#         else:\n",
    "#             print(j)\n",
    "#             print(j*2)\n",
    "#             print()\n",
    "\n",
    "# break \n",
    "\n",
    "for i in lst:\n",
    "    for j in i:\n",
    "        if j >= 30:\n",
    "            break\n",
    "        else:\n",
    "            print(j)\n",
    "            print(j*2)\n",
    "            print()\n",
    "# example: if value id greater than 40 than come out of the loop\n",
    "# lst1=[10,20,30,40,50,10,2,35,23]\n",
    "# for i in lst1:\n",
    "#     if i > 40:\n",
    "#         break\n",
    "#     else:\n",
    "#         print(i)\n",
    "\n"
   ]
  },
  {
   "cell_type": "code",
   "execution_count": 4,
   "metadata": {},
   "outputs": [
    {
     "name": "stdout",
     "output_type": "stream",
     "text": [
      "enter any number b/w 1 to 9 : 8\n",
      "you guessed bigger number\n",
      "enter any number b/w 1 to 9 : 5\n",
      "you guessed smaller number\n",
      "enter any number b/w 1 to 9 : 6\n",
      "you guessed correct number and you gussed in 3\n"
     ]
    }
   ],
   "source": [
    "# example: write a python code to guess b/w 1 to 9\n",
    "num=6\n",
    "count=1\n",
    "while True:\n",
    "   \n",
    "    number=int(input('enter any number b/w 1 to 9 : '))\n",
    "    if number == num:\n",
    "        print(f'you guessed correct number and you gussed in {count}')\n",
    "        break\n",
    "    elif number > num:\n",
    "        print('you guessed bigger number')\n",
    "        count+=1\n",
    "    else:\n",
    "        print('you guessed smaller number')\n",
    "        count+=1\n",
    "    "
   ]
  },
  {
   "cell_type": "code",
   "execution_count": 2,
   "metadata": {},
   "outputs": [
    {
     "name": "stdout",
     "output_type": "stream",
     "text": [
      "0\n",
      "1\n",
      "2\n",
      "4\n",
      "5\n"
     ]
    }
   ],
   "source": [
    "# example: write a python program than prints all numbers from o to 6 except 3 & 6\n",
    "num = 0\n",
    "while num <= 6:\n",
    "    if num == 3 or num ==6:\n",
    "        num +=1\n",
    "        continue\n",
    "    else:\n",
    "        print(num)\n",
    "        num +=1"
   ]
  },
  {
   "cell_type": "code",
   "execution_count": 8,
   "metadata": {},
   "outputs": [
    {
     "name": "stdout",
     "output_type": "stream",
     "text": [
      "0 1 1 2 3 5 8 13 21 34 "
     ]
    }
   ],
   "source": [
    "# example : write a program to get the fibonacci services bwtween 1 to 50\n",
    "a,b=0,1\n",
    "print(a,end=' ')\n",
    "while b < 50:\n",
    "    print(b,end=' ')\n",
    "    a,b= b, a+b\n",
    "    "
   ]
  },
  {
   "cell_type": "code",
   "execution_count": 35,
   "metadata": {},
   "outputs": [
    {
     "name": "stdout",
     "output_type": "stream",
     "text": [
      "enter a number : 5\n",
      "     * \n",
      "    * * \n",
      "   * * * \n",
      "  * * * * \n",
      " * * * * * \n",
      "     * \n",
      "    * * \n",
      "   * * * \n",
      "  * * * * \n",
      " * * * * * \n"
     ]
    }
   ],
   "source": [
    "#     *\n",
    "#    * *\n",
    "#   * * *\n",
    "#  * * * *\n",
    "# * * * * *\n",
    "n= int(input('enter a number : '))\n",
    "for i in range(n):\n",
    "    for j in range(i+1):\n",
    "        print(' '*(5-i-1), end=' ')\n",
    "        print('* '*(i+1))\n",
    "        break\n",
    "\n",
    "\n",
    "# second way\n",
    "for i in range(1,n+1):\n",
    "    print(\" \"*(n-i),'* '*i)\n",
    "    "
   ]
  },
  {
   "cell_type": "code",
   "execution_count": 39,
   "metadata": {},
   "outputs": [
    {
     "name": "stdout",
     "output_type": "stream",
     "text": [
      "*******\n",
      "*******\n",
      "*******\n",
      "*******\n",
      "*******\n",
      "*******\n",
      "*******\n"
     ]
    }
   ],
   "source": [
    "# *******\n",
    "# *******\n",
    "# *******\n",
    "# *******\n",
    "# *******\n",
    "# *******\n",
    "# *******\n",
    "for row in range(7):\n",
    "    for col in range(7):\n",
    "        print('*', end='')\n",
    "    print()"
   ]
  },
  {
   "cell_type": "code",
   "execution_count": 47,
   "metadata": {},
   "outputs": [
    {
     "name": "stdout",
     "output_type": "stream",
     "text": [
      " ***** \n",
      " *   * \n",
      " *   * \n",
      " ***** \n",
      " *   * \n",
      " *   * \n",
      " *   * \n"
     ]
    }
   ],
   "source": [
    "#  *****\n",
    "#  *   *\n",
    "#  *   *\n",
    "#  *****\n",
    "#  *   *\n",
    "#  *   *\n",
    "#  *   *\n",
    "\n",
    "# rows=1,2,4,5,6 -->* will be removed\n",
    "#  col=2,3,4    -->* will be removed\n",
    "\n",
    "for row in range(7):\n",
    "    for col in range(7):\n",
    "        if (((col == 0 ) or (col == 6)) or ((row==1 or row==2 or row==4 or row==5 or row==6 ) and (col==2 or col==3 or col==4))):\n",
    "            print(' ',end='')\n",
    "        else:\n",
    "            print('*',end='')\n",
    "    print()"
   ]
  },
  {
   "cell_type": "code",
   "execution_count": 54,
   "metadata": {},
   "outputs": [
    {
     "name": "stdout",
     "output_type": "stream",
     "text": [
      "1\n",
      "12\n",
      "123\n",
      "1234\n",
      "12345\n",
      "1\n",
      "12\n",
      "123\n",
      "1234\n",
      "12345\n"
     ]
    }
   ],
   "source": [
    "# 1\n",
    "# 12\n",
    "# 123\n",
    "# 1234\n",
    "# 12345\n",
    "for row in range(5):\n",
    "    for col in range(1,row+2):\n",
    "        print(col,end='')\n",
    "    print()\n",
    "##### or #######\n",
    "for row in range(1,6):\n",
    "    for col in range(1,row+1):\n",
    "        print(col,end='')\n",
    "    print()"
   ]
  },
  {
   "cell_type": "code",
   "execution_count": null,
   "metadata": {},
   "outputs": [],
   "source": [
    "# website for practice : w3resource"
   ]
  }
 ],
 "metadata": {
  "kernelspec": {
   "display_name": "Python 3",
   "language": "python",
   "name": "python3"
  },
  "language_info": {
   "codemirror_mode": {
    "name": "ipython",
    "version": 3
   },
   "file_extension": ".py",
   "mimetype": "text/x-python",
   "name": "python",
   "nbconvert_exporter": "python",
   "pygments_lexer": "ipython3",
   "version": "3.7.6"
  }
 },
 "nbformat": 4,
 "nbformat_minor": 4
}
