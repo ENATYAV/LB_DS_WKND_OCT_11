{
 "cells": [
  {
   "cell_type": "markdown",
   "metadata": {},
   "source": [
    "# topics  to be covered\n",
    "#1. regular expression\n",
    "#2. methods in regular expression\n",
    "#3. significance of regular expression, quantifiers & symbols\n",
    "#4. shallow copy and deepcopy"
   ]
  },
  {
   "cell_type": "code",
   "execution_count": null,
   "metadata": {},
   "outputs": [],
   "source": [
    "1. A regular expression is a string which contains:\n",
    "    --->special symbols\n",
    "    --->characters to find and\n",
    "    --->extract the information needed by us from the given data/string\n",
    "2. Regular expression helps us:-\n",
    "     --->to search\n",
    "     --->to watch\n",
    "     --->to find and \n",
    "     --->to split information as per our requirements\n",
    "3. it is also called as regex.\n",
    "\n",
    "4. python provides 're' module which stands for regular expression\n",
    "\n",
    "5. 're' module contains methods like:\n",
    "    --> compile()\n",
    "    --> search()  --> search pattern first occurance in whole string\n",
    "    --> match()   --> search pattern in the begining string\n",
    "    --> findall() --> search all pattern in the string\n",
    "    --> split()   --> split data/string from pattern\n",
    "    --> sub()     -->  replacing pattern \n",
    "     etc.\n",
    "6. we need to import 're' module if we want to use these methods for above mention operations\n",
    "\n",
    "7. A simple regular expression should be written as a raw string because-\n",
    "  - if we will use normal string then escape sequence like '\\n' will be treated as new line.\n",
    "  - but this is not our requirement. Any escape sequence has different meaning in regex.\n",
    "  - we may use normal string but in that case we have to metion extra \\ (back slash). but this is not our requirement\n",
    "    \n",
    "8 A regular expression looks like as r'm\\w\\w'. this will be intrepreted as :\n",
    "    - 'r' says that regex should be raw string\n",
    "    - 'm' says word or string we are looking for should start with m\n",
    "    - '\\w' says that after 'm' we may have any alphanumeric character after m\n",
    "    - so in this way word or string we are looking for has length 3\n",
    "9 The basic operations we can do on  regular expression  and corresponding methods are:-\n",
    "    - matching string --> re.match(regex, any string) \n",
    "    - searching for string--> re.search(regex, any string)\n",
    "    - finding all string -->re.search(regex, any string) \n",
    "    - spliting a string into pieces ->re.split(regex, any string)\n",
    "    - replacing  string --> re.sub(regex, new string ,any string)\n",
    "    \n",
    "10. the methods used in regular expression are:-\n",
    "    1.matching string- re.match(regex, any string)\n",
    "       --Does the search in the begning of string\n",
    "       --if it is found then return a match object with resultant string\n",
    "       --if it is not found than return None\n",
    "      -- we need to use group() method to access the string from returned object\n",
    "       example-\n",
    "       - my_str='cat mat bat rat'\n",
    "       - res= re.match(r'c\\w\\w' , my_str)\n",
    "       - print(res.group())\n",
    "    2.seraching string- re.search(regex, any string)\n",
    "       --Does the search in the begning  to end of string\n",
    "       --Return first occurence of matching string and  return search object\n",
    "       --if it is not found than return None\n",
    "      -- we need to use group() method to access the string from returned object\n",
    "        example-\n",
    "       - my_str='cat mat bat rat'\n",
    "       - res= re.search(r'c\\w\\w' , my_str)\n",
    "       - print(res.group())\n",
    "     3.finding all string- re.findall(regex, any string)\n",
    "       --Does the search in the begning  to end of string\n",
    "       --Return all occurence of matching string and return list object\n",
    "       --if it is not found than return None\n",
    "      -- we need to use group() method to access the string from returned object\n",
    "        example-\n",
    "       - my_str='cat mat bat rat'\n",
    "       - res= re.findall(r'c\\w\\w' , my_str)\n",
    "       - print(res.group())\n",
    "     4.spliting string into pieces - re.split(regex, any string)\n",
    "       --it split string according to the regular expression\n",
    "       --it return resultant pieces into list\n",
    "       --if there are no resultant pieces tha return empty list\n",
    "      -- we need to run the for loop to access the string from returned list object\n",
    "        example-\n",
    "       - my_str='cat mat bat rat'\n",
    "       - res= re.split(r'c\\w\\w' , my_str)\n",
    "       \n",
    "     5.replacing a  string- re.sub(regex, new_str, any string)\n",
    "       --this method substitutes existing strings  with new string\n",
    "       -- it returns he main string after substitution\n",
    "        example-\n",
    "       - my_str='cat mat bat rat'\n",
    "       - res= re.replace(r'c\\w\\w' ,'hat', my_str)\n",
    "       - print(res)\n",
    "\n",
    "11 Sequence characters n regular expression:-\n",
    "    1. \\d - any digit from 0 to 9\n",
    "    2. \\D - any non-digit\n",
    "    3. \\s - white space e.g- \\t,\\n,\\r,\\v,,' '\n",
    "    4. \\S - non white space character\n",
    "    5. \\w - any alphanumeric character e.g - (A-Z,a-z, 0-9)\n",
    "    6. \\W - ny non alphanumeric character\n",
    "    7. \\b - represent  individual words\n",
    "    8. \\A - matches only start of the the string, need to metion \\A on start of regex\n",
    "    9. \\Z - matches only t the end of the string, need to metion \\Z on end of regex\n",
    "    \n",
    "12. characters represents more than one character to be matched n the string s called 'Quantifiers'\n",
    "   1. + - represents 1 or more repetations of the preceding  regex exp\n",
    "   2. * - 0 or more repetitions of the preceding  regex exp\n",
    "   3. ? - 0 or 1 repetitions of the preceding  regex exp\n",
    "   4. {m} -exactly moccurences - 'm' is any digit\n",
    "   5. {m,n} - from m to n repetitaion , m & n are digits, default m is 0 and n is infinity\n",
    "\n",
    "13. Special character in  regex:\n",
    "    1. \\ - escape special character\n",
    "    2. . - matches any character except new line\n",
    "    3. ^ - matches begning of string\n",
    "    4. $ - matches ending of string\n",
    "    5. [...]- represents set of possible characters e.g. [6p-t] matches any character from 6,p,q,r,s or t\n",
    "    6. [^...]- Matches every character except the ones inside the brackets . e.g. [^6p-t] matches every character except 6,p,q,r,s or t\n",
    "    7. (...) - matches the regular expression inside the parenthesis the result can be captured\n",
    "    8. R|S - matches the regex either R or S --> R and S can be any thing\n",
    "    "
   ]
  },
  {
   "cell_type": "code",
   "execution_count": 4,
   "metadata": {},
   "outputs": [
    {
     "name": "stdout",
     "output_type": "stream",
     "text": [
      "cat\n",
      "None\n",
      "cat\n"
     ]
    }
   ],
   "source": [
    "# example- write the regular expression and use proper method which gives output as :- 'cat' is str.\n",
    "import re\n",
    "my_str= 'cat mat bat rat'\n",
    "reg= r'cat'\n",
    "res= re.match(reg, my_str)\n",
    "print(res.group())\n",
    "\n",
    "reg=r'mat'\n",
    "res=re.match(reg, my_str) # will return None , because 'mat' is not in begning of my_str and matc() will return None\n",
    "print(res)\n",
    "#print(res.group()) # will give error because group() method cannot be applied on None\n",
    "\n",
    "reg=r'c\\w\\w'\n",
    "res= re.match(reg, my_str)\n",
    "print(res.group())\n"
   ]
  },
  {
   "cell_type": "code",
   "execution_count": 8,
   "metadata": {},
   "outputs": [
    {
     "name": "stdout",
     "output_type": "stream",
     "text": [
      "<re.Match object; span=(8, 11), match='cat'>\n",
      "cat\n"
     ]
    }
   ],
   "source": [
    "my_str= 'hat pat cat mat bat rat'\n",
    "reg= r'c\\w\\w'\n",
    "res= re.search(reg, my_str)\n",
    "print(res)\n",
    "print(res.group())"
   ]
  },
  {
   "cell_type": "code",
   "execution_count": 9,
   "metadata": {},
   "outputs": [
    {
     "name": "stdout",
     "output_type": "stream",
     "text": [
      "['cat', 'cup']\n"
     ]
    }
   ],
   "source": [
    "my_str= 'hat pat cat mat bat cup'\n",
    "reg= r'c\\w\\w'\n",
    "res= re.findall(reg, my_str)\n",
    "print(res)\n",
    "# print(res.group())"
   ]
  },
  {
   "cell_type": "code",
   "execution_count": 10,
   "metadata": {},
   "outputs": [
    {
     "name": "stdout",
     "output_type": "stream",
     "text": [
      "['hat pat ', ' mat bat ', '']\n"
     ]
    }
   ],
   "source": [
    "my_str= 'hat pat cat mat bat cup'\n",
    "reg= r'c\\w\\w'\n",
    "res= re.split(reg, my_str)\n",
    "print(res)\n",
    "# print(res.group())"
   ]
  },
  {
   "cell_type": "code",
   "execution_count": 12,
   "metadata": {},
   "outputs": [
    {
     "name": "stdout",
     "output_type": "stream",
     "text": [
      "hat pat tat mat bat tat\n"
     ]
    }
   ],
   "source": [
    "my_str= 'hat pat cat mat bat cup'\n",
    "reg= r'c\\w\\w'\n",
    "res= re.sub(reg,'tat', my_str)\n",
    "print(res)\n",
    "# print(res.group())"
   ]
  },
  {
   "cell_type": "code",
   "execution_count": 22,
   "metadata": {},
   "outputs": [
    {
     "name": "stdout",
     "output_type": "stream",
     "text": [
      "['peter', 'piper', 'picked', 'peck', 'pickled', 'peppers']\n",
      "['peter', 'piper', 'picked', 'peck', 'pickled', 'peppers']\n",
      "['peter', 'piper', 'picked', 'peck', 'pickled', 'peppers']\n",
      "['peter', 'piper', 'picked', 'peck', 'pickled', 'peppers']\n",
      "['peter', 'piper', 'picked', 'peck', 'pickled', 'peppers']\n"
     ]
    }
   ],
   "source": [
    "my_str='peter piper picked a peck of pickled peppers'\n",
    "reg=r'p[\\w]{2,}'\n",
    "res= re.findall(reg, my_str)\n",
    "print(res)\n",
    "\n",
    "my_str='peter piper picked a peck of pickled peppers'\n",
    "reg=r'p[\\w]+'\n",
    "res= re.findall(reg, my_str)\n",
    "print(res)\n",
    "\n",
    "my_str='peter piper picked a peck of pickled peppers'\n",
    "reg=r'p\\w\\w\\w+'\n",
    "res= re.findall(reg, my_str)\n",
    "print(res)\n",
    "\n",
    "my_str='peter piper picked a peck of pickled peppers'\n",
    "reg=r'p[\\w]*'\n",
    "res= re.findall(reg, my_str)\n",
    "print(res)\n",
    "\n",
    "my_str='peter piper picked a peck of pickled peppers'\n",
    "reg=r'p\\w\\w\\w*'\n",
    "res= re.findall(reg, my_str)\n",
    "print(res)"
   ]
  },
  {
   "cell_type": "code",
   "execution_count": 24,
   "metadata": {},
   "outputs": [
    {
     "name": "stdout",
     "output_type": "stream",
     "text": [
      "['peter']\n",
      "['peter']\n"
     ]
    }
   ],
   "source": [
    "my_str='peter piper picked a peck of pickled peppers'\n",
    "reg=r'\\Ap\\w\\w\\w*'\n",
    "res= re.findall(reg, my_str)\n",
    "print(res)\n",
    "\n",
    "######## or #####\n",
    "my_str='peter piper picked a peck of pickled peppers'\n",
    "reg=r'^p\\w\\w\\w*'\n",
    "res= re.findall(reg, my_str)\n",
    "print(res)"
   ]
  },
  {
   "cell_type": "code",
   "execution_count": 26,
   "metadata": {},
   "outputs": [
    {
     "name": "stdout",
     "output_type": "stream",
     "text": [
      "['peppers']\n",
      "['peppers']\n"
     ]
    }
   ],
   "source": [
    "my_str='peter piper picked a peck of pickled peppers'\n",
    "reg=r'p\\w\\w\\w*\\Z'\n",
    "res= re.findall(reg, my_str)\n",
    "print(res)\n",
    "\n",
    "######## or #####\n",
    "my_str='peter piper picked a peck of pickled peppers'\n",
    "reg=r'p\\w\\w\\w*$'\n",
    "res= re.findall(reg, my_str)\n",
    "print(res)"
   ]
  },
  {
   "cell_type": "markdown",
   "metadata": {},
   "source": [
    "# shallow copy and deep copy"
   ]
  },
  {
   "cell_type": "code",
   "execution_count": 29,
   "metadata": {},
   "outputs": [
    {
     "name": "stdout",
     "output_type": "stream",
     "text": [
      "True\n",
      "1956736276616\n",
      "1956736276616\n",
      "[100, 20, 30]\n",
      "[100, 20, 30]\n"
     ]
    }
   ],
   "source": [
    "lst=[10,20,30]\n",
    "lst1=lst  # both are same , if we do any changes in one that will reflect other also\n",
    "print(lst1 is lst)\n",
    "print(id(lst))\n",
    "print(id(lst1))\n",
    "lst[0]=100\n",
    "print(lst)\n",
    "print(lst1)"
   ]
  },
  {
   "cell_type": "markdown",
   "metadata": {},
   "source": [
    "# shallow copy"
   ]
  },
  {
   "cell_type": "code",
   "execution_count": 31,
   "metadata": {},
   "outputs": [
    {
     "name": "stdout",
     "output_type": "stream",
     "text": [
      "False\n",
      "[100, 20, 30]\n",
      "[10, 20, 30]\n"
     ]
    }
   ],
   "source": [
    "# in list-- > by slicing or copy method\n",
    "# in list --> by copy method\n",
    "# this should be used if list and dictionay are not nested\n",
    "# this conecpt is applicable on mutable objects like list, dictionary etc\n",
    "\n",
    "lst=[10,20,30]\n",
    "lst1=lst.copy()\n",
    "print(lst1 is lst)\n",
    "lst[0]=100\n",
    "print(lst)\n",
    "print(lst1)"
   ]
  },
  {
   "cell_type": "code",
   "execution_count": 9,
   "metadata": {},
   "outputs": [
    {
     "name": "stdout",
     "output_type": "stream",
     "text": [
      "False\n",
      "[10, 20, 30, [1, 2, 3]]\n",
      "[10, 20, 30, [1, 2, 3]]\n",
      "[10, 20, 30, [100, 2, 3]]\n",
      "[10, 20, 30, [100, 2, 3]]\n"
     ]
    }
   ],
   "source": [
    "# changes in nested list of one will reflect in other one also\n",
    "# this conecpt is applicable on mutable objects like list, dictionary etc\n",
    "\n",
    "lst= [10,20,30,[1,2,3]]\n",
    "lst_shallow = lst.copy()\n",
    "print(lst_shallow is lst)\n",
    "print(lst)\n",
    "print(lst_shallow)\n",
    "lst[-1][0]= 100\n",
    "print(lst)\n",
    "print(lst_shallow)"
   ]
  },
  {
   "cell_type": "code",
   "execution_count": null,
   "metadata": {},
   "outputs": [],
   "source": []
  },
  {
   "cell_type": "markdown",
   "metadata": {},
   "source": [
    "# deep Copy"
   ]
  },
  {
   "cell_type": "code",
   "execution_count": 10,
   "metadata": {},
   "outputs": [
    {
     "name": "stdout",
     "output_type": "stream",
     "text": [
      "[10, 20, 30, [1, 2, 3]]\n",
      "[10, 20, 30, [1, 2, 3]]\n",
      "[10, 20, 30, [100, 2, 3]]\n",
      "[10, 20, 30, [1, 2, 3]]\n"
     ]
    }
   ],
   "source": [
    "# import deepcopy from copy module\n",
    "# this can be used in nested lst and dictionary\n",
    "# changes in one will not reflect in other\n",
    "# this conecpt is applicable on mutable objects like list, dictionary etc\n",
    "\n",
    "from copy import deepcopy\n",
    "lst= [10,20,30,[1,2,3]]\n",
    "lst_deep = deepcopy(lst)\n",
    "print(lst)\n",
    "print(lst_deep)\n",
    "lst[-1][0]= 100\n",
    "print(lst)\n",
    "print(lst_deep)"
   ]
  },
  {
   "cell_type": "code",
   "execution_count": null,
   "metadata": {},
   "outputs": [],
   "source": []
  },
  {
   "cell_type": "code",
   "execution_count": null,
   "metadata": {},
   "outputs": [],
   "source": []
  }
 ],
 "metadata": {
  "kernelspec": {
   "display_name": "Python 3",
   "language": "python",
   "name": "python3"
  },
  "language_info": {
   "codemirror_mode": {
    "name": "ipython",
    "version": 3
   },
   "file_extension": ".py",
   "mimetype": "text/x-python",
   "name": "python",
   "nbconvert_exporter": "python",
   "pygments_lexer": "ipython3",
   "version": "3.7.6"
  }
 },
 "nbformat": 4,
 "nbformat_minor": 4
}
