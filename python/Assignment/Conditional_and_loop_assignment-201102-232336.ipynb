{
 "cells": [
  {
   "cell_type": "markdown",
   "metadata": {
    "id": "wNRNTbrsc53d"
   },
   "source": [
    "# If - elif - else statement"
   ]
  },
  {
   "cell_type": "code",
   "execution_count": 1,
   "metadata": {
    "id": "MiPfTnBycxNa"
   },
   "outputs": [
    {
     "name": "stdout",
     "output_type": "stream",
     "text": [
      "enter any number :10\n",
      "number is out of range 0-9\n"
     ]
    }
   ],
   "source": [
    "#W. A P. which takes one number from 0 to 9 from the user and prints it in the word. And if the word is not from 0 to 9 then\n",
    "#it should print that number is outside of the range and program should exit.\n",
    "# For exapmple:- \n",
    "# input = 1\n",
    "# output = one\n",
    "num=int(input('enter any number :'))\n",
    "for i in range(0,10):\n",
    "    if i==1:\n",
    "        print('one')\n",
    "    elif i==2:\n",
    "        print('two')\n",
    "    elif i==3:\n",
    "        print('three')\n",
    "    elif i==4:\n",
    "        print('four')\n",
    "    elif i==5:\n",
    "        print('five')\n",
    "    elif i==6:\n",
    "        print('six')\n",
    "    elif i==7:\n",
    "        print('seven')\n",
    "    elif i==8:\n",
    "        print('eight')\n",
    "    elif i==9:\n",
    "        print('nine')\n",
    "    else:\n",
    "        print('number is out of range 0-9')\n",
    "        break\n"
   ]
  },
  {
   "cell_type": "code",
   "execution_count": 1,
   "metadata": {
    "id": "vEMNOv9zdA39"
   },
   "outputs": [
    {
     "name": "stdout",
     "output_type": "stream",
     "text": [
      "enter first number :4\n",
      "enter second number :2\n",
      "enter the number for operation: 8\n"
     ]
    }
   ],
   "source": [
    "#W. A P. to implement calculator but the operation to be done and two numbers will be taken as input from user:-\n",
    "#Operation console should show below:-\n",
    "#     Please select any one operation from below:-\n",
    "#         * To add enter 1\n",
    "#         * to subtract enter 2\n",
    "#         * To multiply enter 3\n",
    "#         * To divide enter 4\n",
    "#         * To divide and find quotient enter 5\n",
    "#         * To divide and find remainder enter 6\n",
    "#         * To divide and find num1 to the power of num2 enter 7\n",
    "#         * To Come out of the program enter 8\n",
    "\n",
    "\n",
    "num1=int(input('enter first number :'))\n",
    "num2=int(input('enter second number :'))\n",
    "while True:\n",
    "    op=int(input('enter the number for operation: '))\n",
    "    if op== 1:\n",
    "        print(num1+num2)\n",
    "    elif op ==2:\n",
    "        print(num1-num2)\n",
    "    elif op==3:\n",
    "         print(num1*num2)\n",
    "    elif op==4:\n",
    "        try:\n",
    "            print(num1/num2)\n",
    "        except ZeroDivisionError :\n",
    "            print('number cannot be divided by o')\n",
    "    elif op==5:\n",
    "        try:\n",
    "            print(num1//num2)\n",
    "        except ZeroDivisionError:\n",
    "            print('number cannot be divided by o')\n",
    "    elif op==6:\n",
    "        try:\n",
    "            print(num1%num2)\n",
    "        except ZeroDivisionError:\n",
    "            print('number cannot be divided by o')\n",
    "    elif op==7:\n",
    "        print(num1**num2)\n",
    "    elif op==8:\n",
    "        break\n",
    "    else:\n",
    "        print('wrong operation input')\n",
    "    \n",
    "            \n",
    "                \n",
    "    \n",
    "\n",
    "# second way (with function)\n",
    "# cal_num=int(input('enter any number 1 for add,2,for sub,3 for multiply,4 for float divid, 5 for floor divi, 6 for reminder,7 for power and 8 to exit :'))\n",
    "# def calc(a,b,i=None):\n",
    "#     for n in range(1,i+1):\n",
    "#         if n==1:\n",
    "#             return a+b\n",
    "#         elif n==2:\n",
    "#             return a-b\n",
    "#         elif n==3:\n",
    "#             return a*b\n",
    "#         elif n==4:\n",
    "#             return a/b\n",
    "#         elif n==5 :\n",
    "#             return a//b\n",
    "#         elif n==6:\n",
    "#             return a%b\n",
    "#         elif n==7:\n",
    "#             return a**b\n",
    "#         else:\n",
    "#             break\n",
    "# calc(num1,num2,cal_num)  \n",
    "\n"
   ]
  },
  {
   "cell_type": "code",
   "execution_count": 2,
   "metadata": {
    "id": "1e2gwYLqdC1s"
   },
   "outputs": [
    {
     "name": "stdout",
     "output_type": "stream",
     "text": [
      "enter any year: 2040\n",
      "year is a leap year\n"
     ]
    }
   ],
   "source": [
    "#W A P to check whether a year entered by user is an leap year or not?\n",
    "#Check with below input:-\n",
    "    #leap year:- 2012, 1968, 2004, 1200, 1600,2400\n",
    "    #Non-lear year:- 1971, 2006, 1700,1800,1900\n",
    "year=int(input('enter any year: ')) \n",
    "if year% 4==0:\n",
    "    if year%100 == 0:\n",
    "        if year%400==0:\n",
    "            print('year is leap year')\n",
    "        else:\n",
    "            print('year is not leap year')\n",
    "    else:\n",
    "        print('year is a leap year')\n",
    "else:\n",
    "    print('year is not leap year')\n",
    "        \n",
    "    \n",
    "\n",
    "# using function\n",
    "# leap_year=int(input('enter any year: '))\n",
    "# def leap_year_finder(year,n=4):\n",
    "#     if year % n ==0:\n",
    "#         print(f'{year} is a leap year')\n",
    "#     else:\n",
    "#          print(f'{year} is  not a leap year')\n",
    "# leap_year_finder(leap_year)\n",
    "    \n"
   ]
  },
  {
   "cell_type": "code",
   "execution_count": 15,
   "metadata": {
    "id": "_tpXv1EtdEre"
   },
   "outputs": [
    {
     "name": "stdout",
     "output_type": "stream",
     "text": [
      "enter any number : 111555\n",
      "111555 is odd number\n"
     ]
    }
   ],
   "source": [
    "#W A P which takes one number from the user and checks whether it is an even or odd number?, If it even then prints number is \n",
    "#even number else prints that number is odd number.\n",
    "num=int(input('enter any number : '))\n",
    "def odd_eve(n):\n",
    "    if n%2==0:\n",
    "        print(f\"{n} is even number\")\n",
    "    else:\n",
    "        print(f\"{n} is odd number\")\n",
    "odd_eve(num)\n"
   ]
  },
  {
   "cell_type": "code",
   "execution_count": 2,
   "metadata": {
    "id": "Q1HumymCdG6i"
   },
   "outputs": [
    {
     "name": "stdout",
     "output_type": "stream",
     "text": [
      "enter first number :11\n",
      "enter second number :12\n",
      "num2 is greater than num1\n"
     ]
    }
   ],
   "source": [
    "#W A P which takes two numbers from the user and prints below output:-\n",
    "#     1. num1 is greater than num2 if num1 is greater than num2\n",
    "#     2. num1 is smaller than num2 if num1 is smaller than num2\n",
    "#     3. num1 is equal to num2 if num1 and num2 are equal\n",
    "\n",
    "#Note:- 1. Do this problem using if - else \n",
    "#       2. Do this using ternary operator\n",
    "num1=int(input('enter first number :'))\n",
    "num2=int(input('enter second number :'))\n",
    "# def greater_num(a,b):\n",
    "#     if a < b:\n",
    "#         print(f\"{b} is greater than {a}\" )\n",
    "#     elif a > b:\n",
    "#         print(f\"{b} is smaller than {a}\" )\n",
    "#     else:\n",
    "#         print(f\"{b} is equal to {a}\" )\n",
    "# greater_num(num1,num2)  \n",
    "print('num1 is greadter than num2 ' if num1>num2  else 'num2 is greater than num1' )\n",
    "              \n",
    "\n"
   ]
  },
  {
   "cell_type": "code",
   "execution_count": 4,
   "metadata": {
    "id": "LR6TVB-DdOPf"
   },
   "outputs": [
    {
     "name": "stdout",
     "output_type": "stream",
     "text": [
      "enter first number :11\n",
      "enter second number :22\n",
      "enter third number :10\n",
      "num2 is greater than num1 & num3\n"
     ]
    }
   ],
   "source": [
    "#W A P which takes three numbers from the user and prints below output:-\n",
    "#     1. num1 is greater than num2 and num3 if num1 is greater than num2 and num3\n",
    "#     2. num2 is greater than num1 and num3 if num2 is greater than num1 and num3\n",
    "#     3. num3 is greater than num1 and num2 if num3 is greater than num1 and num2\n",
    "\n",
    "#Note:- 1. Do this problem using if - elif - else \n",
    "#       2. Do this using ternary operator\n",
    "\n",
    "# a = a if a>b else b\n",
    "num1=int(input('enter first number :'))\n",
    "num2=int(input('enter second number :'))\n",
    "num3=int(input('enter third number :'))\n",
    "# def greatest_num(a,b,c):\n",
    "#     if a < b and b>c:\n",
    "#         print(f\"{b} is greatest number\" )\n",
    "#     elif a > b and b>c:\n",
    "#         print(f\"{a} is greatest number\" )\n",
    "#     else:\n",
    "#         print(f\"{c} is greatest number\" )\n",
    "# greatest_num(num1,num2,num3) \n",
    "print('num1 is greater than num2 & num3' if (num1>num2  and num1>num3) else 'num2 is greater than num1 & num3' if num2>num3 else 'num3 is greater than num1 & num2')\n",
    "              \n"
   ]
  },
  {
   "cell_type": "markdown",
   "metadata": {
    "id": "IoOLQMUGdSox"
   },
   "source": [
    "# Loops - for loop, while loop"
   ]
  },
  {
   "cell_type": "code",
   "execution_count": 6,
   "metadata": {
    "id": "9K23Uld8dQfA"
   },
   "outputs": [
    {
     "name": "stdout",
     "output_type": "stream",
     "text": [
      "length of string is : 55\n"
     ]
    }
   ],
   "source": [
    "#Write a Python program to find the length of the my_str using loop:-\n",
    "\n",
    "#Input:- 'Write a Python program to find the length of the my_str'\n",
    "#Output:- 55\n",
    "\n",
    "my_str='Write a Python program to find the length of the my_str'\n",
    "length=0\n",
    "for i in my_str:\n",
    "    length += 1\n",
    "print(f'length of string is : {length}')\n",
    "    \n"
   ]
  },
  {
   "cell_type": "code",
   "execution_count": 7,
   "metadata": {
    "id": "bp6AcqTsdYxy"
   },
   "outputs": [
    {
     "name": "stdout",
     "output_type": "stream",
     "text": [
      "count of p is: 9\n"
     ]
    }
   ],
   "source": [
    "#Write a Python program to find the total number of times letter 'p' is appeared in the below string using loop:-\n",
    "    \n",
    "#Input:- 'peter piper picked a peck of pickled peppers.\\n'\n",
    "#Output:- 9\n",
    "\n",
    "my_str='peter piper picked a peck of pickled peppers.\\n'\n",
    "count=0\n",
    "for i in my_str:\n",
    "    if i== 'p':\n",
    "        count+=1\n",
    "print(f'count of p is: {count}')\n"
   ]
  },
  {
   "cell_type": "code",
   "execution_count": 2,
   "metadata": {
    "id": "xvxSBhTJdav1"
   },
   "outputs": [
    {
     "name": "stdout",
     "output_type": "stream",
     "text": [
      "postion of p's 0\n",
      "postion of p's 6\n",
      "postion of p's 8\n",
      "postion of p's 12\n",
      "postion of p's 21\n",
      "postion of p's 29\n",
      "postion of p's 37\n",
      "postion of p's 39\n",
      "postion of p's 40\n"
     ]
    }
   ],
   "source": [
    "#Write a Python Program, to print all the indexes of all occurences of letter 'p' appeared in the string using loop:-\n",
    "    \n",
    "#Input:- 'peter piper picked a peck of pickled peppers.'\n",
    "#Output:- \n",
    "# 0\n",
    "# 6\n",
    "# 8\n",
    "# 12\n",
    "# 21\n",
    "# 29\n",
    "# 37\n",
    "# 39\n",
    "# 40\n",
    "my_str='peter piper picked a peck of pickled peppers.'\n",
    "for i in range(len(my_str)):\n",
    "    if my_str[i] == 'p':\n",
    "        print(f\"postion of p's {i}\")\n",
    "   \n"
   ]
  },
  {
   "cell_type": "code",
   "execution_count": 5,
   "metadata": {
    "id": "79L_feMadbmw"
   },
   "outputs": [
    {
     "name": "stdout",
     "output_type": "stream",
     "text": [
      "['peter', 'piper', 'picked', 'a', 'peck', 'of', 'pickled', 'peppers']\n"
     ]
    }
   ],
   "source": [
    "#Write a python program to find below output using loop:-\n",
    "\n",
    "#Input:- 'peter piper picked a peck of pickled peppers.'\n",
    "#Output:- ['peter', 'piper', 'picked', 'a', 'peck', 'of', 'pickled', 'peppers']\n",
    "my_str='peter piper picked a peck of pickled peppers.'\n",
    "out_lst=[]\n",
    "out_str=\"\"\n",
    "for i in my_str:\n",
    "    if i==\" \" or i==\".\":\n",
    "        out_lst.append(out_str)\n",
    "        out_str= ''\n",
    "    else:\n",
    "        out_str += i\n",
    "print(out_lst)\n"
   ]
  },
  {
   "cell_type": "code",
   "execution_count": 9,
   "metadata": {
    "id": "vzs5AJ53deVS"
   },
   "outputs": [
    {
     "name": "stdout",
     "output_type": "stream",
     "text": [
      "['peppers', 'pickled', 'of', 'peck', 'a', 'picked', 'piper', 'peter']\n"
     ]
    }
   ],
   "source": [
    "#Write a python program to find below output using loop:-\n",
    "\n",
    "#Input:- 'peter piper picked a peck of pickled peppers.'\n",
    "#Output:- 'peppers pickled of peck a picked piper peter'\n",
    "\n",
    "my_str='peter piper picked a peck of pickled peppers.'\n",
    "out_lst=[]\n",
    "out_str=\"\"\n",
    "for i in my_str:\n",
    "    if i==\" \" or i==\".\":\n",
    "        out_lst.append(out_str)\n",
    "        out_str =''\n",
    "    else:\n",
    "        out_str += i\n",
    "print(out_lst[: :-1])\n"
   ]
  },
  {
   "cell_type": "code",
   "execution_count": 20,
   "metadata": {
    "id": "i-HP7DrCdhwS"
   },
   "outputs": [
    {
     "name": "stdout",
     "output_type": "stream",
     "text": [
      ".sreppep delkcip fo kcep a dekcip repip retep"
     ]
    }
   ],
   "source": [
    "#Write a python program to find below output using loop:-\n",
    "\n",
    "#Input:- 'peter piper picked a peck of pickled peppers.'\n",
    "#Output:- '.sreppep delkcip fo kcep a dekcip repip retep'\n",
    "my_str= 'peter piper picked a peck of pickled peppers.'\n",
    "for i in range(1,len(my_str)+1):\n",
    "    print(my_str[-i],end='')\n",
    "    \n",
    "# second method\n",
    "my_str='peter piper picked a peck of pickled peppers.'\n",
    "final_str=''\n",
    "out_str=\"\"\n",
    "for i in range(-1,-(len(my_str)+1),-1):\n",
    "    if my_str[i]== \" \":\n",
    "        out_str=  my_str[i] + out_str\n",
    "    else:\n",
    "        final_str=\n",
    "        "
   ]
  },
  {
   "cell_type": "code",
   "execution_count": 10,
   "metadata": {
    "id": "3rt6p0ytdkq0"
   },
   "outputs": [
    {
     "name": "stdout",
     "output_type": "stream",
     "text": [
      "['sreppep', 'delkcip', 'fo', 'kcep', 'a', 'dekcip', 'repip', 'retep']\n"
     ]
    }
   ],
   "source": [
    "#Write a python program to find below output using loop:-\n",
    "\n",
    "#Input:- 'peter piper picked a peck of pickled peppers.'\n",
    "#Output:- 'retep repip dekcip a kcep fo delkcip sreppep'\n",
    "out_lst=[]\n",
    "out_str=\"\"\n",
    "for i in my_str:\n",
    "    if i==\" \" or i==\".\":\n",
    "        out_lst.append(out_str[::-1])\n",
    "        out_str =''\n",
    "    else:\n",
    "        out_str += i\n",
    "print(out_lst[: :-1])"
   ]
  },
  {
   "cell_type": "code",
   "execution_count": 10,
   "metadata": {
    "id": "HdlAWgT2dnKO"
   },
   "outputs": [
    {
     "name": "stdout",
     "output_type": "stream",
     "text": [
      "\n",
      " Peter Piper Picked A Peck Of Pickled Peppers\n"
     ]
    }
   ],
   "source": [
    "#Write a python program to find below output using loop:-\n",
    "\n",
    "#Input:- 'peter piper picked a peck of pickled peppers.'\n",
    "#Output:- 'Peter Piper Picked A Peck Of Pickled Peppers\n",
    "out_lst=[]\n",
    "out_str=\"\"\n",
    "for i in my_str:\n",
    "    if i==\" \" or i==\".\":\n",
    "        out_lst.append(out_str)\n",
    "        out_str =''\n",
    "    else:\n",
    "        out_str += i\n",
    "for i in out_lst:\n",
    "    out_str=out_str+ ' ' + chr(ord(i[0]) -32) +i[1:]\n",
    "print(out_str)\n",
    "    \n"
   ]
  },
  {
   "cell_type": "code",
   "execution_count": 13,
   "metadata": {
    "id": "OthUuacodrNl"
   },
   "outputs": [
    {
     "name": "stdout",
     "output_type": "stream",
     "text": [
      "\n",
      " eter iper icked  eck f ickled eppers\n"
     ]
    }
   ],
   "source": [
    "#Write a python program to find below output using loop:-\n",
    "\n",
    "#Input:- 'Peter Piper Picked A Peck Of Pickled Peppers.'\n",
    "#Output:- 'Peter piper picked a peck of pickled peppers'\n",
    "\n",
    "out_lst=[]\n",
    "out_str=\"\"\n",
    "for i in my_str:\n",
    "    if i==\" \" or i==\".\":\n",
    "        out_lst.append(out_str)\n",
    "        out_str =''\n",
    "    else:\n",
    "        out_str += i\n",
    "for i in out_lst:\n",
    "    out_str=out_str+ ' ' + chr(ord(i[0]) + 32) +i[1:]\n",
    "print(out_str)"
   ]
  },
  {
   "cell_type": "code",
   "execution_count": 29,
   "metadata": {
    "colab": {
     "base_uri": "https://localhost:8080/",
     "height": 34
    },
    "id": "scmDJE-ldsI9",
    "outputId": "4b1d1979-9f4a-4bc6-c505-b88b1bbd4d5d"
   },
   "outputs": [
    {
     "name": "stdout",
     "output_type": "stream",
     "text": [
      "29\n"
     ]
    }
   ],
   "source": [
    "#Write a python program to implement index method using loop. If sub_str is found in my_str then it will print the index\n",
    "# of first occurrence of first character of matching string in my_str:-\n",
    "\n",
    "#Input:- my_str = 'Peter Piper Picked A Peck Of Pickled Peppers.', sub_str = 'Pickl'\n",
    "#Output:- 29\n",
    "my_str ='Peter Piper Picked A Peck Of Pickled Peppers.'\n",
    "sub_str=\"Pickl\"\n",
    "count=0\n",
    "out_str=''\n",
    "for i in my_str:\n",
    "    if i==\" \" or i==\".\":\n",
    "        out_str= ''\n",
    "    else:\n",
    "        out_str += i\n",
    "        count +=1\n",
    "        if out_str == sub_str:\n",
    "            count +=1\n",
    "            print(count)\n",
    "        \n",
    "              "
   ]
  },
  {
   "cell_type": "code",
   "execution_count": 30,
   "metadata": {
    "id": "Kq_fwdb_dvYE"
   },
   "outputs": [],
   "source": [
    "#Write a python program to implement replace method using loop. If sub_str is found in my_str then it will replace the first \n",
    "#occurrence of sub_str with new_str else it will will print sub_str not found:-\n",
    "\n",
    "#Input:- my_str = 'Peter Piper Picked A Peck Of Pickled Peppers.', sub_str = 'Peck', new_str = 'Pack'\n",
    "#Output:- 'Peter Piper Picked A Pack Of Pickled Peppers.'\n"
   ]
  },
  {
   "cell_type": "code",
   "execution_count": null,
   "metadata": {
    "id": "4Qes5D0cdyd1"
   },
   "outputs": [],
   "source": [
    "#Write a python program to find below output (implements rjust and ljust) using loop:-\n",
    "\n",
    "#Input:- 'Peter Piper Picked A Peck Of Pickled Peppers.', sub_str = 'Peck', \n",
    "#Output:- '*********************Peck********************'\n",
    "\n",
    "\n",
    "\n"
   ]
  },
  {
   "cell_type": "code",
   "execution_count": null,
   "metadata": {
    "id": "DsOrb07Od0lR"
   },
   "outputs": [],
   "source": [
    "#Write a python program to find below output using loop:-\n",
    "\n",
    "#Input:- 'This is Python class', sep = ' is', \n",
    "#Output:- ['This', 'is', 'Python class']\n",
    "\n"
   ]
  },
  {
   "cell_type": "code",
   "execution_count": 16,
   "metadata": {
    "id": "jRnBVufmd2Ay"
   },
   "outputs": [
    {
     "name": "stdout",
     "output_type": "stream",
     "text": [
      "112\n",
      "80\n"
     ]
    }
   ],
   "source": []
  }
 ],
 "metadata": {
  "colab": {
   "name": "Conditional_and_loop_assignment.ipynb",
   "provenance": []
  },
  "kernelspec": {
   "display_name": "Python 3",
   "language": "python",
   "name": "python3"
  },
  "language_info": {
   "codemirror_mode": {
    "name": "ipython",
    "version": 3
   },
   "file_extension": ".py",
   "mimetype": "text/x-python",
   "name": "python",
   "nbconvert_exporter": "python",
   "pygments_lexer": "ipython3",
   "version": "3.7.6"
  }
 },
 "nbformat": 4,
 "nbformat_minor": 1
}
