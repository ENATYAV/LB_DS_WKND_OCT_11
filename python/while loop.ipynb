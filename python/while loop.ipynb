{
 "cells": [
  {
   "cell_type": "code",
   "execution_count": 5,
   "metadata": {},
   "outputs": [
    {
     "name": "stdout",
     "output_type": "stream",
     "text": [
      "hello word 1\n",
      "hello word 2\n",
      "hello word 3\n",
      "hello word 4\n",
      "hello word 5\n",
      "hello word 6\n",
      "hello word 7\n",
      "hello word 8\n",
      "hello word 9\n",
      "hello word 10\n"
     ]
    }
   ],
   "source": [
    "# loops are used to repeat same task multiple times\n",
    "# in while loop we initialize variable\n",
    "#syntex : while any conidtion :\n",
    "\n",
    "#example-1-print  numbers 1 to 10\n",
    "\n",
    "i=1\n",
    "while i<=10:\n",
    "    print(f'hello word {i}')\n",
    "    i = i+1  # or i += 1 using comound assignment operator\n",
    "    \n",
    "    \n",
    "# i=None\n",
    "# while i<=10:     # TypeError: '<=' not supported between instances of 'NoneType' and 'int'\n",
    "#     print(f'hello word {i}')\n",
    "#     i += 1"
   ]
  },
  {
   "cell_type": "code",
   "execution_count": 12,
   "metadata": {},
   "outputs": [
    {
     "name": "stdout",
     "output_type": "stream",
     "text": [
      "55\n"
     ]
    }
   ],
   "source": [
    "# Example -2 Sum numbers 1-10( or any)\n",
    "i=0\n",
    "total =0\n",
    "while i<=10:\n",
    "    total= total + i # or total+=i\n",
    "    i+=1\n",
    "print(total)"
   ]
  },
  {
   "cell_type": "code",
   "execution_count": 15,
   "metadata": {},
   "outputs": [
    {
     "name": "stdout",
     "output_type": "stream",
     "text": [
      "enter a number :40\n",
      "sum of 40 number is 820\n"
     ]
    }
   ],
   "source": [
    "# Example-2 do sum of n natual numbers\n",
    "\n",
    "num= eval(input('enter a number :'))\n",
    "i=0\n",
    "total =0\n",
    "while i<=num:\n",
    "    total= total + i # or total+=i\n",
    "    i+=1\n",
    "print(f'sum of {num} number is {total}')"
   ]
  },
  {
   "cell_type": "code",
   "execution_count": 17,
   "metadata": {},
   "outputs": [
    {
     "name": "stdout",
     "output_type": "stream",
     "text": [
      "enter any number : 2345677899\n",
      "sum of 2345677899 is 60\n"
     ]
    }
   ],
   "source": [
    "# example-3 \n",
    "# ask user to input a number contaning more than one digit --example-12345\n",
    "# calculate sum of enter number digits -->1+2+3+4+5\n",
    "\n",
    "num= input('enter any number : ')\n",
    "total= 0\n",
    "i=0   # initialize with 0 because string indexing started from 0\n",
    "while i<=(len(num)-1): \n",
    "    total+= int(num[i])\n",
    "    i+=1\n",
    "print(f'sum of {num} is {total}')\n"
   ]
  },
  {
   "cell_type": "code",
   "execution_count": 7,
   "metadata": {},
   "outputs": [
    {
     "name": "stdout",
     "output_type": "stream",
     "text": [
      "enter your name :navneet yadav\n",
      "n : 2\n",
      "a : 3\n",
      "v : 2\n",
      "e : 2\n",
      "t : 1\n",
      "  : 1\n",
      "y : 1\n",
      "d : 1\n"
     ]
    }
   ],
   "source": [
    "# ecample-3  Ask user to enter name--'Navneet'\n",
    "# output-\n",
    "  # N : 1\n",
    "  # a : 1\n",
    "  # v : 1\n",
    "  # n : 1\n",
    "  # e :2\n",
    "  # t :1\n",
    "\n",
    "name = input('enter your name :')\n",
    "i=0\n",
    "temp_var=\"\" # empty string\n",
    "while i<len(name):\n",
    "    if name[i] not in temp_var:\n",
    "        temp_var+=name[i]\n",
    "        print(f'{name[i]} : {name.count(name[i])}')\n",
    "    i+=1\n",
    "\n",
    "        \n",
    "    \n",
    "  "
   ]
  },
  {
   "cell_type": "code",
   "execution_count": null,
   "metadata": {},
   "outputs": [],
   "source": []
  },
  {
   "cell_type": "code",
   "execution_count": null,
   "metadata": {},
   "outputs": [],
   "source": []
  },
  {
   "cell_type": "code",
   "execution_count": null,
   "metadata": {},
   "outputs": [],
   "source": []
  },
  {
   "cell_type": "code",
   "execution_count": null,
   "metadata": {},
   "outputs": [],
   "source": []
  },
  {
   "cell_type": "code",
   "execution_count": null,
   "metadata": {},
   "outputs": [],
   "source": []
  },
  {
   "cell_type": "code",
   "execution_count": null,
   "metadata": {},
   "outputs": [],
   "source": []
  },
  {
   "cell_type": "code",
   "execution_count": null,
   "metadata": {},
   "outputs": [],
   "source": []
  },
  {
   "cell_type": "code",
   "execution_count": null,
   "metadata": {},
   "outputs": [],
   "source": []
  },
  {
   "cell_type": "code",
   "execution_count": null,
   "metadata": {},
   "outputs": [],
   "source": []
  },
  {
   "cell_type": "code",
   "execution_count": null,
   "metadata": {},
   "outputs": [],
   "source": []
  },
  {
   "cell_type": "code",
   "execution_count": null,
   "metadata": {},
   "outputs": [],
   "source": []
  },
  {
   "cell_type": "code",
   "execution_count": null,
   "metadata": {},
   "outputs": [],
   "source": []
  },
  {
   "cell_type": "code",
   "execution_count": null,
   "metadata": {},
   "outputs": [],
   "source": []
  },
  {
   "cell_type": "code",
   "execution_count": null,
   "metadata": {},
   "outputs": [],
   "source": []
  },
  {
   "cell_type": "code",
   "execution_count": null,
   "metadata": {},
   "outputs": [],
   "source": []
  },
  {
   "cell_type": "code",
   "execution_count": null,
   "metadata": {},
   "outputs": [],
   "source": []
  },
  {
   "cell_type": "code",
   "execution_count": null,
   "metadata": {},
   "outputs": [],
   "source": []
  },
  {
   "cell_type": "code",
   "execution_count": null,
   "metadata": {},
   "outputs": [],
   "source": []
  },
  {
   "cell_type": "code",
   "execution_count": null,
   "metadata": {},
   "outputs": [],
   "source": []
  },
  {
   "cell_type": "code",
   "execution_count": null,
   "metadata": {},
   "outputs": [],
   "source": []
  },
  {
   "cell_type": "code",
   "execution_count": null,
   "metadata": {},
   "outputs": [],
   "source": []
  },
  {
   "cell_type": "code",
   "execution_count": null,
   "metadata": {},
   "outputs": [],
   "source": []
  },
  {
   "cell_type": "code",
   "execution_count": null,
   "metadata": {},
   "outputs": [],
   "source": []
  }
 ],
 "metadata": {
  "kernelspec": {
   "display_name": "Python 3",
   "language": "python",
   "name": "python3"
  },
  "language_info": {
   "codemirror_mode": {
    "name": "ipython",
    "version": 3
   },
   "file_extension": ".py",
   "mimetype": "text/x-python",
   "name": "python",
   "nbconvert_exporter": "python",
   "pygments_lexer": "ipython3",
   "version": "3.7.6"
  }
 },
 "nbformat": 4,
 "nbformat_minor": 4
}
