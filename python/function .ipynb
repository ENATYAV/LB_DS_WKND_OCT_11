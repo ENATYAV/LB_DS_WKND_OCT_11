{
 "cells": [
  {
   "cell_type": "code",
   "execution_count": 2,
   "metadata": {},
   "outputs": [
    {
     "name": "stdout",
     "output_type": "stream",
     "text": [
      "11\n"
     ]
    }
   ],
   "source": [
    "#function can perform task we define\n",
    "# use \"def\" keyword to define function\n",
    "# functions retrun somthing\n",
    "# functuon perfom task when we call function\n",
    "\n",
    "\n",
    "#example-2 add two number\n",
    "\n",
    "def add_two(num1,num2): # num1 & num2 are parameter\n",
    "    return num1+num2 # returning addition of two numbers\n",
    "total= add_two(5,6) # calling function and assignig value to variable, 5 &6 are argument\n",
    "print(total)\n"
   ]
  },
  {
   "cell_type": "code",
   "execution_count": 3,
   "metadata": {},
   "outputs": [
    {
     "name": "stdout",
     "output_type": "stream",
     "text": [
      "enter 1st number :10\n",
      "enter 2nd number :20\n",
      "30\n"
     ]
    }
   ],
   "source": [
    "#example-2: take two number as input and sum\n",
    "a =int(input('enter 1st number :'))\n",
    "b =int(input('enter 2nd number :'))\n",
    "total= add_two(a,b) # calling function and assignig value to variable\n",
    "print(total)"
   ]
  },
  {
   "cell_type": "code",
   "execution_count": 7,
   "metadata": {},
   "outputs": [
    {
     "name": "stdout",
     "output_type": "stream",
     "text": [
      "enter 1st number :Navneet\n",
      "enter 2nd number :Yadav\n",
      "NavneetYadav\n"
     ]
    }
   ],
   "source": [
    "# example:3 take two string as input and add\n",
    "a =input('enter 1st number :')\n",
    "b =input('enter 2nd number :')\n",
    "total= add_two(a,b) # calling function and assignig value to variable\n",
    "print(total)"
   ]
  },
  {
   "cell_type": "code",
   "execution_count": 8,
   "metadata": {},
   "outputs": [
    {
     "name": "stdout",
     "output_type": "stream",
     "text": [
      "enter any name :navneet\n",
      "t\n"
     ]
    }
   ],
   "source": [
    "#example-3 take a string and return its last element\n",
    "\n",
    "name= input('enter any name :')\n",
    "def last_element(a): # a is parameter\n",
    "    return a[-1]\n",
    "print(last_element(name))# name is argument"
   ]
  },
  {
   "cell_type": "code",
   "execution_count": 14,
   "metadata": {},
   "outputs": [
    {
     "name": "stdout",
     "output_type": "stream",
     "text": [
      "enter any number :11\n",
      "number is odd\n",
      "number is odd\n",
      "number is odd\n"
     ]
    }
   ],
   "source": [
    "#example-4 define a function to find number is odd or even\n",
    "\n",
    "num=eval(input('enter any number :'))\n",
    "def odd_even(a):\n",
    "    if a%2==0:\n",
    "        return 'number is even'\n",
    "    else:\n",
    "        return 'number is odd'\n",
    "print(odd_even(num))\n",
    "\n",
    "# second way\n",
    "def odd_even(a):\n",
    "    if a%2==0:   # even will be returned if condition is true \n",
    "        return 'number is even'\n",
    "    return 'number is odd' # odd will be returned if \"if condition\" is not true\n",
    "print(odd_even(num))\n",
    "\n",
    "# third  way\n",
    "def odd_even(a):\n",
    "    return \"number is even\" if a%2==0 else \"number is odd\"\n",
    "print(odd_even(num))\n"
   ]
  },
  {
   "cell_type": "code",
   "execution_count": 17,
   "metadata": {},
   "outputs": [
    {
     "name": "stdout",
     "output_type": "stream",
     "text": [
      "enter any number :11\n",
      "False\n",
      "False\n",
      "False\n"
     ]
    }
   ],
   "source": [
    "# example:\n",
    "\n",
    "num=eval(input('enter any number :'))\n",
    "\n",
    "# 1st method \n",
    "def is_even(a):\n",
    "    if a%2==0:\n",
    "        return True\n",
    "    else:\n",
    "        return False\n",
    "print(is_even(num))\n",
    "\n",
    "# second way\n",
    "def is_even(a):\n",
    "    if a%2==0:\n",
    "        return True\n",
    "    return False\n",
    "print(is_even(num))\n",
    "# third way\n",
    "def is_even(a):\n",
    "    return a%2==0 # will return boolean values, True is number is even & False if number is odd\n",
    "print(is_even(num))"
   ]
  },
  {
   "cell_type": "code",
   "execution_count": 40,
   "metadata": {},
   "outputs": [
    {
     "name": "stdout",
     "output_type": "stream",
     "text": [
      "enter 1st number :11\n",
      "enter 2nd number :22\n",
      "22 is bigger number\n"
     ]
    }
   ],
   "source": [
    "# Example: take two number input and check which is greater\n",
    "\n",
    "num1= eval(input('enter 1st number :'))\n",
    "num2= eval(input('enter 2nd number :'))\n",
    "def bigger_num(a,b):\n",
    "    return a if a >b else  b\n",
    "bigger= bigger_num(num1,num2)\n",
    "print(f\"{bigger} is bigger number\")"
   ]
  },
  {
   "cell_type": "code",
   "execution_count": 39,
   "metadata": {},
   "outputs": [
    {
     "name": "stdout",
     "output_type": "stream",
     "text": [
      "enter first number :11\n",
      "enter second number :4\n",
      "enter third number :12\n",
      "12 is greatest number\n"
     ]
    }
   ],
   "source": [
    "# Example: take three number input and check which is greatest\n",
    "\n",
    "def greatest(a,b,c):\n",
    "    if (a>b and b>c):\n",
    "        return a\n",
    "    elif (a<b and b>c):\n",
    "        return b\n",
    "    return c\n",
    "        \n",
    "num1=eval(input('enter first number :'))\n",
    "num2=eval(input('enter second number :'))\n",
    "num3=eval(input('enter third number :'))\n",
    "\n",
    "greatest_num= greatest(num1,num2,num3)\n",
    "print(f'{greatest_num} is greatest number')\n"
   ]
  },
  {
   "cell_type": "markdown",
   "metadata": {},
   "source": [
    "## function inside function"
   ]
  },
  {
   "cell_type": "code",
   "execution_count": 1,
   "metadata": {},
   "outputs": [
    {
     "name": "stdout",
     "output_type": "stream",
     "text": [
      "enter first number :11\n",
      "enter second number :33\n",
      "enter third number :10\n",
      "33 is greatest number\n"
     ]
    }
   ],
   "source": [
    "# Example: take three number input and check which is greatest\n",
    "\n",
    "# first way\n",
    "def bigger_num(a,b):\n",
    "    return a if a >b else  b\n",
    "def new_greatest(a,b,c):\n",
    "    bigger=bigger_num(a,b)\n",
    "    return bigger_num(bigger,c)\n",
    "\n",
    "# second way\n",
    "\n",
    "def bigger_num(a,b):\n",
    "    return a if a >b else  b\n",
    "def new_greatest(a,b,c):\n",
    "    return bigger_num(bigger_num(a,b),c)\n",
    "\n",
    "# third way\n",
    "def new_greatest(a,b,c):\n",
    "    def bigger_num(x,y):\n",
    "         return x if x>y else y\n",
    "    return bigger_num(bigger_num(a,b),c)\n",
    "\n",
    "\n",
    "num1=eval(input('enter first number :'))\n",
    "num2=eval(input('enter second number :'))\n",
    "num3=eval(input('enter third number :'))\n",
    "\n",
    "greatest_num= new_greatest(num1,num2,num3)\n",
    "print(f'{greatest_num} is greatest number')"
   ]
  },
  {
   "cell_type": "code",
   "execution_count": 6,
   "metadata": {},
   "outputs": [
    {
     "name": "stdout",
     "output_type": "stream",
     "text": [
      "enter any name :naman\n",
      "True\n",
      "True\n",
      "True\n"
     ]
    }
   ],
   "source": [
    "# Example:\n",
    "# define is_palindrome function that take one word as string\n",
    "# returns true if it is palindromeelse return false\n",
    "# palindorme word : madam, naman-->same when we reverse\n",
    "\n",
    "name= input('enter any name :')\n",
    "\n",
    "# first way\n",
    "def is_palindrome(a):\n",
    "    reverse_word= a[::-1]\n",
    "    if a==reverse_word:\n",
    "        return True\n",
    "    else:\n",
    "        return False\n",
    "print(is_palindrome(name))    \n",
    "    \n",
    "# second way:\n",
    "def is_palindrome(a):\n",
    "    reverse_word= a[::-1]\n",
    "    if a==reverse_word:\n",
    "        return True\n",
    "    return False\n",
    "print(is_palindrome(name))\n",
    "# third way:\n",
    "\n",
    "def is_palindrome(a):\n",
    "    return a==a[::-1]\n",
    "\n",
    "print(is_palindrome(name))\n"
   ]
  },
  {
   "cell_type": "code",
   "execution_count": 16,
   "metadata": {},
   "outputs": [
    {
     "name": "stdout",
     "output_type": "stream",
     "text": [
      "enter any number :20\n",
      "0 1 1 2 3 5 8 13 21 34 55 89 144 233 377 610 987 1597 2584 4181 "
     ]
    }
   ],
   "source": [
    "# example : fibonacci series 0 1 1 2 3 5 8 13 21\n",
    "\n",
    "def febonnacci(n):\n",
    "    a=0\n",
    "    b=1\n",
    "    if n == 1:\n",
    "        print(a)\n",
    "    elif n == 2:\n",
    "        print(a, b)\n",
    "    else:\n",
    "        print(a, b, end=\" \")\n",
    "        for i in range(n-2):\n",
    "            c = a+b\n",
    "            a = b\n",
    "            b = c\n",
    "            print(b, end=\" \")\n",
    "num= eval(input('enter any number :'))\n",
    "febonnacci(num) \n",
    "    "
   ]
  },
  {
   "cell_type": "markdown",
   "metadata": {},
   "source": [
    "# Default parameter"
   ]
  },
  {
   "cell_type": "code",
   "execution_count": 7,
   "metadata": {},
   "outputs": [
    {
     "ename": "SyntaxError",
     "evalue": "non-default argument follows default argument (<ipython-input-7-c2241e3de3f3>, line 46)",
     "output_type": "error",
     "traceback": [
      "\u001b[1;36m  File \u001b[1;32m\"<ipython-input-7-c2241e3de3f3>\"\u001b[1;36m, line \u001b[1;32m46\u001b[0m\n\u001b[1;33m    def user_info(first_name, last_name='unknown', age): # No error ,as there is 3 parameter\u001b[0m\n\u001b[1;37m                 ^\u001b[0m\n\u001b[1;31mSyntaxError\u001b[0m\u001b[1;31m:\u001b[0m non-default argument follows default argument\n"
     ]
    }
   ],
   "source": [
    "#example:\n",
    "\n",
    "def user_info(first_name, last_name, age): # No error ,as there is 3 agument and 3 parameter is passed\n",
    "    print(f'your fist name is {first_name}')\n",
    "    print(f'your fist name is {last_name}')\n",
    "    print(f'your fist name is {age}')\n",
    "user_info('Navneet', 'Yadav', 36)\n",
    "\n",
    "#example: if we donot pass any one parameter like age than error will come as below\n",
    "# TypeError: user_info() missing 1 required positional argument: 'age'\n",
    "\n",
    "# def user_info(first_name, last_name, age): # No error ,as there is 3 agument and 3 parameter is passed\n",
    "#     print(f'your fist name is {first_name}')\n",
    "#     print(f'your fist name is {last_name}')\n",
    "#     print(f'your fist name is {age}')\n",
    "# user_info('Navneet', 'Yadav')\n",
    "\n",
    "# avoid error we define default argement as 'None' as below\n",
    "# mean depend on user either pass parameter or not\n",
    "\n",
    "\n",
    "def user_info(first_name, last_name, age= None): # No error ,as there is 3 parameter \n",
    "    print(f'your fist name is {first_name}')\n",
    "    print(f'your fist name is {last_name}')\n",
    "    print(f'your fist name is {age}')\n",
    "user_info('Navneet', 'Yadav')   # only two argument are passed but no error\n",
    "\n",
    "# if we pass any parameter than that value will be assigned to argement\n",
    "\n",
    "def user_info(first_name, last_name, age= None): # No error ,as there is 3 agument and 3 parameter is passed\n",
    "    print(f'your fist name is {first_name}')\n",
    "    print(f'your fist name is {last_name}')\n",
    "    print(f'your fist name is {age}')\n",
    "user_info('Navneet', 'Yadav',36)\n",
    "\n",
    "# default parameter can be defined for multiple arguments\n",
    "def user_info(first_name, last_name='unknown', age= None): # No error ,as there is 3 parameter \n",
    "    print(f'your fist name is {first_name}')\n",
    "    print(f'your fist name is {last_name}')\n",
    "    print(f'your fist name is {age}')\n",
    "user_info('Navneet', 'Yadav',24)   # only two argument are passed but no error\n",
    "\n",
    "\n",
    "# we cannot define normal parameter after default parameter\n",
    "#SyntaxError: non-default argument follows default argument  will come in below \n",
    "\n",
    "# def user_info(first_name, last_name='unknown', age): # No error ,as there is 3 parameter \n",
    "#     print(f'your fist name is {first_name}')\n",
    "#     print(f'your fist name is {last_name}')\n",
    "#     print(f'your fist name is {age}')\n",
    "# user_info('Navneet', 'Yadav',24)  \n",
    "\n"
   ]
  },
  {
   "cell_type": "markdown",
   "metadata": {},
   "source": [
    "# Variable scope"
   ]
  },
  {
   "cell_type": "code",
   "execution_count": 14,
   "metadata": {},
   "outputs": [
    {
     "name": "stdout",
     "output_type": "stream",
     "text": [
      "10\n",
      "7\n",
      "10\n",
      "7\n"
     ]
    }
   ],
   "source": [
    "# Variable defined inside function are called local variable\n",
    "# variables defined outside function are called global variable\n",
    "#local variables has scope inside function only, we cannot access variable outside the function\n",
    "\n",
    "# def func1():\n",
    "#     x=10 # \n",
    "#     return x\n",
    "# def func2():\n",
    "#     print(x)\n",
    "# func2()  # \"NameError: name 'x' is not defined\" will come, X variable scope is inside of func1 only\n",
    "# print(x) # \"NameError: name 'x' is not defined\" will come, X variable scope is inside of func1 only\n",
    "# print(func1()) # no error\n",
    "\n",
    "x=10  # global variable\n",
    "def func():\n",
    "    x=7 # local variable\n",
    "    return x\n",
    "print(x) \n",
    "print(func())\n",
    "\n",
    "\n",
    "\n"
   ]
  },
  {
   "cell_type": "code",
   "execution_count": 16,
   "metadata": {},
   "outputs": [
    {
     "name": "stdout",
     "output_type": "stream",
     "text": [
      "7\n",
      "7\n",
      "10\n",
      "7\n"
     ]
    }
   ],
   "source": [
    "# we can change global variable value with local variable\n",
    "# we rarely change global variable value with local variable\n",
    "\n",
    "x=10\n",
    "def func():\n",
    "    global x\n",
    "    x=7 # local variable\n",
    "    return x\n",
    "print(x)\n",
    "print(func())\n",
    "\n",
    "x=10\n",
    "def func():\n",
    "    global x\n",
    "    x=7 # local variable\n",
    "    return x\n",
    "print(func()) # x variable will be changed by local variable as function is called and x value is replaced\n",
    "print(x) \n",
    "\n",
    "\n"
   ]
  }
 ],
 "metadata": {
  "kernelspec": {
   "display_name": "Python 3",
   "language": "python",
   "name": "python3"
  },
  "language_info": {
   "codemirror_mode": {
    "name": "ipython",
    "version": 3
   },
   "file_extension": ".py",
   "mimetype": "text/x-python",
   "name": "python",
   "nbconvert_exporter": "python",
   "pygments_lexer": "ipython3",
   "version": "3.7.6"
  }
 },
 "nbformat": 4,
 "nbformat_minor": 4
}
