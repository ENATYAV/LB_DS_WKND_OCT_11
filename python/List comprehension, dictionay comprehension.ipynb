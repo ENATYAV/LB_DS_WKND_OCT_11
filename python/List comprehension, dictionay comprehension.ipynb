{
 "cells": [
  {
   "cell_type": "markdown",
   "metadata": {},
   "source": [
    "# List comprehension"
   ]
  },
  {
   "cell_type": "code",
   "execution_count": 1,
   "metadata": {},
   "outputs": [
    {
     "name": "stdout",
     "output_type": "stream",
     "text": [
      "[1, 4, 9, 16, 25, 36, 49, 64, 81, 100]\n",
      "[1, 4, 9, 16, 25, 36, 49, 64, 81, 100]\n"
     ]
    }
   ],
   "source": [
    "# from list comprehension we can create list in one line\n",
    "\n",
    "# create list of of square from 1 to 10\n",
    "\n",
    "# normal method\n",
    "squares= []\n",
    "for i in range(1,11):\n",
    "    squares.append(i**2)\n",
    "print(squares)\n",
    "\n",
    "# from list comprehension\n",
    "\n",
    "squares=[i**2  for i in range(1,11)]\n",
    "print(squares)"
   ]
  },
  {
   "cell_type": "code",
   "execution_count": 2,
   "metadata": {},
   "outputs": [
    {
     "name": "stdout",
     "output_type": "stream",
     "text": [
      "[-1, -2, -3, -4, -5, -6, -7, -8, -9, -10]\n",
      "[-1, -2, -3, -4, -5, -6, -7, -8, -9, -10]\n"
     ]
    }
   ],
   "source": [
    "#Example-2: create a negative list from numbers 1 to 10\n",
    "\n",
    "# normal method\n",
    "squares= []\n",
    "for i in range(1,11):\n",
    "    squares.append(-i)\n",
    "print(squares)\n",
    "\n",
    "# from list comprehension\n",
    "\n",
    "squares=[-i  for i in range(1,11)]\n",
    "print(squares)\n"
   ]
  },
  {
   "cell_type": "code",
   "execution_count": 5,
   "metadata": {},
   "outputs": [
    {
     "name": "stdout",
     "output_type": "stream",
     "text": [
      "['n', 's', 'm']\n",
      "['n', 's', 'm']\n"
     ]
    }
   ],
   "source": [
    "# Example#3 \n",
    "# input # ['navneet', 'smita','mridul']\n",
    "# output#['n','s','m']\n",
    "\n",
    "names=  ['navneet', 'smita','mridul']\n",
    "\n",
    "# normal method\n",
    "first_char=[]\n",
    "for i in names:\n",
    "    first_char.append(i[0])\n",
    "print(first_char)\n",
    "\n",
    "# list comprehension\n",
    "first_char= [i[0] for i in names]\n",
    "print(first_char)"
   ]
  },
  {
   "cell_type": "code",
   "execution_count": 7,
   "metadata": {},
   "outputs": [
    {
     "name": "stdout",
     "output_type": "stream",
     "text": [
      "['cba', 'vut', 'zyx']\n",
      "['cba', 'vut', 'zyx']\n"
     ]
    }
   ],
   "source": [
    "# exercise-1\n",
    "# define a function that takes a list of strings\n",
    "# and return list containing reverse of every strings\n",
    "# input-->['abc','tuv','xyz']\n",
    "#output- >['cba','vut','zyx']\n",
    "\n",
    "#Normal method\n",
    "lst=['abc','tuv','xyz']\n",
    "\n",
    "def revese_lst(l):\n",
    "    new_lst=[]\n",
    "    for i in lst:\n",
    "        new_lst.append(i[::-1])\n",
    "    return new_lst\n",
    "print(revese_lst(lst))\n",
    "\n",
    "# list comprehension\n",
    "def revese_lst(l):\n",
    "    return [i[::-1] for i in lst]\n",
    "print(revese_lst(lst))"
   ]
  },
  {
   "cell_type": "markdown",
   "metadata": {},
   "source": [
    "## list comprehension with if statement"
   ]
  },
  {
   "cell_type": "code",
   "execution_count": 13,
   "metadata": {},
   "outputs": [
    {
     "name": "stdout",
     "output_type": "stream",
     "text": [
      "[2, 4, 6, 8, 10]\n",
      "[2, 4, 6, 8, 10]\n",
      "[2, 4, 6, 8, 10]\n"
     ]
    }
   ],
   "source": [
    "#Example: create list with even numbers\n",
    "\n",
    "numbers= list(range(1,11))\n",
    "\n",
    "# normal method\n",
    "even_num=[]\n",
    "for i in numbers:\n",
    "    if i%2==0:\n",
    "        even_num.append(i)\n",
    "print(even_num)\n",
    "\n",
    "# list comprehension\n",
    "\n",
    "even_num= [i  for i in numbers if i%2==0]\n",
    "print(even_num)\n",
    "#  or\n",
    "\n",
    "even_num= [i  for i in range(1,11) if i%2==0]\n",
    "print(even_num)\n"
   ]
  },
  {
   "cell_type": "code",
   "execution_count": 16,
   "metadata": {},
   "outputs": [
    {
     "name": "stdout",
     "output_type": "stream",
     "text": [
      "['1', '1.0', '2']\n",
      "['1', '1.0', '2']\n"
     ]
    }
   ],
   "source": [
    "# exercise-\n",
    "# define a function that take list with hetrogenous data type\n",
    "# returns list with with numbers(float or int)\n",
    "# input --> [True, False,None,[1,3],(4,5),1,1.0,2]\n",
    "# output-->['1','1.0','2']\n",
    "\n",
    "# normal method\n",
    "def new_lst(l):\n",
    "    num_str= []\n",
    "    for i in l:\n",
    "        if type(i)== int or type(i)==float:\n",
    "            num_str.append(str(i))\n",
    "    return num_str\n",
    "mixed_lst=[True, False,None,[1,3],(4,5),1,1.0,2]\n",
    "print(new_lst(mixed_lst))\n",
    "\n",
    "# list comprehension\n",
    "def new_lst(l):\n",
    "    return [str(i) for i in l if (type(i)== int or type(i)==float) ]\n",
    "mixed_lst=[True, False,None,[1,3],(4,5),1,1.0,2]\n",
    "print(new_lst(mixed_lst))   "
   ]
  },
  {
   "cell_type": "markdown",
   "metadata": {},
   "source": [
    "## list comprehension with if-else"
   ]
  },
  {
   "cell_type": "code",
   "execution_count": 20,
   "metadata": {},
   "outputs": [
    {
     "name": "stdout",
     "output_type": "stream",
     "text": [
      "[-1, 4, -3, 8, -5, 12, -7, 16, -9, 20]\n",
      "[-1, 4, -3, 8, -5, 12, -7, 16, -9, 20]\n"
     ]
    }
   ],
   "source": [
    "# exampl2:\n",
    "# input-->[1,2,3,4,5,6,7,8,9,10]\n",
    "# output-->[-1,4,-1,8,-5,12,-7,16,-9,20]\n",
    "\n",
    "# Normal method\n",
    "nums=[1,2,3,4,5,6,7,8,9,10]\n",
    "def eve_odd(l):\n",
    "    new_lst=[]\n",
    "    for i in l:\n",
    "        if i%2==0:\n",
    "            new_lst.append(i*2)\n",
    "        else:\n",
    "            new_lst.append(-i)\n",
    "    return new_lst\n",
    "print(eve_odd(nums))\n",
    "\n",
    "\n",
    "# list comprehension\n",
    "def eve_odd(l):\n",
    "    return [ i*2 if (i%2==0) else -i for i in l]\n",
    "print(eve_odd(nums))"
   ]
  },
  {
   "cell_type": "markdown",
   "metadata": {},
   "source": [
    "# list comprehension in nested list"
   ]
  },
  {
   "cell_type": "code",
   "execution_count": 37,
   "metadata": {},
   "outputs": [
    {
     "name": "stdout",
     "output_type": "stream",
     "text": [
      "[[1, 2, 3], [1, 2, 3], [1, 2, 3]]\n",
      "[[1, 2, 3], [1, 2, 3], [1, 2, 3]]\n"
     ]
    }
   ],
   "source": [
    " # outpur-->example=[[1,2,3], [1,2,3], [1,2,3]]\n",
    "\n",
    "# normal method\n",
    "nested_lst=[]\n",
    "for j in range(3):\n",
    "    new_lst=[]\n",
    "    for i in range(1,4):\n",
    "        new_lst.append(i)\n",
    "    nested_lst.append(new_lst)\n",
    "print(nested_lst)\n",
    "\n",
    "# list comprehension\n",
    "nested_comp= [[i for i in range(1,4)] for j in range(3)]\n",
    "print(nested_comp)"
   ]
  },
  {
   "cell_type": "markdown",
   "metadata": {},
   "source": [
    "# Dictionay comprehension"
   ]
  },
  {
   "cell_type": "code",
   "execution_count": 39,
   "metadata": {},
   "outputs": [
    {
     "name": "stdout",
     "output_type": "stream",
     "text": [
      "{1: 1, 2: 4, 3: 9, 4: 16}\n",
      "{1: 1, 2: 4, 3: 9, 4: 16}\n"
     ]
    }
   ],
   "source": [
    "# square={1:1,2:4,3:9,4:16}\n",
    "\n",
    "# nromal method\n",
    "square={}\n",
    "for i in range(1,5):\n",
    "    square[i]=i**2\n",
    "print(square)\n",
    "\n",
    "# dictionay comprehension\n",
    "square={i:i**2 for i in range(1,5)}\n",
    "print(square)"
   ]
  },
  {
   "cell_type": "code",
   "execution_count": 42,
   "metadata": {},
   "outputs": [
    {
     "name": "stdout",
     "output_type": "stream",
     "text": [
      "{'n': 2, 'a': 1, 'v': 1, 'e': 2, 't': 1}\n",
      "{'n': 2, 'a': 1, 'v': 1, 'e': 2, 't': 1}\n"
     ]
    }
   ],
   "source": [
    "#example-2\n",
    "# 'navneet'\n",
    "\n",
    "# nromal method\n",
    "name='navneet'\n",
    "char_count={}\n",
    "for i in name:\n",
    "    char_count[i]= name.count(i)\n",
    "print(char_count)\n",
    "\n",
    "# dictionary comprehension\n",
    "char_count={i:name.count(i) for i in name}\n",
    "print(char_count)"
   ]
  },
  {
   "cell_type": "markdown",
   "metadata": {},
   "source": [
    "### dictionay comprehension with if-else"
   ]
  },
  {
   "cell_type": "code",
   "execution_count": 47,
   "metadata": {},
   "outputs": [
    {
     "name": "stdout",
     "output_type": "stream",
     "text": [
      "{1: 'odd', 2: 'even', 3: 'odd', 4: 'even'}\n",
      "{1: 'odd', 2: 'even', 3: 'odd', 4: 'even'}\n"
     ]
    }
   ],
   "source": [
    "# create dictionary like\n",
    "# {1:'odd',2:'even',3:'odd',4:'even'}\n",
    "\n",
    "# normal method\n",
    "num=[1,2,3,4]\n",
    "odd_even={}\n",
    "for i in num:\n",
    "    if i%2==0:\n",
    "        odd_even[i]='even'\n",
    "    else:\n",
    "         odd_even[i]='odd'\n",
    "print(odd_even)\n",
    "\n",
    "# dictionay comprehension\n",
    "odd_even={ i:('even' if (i%2==0) else 'odd') for i in num}\n",
    "print(odd_even)"
   ]
  },
  {
   "cell_type": "markdown",
   "metadata": {},
   "source": [
    "# set comprehension`"
   ]
  },
  {
   "cell_type": "code",
   "execution_count": 55,
   "metadata": {},
   "outputs": [
    {
     "name": "stdout",
     "output_type": "stream",
     "text": [
      "{64, 1, 4, 36, 100, 9, 16, 49, 81, 25}\n",
      "{64, 1, 4, 36, 100, 9, 16, 49, 81, 25}\n"
     ]
    }
   ],
   "source": [
    "# create set with square\n",
    "\n",
    "# normal method\n",
    "square= set()\n",
    "for i in range(1,11):\n",
    "    square.add(i**2)\n",
    "print(square)\n",
    "\n",
    "# set comprehension\n",
    "square={i**2 for i in range(1,11)}\n",
    "print(square)"
   ]
  },
  {
   "cell_type": "code",
   "execution_count": 54,
   "metadata": {},
   "outputs": [
    {
     "name": "stdout",
     "output_type": "stream",
     "text": [
      "()\n"
     ]
    }
   ],
   "source": []
  },
  {
   "cell_type": "code",
   "execution_count": null,
   "metadata": {},
   "outputs": [],
   "source": []
  }
 ],
 "metadata": {
  "kernelspec": {
   "display_name": "Python 3",
   "language": "python",
   "name": "python3"
  },
  "language_info": {
   "codemirror_mode": {
    "name": "ipython",
    "version": 3
   },
   "file_extension": ".py",
   "mimetype": "text/x-python",
   "name": "python",
   "nbconvert_exporter": "python",
   "pygments_lexer": "ipython3",
   "version": "3.7.6"
  }
 },
 "nbformat": 4,
 "nbformat_minor": 4
}
