{
 "cells": [
  {
   "cell_type": "code",
   "execution_count": null,
   "metadata": {},
   "outputs": [],
   "source": [
    "#keywords used in exception handeling\n",
    "# try-->the code which is supposed to give error\n",
    "# except-->the code which you want to execute if error is raised\n",
    "#else -->the code which you want to execute if error is not raised\n",
    "#finally-->clearnup code\n",
    "#raise--> used to raise for define user defined execption"
   ]
  },
  {
   "cell_type": "markdown",
   "metadata": {},
   "source": [
    "# types for error\n",
    "#1. compile time error-->syntex error, indendation error etc\n",
    "#2. run time error-->name error, type error,value error, zeroDivisionError etc\n",
    "#3. semantic error or logical error-->arised to to logical error in program, these may execute program  and not hamper flow of program. may not get expected result. \n",
    "#Note: syntex and sematic error cannot be handeled. We need to do changes in program"
   ]
  },
  {
   "cell_type": "code",
   "execution_count": 1,
   "metadata": {},
   "outputs": [
    {
     "name": "stdout",
     "output_type": "stream",
     "text": [
      "20\n"
     ]
    }
   ],
   "source": [
    "#example of sematic error\n",
    "a=10\n",
    "b=2\n",
    "# do addition \n",
    "print(a*b) # instead of addition we are doing multiplication. code is run and no error given. to resolve this type of problem need to modify code"
   ]
  },
  {
   "cell_type": "code",
   "execution_count": null,
   "metadata": {},
   "outputs": [],
   "source": [
    "# what is exception?\n",
    "# run time error which can be handled are called exceptipon"
   ]
  },
  {
   "cell_type": "code",
   "execution_count": 3,
   "metadata": {},
   "outputs": [
    {
     "name": "stdout",
     "output_type": "stream",
     "text": [
      "Sorry! you are accessing wrong key\n"
     ]
    }
   ],
   "source": [
    "# example:\n",
    "d={1:100,2:200,3:300,'b':'navneet'}\n",
    "# print(d['a']) # will give  KeyError: 'a' , as key is no available\n",
    "try:\n",
    "    print(d['a'])\n",
    "except KeyError:\n",
    "    print('Sorry! you are accessing wrong key')\n",
    "    "
   ]
  },
  {
   "cell_type": "code",
   "execution_count": 8,
   "metadata": {},
   "outputs": [
    {
     "name": "stdout",
     "output_type": "stream",
     "text": [
      "enter a dictionay: {1:100,2:200,'a':'python'}\n",
      "enter key to access : 'b'\n",
      "Sorry! you are accessing wrong key\n"
     ]
    }
   ],
   "source": [
    "my_inp=eval(input('enter a dictionay: '))\n",
    "key =eval(input('enter key to access : '))\n",
    "# print(d['a']) # will give  KeyError: 'a' , as key is no available\n",
    "try:\n",
    "    print(my_inp[key])\n",
    "except KeyError:\n",
    "    print('Sorry! you are accessing wrong key')"
   ]
  },
  {
   "cell_type": "code",
   "execution_count": 9,
   "metadata": {},
   "outputs": [
    {
     "name": "stdout",
     "output_type": "stream",
     "text": [
      "enter a dictionay: {1:100,2:200,'a':'python'}\n",
      "enter key to access : 'a'\n",
      "python\n",
      "{1: 100, 2: 200, 'a': 'class'}\n"
     ]
    }
   ],
   "source": [
    "my_inp=eval(input('enter a dictionay: '))\n",
    "key =eval(input('enter key to access : '))\n",
    "# print(d['a']) # will give  KeyError: 'a' , as key is no available\n",
    "try:\n",
    "    print(my_inp[key])\n",
    "except KeyError:\n",
    "    print('Sorry! you are accessing wrong key')\n",
    "else:\n",
    "    my_inp[key]='class'\n",
    "    print(my_inp)"
   ]
  },
  {
   "cell_type": "code",
   "execution_count": 10,
   "metadata": {},
   "outputs": [
    {
     "name": "stdout",
     "output_type": "stream",
     "text": [
      "enter a dictionay: {1:100,2:200,'a':'python'}\n",
      "enter key to access : 'a'\n",
      "python\n",
      "{1: 100, 2: 200, 'a': 'class'}\n"
     ]
    }
   ],
   "source": [
    "my_inp=eval(input('enter a dictionay: '))\n",
    "key =eval(input('enter key to access : '))\n",
    "# print(d['a']) # will give  KeyError: 'a' , as key is no available\n",
    "try:\n",
    "    print(my_inp[key])\n",
    "except KeyError:\n",
    "    print('Sorry! you are accessing wrong key')\n",
    "else:\n",
    "    my_inp[key]='class'\n",
    "    print(my_inp)\n",
    "finally:\n",
    "    del my_inp\n",
    "    del key "
   ]
  },
  {
   "cell_type": "code",
   "execution_count": 12,
   "metadata": {},
   "outputs": [
    {
     "name": "stdout",
     "output_type": "stream",
     "text": [
      "enter ist number : 10\n",
      "enter 2nd number : 0\n",
      "number cannot be devided by zero\n"
     ]
    }
   ],
   "source": [
    "a= int(input('enter ist number : '))\n",
    "b= int(input('enter 2nd number : '))\n",
    "try:\n",
    "    c=a/b # \n",
    "    print(a)\n",
    "    print(b)\n",
    "    print(c)\n",
    "except:\n",
    "    print('number cannot be devided by zero')\n"
   ]
  },
  {
   "cell_type": "code",
   "execution_count": 15,
   "metadata": {},
   "outputs": [
    {
     "name": "stdout",
     "output_type": "stream",
     "text": [
      "enter ist number : 10\n",
      "enter 2nd number : 0\n",
      "number cannot be devided by zero\n",
      "10\n",
      "0\n",
      "enter ist number : 10\n",
      "enter 2nd number : 0\n",
      "number cannot be devided by zero\n",
      "10\n",
      "0\n",
      "enter ist number : 10\n",
      "enter 2nd number : 0\n",
      "division by zero\n",
      "10\n",
      "0\n"
     ]
    }
   ],
   "source": [
    "a= int(input('enter ist number : '))\n",
    "b= int(input('enter 2nd number : '))\n",
    "try:\n",
    "    c=a/b # \n",
    "except:\n",
    "    print('number cannot be devided by zero')\n",
    "else:\n",
    "    print(c)\n",
    "print(a)\n",
    "print(b)\n",
    "\n",
    "####### OR ##################\n",
    "a= int(input('enter ist number : '))\n",
    "b= int(input('enter 2nd number : '))\n",
    "try:\n",
    "    c=a/b # \n",
    "except ZeroDivisionError: # if we donot not know which error will occur than can use default 'Exception' as error\n",
    "    print('number cannot be devided by zero')\n",
    "else:\n",
    "    print(c)\n",
    "print(a)\n",
    "print(b)\n",
    "\n",
    "############## OR ####################\n",
    "\n",
    "####### OR ##################\n",
    "a= int(input('enter ist number : '))\n",
    "b= int(input('enter 2nd number : '))\n",
    "try:\n",
    "    c=a/b # \n",
    "except Exception as e: # if we donot not know which error will occur than can use default 'Exception' as error\n",
    "    print(e) # if error will occur than e will print default message automatically , linke 'division by zero' because error ZeroDivisionError has default message\n",
    "else:\n",
    "    print(c)\n",
    "print(a)\n",
    "print(b)\n",
    "\n"
   ]
  },
  {
   "cell_type": "code",
   "execution_count": 16,
   "metadata": {},
   "outputs": [
    {
     "name": "stdout",
     "output_type": "stream",
     "text": [
      "enter ist number : 10\n",
      "enter 2nd number : a\n",
      "invalid literal for int() with base 10: 'a'\n",
      "10\n",
      "0\n"
     ]
    }
   ],
   "source": [
    "a= int(input('enter ist number : '))\n",
    "\n",
    "try:\n",
    "    b= int(input('enter 2nd number : ')) # if we will not enter int than will give 'ValueError'\n",
    "    c=a/b #                 # if b will be entered zero than 'ZeroDivisionError'  will come\n",
    "except (ZeroDivisionError , ValueError) as e: # # we can metion multiple error which may occur\n",
    "    print(e) \n",
    "else:\n",
    "    print(c)\n",
    "print(a)\n",
    "print(b)"
   ]
  },
  {
   "cell_type": "code",
   "execution_count": 18,
   "metadata": {},
   "outputs": [
    {
     "name": "stdout",
     "output_type": "stream",
     "text": [
      "enter ist number : 10\n",
      "enter 2nd number : 0\n",
      "division by zero\n",
      "10\n",
      "0\n",
      "enter ist number : 10\n",
      "enter 2nd number : 0\n",
      "division by zero\n",
      "10\n",
      "0\n"
     ]
    }
   ],
   "source": [
    "a= int(input('enter ist number : '))\n",
    "try:\n",
    "    b= int(input('enter 2nd number : ')) # if we will not enter int than will give 'ValueError'\n",
    "    c=a/b #                 # if b will be entered zero than 'ZeroDivisionError'  will come\n",
    "    print(x)                # this will give 'NameError' as x is not defind\n",
    "except (ZeroDivisionError , ValueError, Exception) as e: # # we can metion multiple error which may occur\n",
    "    print(e) \n",
    "else:\n",
    "    print(c)\n",
    "print(a)\n",
    "print(b)\n",
    "\n",
    "########### OR #####################\n",
    "\n",
    "a= int(input('enter ist number : '))\n",
    "try:\n",
    "    b= int(input('enter 2nd number : ')) # if we will not enter int than will give 'ValueError'\n",
    "    c=a/b #                 # if b will be entered zero than 'ZeroDivisionError'  will come\n",
    "    print(x)                # this will give 'NameError' as x is not defind\n",
    "except (ZeroDivisionError , ValueError, NameError) as e: # # we can metion multiple error which may occur\n",
    "    print(e) \n",
    "else:\n",
    "    print(c)\n",
    "print(a)\n",
    "print(b)"
   ]
  },
  {
   "cell_type": "code",
   "execution_count": 21,
   "metadata": {},
   "outputs": [
    {
     "name": "stdout",
     "output_type": "stream",
     "text": [
      "enter ist number : 10\n",
      "enter 2nd number : 'a'\n",
      "unsupported operand type(s) for /: 'int' and 'str'\n",
      "10\n",
      "a\n"
     ]
    }
   ],
   "source": [
    "a= eval(input('enter ist number : '))\n",
    "b= eval(input('enter 2nd number : '))\n",
    "try:\n",
    "    c=a/b #         # will give 'TypeError ' if numbers will not int & float\n",
    "except TypeError as t: \n",
    "    print(t) \n",
    "else:\n",
    "    print(c)\n",
    "print(a)\n",
    "print(b)"
   ]
  },
  {
   "cell_type": "code",
   "execution_count": null,
   "metadata": {},
   "outputs": [],
   "source": [
    "# default except block should be in last\n",
    "# parent excetion should be after child exception as per exception hierachy\n",
    "\n",
    "a= int(input('enter ist number : '))\n",
    "try:\n",
    "    b= int(input('enter 2nd number : ')) # if we will not enter int than will give 'ValueError'\n",
    "    c=a/b #                 # if b will be entered zero than 'ZeroDivisionError'  will come\n",
    "    print(x)                # this will give 'NameError' as x is not defind\n",
    "except ZeroDivisionError as e:\n",
    "    print(e) \n",
    "except  ValueError as e:\n",
    "    print(e)\n",
    "except Exception as e:\n",
    "    print(e)\n",
    "except:\n",
    "    print('some other error')\n",
    "else:\n",
    "    print(c)\n",
    "print(a)\n",
    "print(b)"
   ]
  },
  {
   "cell_type": "markdown",
   "metadata": {},
   "source": [
    "# user define exception"
   ]
  },
  {
   "cell_type": "code",
   "execution_count": 26,
   "metadata": {},
   "outputs": [
    {
     "name": "stdout",
     "output_type": "stream",
     "text": [
      "enter an amount to deposit : 10000\n",
      "Amount deposited\n"
     ]
    }
   ],
   "source": [
    "class myexception(Exception): # inhereting in partent exception\n",
    "    def __int__(self, msg):\n",
    "        self.msg= msg\n",
    "def amount_deposit(amt):\n",
    "    if amt>49999:\n",
    "        raise myexception('Need PAN card')\n",
    "    else:\n",
    "        print('Amount deposited')\n",
    "amount=eval(input('enter an amount to deposit : '))\n",
    "try:\n",
    "    amount_deposit(amount)\n",
    "except myexception as e:\n",
    "    print(e)"
   ]
  },
  {
   "cell_type": "code",
   "execution_count": 27,
   "metadata": {},
   "outputs": [
    {
     "name": "stdout",
     "output_type": "stream",
     "text": [
      "enter an amount to deposit : 50000\n",
      "Need PAN card\n",
      "enter PAN numberACLPY8973F\n",
      "thanks for submitting the PAN will review your cash\n"
     ]
    }
   ],
   "source": [
    "class myexception(Exception): # inhereting in partent exception\n",
    "    def __int__(self, msg):\n",
    "        self.msg= msg\n",
    "        \n",
    "def amount_deposit(amt):\n",
    "    if amt>49999:\n",
    "        raise myexception('Need PAN card')\n",
    "    else:\n",
    "        print('Amount deposited')\n",
    "amount=eval(input('enter an amount to deposit : '))\n",
    "\n",
    "def submit_pan(p):\n",
    "    if len(p)==10:\n",
    "        print('thanks for submitting the PAN will review your cash')\n",
    "    else:\n",
    "        raise myexception('wrong pan number')\n",
    "try:\n",
    "    amount_deposit(amount)\n",
    "except myexception as e:\n",
    "    print(e)\n",
    "    try:\n",
    "        pan= input('enter PAN number')\n",
    "        submit_pan(pan)\n",
    "    except myexception as e:\n",
    "        print(e)"
   ]
  },
  {
   "cell_type": "code",
   "execution_count": null,
   "metadata": {},
   "outputs": [],
   "source": []
  },
  {
   "cell_type": "code",
   "execution_count": null,
   "metadata": {},
   "outputs": [],
   "source": []
  },
  {
   "cell_type": "code",
   "execution_count": null,
   "metadata": {},
   "outputs": [],
   "source": []
  }
 ],
 "metadata": {
  "kernelspec": {
   "display_name": "Python 3",
   "language": "python",
   "name": "python3"
  },
  "language_info": {
   "codemirror_mode": {
    "name": "ipython",
    "version": 3
   },
   "file_extension": ".py",
   "mimetype": "text/x-python",
   "name": "python",
   "nbconvert_exporter": "python",
   "pygments_lexer": "ipython3",
   "version": "3.7.6"
  }
 },
 "nbformat": 4,
 "nbformat_minor": 4
}
