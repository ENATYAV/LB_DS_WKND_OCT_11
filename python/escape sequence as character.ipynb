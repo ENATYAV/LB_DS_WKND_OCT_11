{
 "cells": [
  {
   "cell_type": "markdown",
   "metadata": {},
   "source": [
    "## escape sequences as character\n",
    "   This is \\\\ doublebacslash\n",
    "   this is /\\/\\/\\/\\ mountain\n",
    "   he is  awesome(use escape sequence instead of manual spaces)\n",
    "   \\\"\\n\\t\\' ( print this as output)"
   ]
  },
  {
   "cell_type": "markdown",
   "metadata": {},
   "source": [
    "# "
   ]
  },
  {
   "cell_type": "code",
   "execution_count": 1,
   "metadata": {},
   "outputs": [
    {
     "name": "stdout",
     "output_type": "stream",
     "text": [
      "this is \\\\ double backslash\n",
      "this is /\\/\\/\\/\\ double backslash\n",
      "this is \u0007wesome\n",
      "\\\"\\n\\'\n"
     ]
    }
   ],
   "source": [
    "print('this is \\\\\\\\ double backslash')\n",
    "print('this is /\\\\/\\\\/\\\\/\\\\ double backslash')\n",
    "print('this is \\awesome')\n",
    "print('\\\\\"\\\\n\\\\\\'')"
   ]
  },
  {
   "cell_type": "code",
   "execution_count": null,
   "metadata": {},
   "outputs": [],
   "source": []
  }
 ],
 "metadata": {
  "kernelspec": {
   "display_name": "Python 3",
   "language": "python",
   "name": "python3"
  },
  "language_info": {
   "codemirror_mode": {
    "name": "ipython",
    "version": 3
   },
   "file_extension": ".py",
   "mimetype": "text/x-python",
   "name": "python",
   "nbconvert_exporter": "python",
   "pygments_lexer": "ipython3",
   "version": "3.7.6"
  }
 },
 "nbformat": 4,
 "nbformat_minor": 4
}
