{
 "cells": [
  {
   "cell_type": "markdown",
   "metadata": {},
   "source": [
    "# first class function/closures/function returning function"
   ]
  },
  {
   "cell_type": "code",
   "execution_count": 7,
   "metadata": {},
   "outputs": [
    {
     "name": "stdout",
     "output_type": "stream",
     "text": [
      "4\n",
      "4\n",
      "square\n",
      "square\n",
      "1720304010152\n",
      "1720304010152\n"
     ]
    }
   ],
   "source": [
    "def square(a):\n",
    "    return a**2\n",
    "s= square(2) # function is called and return value is assigned to variable\n",
    "print(s)\n",
    "\n",
    "var= square # function is assigned to variable but not called\n",
    "print(var(2)) # now var is working as function\n",
    "\n",
    "print(var.__name__)\n",
    "print(square.__name__)\n",
    "print(id(var))\n",
    "print(id(square))\n"
   ]
  },
  {
   "cell_type": "markdown",
   "metadata": {},
   "source": [
    "## pass function as argument"
   ]
  },
  {
   "cell_type": "code",
   "execution_count": 14,
   "metadata": {},
   "outputs": [
    {
     "name": "stdout",
     "output_type": "stream",
     "text": [
      "[1, 4, 9, 16]\n"
     ]
    }
   ],
   "source": [
    "def square(a):\n",
    "    return a**2\n",
    "lst=[1,2,3,4]\n",
    "# print(list(map(square, lst )))--->map function\n",
    "\n",
    "# own map function\n",
    "def my_map(func, l):\n",
    "    new_lst=[]\n",
    "    for item in l:\n",
    "        new_lst.append(func(item))\n",
    "    return new_lst\n",
    "print(my_map(square,lst)) # passing function as argument"
   ]
  },
  {
   "cell_type": "markdown",
   "metadata": {},
   "source": [
    "# function returning function"
   ]
  },
  {
   "cell_type": "code",
   "execution_count": 6,
   "metadata": {},
   "outputs": [
    {
     "name": "stdout",
     "output_type": "stream",
     "text": [
      " inside inner func\n",
      " inside inner func\n",
      " message is hi there!\n"
     ]
    }
   ],
   "source": [
    "def outer_func():\n",
    "    def inner_func():\n",
    "        print(' inside inner func')\n",
    "    return inner_func() # outer function is returning ' inside inner func' as inner_func is call and given output\n",
    "outer_func()\n",
    "\n",
    "# function returning function\n",
    "def outer_func():\n",
    "    def inner_func():\n",
    "        print(' inside inner func')\n",
    "    return inner_func  # outer function returning inner_func\n",
    "var= outer_func() # var varriable has func, we executed outer_func which is resturing inner_func\n",
    "var() # inner_func is assigned to var , here inner_func is executed\n",
    "\n",
    "\n",
    "def outer_func2(msg):\n",
    "    def inner_func2():\n",
    "        print(f' message is {msg}')\n",
    "    return inner_func2 \n",
    "var= outer_func2('hi there!')\n",
    "var()"
   ]
  },
  {
   "cell_type": "code",
   "execution_count": 11,
   "metadata": {},
   "outputs": [
    {
     "name": "stdout",
     "output_type": "stream",
     "text": [
      "8\n",
      "16\n"
     ]
    }
   ],
   "source": [
    "#Example:\n",
    "\n",
    "def to_power(x):\n",
    "    def cal_power(n):\n",
    "        return n**x\n",
    "    return cal_power\n",
    "cube= to_power(3)\n",
    "print(cube(2))\n",
    "square= to_power(2)\n",
    "print(square(4))\n",
    "        "
   ]
  },
  {
   "cell_type": "markdown",
   "metadata": {},
   "source": [
    "# Decorator"
   ]
  },
  {
   "cell_type": "code",
   "execution_count": 16,
   "metadata": {},
   "outputs": [
    {
     "name": "stdout",
     "output_type": "stream",
     "text": [
      "this is function-1\n",
      "this is function-1\n",
      "this is awesome function\n",
      "this is function-1\n",
      "\n",
      "this is awesome function\n",
      "this is function-2\n"
     ]
    }
   ],
   "source": [
    "#decorator enhance the functionality of other function\n",
    "# this is also function\n",
    "def func1():\n",
    "    print('this is function-1')\n",
    "def func2():\n",
    "    print('this is function-2')\n",
    "func1()\n",
    "func1()\n",
    "# want to print \"this is awesome function \" without changes the code of existing codewhen we call func1 & func2\n",
    "\n",
    "def decorator_function(any_function):\n",
    "    def wrapper_function():\n",
    "        print('this is awesome function')\n",
    "        any_function()\n",
    "    return wrapper_function\n",
    "var=decorator_function(func1)\n",
    "var()\n",
    "print()\n",
    "var=decorator_function(func2)\n",
    "var()"
   ]
  },
  {
   "cell_type": "markdown",
   "metadata": {},
   "source": [
    "# @--syntactic suger"
   ]
  },
  {
   "cell_type": "code",
   "execution_count": 18,
   "metadata": {},
   "outputs": [
    {
     "name": "stdout",
     "output_type": "stream",
     "text": [
      "this is awesome function\n",
      "this is function-1\n",
      "this is function-2\n"
     ]
    }
   ],
   "source": [
    "# @ use to enhance functionality\n",
    "\n",
    "def decorator_function(any_function):\n",
    "    def wrapper_function():\n",
    "        print('this is awesome function')\n",
    "        any_function()\n",
    "    return wrapper_function\n",
    "@decorator_function # func1 functionality enhanced\n",
    "def func1():\n",
    "    print('this is function-1')\n",
    "func1()\n",
    "@decorator_function # func2 functionality enhanced\n",
    "def func2():\n",
    "    print('this is function-2')\n",
    "func2()"
   ]
  },
  {
   "cell_type": "code",
   "execution_count": 23,
   "metadata": {},
   "outputs": [],
   "source": [
    "# def decorator_function(any_function):\n",
    "#     def wrapper_function():\n",
    "#         print('this is awesome function')\n",
    "#         any_function()\n",
    "#     return wrapper_function\n",
    "# @decorator_function\n",
    "# def func(a):\n",
    "#     print('this is function')\n",
    "# func(7) # TypeError: wrapper_function() takes 0 positional arguments but 1 was given ,here first  wrapper function will be called , which is not taking any argument"
   ]
  },
  {
   "cell_type": "code",
   "execution_count": null,
   "metadata": {},
   "outputs": [],
   "source": [
    "def decorator_function(any_function):\n",
    "    def wrapper_function():\n",
    "        print('this is awesome function')\n",
    "        any_function()\n",
    "    return wrapper_function\n",
    "@decorator_function\n",
    "def func(a):\n",
    "    print('this is function')"
   ]
  },
  {
   "cell_type": "code",
   "execution_count": 26,
   "metadata": {},
   "outputs": [
    {
     "name": "stdout",
     "output_type": "stream",
     "text": [
      "this is awesome function\n",
      "this is function 7\n"
     ]
    }
   ],
   "source": [
    "def decorator_function(any_function):\n",
    "    def wrapper_function(*args, **kwargs):\n",
    "        print('this is awesome function')\n",
    "        any_function(*args, **kwargs)\n",
    "    return wrapper_function\n",
    "@decorator_function\n",
    "def func(a):\n",
    "    print(f'this is function {a}')\n",
    "func(7)"
   ]
  },
  {
   "cell_type": "code",
   "execution_count": 30,
   "metadata": {},
   "outputs": [
    {
     "name": "stdout",
     "output_type": "stream",
     "text": [
      "this is awesome function\n",
      "\n",
      "this is awesome function\n",
      "15\n"
     ]
    }
   ],
   "source": [
    "def decorator_function(any_function):\n",
    "    def wrapper_function(*args, **kwargs):\n",
    "        print('this is awesome function')\n",
    "        any_function(*args, **kwargs)\n",
    "    return wrapper_function\n",
    "@decorator_function\n",
    "def add(a,b):\n",
    "    return a+b\n",
    "func(7,8) # this is not adding because wrapper function is not returning any thing\n",
    "\n",
    "# solution of problem\n",
    "print()\n",
    "def decorator_function(any_function):\n",
    "    def wrapper_function(*args, **kwargs):\n",
    "        print('this is awesome function')\n",
    "        return any_function(*args, **kwargs)\n",
    "    return wrapper_function\n",
    "@decorator_function\n",
    "def add(a,b):\n",
    "    return a+b\n",
    "print(add(7,8))\n"
   ]
  },
  {
   "cell_type": "code",
   "execution_count": 6,
   "metadata": {},
   "outputs": [
    {
     "name": "stdout",
     "output_type": "stream",
     "text": [
      "this is awesome function\n",
      "15\n",
      "\n",
      "this is wrapper function\n",
      "wrapper_function\n",
      "\n",
      "this is awesome function\n",
      "15\n",
      "\n",
      "this is add function\n",
      "add\n"
     ]
    }
   ],
   "source": [
    "def decorator_function(any_function):\n",
    "    def wrapper_function(*args, **kwargs):\n",
    "        '''this is wrapper function'''\n",
    "        print('this is awesome function')\n",
    "        return any_function(*args, **kwargs)\n",
    "    return wrapper_function\n",
    "@decorator_function\n",
    "def add(a,b):\n",
    "    '''this is add function'''\n",
    "    return a+b\n",
    "print(add(7,8))\n",
    "print()\n",
    "print(add.__doc__) # giving doc string of wrapper_func\n",
    "print(add.__name__) # giving name of wrapper_func\n",
    "print()\n",
    "# solution:\n",
    "from functools import wraps\n",
    "def decorator_function(any_function):\n",
    "    @wraps(any_function)\n",
    "    def wrapper_function(*args, **kwargs):\n",
    "        '''this is wrapper function'''\n",
    "        print('this is awesome function')\n",
    "        return any_function(*args, **kwargs)\n",
    "    return wrapper_function\n",
    "@decorator_function\n",
    "def add(a,b):\n",
    "    '''this is add function'''\n",
    "    return a+b\n",
    "print(add(7,8))\n",
    "print()\n",
    "print(add.__doc__) # giving doc string of wrapper_func\n",
    "print(add.__name__)"
   ]
  },
  {
   "cell_type": "code",
   "execution_count": 8,
   "metadata": {},
   "outputs": [
    {
     "name": "stdout",
     "output_type": "stream",
     "text": [
      "you are calling add_num\n",
      "this function takes two argument and return their sum\n",
      "15\n"
     ]
    }
   ],
   "source": [
    "# example:\n",
    "from functools import wraps\n",
    "def print_function_data(function):\n",
    "    @wraps(function)\n",
    "    def wrapper(*arg,**args):\n",
    "        print(f'you are calling {function.__name__}')\n",
    "        print(f\"{function.__doc__}\")\n",
    "        return function(*arg,**args)\n",
    "    return wrapper\n",
    "@print_function_data\n",
    "def add_num(a,b):\n",
    "    '''this function takes two argument and return their sum'''\n",
    "    return a+b\n",
    "print(add_num(7,8))"
   ]
  },
  {
   "cell_type": "code",
   "execution_count": 14,
   "metadata": {},
   "outputs": [
    {
     "name": "stdout",
     "output_type": "stream",
     "text": [
      "executing ....square_finder\n",
      "this function took: 0.0 seconds\n"
     ]
    },
    {
     "data": {
      "text/plain": [
       "[1,\n",
       " 4,\n",
       " 9,\n",
       " 16,\n",
       " 25,\n",
       " 36,\n",
       " 49,\n",
       " 64,\n",
       " 81,\n",
       " 100,\n",
       " 121,\n",
       " 144,\n",
       " 169,\n",
       " 196,\n",
       " 225,\n",
       " 256,\n",
       " 289,\n",
       " 324,\n",
       " 361,\n",
       " 400,\n",
       " 441,\n",
       " 484,\n",
       " 529,\n",
       " 576,\n",
       " 625,\n",
       " 676,\n",
       " 729,\n",
       " 784,\n",
       " 841,\n",
       " 900,\n",
       " 961,\n",
       " 1024,\n",
       " 1089,\n",
       " 1156,\n",
       " 1225,\n",
       " 1296,\n",
       " 1369,\n",
       " 1444,\n",
       " 1521,\n",
       " 1600,\n",
       " 1681,\n",
       " 1764,\n",
       " 1849,\n",
       " 1936,\n",
       " 2025,\n",
       " 2116,\n",
       " 2209,\n",
       " 2304,\n",
       " 2401,\n",
       " 2500,\n",
       " 2601,\n",
       " 2704,\n",
       " 2809,\n",
       " 2916,\n",
       " 3025,\n",
       " 3136,\n",
       " 3249,\n",
       " 3364,\n",
       " 3481,\n",
       " 3600,\n",
       " 3721,\n",
       " 3844,\n",
       " 3969,\n",
       " 4096,\n",
       " 4225,\n",
       " 4356,\n",
       " 4489,\n",
       " 4624,\n",
       " 4761,\n",
       " 4900,\n",
       " 5041,\n",
       " 5184,\n",
       " 5329,\n",
       " 5476,\n",
       " 5625,\n",
       " 5776,\n",
       " 5929,\n",
       " 6084,\n",
       " 6241,\n",
       " 6400,\n",
       " 6561,\n",
       " 6724,\n",
       " 6889,\n",
       " 7056,\n",
       " 7225,\n",
       " 7396,\n",
       " 7569,\n",
       " 7744,\n",
       " 7921,\n",
       " 8100,\n",
       " 8281,\n",
       " 8464,\n",
       " 8649,\n",
       " 8836,\n",
       " 9025,\n",
       " 9216,\n",
       " 9409,\n",
       " 9604,\n",
       " 9801,\n",
       " 10000,\n",
       " 10201,\n",
       " 10404,\n",
       " 10609,\n",
       " 10816,\n",
       " 11025,\n",
       " 11236,\n",
       " 11449,\n",
       " 11664,\n",
       " 11881,\n",
       " 12100,\n",
       " 12321,\n",
       " 12544,\n",
       " 12769,\n",
       " 12996,\n",
       " 13225,\n",
       " 13456,\n",
       " 13689,\n",
       " 13924,\n",
       " 14161,\n",
       " 14400,\n",
       " 14641,\n",
       " 14884,\n",
       " 15129,\n",
       " 15376,\n",
       " 15625,\n",
       " 15876,\n",
       " 16129,\n",
       " 16384,\n",
       " 16641,\n",
       " 16900,\n",
       " 17161,\n",
       " 17424,\n",
       " 17689,\n",
       " 17956,\n",
       " 18225,\n",
       " 18496,\n",
       " 18769,\n",
       " 19044,\n",
       " 19321,\n",
       " 19600,\n",
       " 19881,\n",
       " 20164,\n",
       " 20449,\n",
       " 20736,\n",
       " 21025,\n",
       " 21316,\n",
       " 21609,\n",
       " 21904,\n",
       " 22201,\n",
       " 22500,\n",
       " 22801,\n",
       " 23104,\n",
       " 23409,\n",
       " 23716,\n",
       " 24025,\n",
       " 24336,\n",
       " 24649,\n",
       " 24964,\n",
       " 25281,\n",
       " 25600,\n",
       " 25921,\n",
       " 26244,\n",
       " 26569,\n",
       " 26896,\n",
       " 27225,\n",
       " 27556,\n",
       " 27889,\n",
       " 28224,\n",
       " 28561,\n",
       " 28900,\n",
       " 29241,\n",
       " 29584,\n",
       " 29929,\n",
       " 30276,\n",
       " 30625,\n",
       " 30976,\n",
       " 31329,\n",
       " 31684,\n",
       " 32041,\n",
       " 32400,\n",
       " 32761,\n",
       " 33124,\n",
       " 33489,\n",
       " 33856,\n",
       " 34225,\n",
       " 34596,\n",
       " 34969,\n",
       " 35344,\n",
       " 35721,\n",
       " 36100,\n",
       " 36481,\n",
       " 36864,\n",
       " 37249,\n",
       " 37636,\n",
       " 38025,\n",
       " 38416,\n",
       " 38809,\n",
       " 39204,\n",
       " 39601,\n",
       " 40000]"
      ]
     },
     "execution_count": 14,
     "metadata": {},
     "output_type": "execute_result"
    }
   ],
   "source": [
    "#exercise: define a decoration calculate_time\n",
    "from functools import wraps\n",
    "import time\n",
    "def calculate_time(function):\n",
    "    @wraps(function)\n",
    "    def wrapper(*args, **kwargs):\n",
    "        print(f'executing ....{function.__name__}')\n",
    "        t1= time.time()\n",
    "        returned_value= function(*args, **kwargs)\n",
    "        t2= time.time()\n",
    "        total_time=t2-t1\n",
    "        print(f'this function took: {total_time} seconds')\n",
    "        return returned_value\n",
    "    return wrapper\n",
    "@calculate_time\n",
    "def square_finder(n):\n",
    "    return [i**2 for i in range(1,n+1)]\n",
    "square_finder(200)    "
   ]
  },
  {
   "cell_type": "code",
   "execution_count": 28,
   "metadata": {},
   "outputs": [
    {
     "name": "stdout",
     "output_type": "stream",
     "text": [
      "10\n",
      "10\n",
      "\n",
      "Invalid argumets\n"
     ]
    }
   ],
   "source": [
    "def add_all(*args):\n",
    "    total=0\n",
    "    for i in args:\n",
    "        total+=i\n",
    "    return total\n",
    "print(add_all(1,2,3,4)) # no issue while passing int & float only, if we pass list ot other data type will give error\n",
    "\n",
    "# solution: with the help of decorator\n",
    "from functools import wraps\n",
    "def only_int_allow(function):\n",
    "    @wraps(function)\n",
    "    def wrapper(*args, **kwargs):\n",
    "        data_type=[]\n",
    "        for arg in args:\n",
    "            data_type.append(type(arg)==int)\n",
    "        if all(data_type):\n",
    "            return function(*args,*kwargs)\n",
    "        else:\n",
    "            print('Invalid argumets')\n",
    "    return wrapper\n",
    "@only_int_allow       \n",
    "def add_num(*args):\n",
    "    total=0\n",
    "    for i in args:\n",
    "        total += i\n",
    "    return total\n",
    "print(add_num(1,2,3,4))\n",
    "print()\n",
    "add_num(1,2,3,4,[1,2,3])"
   ]
  },
  {
   "cell_type": "markdown",
   "metadata": {},
   "source": [
    "# decorator with arguments"
   ]
  },
  {
   "cell_type": "code",
   "execution_count": 33,
   "metadata": {},
   "outputs": [
    {
     "name": "stdout",
     "output_type": "stream",
     "text": [
      "navneetyadav\n"
     ]
    }
   ],
   "source": [
    "from functools import wraps\n",
    "def only_data_type_allow(data_type):\n",
    "    def decorator(function):\n",
    "        @wraps(function)\n",
    "        def wrapper(*args, **kwargs):\n",
    "            if all([type(arg)== data_type for arg in args]):\n",
    "                return function(*args, **kwargs)\n",
    "            print(' enter valid arguments')\n",
    "        return wrapper\n",
    "    return decorator\n",
    "            \n",
    "@only_data_type_allow(str)       \n",
    "def str_join(*args):\n",
    "    string=''\n",
    "    for i in args:\n",
    "        string += i\n",
    "    return string\n",
    "print(str_join('navneet','yadav'))"
   ]
  },
  {
   "cell_type": "code",
   "execution_count": null,
   "metadata": {},
   "outputs": [],
   "source": []
  },
  {
   "cell_type": "code",
   "execution_count": null,
   "metadata": {},
   "outputs": [],
   "source": []
  }
 ],
 "metadata": {
  "kernelspec": {
   "display_name": "Python 3",
   "language": "python",
   "name": "python3"
  },
  "language_info": {
   "codemirror_mode": {
    "name": "ipython",
    "version": 3
   },
   "file_extension": ".py",
   "mimetype": "text/x-python",
   "name": "python",
   "nbconvert_exporter": "python",
   "pygments_lexer": "ipython3",
   "version": "3.7.6"
  }
 },
 "nbformat": 4,
 "nbformat_minor": 4
}
