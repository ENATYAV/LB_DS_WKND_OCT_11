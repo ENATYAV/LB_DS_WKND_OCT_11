{
 "cells": [
  {
   "cell_type": "code",
   "execution_count": 6,
   "metadata": {},
   "outputs": [
    {
     "name": "stdout",
     "output_type": "stream",
     "text": [
      "init method/constructor is called\n",
      "init method/constructor is called\n",
      "navneet\n",
      "smita\n"
     ]
    }
   ],
   "source": [
    "# use 'class' keyword to define a class\n",
    "# syntex: class class name:  -->class name can be any thing, according to convention first letter should be capital\n",
    "# object/instance--> in python everything is objected\n",
    "#method:-->function inside class are methods\n",
    "\n",
    "# note: \n",
    "# 1. when we create any object of class , constructor is called.\n",
    "# 2. Constructor called = number of object\n",
    "# 3. in place of self we can metion any name but according to convention we need to mention 'self'\n",
    "class Person:\n",
    "    def __init__(self,first_name,last_name,age): #init is constructor,self is representing to object and first_name,last_name ,age are attributes\n",
    "        #instance variable initialize\n",
    "        print('init method/constructor is called')\n",
    "        self.first_name=first_name\n",
    "        self.last_name= last_name\n",
    "        self.age=age\n",
    "p1=Person('navneet','yadav',36) # to create object of class we use class name\n",
    "p2=Person('smita','yadav',35)\n",
    "print(p1.first_name)\n",
    "print(p2.first_name)\n",
    "    \n"
   ]
  },
  {
   "cell_type": "code",
   "execution_count": 18,
   "metadata": {},
   "outputs": [
    {
     "name": "stdout",
     "output_type": "stream",
     "text": [
      "dell\n",
      "500\n",
      "40000\n",
      "dell 500\n"
     ]
    }
   ],
   "source": [
    "# exercise: create a laptop class with attribute like brand name,model name,price\n",
    "# create two object/instance of your laptop class\n",
    "\n",
    "class Laptop:\n",
    "    def __init__(self,brand,model_name,price):\n",
    "        # instance variables \n",
    "        self.brand= brand\n",
    "        self.model_name=model_name\n",
    "        self.price= price\n",
    "        self.laptop_name= brand+ ' ' + model_name\n",
    "laptop1= Laptop('dell','500',40000)\n",
    "print(laptop1.brand)\n",
    "print(laptop1.model_name)\n",
    "print(laptop1.price)\n",
    "print(laptop1.laptop_name)"
   ]
  },
  {
   "cell_type": "markdown",
   "metadata": {},
   "source": [
    "# oop instance method"
   ]
  },
  {
   "cell_type": "code",
   "execution_count": 25,
   "metadata": {},
   "outputs": [
    {
     "name": "stdout",
     "output_type": "stream",
     "text": [
      "init method/constructor is called\n",
      "Navneet Yadav\n",
      "True\n"
     ]
    }
   ],
   "source": [
    "# methods are function in a class\n",
    "\n",
    "\n",
    "class Person:\n",
    "    def __init__(self,first_name,last_name,age): \n",
    "        #instance variable initialize\n",
    "        print('init method/constructor is called')\n",
    "        self.first_name=first_name\n",
    "        self.last_name= last_name\n",
    "        self.age=age\n",
    "    def full_name(self):\n",
    "        return f\"{self.first_name} {self.last_name}\"\n",
    "    def is_above_18(self):\n",
    "        return self.age>18\n",
    "p1=Person('Navneet','Yadav',36)\n",
    "print(p1.full_name())\n",
    "### or ####\n",
    "# print(Person.full_name(p1))\n",
    "print(p1.is_above_18())"
   ]
  },
  {
   "cell_type": "code",
   "execution_count": 27,
   "metadata": {},
   "outputs": [
    {
     "name": "stdout",
     "output_type": "stream",
     "text": [
      "32000.0\n"
     ]
    }
   ],
   "source": [
    "# exercise- define a laptop class and define a method for discount\n",
    "\n",
    "class Laptop:\n",
    "    def __init__(self,brand,model_name,price):\n",
    "        self.brand= brand\n",
    "        self.model_name=model_name\n",
    "        self.price=price\n",
    "    def full_name(self):\n",
    "        return f\"{self.brand} {self.model_name}\"\n",
    "    def discount(self,var):\n",
    "        return self.price-(var/100*self.price)\n",
    "l1= Laptop('dell','500',40000)\n",
    "print(l1.discount(20))\n"
   ]
  },
  {
   "cell_type": "markdown",
   "metadata": {},
   "source": [
    "# class variables/attributes and instance variable"
   ]
  },
  {
   "cell_type": "code",
   "execution_count": 33,
   "metadata": {},
   "outputs": [
    {
     "name": "stdout",
     "output_type": "stream",
     "text": [
      "25.12\n",
      "31.400000000000002\n",
      "25.12\n",
      "31.400000000000002\n"
     ]
    }
   ],
   "source": [
    "# instance variable are unique for avery object/instance\n",
    "# class variables shared with all objects\n",
    "# class variable is used with classname.variablename \n",
    "\n",
    "#example: calculate circumference of circle\n",
    "class Circle:\n",
    "    def __init__(self,radius,pi):\n",
    "        self.radius=radius\n",
    "        self.pi=pi\n",
    "    def cal_circumference(self):\n",
    "        return 2*self.radius*self.pi\n",
    "c=Circle(4,3.14)\n",
    "c1=Circle(5,3.14)\n",
    "print(c.cal_circumference())\n",
    "print(c1.cal_circumference())\n",
    "\n",
    "# using class variable\n",
    "\n",
    "class Circle:\n",
    "    pi=3.14 # class variable /attributes\n",
    "    def __init__(self,radius):\n",
    "        self.radius=radius\n",
    "    def cal_circumference(self):\n",
    "        return 2*self.radius*Circle.pi\n",
    "c=Circle(4)\n",
    "c1=Circle(5)\n",
    "print(c.cal_circumference())\n",
    "print(c1.cal_circumference())\n",
    "        "
   ]
  },
  {
   "cell_type": "code",
   "execution_count": 37,
   "metadata": {},
   "outputs": [
    {
     "name": "stdout",
     "output_type": "stream",
     "text": [
      "32000.0\n",
      "{'brand': 'dell', 'model_name': '500', 'price': 40000}\n"
     ]
    }
   ],
   "source": [
    "#example-2\n",
    "\n",
    "class Laptop:\n",
    "    dicount_percent=20\n",
    "    def __init__(self,brand,model_name,price):\n",
    "        self.brand= brand\n",
    "        self.model_name=model_name\n",
    "        self.price=price\n",
    "    def full_name(self):\n",
    "        return f\"{self.brand} {self.model_name}\"\n",
    "    def discount(self):\n",
    "        return self.price-(Laptop.dicount_percent/100*self.price)\n",
    "l1= Laptop('dell','500',40000)\n",
    "print(l1.discount())\n",
    "\n",
    "print(l1.__dict__) # to check attributes of instance"
   ]
  },
  {
   "cell_type": "code",
   "execution_count": 40,
   "metadata": {},
   "outputs": [
    {
     "name": "stdout",
     "output_type": "stream",
     "text": [
      "40000.0\n",
      "35000.0\n",
      "{'brand': 'dell', 'model_name': '500', 'price': 40000}\n",
      "{'brand': 'hp', 'model_name': '550', 'price': 35000}\n"
     ]
    }
   ],
   "source": [
    "class Laptop:\n",
    "    dicount_percent=20\n",
    "    def __init__(self,brand,model_name,price):\n",
    "        self.brand= brand\n",
    "        self.model_name=model_name\n",
    "        self.price=price\n",
    "    def full_name(self):\n",
    "        return f\"{self.brand} {self.model_name}\"\n",
    "    def discount(self):\n",
    "        return self.price-(Laptop.dicount_percent/100*self.price)\n",
    "Laptop.dicount_percent=0  # class variable is changed for all instance\n",
    "l1= Laptop('dell','500',40000)\n",
    "l2= Laptop('hp','550',35000)\n",
    "print(l1.discount())\n",
    "print(l2.discount())\n",
    "print(l1.__dict__)\n",
    "print(l2.__dict__)"
   ]
  },
  {
   "cell_type": "code",
   "execution_count": 41,
   "metadata": {},
   "outputs": [
    {
     "name": "stdout",
     "output_type": "stream",
     "text": [
      "40000.0\n",
      "35000.0\n",
      "{'brand': 'dell', 'model_name': '500', 'price': 40000}\n",
      "{'brand': 'hp', 'model_name': '550', 'price': 35000, 'dicount_percent': 50}\n"
     ]
    }
   ],
   "source": [
    "class Laptop:\n",
    "    dicount_percent=20\n",
    "    def __init__(self,brand,model_name,price):\n",
    "        self.brand= brand\n",
    "        self.model_name=model_name\n",
    "        self.price=price\n",
    "    def full_name(self):\n",
    "        return f\"{self.brand} {self.model_name}\"\n",
    "    def discount(self):\n",
    "        return self.price-(Laptop.dicount_percent/100*self.price)\n",
    "Laptop.dicount_percent=0  # class variable is changed for all instance\n",
    "l1= Laptop('dell','500',40000)\n",
    "l2= Laptop('hp','550',35000)\n",
    "print(l1.discount())\n",
    "l2.dicount_percent=50  # discount for l2 is defined 50 but taking 20. \n",
    "print(l2.discount())\n",
    "print(l1.__dict__)\n",
    "print(l2.__dict__)"
   ]
  },
  {
   "cell_type": "code",
   "execution_count": 61,
   "metadata": {},
   "outputs": [
    {
     "name": "stdout",
     "output_type": "stream",
     "text": [
      "28000.0\n",
      "17500.0\n",
      "{'brand': 'dell', 'model_name': '500', 'price': 40000, 'discount_percent': 30}\n",
      "{'brand': 'hp', 'model_name': '550', 'price': 35000, 'discount_percent': 50}\n"
     ]
    }
   ],
   "source": [
    "# solution of above problem\n",
    "# use self with class variable instead of calss name\n",
    "# self.class variable name\n",
    "\n",
    "class Laptop:\n",
    "    discount_percent=20\n",
    "    def __init__(self,brand,model_name,price):\n",
    "        self.brand= brand\n",
    "        self.model_name=model_name\n",
    "        self.price=price\n",
    "    def full_name(self):\n",
    "        return f\"{self.brand} {self.model_name}\"\n",
    "    def discount(self):\n",
    "        return self.price-(self.discount_percent/100*self.price) # self is used instead of class\n",
    "Laptop.dicount_percent=0  # class variable is changed for all instance\n",
    "l1= Laptop('dell','500',40000)\n",
    "l1.discount_percent=30 # 30 is applied on l1\n",
    "l2= Laptop('hp','550',35000)\n",
    "print(l1.discount())\n",
    "l2.discount_percent=50  # 50 is applied on l2\n",
    "print(l2.discount())\n",
    "print(l1.__dict__)\n",
    "print(l2.__dict__)"
   ]
  },
  {
   "cell_type": "code",
   "execution_count": 48,
   "metadata": {},
   "outputs": [
    {
     "name": "stdout",
     "output_type": "stream",
     "text": [
      "1\n",
      "2\n",
      "3\n"
     ]
    }
   ],
   "source": [
    "# exercise: check number of instances created for class\n",
    "\n",
    "class Person:\n",
    "    count_instance=0\n",
    "    def __init__(self,first_name, last_name,age):\n",
    "        self.first_name= first_name\n",
    "        self.last_name= last_name\n",
    "        self.age= age\n",
    "        Person.count_instance +=1\n",
    "l1=Person('Navneet','yadav',36)\n",
    "print(Person.count_instance)\n",
    "l2=Person('Smita','yadav',35)\n",
    "print(Person.count_instance)\n",
    "l3=Person('Mridul','yadav',10)\n",
    "print(Person.count_instance)\n",
    "\n"
   ]
  },
  {
   "cell_type": "markdown",
   "metadata": {},
   "source": [
    "# class methods"
   ]
  },
  {
   "cell_type": "code",
   "execution_count": 56,
   "metadata": {},
   "outputs": [
    {
     "name": "stdout",
     "output_type": "stream",
     "text": [
      "Navneet Yadav\n",
      "True\n",
      "Smita Yadav\n",
      "True\n",
      "you have created 2 instances of person class\n"
     ]
    }
   ],
   "source": [
    "# class methods defined by decorator @classmethod\n",
    "# class methods called with class method\n",
    "class Person:\n",
    "    count_instance = 0 # class variable/ attribute\n",
    "    def __init__(self,first_name,last_name,age): \n",
    "        Person.count_instance += 1           \n",
    "        #instance variable initialize\n",
    "        self.first_name=first_name\n",
    "        self.last_name= last_name\n",
    "        self.age=age\n",
    "    @classmethod\n",
    "    def count_instances(cls): # class method, pass class as cls as argument\n",
    "        return f\"you have created {cls.count_instance} instances of person class\"\n",
    "    def full_name(self): # instance method\n",
    "        return f\"{self.first_name} {self.last_name}\"\n",
    "    def is_above_18(self): # instance method\n",
    "        return self.age>18\n",
    "p1=Person('Navneet','Yadav',36)\n",
    "p2=Person('Smita','Yadav',35)\n",
    "print(p1.full_name())\n",
    "print(p1.is_above_18())\n",
    "print(p2.full_name())\n",
    "print(p1.is_above_18())\n",
    "### or ####\n",
    "# print(Person.full_name(p1))\n",
    "print(Person.count_instances())\n"
   ]
  },
  {
   "cell_type": "markdown",
   "metadata": {},
   "source": [
    "# class method as constructor`"
   ]
  },
  {
   "cell_type": "code",
   "execution_count": 64,
   "metadata": {},
   "outputs": [
    {
     "name": "stdout",
     "output_type": "stream",
     "text": [
      "Smita Yadav\n",
      "you have created 2 instances of Person class\n"
     ]
    }
   ],
   "source": [
    "class Person:\n",
    "    count_instance = 0 # class variable/ attribute\n",
    "    def __init__(self,first_name,last_name,age): \n",
    "        Person.count_instance += 1           \n",
    "        #instance variable initialize\n",
    "        self.first_name=first_name\n",
    "        self.last_name= last_name\n",
    "        self.age=age\n",
    "    @classmethod\n",
    "    def from_string(cls,string):\n",
    "        first,last,age=string.split(',')\n",
    "        return cls(first,last,age)\n",
    "    @classmethod\n",
    "    def count_instances(cls): # class method\n",
    "        return f\"you have created {cls.count_instance} instances of {cls.__name__} class\"\n",
    "    def full_name(self): # instance method\n",
    "        return f\"{self.first_name} {self.last_name}\"\n",
    "    def is_above_18(self): # instance method\n",
    "        return self.age>18\n",
    "p1=Person('Navneet','Yadav',36)\n",
    "p2=Person.from_string('Smita,Yadav,35')\n",
    "print(p2.full_name())\n",
    "print(Person.count_instances())\n"
   ]
  },
  {
   "cell_type": "markdown",
   "metadata": {},
   "source": [
    "# oop static method"
   ]
  },
  {
   "cell_type": "code",
   "execution_count": 67,
   "metadata": {},
   "outputs": [
    {
     "name": "stdout",
     "output_type": "stream",
     "text": [
      "this is hello function\n"
     ]
    }
   ],
   "source": [
    "# instance method has relation with object\n",
    "# class method has relation with class\n",
    "# static don't have relation with class and instance but some logical connection\n",
    "# static method defined by decorator @staticmethod\n",
    "\n",
    "class Person:\n",
    "    count_instance = 0 # class variable/ attribute\n",
    "    def __init__(self,first_name,last_name,age): \n",
    "        Person.count_instance += 1           \n",
    "        #instance variable initialize\n",
    "        self.first_name=first_name\n",
    "        self.last_name= last_name\n",
    "        self.age=age\n",
    "    @classmethod\n",
    "    def from_string(cls,string): # class method as constructor\n",
    "        first,last,age=string.split(',')\n",
    "        return cls(first,last,age)\n",
    "    @classmethod\n",
    "    def count_instances(cls): # class method\n",
    "        return f\"you have created {cls.count_instance} instances of {cls.__name__} class\"\n",
    "    @staticmethod\n",
    "    def hello():\n",
    "        print('this is hello function')\n",
    "    \n",
    "    def full_name(self): # instance method\n",
    "        return f\"{self.first_name} {self.last_name}\"\n",
    "    def is_above_18(self): # instance method\n",
    "        return self.age>18\n",
    "p1=Person('Navneet','Yadav',36)\n",
    "p2=Person.from_string('Smita,Yadav,35')\n",
    "Person.hello()\n"
   ]
  },
  {
   "cell_type": "markdown",
   "metadata": {},
   "source": [
    "# encapsulation , abstraction , special naming convention and name mangling`"
   ]
  },
  {
   "cell_type": "code",
   "execution_count": null,
   "metadata": {},
   "outputs": [],
   "source": [
    "# encapsulation: means write code at one place, example : instance method, class method in a class\n",
    "# abstraction: means hide the complexity , example: in list sort() method sort list , we donot know how this is doing\n",
    "# Special naming convetion : _variable -->private variable\n",
    "# name mangling --->__variable-->strongly private variable-->changes the name of variable\n",
    "# note: in python every thing is public"
   ]
  },
  {
   "cell_type": "code",
   "execution_count": 11,
   "metadata": {},
   "outputs": [
    {
     "name": "stdout",
     "output_type": "stream",
     "text": [
      "Nokia 1100\n"
     ]
    }
   ],
   "source": [
    "class Phone:\n",
    "    def __init__(self, brand, model_name, price):\n",
    "        self.brand= brand\n",
    "        self.model_name= model_name\n",
    "        self.price= price\n",
    "    def full_name(self):\n",
    "        return f'{self.brand} {self.model_name}'\n",
    "    def make_a_call(self,number):\n",
    "        return f'you are calling {number} ...'\n",
    "p1= Phone('Nokia','1100',1000)    \n",
    "print(p1.full_name())\n",
    "        "
   ]
  },
  {
   "cell_type": "code",
   "execution_count": 16,
   "metadata": {},
   "outputs": [
    {
     "name": "stdout",
     "output_type": "stream",
     "text": [
      "1000\n",
      "500\n"
     ]
    }
   ],
   "source": [
    "# special naming convention\n",
    "class Phone:\n",
    "    def __init__(self, brand, model_name, price):\n",
    "        self.brand= brand\n",
    "        self.model_name= model_name\n",
    "        self._price= price   # private variable\n",
    "    def full_name(self):\n",
    "        return f'{self.brand} {self.model_name}'\n",
    "    def make_a_call(self,number):\n",
    "        return f'you are calling {number} ...'\n",
    "p1= Phone('Nokia','1100',1000)\n",
    "print(p1._price)\n",
    "p1._price=500\n",
    "print(p1._price)"
   ]
  },
  {
   "cell_type": "code",
   "execution_count": 19,
   "metadata": {},
   "outputs": [
    {
     "name": "stdout",
     "output_type": "stream",
     "text": [
      "{'brand': 'Nokia', 'model_name': '1100', '_Phone__price': 1000}\n",
      "1000\n"
     ]
    }
   ],
   "source": [
    "# name mangling:\n",
    "\n",
    "class Phone:\n",
    "    def __init__(self, brand, model_name, price):\n",
    "        self.brand= brand\n",
    "        self.model_name= model_name\n",
    "        self.__price= price   # stronly private variable # __price is changed to _Phone__price , this is name mangeling\n",
    "    def full_name(self):\n",
    "        return f'{self.brand} {self.model_name}'\n",
    "    def make_a_call(self,number):\n",
    "        return f'you are calling {number} ...'\n",
    "p1= Phone('Nokia','1100',1000)\n",
    "# print(p1.__price)  # AttributeError: 'Phone' object has no attribute '__price'\n",
    "print(p1.__dict__) \n",
    "print(p1._Phone__price)\n"
   ]
  },
  {
   "cell_type": "markdown",
   "metadata": {},
   "source": [
    "# property  and setter decorator"
   ]
  },
  {
   "cell_type": "code",
   "execution_count": 22,
   "metadata": {},
   "outputs": [
    {
     "name": "stdout",
     "output_type": "stream",
     "text": [
      "{'brand': 'Nokia', 'model_name': '1100', '_price': 0, 'complete_specification': 'Nokia 1100 0'}\n",
      "0\n"
     ]
    }
   ],
   "source": [
    "# Avoid to set price -ve of phone\n",
    "class Phone:\n",
    "    def __init__(self, brand, model_name, price):\n",
    "        self.brand= brand\n",
    "        self.model_name= model_name\n",
    "        self._price= max(price,0)\n",
    "        self.complete_specification= f\"{self.brand} {self.model_name} {self._price}\"\n",
    "    def full_name(self):\n",
    "        return f'{self.brand} {self.model_name}'\n",
    "    def make_a_call(self,number):\n",
    "        return f'you are calling {number} ...'\n",
    "p1= Phone('Nokia','1100',-1000)\n",
    "# print(p1.__price)  # AttributeError: 'Phone' object has no attribute '__price'\n",
    "print(p1.__dict__) \n",
    "print(p1._price)"
   ]
  },
  {
   "cell_type": "code",
   "execution_count": 26,
   "metadata": {},
   "outputs": [
    {
     "name": "stdout",
     "output_type": "stream",
     "text": [
      "500\n",
      "Nokia 1100 0\n",
      "\n",
      "500\n",
      "Nokia 1100 500\n"
     ]
    }
   ],
   "source": [
    "# Make changes while changing in price\n",
    "class Phone:\n",
    "    def __init__(self, brand, model_name, price):\n",
    "        self.brand= brand\n",
    "        self.model_name= model_name\n",
    "        self._price= max(price,0)\n",
    "        self.complete_specification= f\"{self.brand} {self.model_name} {self._price}\"\n",
    "    def full_name(self):\n",
    "        return f'{self.brand} {self.model_name}'\n",
    "    def make_a_call(self,number):\n",
    "        return f'you are calling {number} ...'\n",
    "p1= Phone('Nokia','1100',-1000)\n",
    "# print(p1.__price)  # AttributeError: 'Phone' object has no attribute '__price'\n",
    "p1._price=500\n",
    "print(p1._price)  # price  is changes to 500\n",
    "print(p1.complete_specification) # price not changes while changing the price\n",
    "\n"
   ]
  },
  {
   "cell_type": "code",
   "execution_count": null,
   "metadata": {},
   "outputs": [],
   "source": [
    "### solution of above problem with property decorator ####\n",
    "\n",
    "class Phone:\n",
    "    def __init__(self, brand, model_name, price):\n",
    "        self.brand= brand\n",
    "        self.model_name= model_name\n",
    "        self._price= max(price,0)\n",
    "    @property\n",
    "    def complete_specification(self):\n",
    "        return f\"{self.brand} {self.model_name} {self._price}\"\n",
    "    def full_name(self):\n",
    "        return f'{self.brand} {self.model_name}'\n",
    "    def make_a_call(self,number):\n",
    "        return f'you are calling {number} ...'\n",
    "p1= Phone('Nokia','1100',-1000)\n",
    "p1._price=500\n",
    "print(p1._price)\n",
    "print(p1.complete_specification)"
   ]
  },
  {
   "cell_type": "code",
   "execution_count": 1,
   "metadata": {},
   "outputs": [
    {
     "name": "stdout",
     "output_type": "stream",
     "text": [
      "-500\n",
      "Nokia 1100 -500\n",
      "-500\n",
      "Nokia 1100 -500\n"
     ]
    }
   ],
   "source": [
    "# setter decorator\n",
    "\n",
    "class Phone:\n",
    "    def __init__(self, brand, model_name, price):\n",
    "        self.brand= brand\n",
    "        self.model_name= model_name\n",
    "        self._price= max(price,0)\n",
    "    @property\n",
    "    def complete_specification(self):\n",
    "        return f\"{self.brand} {self.model_name} {self._price}\"\n",
    "    def full_name(self):\n",
    "        return f'{self.brand} {self.model_name}'\n",
    "    def make_a_call(self,number):\n",
    "        return f'you are calling {number} ...'\n",
    "p1= Phone('Nokia','1100',-1000)\n",
    "p1._price=-500                   # here we can set -ve value of phone \n",
    "print(p1._price)\n",
    "print(p1.complete_specification)\n",
    "\n",
    "\n",
    "## solution of problem with the help of setter decorator\n",
    "class Phone:\n",
    "    def __init__(self, brand, model_name, price):\n",
    "        self.brand= brand\n",
    "        self.model_name= model_name\n",
    "        self._price= max(price,0)\n",
    "    @property\n",
    "    def price(self):\n",
    "        return self._price\n",
    "    @price.setter          # setter always defined after property\n",
    "    def price(self,new_price):\n",
    "        self._price = max(new_price,0)\n",
    "    @property\n",
    "    def complete_specification(self):\n",
    "        return f\"{self.brand} {self.model_name} {self._price}\"\n",
    "    def full_name(self):\n",
    "        return f'{self.brand} {self.model_name}'\n",
    "    def make_a_call(self,number):\n",
    "        return f'you are calling {number} ...'\n",
    "p1= Phone('Nokia','1100',-1000)\n",
    "p1._price= -500                # here we can set -ve value of phone \n",
    "print(p1._price)\n",
    "print(p1.complete_specification)"
   ]
  },
  {
   "cell_type": "markdown",
   "metadata": {},
   "source": [
    "# inheritance"
   ]
  },
  {
   "cell_type": "code",
   "execution_count": 3,
   "metadata": {},
   "outputs": [
    {
     "name": "stdout",
     "output_type": "stream",
     "text": [
      "Nokia 1100 1000\n",
      "oneplus 5 30000\n"
     ]
    }
   ],
   "source": [
    "class Phone:\n",
    "    def __init__(self, brand, model_name, price):\n",
    "        self.brand= brand\n",
    "        self.model_name= model_name\n",
    "        self._price= max(price,0)\n",
    "        self.complete_specification= f'{self.brand} {self.model_name} {self._price}'\n",
    "    def full_name(self):\n",
    "        return f'{self.brand} {self.model_name}'\n",
    "    def make_a_call(self,number):\n",
    "        return f'you are calling {number} ...'\n",
    "class smartphone:\n",
    "    def __init__(self, brand, model_name, price,ram,internal_memory, rear_camera):\n",
    "        self.brand= brand\n",
    "        self.model_name= model_name\n",
    "        self._price= max(price,0)\n",
    "        self.complete_specification= f'{self.brand} {self.model_name} {self._price}'       \n",
    "        self.ram =ram\n",
    "        self.internal_memory= internal_memory\n",
    "        self.rear_camera = rear_camera\n",
    "    def full_name(self):\n",
    "        return f'{self.brand} {self.model_name}'\n",
    "    def make_a_call(self,number):\n",
    "        return f'you are calling {number} ...'\n",
    "p1= Phone('Nokia','1100',1000)\n",
    "smartphone= smartphone('oneplus','5',30000,'6GB','64GB','20mp')\n",
    "print(p1.complete_specification)\n",
    "print(smartphone.complete_specification)"
   ]
  },
  {
   "cell_type": "code",
   "execution_count": null,
   "metadata": {},
   "outputs": [],
   "source": [
    "# with the help of we follow DRY principle\n",
    "# inheritance one class used instrance variables, methods of other one\n",
    "# class is known base/parent class which functionality used by other\n",
    "# class is known as derived/child class which uses functionality of other class"
   ]
  },
  {
   "cell_type": "code",
   "execution_count": 7,
   "metadata": {},
   "outputs": [
    {
     "name": "stdout",
     "output_type": "stream",
     "text": [
      "Nokia 1100 1000\n",
      "oneplus 5 30000\n"
     ]
    }
   ],
   "source": [
    "class Phone:# base/parent class\n",
    "    def __init__(self, brand, model_name, price):\n",
    "        self.brand= brand\n",
    "        self.model_name= model_name\n",
    "        self._price= max(price,0)\n",
    "        self.complete_specification= f'{self.brand} {self.model_name} {self._price}'\n",
    "    def full_name(self):\n",
    "        return f'{self.brand} {self.model_name}'\n",
    "    def make_a_call(self,number):\n",
    "        return f'you are calling {number} ...'\n",
    "class smartphone(Phone): # drived/ child class\n",
    "    def __init__(self, brand, model_name, price,ram,internal_memory, rear_camera):\n",
    "#         Phone.__init__(self, brand, model_name, price) # uncommon way\n",
    "        super().__init__(brand, model_name, price) # second method\n",
    "        self.ram =ram\n",
    "        self.internal_memory= internal_memory\n",
    "        self.rear_camera = rear_camera\n",
    "p1= Phone('Nokia','1100',1000)`\n",
    "smartphone= smartphone('oneplus','5',30000,'6GB','64GB','20mp')\n",
    "print(p1.complete_specification)\n",
    "print(smartphone.complete_specification)"
   ]
  },
  {
   "cell_type": "markdown",
   "metadata": {},
   "source": [
    "# multilevel inheritance"
   ]
  },
  {
   "cell_type": "code",
   "execution_count": 14,
   "metadata": {},
   "outputs": [
    {
     "name": "stdout",
     "output_type": "stream",
     "text": [
      "Nokia 1100\n",
      "samsung galaxy\n",
      "oneplus 5\n"
     ]
    }
   ],
   "source": [
    "# drive classes at multilevel\n",
    "\n",
    "class Phone: # base/parent class\n",
    "    def __init__(self, brand, model_name, price):\n",
    "        self.brand= brand\n",
    "        self.model_name= model_name\n",
    "        self._price= max(price,0)\n",
    "    def full_name(self):\n",
    "        return f'{self.brand} {self.model_name}'\n",
    "    def make_a_call(self,number):\n",
    "        return f'you are calling {number} ...'\n",
    "class smartphone(Phone): # drived/child class for Phone and base /parent for Smartphone2\n",
    "    def __init__(self, brand, model_name, price,ram,internal_memory, rear_camera):\n",
    "#         Phone.__init__(self, brand, model_name, price) # uncommon way\n",
    "        super().__init__(brand, model_name, price) # second method\n",
    "        self.ram =ram\n",
    "        self.internal_memory= internal_memory\n",
    "        self.rear_camera = rear_camera\n",
    "class smartphone2(Phone): #  drived/child class \n",
    "    def __init__(self, brand, model_name, price,ram,internal_memory, rear_camera):\n",
    "        super().__init__(brand, model_name, price)\n",
    "        self.ram=ram\n",
    "        self.internal_memory=internal_memory\n",
    "        self.rear_camera= rear_camera\n",
    "                 \n",
    "p1= Phone('Nokia','1100',1000)\n",
    "smartphone=smartphone('samsung','galaxy',25000,'8gb','20gb','20mp')\n",
    "smartphone2=smartphone2('oneplus','5',30000,'8gb','20gb','20mp')\n",
    "print(p1.full_name())\n",
    "print(smartphone.full_name())\n",
    "print(smartphone2.full_name())"
   ]
  },
  {
   "cell_type": "code",
   "execution_count": 29,
   "metadata": {},
   "outputs": [
    {
     "name": "stdout",
     "output_type": "stream",
     "text": [
      "Nokia 1100\n",
      "samsung galaxy\n",
      "oneplus 5\n"
     ]
    }
   ],
   "source": [
    "class Phone: # base/parent class\n",
    "    def __init__(self, brand, model_name, price):\n",
    "        self.brand= brand\n",
    "        self.model_name= model_name\n",
    "        self._price= max(price,0)\n",
    "    def full_name(self):\n",
    "        return f'{self.brand} {self.model_name}'\n",
    "    def make_a_call(self,number):\n",
    "        return f'you are calling {number} ...'\n",
    "class Smartphone(Phone): # drived/child class for Phone and base /parent for Smartphone2\n",
    "    def __init__(self, brand, model_name, price,ram,internal_memory, rear_camera):\n",
    "#         Phone.__init__(self, brand, model_name, price) # uncommon way\n",
    "        super().__init__(brand, model_name, price) # second method\n",
    "        self.ram =ram\n",
    "        self.internal_memory= internal_memory\n",
    "        self.rear_camera = rear_camera\n",
    "class Flagshipphone(Smartphone): #  drived/child class \n",
    "    def __init__(self, brand, model_name, price,ram,internal_memory, rear_camera,front_camera):\n",
    "        super().__init__( brand, model_name, price,ram,internal_memory, rear_camera)\n",
    "        self.front_camera= front_camera\n",
    "                 \n",
    "p1 = Phone('Nokia','1100',1000)\n",
    "smartphone = Smartphone('samsung','galaxy',25000,'8gb','20gb','20mp')\n",
    "flagship = Flagshipphone('oneplus','5',30000,'8gb','20gb','20mp','10mp')\n",
    "print(p1.full_name())\n",
    "print(smartphone.full_name())\n",
    "print(smartphone2.full_name())"
   ]
  },
  {
   "cell_type": "markdown",
   "metadata": {},
   "source": [
    "# MRO --> method resolution order"
   ]
  },
  {
   "cell_type": "code",
   "execution_count": 30,
   "metadata": {},
   "outputs": [
    {
     "name": "stdout",
     "output_type": "stream",
     "text": [
      "[<class '__main__.Phone'>, <class 'object'>]\n",
      "[<class '__main__.Smartphone'>, <class '__main__.Phone'>, <class 'object'>]\n",
      "[<class '__main__.Flagshipphone'>, <class '__main__.Smartphone'>, <class '__main__.Phone'>, <class 'object'>]\n",
      "(<class '__main__.Phone'>, <class 'object'>)\n",
      "(<class '__main__.Smartphone'>, <class '__main__.Phone'>, <class 'object'>)\n",
      "(<class '__main__.Flagshipphone'>, <class '__main__.Smartphone'>, <class '__main__.Phone'>, <class 'object'>)\n"
     ]
    }
   ],
   "source": [
    "# we can find with help(class name), mro()-->give in list   or __mro__--->gives in tuple\n",
    "# MRO is order in which method will be called\n",
    "\n",
    "# print(help(Phone))\n",
    "# print(help(Flagshipphone))\n",
    "# print(help(smartphone))\n",
    "print(Phone.mro())\n",
    "print(Smartphone.mro())\n",
    "print(Flagshipphone.mro())\n",
    "print(Phone.__mro__)\n",
    "print(Smartphone.__mro__)\n",
    "print(Flagshipphone.__mro__)\n",
    "\n"
   ]
  },
  {
   "cell_type": "markdown",
   "metadata": {},
   "source": [
    "# isinstance() and issubclass() method"
   ]
  },
  {
   "cell_type": "code",
   "execution_count": 32,
   "metadata": {},
   "outputs": [
    {
     "name": "stdout",
     "output_type": "stream",
     "text": [
      "True\n",
      "False\n",
      "True\n",
      "\n",
      "True\n",
      "True\n",
      "False\n",
      "True\n"
     ]
    }
   ],
   "source": [
    "# isinstance is used to check object is of class or not-->isinstance(objectname, class name)\n",
    "# isinstance is used to check class is  subclass of class or not-->isinstance(sunb class name, class name)\n",
    "print(isinstance(p1,Phone))\n",
    "print(isinstance(p1,Smartphone))\n",
    "print(isinstance(flagship,Smartphone))\n",
    "print()\n",
    "\n",
    "print(issubclass(Smartphone,Phone))\n",
    "print(issubclass(Flagshipphone,Smartphone))\n",
    "print(issubclass(Smartphone,Flagshipphone))\n",
    "print(issubclass(Flagshipphone,Phone))\n"
   ]
  },
  {
   "cell_type": "markdown",
   "metadata": {},
   "source": [
    "# Multiple inheritance`"
   ]
  },
  {
   "cell_type": "code",
   "execution_count": 38,
   "metadata": {},
   "outputs": [
    {
     "name": "stdout",
     "output_type": "stream",
     "text": [
      "I'm just a class A method\n",
      "I'm just a class B method\n",
      "hello from class A\n"
     ]
    }
   ],
   "source": [
    "# inheretance for multiple classes in one class\n",
    "\n",
    "class A:\n",
    "    def class_a_method(self):\n",
    "        return f'I\\'m just a class A method'\n",
    "    def hello(self):\n",
    "        return 'hello from class A'\n",
    "class B:\n",
    "    def class_b_method(self):\n",
    "        return f'I\\'m just a class B method'\n",
    "    def hello(self):\n",
    "        return 'hello from class B'\n",
    "    \n",
    "class C(A,B): # MRO depends on the sequence in which class inherited\n",
    "    pass\n",
    "instance_c = C() \n",
    "print(instance_c.class_a_method())\n",
    "print(instance_c.class_b_method())\n",
    "print(instance_c.hello()) # this will print class A method, because class A is inherited first than class B"
   ]
  },
  {
   "cell_type": "markdown",
   "metadata": {},
   "source": [
    "# Method overriding"
   ]
  },
  {
   "cell_type": "code",
   "execution_count": null,
   "metadata": {},
   "outputs": [],
   "source": [
    "# in below exnample all three class use same methods full_name() and make_a_call()\n",
    "\n",
    "class Phone: # base/parent class\n",
    "    def __init__(self, brand, model_name, price):\n",
    "        self.brand= brand\n",
    "        self.model_name= model_name\n",
    "        self._price= max(price,0)\n",
    "    def full_name(self):\n",
    "        return f'{self.brand} {self.model_name}'\n",
    "    def make_a_call(self,number):\n",
    "        return f'you are calling {number} ...'\n",
    "class Smartphone(Phone): # drived/child class for Phone and base /parent for Smartphone2\n",
    "    def __init__(self, brand, model_name, price,ram,internal_memory, rear_camera):\n",
    "#         Phone.__init__(self, brand, model_name, price) # uncommon way\n",
    "        super().__init__(brand, model_name, price) # second method\n",
    "        self.ram =ram\n",
    "        self.internal_memory= internal_memory\n",
    "        self.rear_camera = rear_camera\n",
    "class Flagshipphone(Smartphone): #  drived/child class \n",
    "    def __init__(self, brand, model_name, price,ram,internal_memory, rear_camera,front_camera):\n",
    "        super().__init__( brand, model_name, price,ram,internal_memory, rear_camera)\n",
    "        self.front_camera= front_camera\n",
    "                 \n",
    "p1 = Phone('Nokia','1100',1000)\n",
    "smartphone = Smartphone('samsung','galaxy',25000,'8gb','20gb','20mp')\n",
    "flagship = Flagshipphone('oneplus','5',30000,'8gb','20gb','20mp','10mp')\n",
    "print(p1.full_name())\n",
    "print(smartphone.full_name())\n",
    "print(smartphone2.full_name())"
   ]
  },
  {
   "cell_type": "code",
   "execution_count": 6,
   "metadata": {},
   "outputs": [
    {
     "name": "stdout",
     "output_type": "stream",
     "text": [
      "Nokia 1100\n",
      "samsung galaxy and price is 25000\n",
      "oneplus 5 and price is 30000  and ram is 8gb\n"
     ]
    }
   ],
   "source": [
    "# example of method overriding\n",
    "# in this call class has their own full_name() method which is operator overriding\n",
    "\n",
    "class Phone: # base/parent class\n",
    "    def __init__(self, brand, model_name, price):\n",
    "        self.brand= brand\n",
    "        self.model_name= model_name\n",
    "        self._price= max(price,0)\n",
    "    def full_name(self):\n",
    "        return f'{self.brand} {self.model_name}'\n",
    "    def make_a_call(self,number):\n",
    "        return f'you are calling {number} ...'\n",
    "class Smartphone(Phone): # drived/child class for Phone and base /parent for Smartphone2\n",
    "    def __init__(self, brand, model_name, price,ram,internal_memory, rear_camera):\n",
    "#         Phone.__init__(self, brand, model_name, price) # uncommon way\n",
    "        super().__init__(brand, model_name, price) # second method\n",
    "        self.ram =ram\n",
    "        self.internal_memory= internal_memory\n",
    "        self.rear_camera = rear_camera\n",
    "    def full_name(self):\n",
    "        return f'{self.brand} {self.model_name} and price is {self._price}'\n",
    "class Flagshipphone(Smartphone): #  drived/child class \n",
    "    def __init__(self, brand, model_name, price,ram,internal_memory, rear_camera,front_camera):\n",
    "        super().__init__( brand, model_name, price,ram,internal_memory, rear_camera)\n",
    "        self.front_camera= front_camera\n",
    "    def full_name(self):\n",
    "        return f'{self.brand} {self.model_name} and price is {self._price}  and ram is {self.ram}'\n",
    "                 \n",
    "p1 = Phone('Nokia','1100',1000)\n",
    "smartphone = Smartphone('samsung','galaxy',25000,'8gb','20gb','20mp')\n",
    "flagship = Flagshipphone('oneplus','5',30000,'8gb','20gb','20mp','10mp')\n",
    "print(p1.full_name())\n",
    "print(smartphone.full_name())\n",
    "print(flagship.full_name())"
   ]
  },
  {
   "cell_type": "markdown",
   "metadata": {},
   "source": [
    "# special magic method or Dunder methods"
   ]
  },
  {
   "cell_type": "code",
   "execution_count": 15,
   "metadata": {},
   "outputs": [
    {
     "name": "stdout",
     "output_type": "stream",
     "text": [
      "[10, 20, 30]\n",
      "<__main__.Phone object at 0x0000018DA7F42108>\n",
      "nokia 1000\n"
     ]
    }
   ],
   "source": [
    "# examples of builtin --> __init__, __doc__, __name__, __main__, __mro__\n",
    "\n",
    "l= [10,20,30]\n",
    "print(l)\n",
    "\n",
    "class Phone: # base/parent class\n",
    "    def __init__(self, brand, model_name, price):\n",
    "        self.brand= brand\n",
    "        self.model_name= model_name\n",
    "        self.price= price\n",
    "    def phone_name(self):\n",
    "        return f\"{self.brand} {self.model_name}\"\n",
    "\n",
    "my_phone=Phone('nokia','1100',1000)\n",
    "print(my_phone) # this is not printing object like list object\n",
    "\n",
    "## solution ###\n",
    "# use str or repr-(representation) dunder method\n",
    "\n",
    "class Phone: \n",
    "    def __init__(self, brand, model_name, price):\n",
    "        self.brand= brand\n",
    "        self.model_name= model_name\n",
    "        self.price= price\n",
    "    def phone_name(self):\n",
    "        return f\"{self.brand} {self.model_name}\"\n",
    "    def __repr__(self):                          # here we can use __str__ in place of __repr__\n",
    "        return f'{self.brand} {self.price}'\n",
    "my_phone=Phone('nokia','1100',1000)\n",
    "print(my_phone)\n",
    "\n"
   ]
  },
  {
   "cell_type": "code",
   "execution_count": 18,
   "metadata": {},
   "outputs": [
    {
     "name": "stdout",
     "output_type": "stream",
     "text": [
      "nokia 1100\n",
      "nokia 1100\n",
      "nokia 1000\n"
     ]
    }
   ],
   "source": [
    "# if both str & repr both defined together  than will return __str__ not __repr\n",
    "# we can call str & repr as function also\n",
    "\n",
    "class Phone: \n",
    "    def __init__(self, brand, model_name, price):\n",
    "        self.brand= brand\n",
    "        self.model_name= model_name\n",
    "        self.price= price\n",
    "    def phone_name(self):\n",
    "        return f\"{self.brand} {self.model_name}\"\n",
    "    def __repr__(self):                          \n",
    "        return f'{self.brand} {self.price}'\n",
    "    def __str__(self):                          \n",
    "        return f'{self.brand} {self.model_name}'\n",
    "\n",
    "my_phone=Phone('nokia','1100',1000)\n",
    "print(my_phone)\n",
    "\n",
    "print(str(my_phone))\n",
    "print(repr(my_phone))\n"
   ]
  },
  {
   "cell_type": "code",
   "execution_count": 25,
   "metadata": {},
   "outputs": [
    {
     "name": "stdout",
     "output_type": "stream",
     "text": [
      "nokia 1000\n",
      "Phone('nokia','1100',1000)\n"
     ]
    }
   ],
   "source": [
    "# generally repr returns object of class and str returns nicely formatted string\n",
    "# repr used for developers and str used for users\n",
    "class Phone: \n",
    "    def __init__(self, brand, model_name, price):\n",
    "        self.brand= brand\n",
    "        self.model_name= model_name\n",
    "        self.price= price\n",
    "    def phone_name(self):\n",
    "        return f\"{self.brand} {self.model_name} and price is {self.price}\"\n",
    "    def __str__(self):                          \n",
    "        return f'{self.brand} {self.price}'\n",
    "    def __repr__(self):                          \n",
    "        return f'Phone(\\'{self.brand}\\',\\'{self.model_name}\\',{self.price})'\n",
    "\n",
    "my_phone=Phone('nokia','1100',1000)\n",
    "print(my_phone)\n",
    "print(my_phone.__repr__())"
   ]
  },
  {
   "cell_type": "code",
   "execution_count": 30,
   "metadata": {},
   "outputs": [
    {
     "name": "stdout",
     "output_type": "stream",
     "text": [
      "10\n",
      "10\n"
     ]
    }
   ],
   "source": [
    "# __len__ \n",
    "class Phone: \n",
    "    def __init__(self, brand, model_name, price):\n",
    "        self.brand= brand\n",
    "        self.model_name= model_name\n",
    "        self.price= price\n",
    "    def phone_name(self):\n",
    "        return f\"{self.brand} {self.model_name}\"\n",
    "    def __str__(self):                          \n",
    "        return f'{self.brand} {self.price}'\n",
    "    def __repr__(self):                          \n",
    "        return f'Phone(\\'{self.brand}\\',\\'{self.model_name}\\',{self.price})'\n",
    "    def __len__(self):\n",
    "        return len(self.phone_name())\n",
    "\n",
    "my_phone=Phone('nokia','1100',1000)\n",
    "print(len(my_phone))\n",
    "\n",
    "#####or #\n",
    "print(my_phone.__len__())\n"
   ]
  },
  {
   "cell_type": "markdown",
   "metadata": {},
   "source": [
    "# operator overloading"
   ]
  },
  {
   "cell_type": "code",
   "execution_count": 37,
   "metadata": {},
   "outputs": [
    {
     "name": "stdout",
     "output_type": "stream",
     "text": [
      "2100\n"
     ]
    }
   ],
   "source": [
    "class Phone: \n",
    "    def __init__(self, brand, model_name, price):\n",
    "        self.brand= brand\n",
    "        self.model_name= model_name\n",
    "        self.price= price\n",
    "    def phone_name(self):\n",
    "        return f\"{self.brand} {self.model_name}\"\n",
    "    def __str__(self):                          \n",
    "        return f'{self.brand} {self.price}'\n",
    "    def __repr__(self):                          \n",
    "        return f'Phone(\\'{self.brand}\\',\\'{self.model_name}\\',{self.price})'\n",
    "    def __len__(self):\n",
    "        return len(self.phone_name())\n",
    "    def __add__(self,other):         # add operator is overloaded, same sacn be done as others like __mul__\n",
    "        return self.price + other.price\n",
    "#     def __add__(self,other):\n",
    "#         return self.brand + other.brand\n",
    "#     def __add__(self,other):\n",
    "#         return self.model_name + other.model_name\n",
    "\n",
    "my_phone=Phone('nokia','1100',1000)\n",
    "my_phone1=Phone('nokia','2100',1100)\n",
    "print(my_phone+my_phone1)"
   ]
  },
  {
   "cell_type": "markdown",
   "metadata": {},
   "source": [
    "# polymorphism"
   ]
  },
  {
   "cell_type": "code",
   "execution_count": null,
   "metadata": {},
   "outputs": [],
   "source": [
    "# means many forms\n",
    "# example: 2+3 =5, 'abc'+ 'def'= 'abcdef'---> here '+' has many forms\n",
    "# example-2: len() function works on list, tuple , string etc\n",
    "# method overriding is also polymorphism\n"
   ]
  },
  {
   "cell_type": "code",
   "execution_count": null,
   "metadata": {},
   "outputs": [],
   "source": []
  },
  {
   "cell_type": "code",
   "execution_count": null,
   "metadata": {},
   "outputs": [],
   "source": []
  }
 ],
 "metadata": {
  "kernelspec": {
   "display_name": "Python 3",
   "language": "python",
   "name": "python3"
  },
  "language_info": {
   "codemirror_mode": {
    "name": "ipython",
    "version": 3
   },
   "file_extension": ".py",
   "mimetype": "text/x-python",
   "name": "python",
   "nbconvert_exporter": "python",
   "pygments_lexer": "ipython3",
   "version": "3.7.6"
  }
 },
 "nbformat": 4,
 "nbformat_minor": 4
}
