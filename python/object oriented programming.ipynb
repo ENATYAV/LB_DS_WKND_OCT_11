{
 "cells": [
  {
   "cell_type": "code",
   "execution_count": 6,
   "metadata": {},
   "outputs": [
    {
     "name": "stdout",
     "output_type": "stream",
     "text": [
      "init method/constructor is called\n",
      "init method/constructor is called\n",
      "navneet\n",
      "smita\n"
     ]
    }
   ],
   "source": [
    "# use 'class' keyword to define a class\n",
    "# syntex: class class name:  -->class name can be any thing, according to convention first letter should be capital\n",
    "# object/instance--> in python everything is objected\n",
    "#method:-->function inside class are methods\n",
    "\n",
    "# note: \n",
    "# 1. when we create any object of class , constructor is called.\n",
    "# 2. Constructor called = number of object\n",
    "# 3. in place of self we can metion any name but according to convention we need to mention 'self'\n",
    "class Person:\n",
    "    def __init__(self,first_name,last_name,age): #init is constructor,self is representing to object and first_name,last_name ,age are attributes\n",
    "        #instance variable initialize\n",
    "        print('init method/constructor is called')\n",
    "        self.first_name=first_name\n",
    "        self.last_name= last_name\n",
    "        self.age=age\n",
    "p1=Person('navneet','yadav',36) # to create object of class we use class name\n",
    "p2=Person('smita','yadav',35)\n",
    "print(p1.first_name)\n",
    "print(p2.first_name)\n",
    "    \n"
   ]
  },
  {
   "cell_type": "code",
   "execution_count": 18,
   "metadata": {},
   "outputs": [
    {
     "name": "stdout",
     "output_type": "stream",
     "text": [
      "dell\n",
      "500\n",
      "40000\n",
      "dell 500\n"
     ]
    }
   ],
   "source": [
    "# exercise: create a laptop class with attribute like brand name,model name,price\n",
    "# create two object/instance of your laptop class\n",
    "\n",
    "class Laptop:\n",
    "    def __init__(self,brand,model_name,price):\n",
    "        # instance variables \n",
    "        self.brand= brand\n",
    "        self.model_name=model_name\n",
    "        self.price= price\n",
    "        self.laptop_name= brand+ ' ' + model_name\n",
    "laptop1= Laptop('dell','500',40000)\n",
    "print(laptop1.brand)\n",
    "print(laptop1.model_name)\n",
    "print(laptop1.price)\n",
    "print(laptop1.laptop_name)"
   ]
  },
  {
   "cell_type": "markdown",
   "metadata": {},
   "source": [
    "# oop instance method"
   ]
  },
  {
   "cell_type": "code",
   "execution_count": 25,
   "metadata": {},
   "outputs": [
    {
     "name": "stdout",
     "output_type": "stream",
     "text": [
      "init method/constructor is called\n",
      "Navneet Yadav\n",
      "True\n"
     ]
    }
   ],
   "source": [
    "# methods are function in a class\n",
    "\n",
    "\n",
    "class Person:\n",
    "    def __init__(self,first_name,last_name,age): \n",
    "        #instance variable initialize\n",
    "        print('init method/constructor is called')\n",
    "        self.first_name=first_name\n",
    "        self.last_name= last_name\n",
    "        self.age=age\n",
    "    def full_name(self):\n",
    "        return f\"{self.first_name} {self.last_name}\"\n",
    "    def is_above_18(self):\n",
    "        return self.age>18\n",
    "p1=Person('Navneet','Yadav',36)\n",
    "print(p1.full_name())\n",
    "### or ####\n",
    "# print(Person.full_name(p1))\n",
    "print(p1.is_above_18())"
   ]
  },
  {
   "cell_type": "code",
   "execution_count": 27,
   "metadata": {},
   "outputs": [
    {
     "name": "stdout",
     "output_type": "stream",
     "text": [
      "32000.0\n"
     ]
    }
   ],
   "source": [
    "# exercise- define a laptop class and define a method for discount\n",
    "\n",
    "class Laptop:\n",
    "    def __init__(self,brand,model_name,price):\n",
    "        self.brand= brand\n",
    "        self.model_name=model_name\n",
    "        self.price=price\n",
    "    def full_name(self):\n",
    "        return f\"{self.brand} {self.model_name}\"\n",
    "    def discount(self,var):\n",
    "        return self.price-(var/100*self.price)\n",
    "l1= Laptop('dell','500',40000)\n",
    "print(l1.discount(20))\n"
   ]
  },
  {
   "cell_type": "markdown",
   "metadata": {},
   "source": [
    "# class variables/attributes and instance variable"
   ]
  },
  {
   "cell_type": "code",
   "execution_count": 33,
   "metadata": {},
   "outputs": [
    {
     "name": "stdout",
     "output_type": "stream",
     "text": [
      "25.12\n",
      "31.400000000000002\n",
      "25.12\n",
      "31.400000000000002\n"
     ]
    }
   ],
   "source": [
    "# instance variable are unique for avery object/instance\n",
    "# class variables shared with all objects\n",
    "# class variable is used with classname.variablename \n",
    "\n",
    "#example: calculate circumference of circle\n",
    "class Circle:\n",
    "    def __init__(self,radius,pi):\n",
    "        self.radius=radius\n",
    "        self.pi=pi\n",
    "    def cal_circumference(self):\n",
    "        return 2*self.radius*self.pi\n",
    "c=Circle(4,3.14)\n",
    "c1=Circle(5,3.14)\n",
    "print(c.cal_circumference())\n",
    "print(c1.cal_circumference())\n",
    "\n",
    "# using class variable\n",
    "\n",
    "class Circle:\n",
    "    pi=3.14 # class variable /attributes\n",
    "    def __init__(self,radius):\n",
    "        self.radius=radius\n",
    "    def cal_circumference(self):\n",
    "        return 2*self.radius*Circle.pi\n",
    "c=Circle(4)\n",
    "c1=Circle(5)\n",
    "print(c.cal_circumference())\n",
    "print(c1.cal_circumference())\n",
    "        "
   ]
  },
  {
   "cell_type": "code",
   "execution_count": 37,
   "metadata": {},
   "outputs": [
    {
     "name": "stdout",
     "output_type": "stream",
     "text": [
      "32000.0\n",
      "{'brand': 'dell', 'model_name': '500', 'price': 40000}\n"
     ]
    }
   ],
   "source": [
    "#example-2\n",
    "\n",
    "class Laptop:\n",
    "    dicount_percent=20\n",
    "    def __init__(self,brand,model_name,price):\n",
    "        self.brand= brand\n",
    "        self.model_name=model_name\n",
    "        self.price=price\n",
    "    def full_name(self):\n",
    "        return f\"{self.brand} {self.model_name}\"\n",
    "    def discount(self):\n",
    "        return self.price-(Laptop.dicount_percent/100*self.price)\n",
    "l1= Laptop('dell','500',40000)\n",
    "print(l1.discount())\n",
    "\n",
    "print(l1.__dict__) # to check attributes of instance"
   ]
  },
  {
   "cell_type": "code",
   "execution_count": 40,
   "metadata": {},
   "outputs": [
    {
     "name": "stdout",
     "output_type": "stream",
     "text": [
      "40000.0\n",
      "35000.0\n",
      "{'brand': 'dell', 'model_name': '500', 'price': 40000}\n",
      "{'brand': 'hp', 'model_name': '550', 'price': 35000}\n"
     ]
    }
   ],
   "source": [
    "class Laptop:\n",
    "    dicount_percent=20\n",
    "    def __init__(self,brand,model_name,price):\n",
    "        self.brand= brand\n",
    "        self.model_name=model_name\n",
    "        self.price=price\n",
    "    def full_name(self):\n",
    "        return f\"{self.brand} {self.model_name}\"\n",
    "    def discount(self):\n",
    "        return self.price-(Laptop.dicount_percent/100*self.price)\n",
    "Laptop.dicount_percent=0  # class variable is changed for all instance\n",
    "l1= Laptop('dell','500',40000)\n",
    "l2= Laptop('hp','550',35000)\n",
    "print(l1.discount())\n",
    "print(l2.discount())\n",
    "print(l1.__dict__)\n",
    "print(l2.__dict__)"
   ]
  },
  {
   "cell_type": "code",
   "execution_count": 41,
   "metadata": {},
   "outputs": [
    {
     "name": "stdout",
     "output_type": "stream",
     "text": [
      "40000.0\n",
      "35000.0\n",
      "{'brand': 'dell', 'model_name': '500', 'price': 40000}\n",
      "{'brand': 'hp', 'model_name': '550', 'price': 35000, 'dicount_percent': 50}\n"
     ]
    }
   ],
   "source": [
    "class Laptop:\n",
    "    dicount_percent=20\n",
    "    def __init__(self,brand,model_name,price):\n",
    "        self.brand= brand\n",
    "        self.model_name=model_name\n",
    "        self.price=price\n",
    "    def full_name(self):\n",
    "        return f\"{self.brand} {self.model_name}\"\n",
    "    def discount(self):\n",
    "        return self.price-(Laptop.dicount_percent/100*self.price)\n",
    "Laptop.dicount_percent=0  # class variable is changed for all instance\n",
    "l1= Laptop('dell','500',40000)\n",
    "l2= Laptop('hp','550',35000)\n",
    "print(l1.discount())\n",
    "l2.dicount_percent=50  # discount for l2 is defined 50 but taking 20. \n",
    "print(l2.discount())\n",
    "print(l1.__dict__)\n",
    "print(l2.__dict__)"
   ]
  },
  {
   "cell_type": "code",
   "execution_count": 61,
   "metadata": {},
   "outputs": [
    {
     "name": "stdout",
     "output_type": "stream",
     "text": [
      "28000.0\n",
      "17500.0\n",
      "{'brand': 'dell', 'model_name': '500', 'price': 40000, 'discount_percent': 30}\n",
      "{'brand': 'hp', 'model_name': '550', 'price': 35000, 'discount_percent': 50}\n"
     ]
    }
   ],
   "source": [
    "# solution of above problem\n",
    "# use self with class variable instead of calss name\n",
    "# self.class variable name\n",
    "\n",
    "class Laptop:\n",
    "    discount_percent=20\n",
    "    def __init__(self,brand,model_name,price):\n",
    "        self.brand= brand\n",
    "        self.model_name=model_name\n",
    "        self.price=price\n",
    "    def full_name(self):\n",
    "        return f\"{self.brand} {self.model_name}\"\n",
    "    def discount(self):\n",
    "        return self.price-(self.discount_percent/100*self.price) # self is used instead of class\n",
    "Laptop.dicount_percent=0  # class variable is changed for all instance\n",
    "l1= Laptop('dell','500',40000)\n",
    "l1.discount_percent=30 # 30 is applied on l1\n",
    "l2= Laptop('hp','550',35000)\n",
    "print(l1.discount())\n",
    "l2.discount_percent=50  # 50 is applied on l2\n",
    "print(l2.discount())\n",
    "print(l1.__dict__)\n",
    "print(l2.__dict__)"
   ]
  },
  {
   "cell_type": "code",
   "execution_count": 48,
   "metadata": {},
   "outputs": [
    {
     "name": "stdout",
     "output_type": "stream",
     "text": [
      "1\n",
      "2\n",
      "3\n"
     ]
    }
   ],
   "source": [
    "# exercise: check number of instances created for class\n",
    "\n",
    "class Person:\n",
    "    count_instance=0\n",
    "    def __init__(self,first_name, last_name,age):\n",
    "        self.first_name= first_name\n",
    "        self.last_name= last_name\n",
    "        self.age= age\n",
    "        Person.count_instance +=1\n",
    "l1=Person('Navneet','yadav',36)\n",
    "print(Person.count_instance)\n",
    "l2=Person('Smita','yadav',35)\n",
    "print(Person.count_instance)\n",
    "l3=Person('Mridul','yadav',10)\n",
    "print(Person.count_instance)\n",
    "\n"
   ]
  },
  {
   "cell_type": "markdown",
   "metadata": {},
   "source": [
    "# class methods"
   ]
  },
  {
   "cell_type": "code",
   "execution_count": 56,
   "metadata": {},
   "outputs": [
    {
     "name": "stdout",
     "output_type": "stream",
     "text": [
      "Navneet Yadav\n",
      "True\n",
      "Smita Yadav\n",
      "True\n",
      "you have created 2 instances of person class\n"
     ]
    }
   ],
   "source": [
    "# class methods defined by decorator @classmethod\n",
    "# class methods called with class method\n",
    "class Person:\n",
    "    count_instance = 0 # class variable/ attribute\n",
    "    def __init__(self,first_name,last_name,age): \n",
    "        Person.count_instance += 1           \n",
    "        #instance variable initialize\n",
    "        self.first_name=first_name\n",
    "        self.last_name= last_name\n",
    "        self.age=age\n",
    "    @classmethod\n",
    "    def count_instances(cls): # class method, pass class as cls as argument\n",
    "        return f\"you have created {cls.count_instance} instances of person class\"\n",
    "    def full_name(self): # instance method\n",
    "        return f\"{self.first_name} {self.last_name}\"\n",
    "    def is_above_18(self): # instance method\n",
    "        return self.age>18\n",
    "p1=Person('Navneet','Yadav',36)\n",
    "p2=Person('Smita','Yadav',35)\n",
    "print(p1.full_name())\n",
    "print(p1.is_above_18())\n",
    "print(p2.full_name())\n",
    "print(p1.is_above_18())\n",
    "### or ####\n",
    "# print(Person.full_name(p1))\n",
    "print(Person.count_instances())\n"
   ]
  },
  {
   "cell_type": "markdown",
   "metadata": {},
   "source": [
    "# class method as constructor`"
   ]
  },
  {
   "cell_type": "code",
   "execution_count": 64,
   "metadata": {},
   "outputs": [
    {
     "name": "stdout",
     "output_type": "stream",
     "text": [
      "Smita Yadav\n",
      "you have created 2 instances of Person class\n"
     ]
    }
   ],
   "source": [
    "class Person:\n",
    "    count_instance = 0 # class variable/ attribute\n",
    "    def __init__(self,first_name,last_name,age): \n",
    "        Person.count_instance += 1           \n",
    "        #instance variable initialize\n",
    "        self.first_name=first_name\n",
    "        self.last_name= last_name\n",
    "        self.age=age\n",
    "    @classmethod\n",
    "    def from_string(cls,string):\n",
    "        first,last,age=string.split(',')\n",
    "        return cls(first,last,age)\n",
    "    @classmethod\n",
    "    def count_instances(cls): # class method\n",
    "        return f\"you have created {cls.count_instance} instances of {cls.__name__} class\"\n",
    "    def full_name(self): # instance method\n",
    "        return f\"{self.first_name} {self.last_name}\"\n",
    "    def is_above_18(self): # instance method\n",
    "        return self.age>18\n",
    "p1=Person('Navneet','Yadav',36)\n",
    "p2=Person.from_string('Smita,Yadav,35')\n",
    "print(p2.full_name())\n",
    "print(Person.count_instances())\n"
   ]
  },
  {
   "cell_type": "markdown",
   "metadata": {},
   "source": [
    "# oop static method"
   ]
  },
  {
   "cell_type": "code",
   "execution_count": 67,
   "metadata": {},
   "outputs": [
    {
     "name": "stdout",
     "output_type": "stream",
     "text": [
      "this is hello function\n"
     ]
    }
   ],
   "source": [
    "# instance method has relation with object\n",
    "# class method has relation with class\n",
    "# static don't have relation with class and instance but some logical connection\n",
    "# static method defined by decorator @staticmethod\n",
    "\n",
    "class Person:\n",
    "    count_instance = 0 # class variable/ attribute\n",
    "    def __init__(self,first_name,last_name,age): \n",
    "        Person.count_instance += 1           \n",
    "        #instance variable initialize\n",
    "        self.first_name=first_name\n",
    "        self.last_name= last_name\n",
    "        self.age=age\n",
    "    @classmethod\n",
    "    def from_string(cls,string): # class method as constructor\n",
    "        first,last,age=string.split(',')\n",
    "        return cls(first,last,age)\n",
    "    @classmethod\n",
    "    def count_instances(cls): # class method\n",
    "        return f\"you have created {cls.count_instance} instances of {cls.__name__} class\"\n",
    "    @staticmethod\n",
    "    def hello():\n",
    "        print('this is hello function')\n",
    "    \n",
    "    def full_name(self): # instance method\n",
    "        return f\"{self.first_name} {self.last_name}\"\n",
    "    def is_above_18(self): # instance method\n",
    "        return self.age>18\n",
    "p1=Person('Navneet','Yadav',36)\n",
    "p2=Person.from_string('Smita,Yadav,35')\n",
    "Person.hello()\n"
   ]
  },
  {
   "cell_type": "code",
   "execution_count": null,
   "metadata": {},
   "outputs": [],
   "source": []
  },
  {
   "cell_type": "code",
   "execution_count": null,
   "metadata": {},
   "outputs": [],
   "source": []
  },
  {
   "cell_type": "code",
   "execution_count": null,
   "metadata": {},
   "outputs": [],
   "source": []
  },
  {
   "cell_type": "code",
   "execution_count": null,
   "metadata": {},
   "outputs": [],
   "source": []
  },
  {
   "cell_type": "code",
   "execution_count": null,
   "metadata": {},
   "outputs": [],
   "source": []
  }
 ],
 "metadata": {
  "kernelspec": {
   "display_name": "Python 3",
   "language": "python",
   "name": "python3"
  },
  "language_info": {
   "codemirror_mode": {
    "name": "ipython",
    "version": 3
   },
   "file_extension": ".py",
   "mimetype": "text/x-python",
   "name": "python",
   "nbconvert_exporter": "python",
   "pygments_lexer": "ipython3",
   "version": "3.7.6"
  }
 },
 "nbformat": 4,
 "nbformat_minor": 4
}
