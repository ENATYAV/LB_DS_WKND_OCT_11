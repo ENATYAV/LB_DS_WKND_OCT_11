{
 "cells": [
  {
   "cell_type": "markdown",
   "metadata": {},
   "source": [
    "# File Handling in Python\n",
    "    File Handling in Python\n",
    "    Types of files in Python\n",
    "    Why file handling is required in Python? \n",
    "    open() & close() function\n",
    "    Different modes in File Handling\n",
    "    seek() and tell() methods\n",
    "    Functions to read and write"
   ]
  },
  {
   "cell_type": "code",
   "execution_count": null,
   "metadata": {},
   "outputs": [],
   "source": [
    "# 1. Text File\n",
    "# 2. Binary File"
   ]
  },
  {
   "cell_type": "code",
   "execution_count": null,
   "metadata": {},
   "outputs": [],
   "source": [
    "# open() - to do any operation, we need to open a file\n",
    "# close() - to save the changes and exit we need to close the file"
   ]
  },
  {
   "cell_type": "code",
   "execution_count": null,
   "metadata": {},
   "outputs": [],
   "source": [
    "# Synatx \n",
    "# f = open('file_name with extension', 'mode of operation')\n",
    "# Open function returns a file object\n",
    "# f.read(), f.write(), f.close()\n"
   ]
  },
  {
   "cell_type": "markdown",
   "metadata": {},
   "source": [
    "# Modes on operation in FIle Handling\n",
    "    Read Mode - 'r'\n",
    "    Write Mode - 'w'\n",
    "    Append Mode - 'a'\n",
    "    Read and write mode - r+\n",
    "    Write and read mode - w+\n",
    "    Append and read mode - a+"
   ]
  },
  {
   "cell_type": "markdown",
   "metadata": {},
   "source": [
    "# Reading from a file - read(), read(char), readline(), readlines()\n",
    "    read() - reads teh whole file and returns a string object\n",
    "    read(no of char) - reads the mentioned number of characters from current cursor position and returns string object\n",
    "    readline() - reads the first line from current cursor position and returns string object\n",
    "    readlines() - reads all the line from the file and returns a list of strings where every string is one line"
   ]
  },
  {
   "cell_type": "code",
   "execution_count": null,
   "metadata": {},
   "outputs": [],
   "source": [
    "read() - \"The whole content fo filein string format\"\n",
    "read(3) - \"The\"\n",
    "readline() - \"The whole content fo filein string format\"\n",
    "readlines() - [\"The whole content fo filein string format\",]\n",
    "\n",
    "# Note:- in Python file line break is \"new line(\\n)\""
   ]
  },
  {
   "cell_type": "markdown",
   "metadata": {},
   "source": [
    "# Write into a file\n",
    "    write('string') - and it will write the data into the file from current cursor position\n",
    "    writelines(['line1\\n', 'line2\\n', 'line3\\n'])"
   ]
  },
  {
   "cell_type": "markdown",
   "metadata": {},
   "source": [
    "# Read Mode - 'r'\n",
    "    1. If file does not exist, FileNotFoundError.\n",
    "    2. If file exist, then it will open the file in read mode and places the cursor at the begining of the file.\n",
    "    3. You are allowed only to read from the file but not allowed to write into the file."
   ]
  },
  {
   "cell_type": "markdown",
   "metadata": {},
   "source": [
    "# Write Mode - 'w'\n",
    "    1. If file does not exist, it will create a file with given name.\n",
    "    2. If file exist, then it will open the file in qrite mode and places the cursor at the begining of the file after deleting the content of the file.\n",
    "    3. You are allowed only to write into the file but not allowed to read from the file."
   ]
  },
  {
   "cell_type": "markdown",
   "metadata": {},
   "source": [
    "# Append mode - 'a'\n",
    "    1. If file does not exist, it will create a file with given name.\n",
    "    2. If file exist, then it will open the file in write mode and places the cursor at the end of the file.\n",
    "    3. You are allowed only to write into the file but not allowed to read from the file."
   ]
  },
  {
   "cell_type": "markdown",
   "metadata": {},
   "source": [
    "# Read and Write mode - 'r+'\n",
    "    1. If file does not exist, FileNotFoundError.\n",
    "    2. If file exist, then it will open the file in read mode and places the cursor at the begining of the file.\n",
    "    3. You are allowed to do both, reading from the file and writing into the file."
   ]
  },
  {
   "cell_type": "markdown",
   "metadata": {},
   "source": [
    "# Write and Read mode - 'w+'\n",
    "    1. If file does not exist, it will create a file with given name.\n",
    "    2. If file exist, then it will open the file in write mode and places the cursor at the begining of the file after deleting the content of the file.\n",
    "    3. You are allowed to do both, reading from the file and writing into the file."
   ]
  },
  {
   "cell_type": "markdown",
   "metadata": {},
   "source": [
    "# Append and read mode - 'a+'\n",
    "    1. If file does not exist, it will create a file with given name.\n",
    "    2. If file exist, then it will open the file in write mode and places the cursor at the end of the file.\n",
    "    3. You are allowed to do both, reading from the file and writing into the file."
   ]
  },
  {
   "cell_type": "markdown",
   "metadata": {},
   "source": [
    "# Binary - methods will remain same but mode will be appended by 'b'\n",
    "    read Mode - 'rb'\n",
    "    Write mode - 'wb'\n",
    "    append mode - 'ab'\n",
    "    Read and write mode - 'rb+'/'r+b'\n",
    "    Write and read mode - 'wb+'/'w+b'\n",
    "    Append and read mode - 'ab+'/'a+b'\n"
   ]
  },
  {
   "cell_type": "code",
   "execution_count": null,
   "metadata": {},
   "outputs": [],
   "source": [
    "# f.tell() - returns the current poition of cursor in your file.\n",
    "# f.seek(pos/ind) - moves the cursor at the specified position in your file."
   ]
  },
  {
   "cell_type": "code",
   "execution_count": 6,
   "metadata": {},
   "outputs": [],
   "source": [
    "# Reading a file which is not existing\n",
    "# f = open('f1.py', 'r')     # FileNotFoundError: [Errno 2] No such file or directory: 'f1.py'\n",
    "# f.read()\n",
    "# f.close()\n",
    "\n",
    "# Reading an existing file\n",
    "# f = open('mod_1.py', 'r')\n",
    "# print(f.tell())\n",
    "# print(f.read())\n",
    "# f.close()\n",
    "\n",
    "# Reading the file from 100th index onwards\n",
    "# f = open('mod_1.py', 'r')\n",
    "# print(f.tell())\n",
    "# f.seek(100)\n",
    "# print(f.tell())\n",
    "# print(f.read())\n",
    "# f.close()\n",
    "\n",
    "# Trying to write into the file in read mode\n",
    "# f = open('mod_1.py', 'r')\n",
    "# print(f.tell())\n",
    "# f.seek(100)\n",
    "# print(f.tell())\n",
    "# f.write('Hello')    # UnsupportedOperation: not writable\n",
    "# f.close()\n"
   ]
  },
  {
   "cell_type": "code",
   "execution_count": null,
   "metadata": {},
   "outputs": [],
   "source": [
    "# Opening a file into write mode whih is not existing\n",
    "# f = open('f1.py', 'w')     \n",
    "# f.read()\n",
    "# f.close()\n",
    "\n",
    "# Opening a file into write mode whih is already existing contnet is also there in the file\n",
    "# f = open('mod_1.py', 'w')\n",
    "# print(f.tell())\n",
    "# f.write('Hello, Python. We are doing file Handling')\n",
    "# f.close()\n",
    "\n",
    "\n",
    "# Trying to read from the file in write mode\n",
    "# f = open('mod_1.py', 'w')\n",
    "# print(f.tell())\n",
    "# f.read()                      # UnsupportedOperation: not readable\n",
    "# f.close()\n"
   ]
  },
  {
   "cell_type": "code",
   "execution_count": 18,
   "metadata": {},
   "outputs": [],
   "source": [
    "# Append Mode - a\n",
    "\n",
    "# appending into a file which is not existing\n",
    "# f = open('f2.py', 'a')     \n",
    "# f.write('Hello')\n",
    "# f.close()\n",
    "\n",
    "# Appending into an existing file\n",
    "# f = open('mod_1.py', 'a')\n",
    "# print(f.tell())\n",
    "# f.write('40+ Countries. One Global Phone System. All the business phone features you need on the platform you already know.')\n",
    "# f.close()\n",
    "\n",
    "# Appending into an existing file\n",
    "# f = open('mod_1.py', 'a')\n",
    "# print(f.tell())\n",
    "# # f.seek(50)\n",
    "# print(f.tell())\n",
    "# f.write('\\n# UnsupportedOperation: not writable\\n')\n",
    "# f.close()\n",
    "\n",
    "# Trying to Read the file in append mode\n",
    "# f = open('mod_1.py', 'a')\n",
    "# print(f.tell())\n",
    "# f.seek(0)\n",
    "# f.read()    # UnsupportedOperation: not readable\n",
    "# f.close()"
   ]
  },
  {
   "cell_type": "code",
   "execution_count": 21,
   "metadata": {},
   "outputs": [
    {
     "name": "stdout",
     "output_type": "stream",
     "text": [
      "0\n",
      "100\n",
      "Zoom Phone: The cloud phone solution, natively built for the Zoom platform\n",
      "    40+ Countries. One Gl\n",
      "Hello\n",
      "one System. All the business phone features you need on the platform you already know.\n",
      "# UnsupportedOperation: not writable\n",
      "\n"
     ]
    }
   ],
   "source": [
    "# read and write mode - 'r+'\n",
    "\n",
    "# Reading a file which is not existing\n",
    "# f = open('f1.py', 'r')     # FileNotFoundError: [Errno 2] No such file or directory: 'f1.py'\n",
    "# f.read()\n",
    "# f.close()\n",
    "\n",
    "# Reading an existing file\n",
    "# f = open('mod_1.py', 'r')\n",
    "# print(f.tell())\n",
    "# print(f.read())\n",
    "# f.close()\n",
    "\n",
    "# Reading the file from 100th index onwards\n",
    "# f = open('mod_1.py', 'r')\n",
    "# print(f.tell())\n",
    "# f.seek(100)\n",
    "# print(f.tell())\n",
    "# print(f.read())\n",
    "# f.close()\n",
    "\n",
    "# Trying to write into the file in read mode\n",
    "# f = open('mod_1.py', 'r+')\n",
    "# print(f.tell())\n",
    "# f.seek(100)\n",
    "# print(f.tell())\n",
    "# # f.write('\\nHello\\n')  \n",
    "# f.seek(0)\n",
    "# print(f.read())\n",
    "# f.close()"
   ]
  },
  {
   "cell_type": "code",
   "execution_count": 24,
   "metadata": {},
   "outputs": [
    {
     "name": "stdout",
     "output_type": "stream",
     "text": [
      "0\n",
      "\n"
     ]
    }
   ],
   "source": [
    "# Write and read mode - w+\n",
    "# Opening a file into write mode whih is not existing\n",
    "# f = open('f1.py', 'w')     \n",
    "# f.read()\n",
    "# f.close()\n",
    "\n",
    "# Opening a file into write mode whih is already existing contnet is also there in the file\n",
    "# f = open('mod_1.py', 'w')\n",
    "# print(f.tell())\n",
    "# f.write('Hello, Python. We are doing file Handling')\n",
    "# f.close()\n",
    "\n",
    "\n",
    "# Trying to read from the file in write mode\n",
    "# f = open('mod_1.py', 'w+')\n",
    "# print(f.tell())\n",
    "# f.seek(0)\n",
    "# print(f.read())                      \n",
    "# f.close()"
   ]
  },
  {
   "cell_type": "code",
   "execution_count": 27,
   "metadata": {},
   "outputs": [
    {
     "name": "stdout",
     "output_type": "stream",
     "text": [
      "189\n",
      "Zoom Phone: The cloud phone solution, natively built for the Zoom platform\n",
      "40+ Countries. One Global Phone System. All the business phone features you need on the platform you already know.\n"
     ]
    }
   ],
   "source": [
    "# Append and read mode \n",
    "# Append Mode - a\n",
    "\n",
    "# appending into a file which is not existing\n",
    "# f = open('f2.py', 'a')     \n",
    "# f.write('Hello')\n",
    "# f.close()\n",
    "\n",
    "# Appending into an existing file\n",
    "# f = open('mod_1.py', 'a')\n",
    "# print(f.tell())\n",
    "# f.write('40+ Countries. One Global Phone System. All the business phone features you need on the platform you already know.')\n",
    "# f.close()\n",
    "\n",
    "# Appending into an existing file\n",
    "# f = open('mod_1.py', 'a')\n",
    "# print(f.tell())\n",
    "# # f.seek(50)\n",
    "# print(f.tell())\n",
    "# f.write('\\n# UnsupportedOperation: not writable\\n')\n",
    "# f.close()\n",
    "\n",
    "# Trying to Read the file in append mode\n",
    "# f = open('mod_1.py', 'a+')\n",
    "# print(f.tell())\n",
    "# f.seek(0)\n",
    "# print(f.read() )   \n",
    "# f.close()"
   ]
  },
  {
   "cell_type": "code",
   "execution_count": 29,
   "metadata": {},
   "outputs": [
    {
     "name": "stdout",
     "output_type": "stream",
     "text": [
      "What is Lorem Ipsum?\n",
      "Lorem Ipsum is simply dummy text of the printing and typesetting industry. \n",
      "Lorem Ipsum has been the industrys standard dummy text ever since the 1500s, when an unknown printer took a galley of type and scrambled it to make a type specimen book. \n",
      "It has survived not only five centuries, but also the leap into electronic typesetting, remaining essentially unchanged. \n",
      "It was popularised in the 1960s with the release of Letraset sheets containing Lorem Ipsum passages, and more recently with desktop publishing software like Aldus PageMaker including versions of Lorem Ipsum.\n",
      "\n",
      "Why do we use it?\n",
      "It is a long established fact that a reader will be distracted by the readable content of a page when looking at its layout. \n",
      "The point of using Lorem Ipsum is that it has a more-or-less normal distribution of letters, as opposed to using Content here, content here, making it look like readable English. \n",
      "Many desktop publishing packages and web page editors now use Lorem Ipsum as their default model text, and a search for lorem ipsum will uncover many web sites still in their infancy. \n",
      "Various versions have evolved over the years, sometimes by accident, sometimes on purpose (injected humour and the like). <class 'str'>\n"
     ]
    }
   ],
   "source": [
    "# read()\n",
    "f = open('mod_1.py', 'r+')\n",
    "file_out = f.read()\n",
    "print(file_out, type(file_out))\n",
    "f.close()"
   ]
  },
  {
   "cell_type": "code",
   "execution_count": 30,
   "metadata": {},
   "outputs": [
    {
     "name": "stdout",
     "output_type": "stream",
     "text": [
      "What is Lorem Ipsum?\n",
      "Lorem Ipsum is simply dummy t <class 'str'>\n"
     ]
    }
   ],
   "source": [
    "# read(no of char)\n",
    "f = open('mod_1.py', 'r+')\n",
    "file_out = f.read(50)\n",
    "print(file_out, type(file_out))\n",
    "f.close()"
   ]
  },
  {
   "cell_type": "code",
   "execution_count": 31,
   "metadata": {},
   "outputs": [
    {
     "name": "stdout",
     "output_type": "stream",
     "text": [
      "What is Lorem Ipsum?\n",
      " <class 'str'>\n"
     ]
    }
   ],
   "source": [
    "# readine()\n",
    "f = open('mod_1.py', 'r+')\n",
    "file_out = f.readline()\n",
    "print(file_out, type(file_out))\n",
    "f.close()"
   ]
  },
  {
   "cell_type": "code",
   "execution_count": 32,
   "metadata": {},
   "outputs": [
    {
     "name": "stdout",
     "output_type": "stream",
     "text": [
      "['What is Lorem Ipsum?\\n', 'Lorem Ipsum is simply dummy text of the printing and typesetting industry. \\n', 'Lorem Ipsum has been the industrys standard dummy text ever since the 1500s, when an unknown printer took a galley of type and scrambled it to make a type specimen book. \\n', 'It has survived not only five centuries, but also the leap into electronic typesetting, remaining essentially unchanged. \\n', 'It was popularised in the 1960s with the release of Letraset sheets containing Lorem Ipsum passages, and more recently with desktop publishing software like Aldus PageMaker including versions of Lorem Ipsum.\\n', '\\n', 'Why do we use it?\\n', 'It is a long established fact that a reader will be distracted by the readable content of a page when looking at its layout. \\n', 'The point of using Lorem Ipsum is that it has a more-or-less normal distribution of letters, as opposed to using Content here, content here, making it look like readable English. \\n', 'Many desktop publishing packages and web page editors now use Lorem Ipsum as their default model text, and a search for lorem ipsum will uncover many web sites still in their infancy. \\n', 'Various versions have evolved over the years, sometimes by accident, sometimes on purpose (injected humour and the like).'] <class 'list'>\n"
     ]
    }
   ],
   "source": [
    "# readines()\n",
    "f = open('mod_1.py', 'r+')\n",
    "file_out = f.readlines()\n",
    "print(file_out, type(file_out))\n",
    "f.close()"
   ]
  },
  {
   "cell_type": "code",
   "execution_count": 33,
   "metadata": {},
   "outputs": [
    {
     "name": "stdout",
     "output_type": "stream",
     "text": [
      "1229\n",
      "What is Lorem Ipsum?\n",
      "Lorem Ipsum is simply dummy text of the printing and typesetting industry. \n",
      "Lorem Ipsum has been the industrys standard dummy text ever since the 1500s, when an unknown printer took a galley of type and scrambled it to make a type specimen book. \n",
      "It has survived not only five centuries, but also the leap into electronic typesetting, remaining essentially unchanged. \n",
      "It was popularised in the 1960s with the release of Letraset sheets containing Lorem Ipsum passages, and more recently with desktop publishing software like Aldus PageMaker including versions of Lorem Ipsum.\n",
      "\n",
      "Why do we use it?\n",
      "It is a long established fact that a reader will be distracted by the readable content of a page when looking at its layout. \n",
      "The point of using Lorem Ipsum is that it has a more-or-less normal distribution of letters, as opposed to using Content here, content here, making it look like readable English. \n",
      "Many desktop publishing packages and web page editors now use Lorem Ipsum as their default model text, and a search for lorem ipsum will uncover many web sites still in their infancy. \n",
      "Various versions have evolved over the years, sometimes by accident, sometimes on purpose (injected humour and the like).\n"
     ]
    }
   ],
   "source": [
    "f = open('f2.py', 'w+')\n",
    "f.write(\"\"\"What is Lorem Ipsum?\n",
    "Lorem Ipsum is simply dummy text of the printing and typesetting industry. \n",
    "Lorem Ipsum has been the industrys standard dummy text ever since the 1500s, when an unknown printer took a galley of type and scrambled it to make a type specimen book. \n",
    "It has survived not only five centuries, but also the leap into electronic typesetting, remaining essentially unchanged. \n",
    "It was popularised in the 1960s with the release of Letraset sheets containing Lorem Ipsum passages, and more recently with desktop publishing software like Aldus PageMaker including versions of Lorem Ipsum.\n",
    "\n",
    "Why do we use it?\n",
    "It is a long established fact that a reader will be distracted by the readable content of a page when looking at its layout. \n",
    "The point of using Lorem Ipsum is that it has a more-or-less normal distribution of letters, as opposed to using Content here, content here, making it look like readable English. \n",
    "Many desktop publishing packages and web page editors now use Lorem Ipsum as their default model text, and a search for lorem ipsum will uncover many web sites still in their infancy. \n",
    "Various versions have evolved over the years, sometimes by accident, sometimes on purpose (injected humour and the like).\"\"\")\n",
    "print(f.tell())\n",
    "f.seek(0)\n",
    "print(f.read())\n",
    "f.close()\n"
   ]
  },
  {
   "cell_type": "code",
   "execution_count": 35,
   "metadata": {},
   "outputs": [
    {
     "name": "stdout",
     "output_type": "stream",
     "text": [
      "21\n",
      "['What is Lorem Ipsum?\\n']\n"
     ]
    }
   ],
   "source": [
    "# f.writelines\n",
    "# f = open('f1.py', 'w+')\n",
    "# f.writelines('What is Lorem Ipsum?\\n')\n",
    "# print(f.tell())\n",
    "# f.seek(0)\n",
    "# print(f.readlines())\n",
    "# f.close()"
   ]
  },
  {
   "cell_type": "code",
   "execution_count": null,
   "metadata": {},
   "outputs": [],
   "source": [
    "# 1. Give me the no of letters, words and sentences into the file\n",
    "# 2. copy the content of python.png to new.png"
   ]
  },
  {
   "cell_type": "code",
   "execution_count": 47,
   "metadata": {},
   "outputs": [
    {
     "name": "stdout",
     "output_type": "stream",
     "text": [
      "No of lines into the file = 11\n",
      "No of words into the file = 204\n",
      "No of words into the file = 1229\n"
     ]
    }
   ],
   "source": [
    "from functools import reduce\n",
    "f = open('f1.py', 'r+')\n",
    "print(f'No of lines into the file = {len(f.readlines())}')\n",
    "f.seek(0)\n",
    "word_read = f.read().split()\n",
    "print(f'No of words into the file = {len(word_read)}')\n",
    "f.seek(0)\n",
    "print(f'No of words into the file = {len(f.read())}')\n",
    "f.close()"
   ]
  },
  {
   "cell_type": "code",
   "execution_count": 50,
   "metadata": {},
   "outputs": [],
   "source": [
    "# with open('file_name', 'mode') as f:\n",
    "#     stat1\n",
    "#     stat2\n",
    "\n",
    "\n",
    "with open('python.png', 'rb') as fr:\n",
    "    with open('new.png', 'wb') as fw:\n",
    "        fw.write(fr.read())"
   ]
  },
  {
   "cell_type": "code",
   "execution_count": 52,
   "metadata": {},
   "outputs": [
    {
     "name": "stdout",
     "output_type": "stream",
     "text": [
      "What is Lorem Ipsum?\n",
      "Lorem Ipsum is simply dummy text of the printing and typesetting industry. \n",
      "Lorem Ipsum has been the industrys standard dummy text ever since the 1500s, when an unknown printer took a galley of type and scrambled it to make a type specimen book. \n",
      "\n",
      "Hello\n",
      "It has survived not only five centuries, but also the leap into electronic typesetting, remaining essentially unchanged. \n",
      "It was popularised in the 1960s with the release of Letraset sheets containing Lorem Ipsum passages, and more recently with desktop publishing software like Aldus PageMaker including versions of Lorem Ipsum.\n",
      "\n",
      "Why do we use it?\n",
      "It is a long established fact that a reader will be distracted by the readable content of a page when looking at its layout. \n",
      "The point of using Lorem Ipsum is that it has a more-or-less normal distribution of letters, as opposed to using Content here, content here, making it look like readable English. \n",
      "Many desktop publishing packages and web page editors now use Lorem Ipsum as their default model text, and a search for lorem ipsum will uncover many web sites still in their infancy. \n",
      "Various versions have evolved over the years, sometimes by accident, sometimes on purpose (injected humour and the like).\n"
     ]
    }
   ],
   "source": [
    "f = open('mod_1.py', 'r+')\n",
    "file_content = f.readlines()\n",
    "file_content.insert(3, '\\nHello\\n')\n",
    "f.seek(0)\n",
    "f.writelines(file_content)\n",
    "f.seek(0)\n",
    "print(f.read())\n",
    "f.close()"
   ]
  },
  {
   "cell_type": "code",
   "execution_count": null,
   "metadata": {},
   "outputs": [],
   "source": [
    "for, while, if , elif, elkse, def, class, with, try, "
   ]
  },
  {
   "cell_type": "code",
   "execution_count": null,
   "metadata": {},
   "outputs": [],
   "source": []
  },
  {
   "cell_type": "code",
   "execution_count": 56,
   "metadata": {},
   "outputs": [
    {
     "data": {
      "text/plain": [
       "'************Python************'"
      ]
     },
     "execution_count": 56,
     "metadata": {},
     "output_type": "execute_result"
    }
   ],
   "source": [
    "my_str = 'Python'\n",
    "my_str.rjust(18, '*').ljust(30, '*')"
   ]
  },
  {
   "cell_type": "code",
   "execution_count": 4,
   "metadata": {},
   "outputs": [],
   "source": [
    "with open('f1.txt','r') as rf:\n",
    "    with open('f2.txt','a') as wf:\n",
    "        for i in rf.readlines():\n",
    "            name, sal= i.split(',')\n",
    "            wf.write(f'{name} salary is {sal}')"
   ]
  },
  {
   "cell_type": "code",
   "execution_count": 3,
   "metadata": {},
   "outputs": [],
   "source": []
  },
  {
   "cell_type": "code",
   "execution_count": null,
   "metadata": {},
   "outputs": [],
   "source": []
  },
  {
   "cell_type": "code",
   "execution_count": null,
   "metadata": {},
   "outputs": [],
   "source": []
  },
  {
   "cell_type": "code",
   "execution_count": null,
   "metadata": {},
   "outputs": [],
   "source": []
  },
  {
   "cell_type": "code",
   "execution_count": null,
   "metadata": {},
   "outputs": [],
   "source": []
  },
  {
   "cell_type": "code",
   "execution_count": null,
   "metadata": {},
   "outputs": [],
   "source": []
  },
  {
   "cell_type": "code",
   "execution_count": null,
   "metadata": {},
   "outputs": [],
   "source": []
  },
  {
   "cell_type": "code",
   "execution_count": null,
   "metadata": {},
   "outputs": [],
   "source": []
  },
  {
   "cell_type": "code",
   "execution_count": null,
   "metadata": {},
   "outputs": [],
   "source": []
  },
  {
   "cell_type": "code",
   "execution_count": null,
   "metadata": {},
   "outputs": [],
   "source": []
  },
  {
   "cell_type": "code",
   "execution_count": null,
   "metadata": {},
   "outputs": [],
   "source": []
  },
  {
   "cell_type": "code",
   "execution_count": null,
   "metadata": {},
   "outputs": [],
   "source": []
  },
  {
   "cell_type": "code",
   "execution_count": null,
   "metadata": {},
   "outputs": [],
   "source": []
  },
  {
   "cell_type": "code",
   "execution_count": null,
   "metadata": {},
   "outputs": [],
   "source": []
  },
  {
   "cell_type": "code",
   "execution_count": null,
   "metadata": {},
   "outputs": [],
   "source": []
  },
  {
   "cell_type": "code",
   "execution_count": null,
   "metadata": {},
   "outputs": [],
   "source": []
  },
  {
   "cell_type": "code",
   "execution_count": null,
   "metadata": {},
   "outputs": [],
   "source": []
  },
  {
   "cell_type": "code",
   "execution_count": null,
   "metadata": {},
   "outputs": [],
   "source": []
  },
  {
   "cell_type": "code",
   "execution_count": null,
   "metadata": {},
   "outputs": [],
   "source": []
  },
  {
   "cell_type": "code",
   "execution_count": null,
   "metadata": {},
   "outputs": [],
   "source": []
  },
  {
   "cell_type": "code",
   "execution_count": null,
   "metadata": {},
   "outputs": [],
   "source": []
  },
  {
   "cell_type": "code",
   "execution_count": null,
   "metadata": {},
   "outputs": [],
   "source": []
  },
  {
   "cell_type": "code",
   "execution_count": null,
   "metadata": {},
   "outputs": [],
   "source": []
  },
  {
   "cell_type": "code",
   "execution_count": null,
   "metadata": {},
   "outputs": [],
   "source": []
  },
  {
   "cell_type": "code",
   "execution_count": null,
   "metadata": {},
   "outputs": [],
   "source": []
  },
  {
   "cell_type": "code",
   "execution_count": null,
   "metadata": {},
   "outputs": [],
   "source": []
  },
  {
   "cell_type": "code",
   "execution_count": null,
   "metadata": {},
   "outputs": [],
   "source": []
  },
  {
   "cell_type": "code",
   "execution_count": null,
   "metadata": {},
   "outputs": [],
   "source": []
  },
  {
   "cell_type": "code",
   "execution_count": null,
   "metadata": {},
   "outputs": [],
   "source": []
  },
  {
   "cell_type": "code",
   "execution_count": null,
   "metadata": {},
   "outputs": [],
   "source": []
  },
  {
   "cell_type": "code",
   "execution_count": null,
   "metadata": {},
   "outputs": [],
   "source": []
  },
  {
   "cell_type": "code",
   "execution_count": null,
   "metadata": {},
   "outputs": [],
   "source": []
  },
  {
   "cell_type": "code",
   "execution_count": null,
   "metadata": {},
   "outputs": [],
   "source": []
  },
  {
   "cell_type": "code",
   "execution_count": null,
   "metadata": {},
   "outputs": [],
   "source": []
  },
  {
   "cell_type": "code",
   "execution_count": null,
   "metadata": {},
   "outputs": [],
   "source": []
  }
 ],
 "metadata": {
  "kernelspec": {
   "display_name": "Python 3",
   "language": "python",
   "name": "python3"
  },
  "language_info": {
   "codemirror_mode": {
    "name": "ipython",
    "version": 3
   },
   "file_extension": ".py",
   "mimetype": "text/x-python",
   "name": "python",
   "nbconvert_exporter": "python",
   "pygments_lexer": "ipython3",
   "version": "3.7.6"
  },
  "varInspector": {
   "cols": {
    "lenName": 16,
    "lenType": 16,
    "lenVar": 40
   },
   "kernels_config": {
    "python": {
     "delete_cmd_postfix": "",
     "delete_cmd_prefix": "del ",
     "library": "var_list.py",
     "varRefreshCmd": "print(var_dic_list())"
    },
    "r": {
     "delete_cmd_postfix": ") ",
     "delete_cmd_prefix": "rm(",
     "library": "var_list.r",
     "varRefreshCmd": "cat(var_dic_list()) "
    }
   },
   "types_to_exclude": [
    "module",
    "function",
    "builtin_function_or_method",
    "instance",
    "_Feature"
   ],
   "window_display": false
  }
 },
 "nbformat": 4,
 "nbformat_minor": 2
}
