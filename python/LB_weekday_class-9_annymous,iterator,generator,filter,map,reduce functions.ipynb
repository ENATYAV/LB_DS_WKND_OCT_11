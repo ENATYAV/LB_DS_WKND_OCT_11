{
 "cells": [
  {
   "cell_type": "markdown",
   "metadata": {},
   "source": [
    "# topic to be covered\n",
    "#1. Anonymous function or Lamda function\n",
    "#2. iterator\n",
    "#3. generator\n",
    "#4. filter--> used for filtering--> length out sequence reduces\n",
    "#5. map function ---> used for mapping-->length of sequence remains same\n",
    "#6. reduce\n",
    "#7. enumerate\n",
    "#8. zip\n",
    "#9. any and all\n",
    "#10. advance min() ,max()\n",
    "#11 advance sorted\n",
    "#12 doc strings"
   ]
  },
  {
   "cell_type": "markdown",
   "metadata": {},
   "source": [
    "# Anonymous or lamda function"
   ]
  },
  {
   "cell_type": "code",
   "execution_count": null,
   "metadata": {},
   "outputs": [],
   "source": [
    "# as name implies this has no name\n",
    "# we no need to define it as normal function\n",
    "# used to perform some specific task \n",
    "# code for this function can be written in one line\n",
    "# we can assigne to a variable but generally donot\n",
    "# we use this with builtin functions like map, filter, reduce\n",
    "\n",
    "#syntex:\n",
    "# lambda var: expersession\n",
    "# note: in this we donot write return statement\n"
   ]
  },
  {
   "cell_type": "code",
   "execution_count": 18,
   "metadata": {},
   "outputs": [
    {
     "name": "stdout",
     "output_type": "stream",
     "text": [
      "10\n",
      "False\n",
      "True\n",
      "9\n",
      "navneet\n",
      "30\n",
      "30\n",
      "200\n",
      "200\n",
      "True\n",
      "True\n",
      "True\n",
      "True\n",
      "True\n"
     ]
    }
   ],
   "source": [
    "# normal function\n",
    "def f1():\n",
    "    return 10\n",
    "a=f1()\n",
    "print(a)\n",
    "\n",
    "# lambda function\n",
    "# (lambda var: expersession)(4) # 4 is passed as argument\n",
    "\n",
    "##### OR ########\n",
    "# a= (lambda var: expersession)(4) # 4 is passed as argument\n",
    "### OR #######\n",
    "# a= (lambda var: expersession)\n",
    "# a(4)\n",
    "\n",
    "# example: check if number is even or not\n",
    "print((lambda num: True if num %2 ==0 else False)(5))\n",
    "\n",
    "a=(lambda num: True if num %2 ==0 else False)\n",
    "print(a(4))\n",
    "\n",
    "# example: find square of a number\n",
    "(lambda num : num**2 )(5)\n",
    "b=(lambda num : num**2 )\n",
    "print(b(3))\n",
    "\n",
    "\n",
    "# example: find name of users from email ID\n",
    "user_email='navneet@gmail.com'\n",
    "e= (lambda email : email[:email.find('@')])\n",
    "print(e(user_email))\n",
    "# example: add two numbers\n",
    "add = lambda a,b : a+b\n",
    "print(add(10,20))\n",
    "#second way\n",
    "add = (lambda a,b : a+b)(10,20)\n",
    "print(add)\n",
    "# example: multiply two numbers\n",
    "multiply = lambda a,b : a*b\n",
    "print(multiply(10,20))\n",
    "# second way\n",
    "multiply = (lambda a,b : a*b)(10,20)\n",
    "print(multiply)\n",
    "\n",
    "# example: find odd even\n",
    "# normal way\n",
    "def is_even(a):\n",
    "    return a%2==0\n",
    "print(is_even(10))\n",
    "# lamda expression\n",
    "even_num= (lambda a : a%2==0)\n",
    "print(even_num(10))\n",
    "\n",
    "# lambda expression with if-else\n",
    "\n",
    "# Example: string lenght is greater than five or not\n",
    "\n",
    "# with normal way\n",
    "def func(s):\n",
    "    if len(s)> 5:\n",
    "        return True\n",
    "    return False\n",
    "print(func('navneet'))\n",
    "# with lambda expression with if-else\n",
    "str_len= lambda s: True if len(s)>5 else False\n",
    "print(str_len('navneet'))\n",
    "## OR ####\n",
    "str_len= lambda s:len(s)>5\n",
    "print(str_len('navneet'))\n"
   ]
  },
  {
   "cell_type": "markdown",
   "metadata": {},
   "source": [
    "# map function "
   ]
  },
  {
   "cell_type": "code",
   "execution_count": 3,
   "metadata": {},
   "outputs": [
    {
     "name": "stdout",
     "output_type": "stream",
     "text": [
      "['navneet', 'smita', 'mridul']\n"
     ]
    }
   ],
   "source": [
    "# map function ---> used for mapping-->length of sequence remains same\n",
    "# [1,2,3,4]-->[1,4,9,16]-->length is same\n",
    "# this take a function and a sequence\n",
    "# returns map object and can run loop only once.(for multiple time we can convert map ojject in to other like list, tuple etc)\n",
    "\n",
    "#syntex of map function\n",
    "# map(function, sequence)--->return map object which is iterable\n",
    "\n",
    "\n",
    "# example: find name of user'ss from email ID's\n",
    "lst_email=['navneet@gmail.com','smita@gmail.com','mridul@gmail.com']\n",
    "user_lst=list(map(lambda email : email[:email.find('@')], lst_email)) # map object is converted into list\n",
    "print(user_lst)\n"
   ]
  },
  {
   "cell_type": "code",
   "execution_count": 15,
   "metadata": {},
   "outputs": [
    {
     "name": "stdout",
     "output_type": "stream",
     "text": [
      "['navneet', 'smita', 'mridul']\n",
      "\n",
      "['navneet', 'smita', 'mridul']\n",
      "\n",
      "[<function <listcomp>.<lambda> at 0x000001B9EE03E5E8>, <function <listcomp>.<lambda> at 0x000001B9EE03EB88>, <function <listcomp>.<lambda> at 0x000001B9EE03EDC8>]\n"
     ]
    }
   ],
   "source": [
    "# own map function for user name find from email ID's\n",
    "\n",
    "def email_slice(email):\n",
    "    return email[:email.find('@')]\n",
    "def my_map(email_slice, lst):\n",
    "    out_lst= []\n",
    "    for i in lst:\n",
    "        out_lst.append(email_slice(i))\n",
    "    return out_lst\n",
    "print(my_map(email_slice, ['navneet@gmail.com','smita@gmail.com','mridul@gmail.com']))\n",
    "\n",
    "print()\n",
    "\n",
    "# using list comprehension\n",
    "lst_email=['navneet@gmail.com','smita@gmail.com','mridul@gmail.com']\n",
    "print([i[:i.find('@')] for i in lst_email])"
   ]
  },
  {
   "cell_type": "code",
   "execution_count": 8,
   "metadata": {},
   "outputs": [
    {
     "name": "stdout",
     "output_type": "stream",
     "text": [
      "[1, 4, 9, 16]\n",
      "[1, 4, 9, 16]\n"
     ]
    }
   ],
   "source": [
    "# do square of numbers using map function\n",
    "square= list(map(lambda num : num**2, [1,2,3,4]))\n",
    "print(square)\n",
    "\n",
    "# own map function\n",
    "\n",
    "def square_num(num):\n",
    "    return num**2\n",
    "def my_square(square, l):\n",
    "    out_lst=[]\n",
    "    for i in l:\n",
    "        out_lst.append(square_num(i))\n",
    "    return out_lst\n",
    "print(my_square(square_num, [1,2,3,4]))"
   ]
  },
  {
   "cell_type": "markdown",
   "metadata": {},
   "source": [
    "# filter function"
   ]
  },
  {
   "cell_type": "code",
   "execution_count": 19,
   "metadata": {},
   "outputs": [
    {
     "name": "stdout",
     "output_type": "stream",
     "text": [
      "['abcd@gmail.com', 'pxysz@gmail.com']\n"
     ]
    }
   ],
   "source": [
    "# syntax is similer to map function\n",
    "# returns filter object and can run loop only once.(for multiple time we can convert filter ojject in to other like list, tuple etc)\n",
    "# filter(function, sequence)\n",
    "\n",
    "\n",
    "#example: find user id which has letter greater than 3\n",
    "user_lst=['abcd@gmail.com','pxysz@gmail.com','abc@gmail.com','xyz@gmail.com']\n",
    "l=list(filter(lambda email : len(email[:email.find('@')])>3, user_lst))\n",
    "print(l)\n"
   ]
  },
  {
   "cell_type": "markdown",
   "metadata": {},
   "source": [
    "# reduce function"
   ]
  },
  {
   "cell_type": "code",
   "execution_count": 23,
   "metadata": {},
   "outputs": [
    {
     "name": "stdout",
     "output_type": "stream",
     "text": [
      "[11, 12, 13, 14, 15, 16, 17, 18, 19, 20]\n",
      "\n",
      "155\n",
      "\n",
      "670442572800\n",
      "\n",
      "20\n"
     ]
    }
   ],
   "source": [
    "# this is a aggregate function\n",
    "# used in data analysis\n",
    "# this is not in builtin namespace so to use we have to import it from functools\n",
    "# used to find, min, max,sum of numbers\n",
    "# donot returns any thing\n",
    "\n",
    "from functools import reduce\n",
    "\n",
    "# example: do summation of all the numbers in a list\n",
    "lst_num= list(range(11,21))\n",
    "print(lst_num)\n",
    "print()\n",
    "print(reduce(lambda a,b : a+b, lst_num))\n",
    "print()\n",
    "print(reduce(lambda a,b : a*b, lst_num))\n",
    "print()\n",
    "print(reduce(lambda a,b : a if a>b else b, lst_num))"
   ]
  },
  {
   "cell_type": "markdown",
   "metadata": {},
   "source": [
    "# iterable and iterators"
   ]
  },
  {
   "cell_type": "code",
   "execution_count": 32,
   "metadata": {},
   "outputs": [
    {
     "name": "stdout",
     "output_type": "stream",
     "text": [
      "['__add__', '__class__', '__contains__', '__delattr__', '__delitem__', '__dir__', '__doc__', '__eq__', '__format__', '__ge__', '__getattribute__', '__getitem__', '__gt__', '__hash__', '__iadd__', '__imul__', '__init__', '__init_subclass__', '__iter__', '__le__', '__len__', '__lt__', '__mul__', '__ne__', '__new__', '__reduce__', '__reduce_ex__', '__repr__', '__reversed__', '__rmul__', '__setattr__', '__setitem__', '__sizeof__', '__str__', '__subclasshook__', 'append', 'clear', 'copy', 'count', 'extend', 'index', 'insert', 'pop', 'remove', 'reverse', 'sort']\n",
      "\n",
      "['__class__', '__delattr__', '__dir__', '__doc__', '__eq__', '__format__', '__ge__', '__getattribute__', '__gt__', '__hash__', '__init__', '__init_subclass__', '__iter__', '__le__', '__lt__', '__ne__', '__new__', '__next__', '__reduce__', '__reduce_ex__', '__repr__', '__setattr__', '__sizeof__', '__str__', '__subclasshook__']\n",
      "<list_iterator object at 0x000001B9EEA008C8>\n",
      "1\n",
      "2\n",
      "3\n",
      "4\n",
      "\n",
      "1\n",
      "2\n",
      "3\n",
      "4\n"
     ]
    }
   ],
   "source": [
    "# iterable: any thing on which we can run the loop\n",
    "# example: list, tuple, string,list, bytes, bytearray, map, filter,zip,enumerate,generator\n",
    "# to check iterable we use print(dir(function name) and shows __iter__ than this is iterable\n",
    "\n",
    "print(dir(list))\n",
    "print()\n",
    "print(dir(enumerate))\n",
    "\n",
    "# iterator:  is a object in python  which implement iter() & next() method \n",
    "# iter() is function which returns iterable object of iterable\n",
    "\n",
    "# example:\n",
    "lst=[1,2,3,4]\n",
    "\n",
    "my_iter=iter(lst)\n",
    "print(my_iter)\n",
    "print(next(my_iter)) # 1st element\n",
    "print(next(my_iter)) # 2nd element\n",
    "print(next(my_iter)) # 3rd element\n",
    "print(next(my_iter)) # 4th element\n",
    "# print(next(my_iter)) # 5th element # StopIteration:  because lst has 4 elements only\n",
    "\n",
    "print()\n",
    "#same concept works on loops also\n",
    "for i in lst: # that call iter function\n",
    "    print(i)  # calls next function"
   ]
  },
  {
   "cell_type": "markdown",
   "metadata": {},
   "source": [
    "# generator"
   ]
  },
  {
   "cell_type": "code",
   "execution_count": 7,
   "metadata": {},
   "outputs": [
    {
     "name": "stdout",
     "output_type": "stream",
     "text": [
      "1816\n",
      "\n",
      "<generator object <genexpr> at 0x000001E918C32C48>\n",
      "120\n",
      "\n",
      "<generator object my_gen at 0x000001E918C327C8>\n",
      "10\n",
      "30\n",
      "(10+20j)\n",
      "python\n",
      "[10, 20, 30, 40]\n",
      "(10, 20, 30, 40)\n",
      "\n",
      "10\n",
      "30\n",
      "(10+20j)\n",
      "python\n",
      "[10, 20, 30, 40]\n",
      "(10, 20, 30, 40)\n",
      "\n",
      "10\n",
      "30\n",
      "(10+20j)\n",
      "python\n",
      "[10, 20, 30, 40]\n",
      "(10, 20, 30, 40)\n"
     ]
    }
   ],
   "source": [
    "# generator is also an iterable\n",
    "# generators used when we want to create a  user define sequence \n",
    "# generator objects only take 120 bytes of memory, so this more memory efficient\n",
    "# it generates sequence when it is required\n",
    "# in generator once element is generated and used than elment will be garbage collection\n",
    "# we can run loop\n",
    "\n",
    "# note: 1. list comrehnsion returns list\n",
    "#       2. tuple comprehenshion returns generator\n",
    "\n",
    "import sys\n",
    "lst=list(range(11,201))\n",
    "print(sys.getsizeof(lst))\n",
    "print()\n",
    "\n",
    "tpl= (i for i in range(11,201)) # returing generator\n",
    "print(tpl)\n",
    "print(sys.getsizeof(tpl))\n",
    "\n",
    "# a function will be generator if we use  'yield' key word\n",
    "\n",
    "print()\n",
    "def my_gen():\n",
    "    yield 10\n",
    "    yield 10+20\n",
    "    yield 10+20j\n",
    "    yield 'python'\n",
    "    yield [10,20,30,40]\n",
    "    yield (10,20,30,40)\n",
    "g=my_gen()\n",
    "print(g)\n",
    "# print(sys.getsizeof(g))\n",
    "for i in g:\n",
    "    print(i)\n",
    "# note: once we runs loop than cannot run loop again on g\n",
    "for i in g:\n",
    "    print(i) \n",
    "print()  \n",
    "\n",
    "# loops can be run multiple time on iterator\n",
    "for i in my_gen(): \n",
    "    print(i)\n",
    "print()\n",
    "for i in my_gen():\n",
    "    print(i) \n",
    " \n",
    "\n",
    "### or ####\n",
    "# my_iter=iter(g)\n",
    "# print(next(my_iter))\n",
    "# print(next(my_iter))\n",
    "# print(next(my_iter))\n",
    "# print(next(my_iter))\n",
    "# print(next(my_iter))\n",
    "# print(next(my_iter))\n"
   ]
  },
  {
   "cell_type": "markdown",
   "metadata": {},
   "source": [
    "# enumerate"
   ]
  },
  {
   "cell_type": "code",
   "execution_count": 24,
   "metadata": {},
   "outputs": [
    {
     "name": "stdout",
     "output_type": "stream",
     "text": [
      "0:abc\n",
      "1:abcdef\n",
      "2:harshit\n",
      "\n",
      "0:abc\n",
      "1:abcdef\n",
      "2:harshit\n",
      "0\n"
     ]
    }
   ],
   "source": [
    "# used to track position of item\n",
    "# enumerate returns tuple with item position and item\n",
    "\n",
    "# without enumerate function\n",
    "names=['abc','abcdef','harshit']\n",
    "# out put->\n",
    "# 0-->'abc'\n",
    "# 1--> 'abcdef'\n",
    "# 2-->'harshit'\n",
    "pos=0\n",
    "for name in names:\n",
    "    print(f'{pos}:{name}')\n",
    "    pos+=1\n",
    "\n",
    "print()\n",
    "# with enumerate function\n",
    "for pos,name in enumerate(names):\n",
    "    print(f'{pos}:{name}')\n",
    "    \n",
    "# example : define a function that takes two arguments\n",
    "# 1) list containing string\n",
    "# 2)string that want to find in your list\n",
    "# this function will return the index of string in your list and if string is not present then return -1\n",
    "names=['abc','abcdef','harshit']\n",
    "def find_pos(l,target):\n",
    "    for pos, name in  enumerate(l):\n",
    "        if name== target:\n",
    "            return pos\n",
    "    return -1\n",
    "print(find_pos(names,'abc'))\n",
    "\n"
   ]
  },
  {
   "cell_type": "markdown",
   "metadata": {},
   "source": [
    "# zip function"
   ]
  },
  {
   "cell_type": "code",
   "execution_count": 29,
   "metadata": {},
   "outputs": [
    {
     "name": "stdout",
     "output_type": "stream",
     "text": [
      "<zip object at 0x000001E91A981C48>\n",
      "[('user1', 'navneet'), ('user2', 'smita'), ('user3', 'mridul')]\n",
      "{'user1': 'navneet', 'user2': 'smita', 'user3': 'mridul'}\n",
      "\n",
      "<zip object at 0x000001E91ABB4108>\n",
      "[('user1', 'navneet'), ('user2', 'smita')]\n",
      "{'user1': 'navneet', 'user2': 'smita'}\n"
     ]
    }
   ],
   "source": [
    "# zip function returns tuple\n",
    "\n",
    "user_id= ['user1','user2','user3']\n",
    "names=['navneet','smita','mridul']\n",
    "\n",
    "# zip return-->('user','navneet'),('user2','smita'),('user3','mridul')\n",
    "print(zip(user_id,names)) #  zip object which is iterator\n",
    "print(list(zip(user_id,names))) # converted to list\n",
    "print(dict(zip(user_id,names))) # converted to dictornary\n",
    "# zipping will be done till samllest lenght list\n",
    "\n",
    "print()\n",
    "user_id= ['user1','user2']\n",
    "names=['navneet','smita','mridul']\n",
    "print(zip(user_id,names)) #  zip object which is iterator\n",
    "print(list(zip(user_id,names))) # converted to list\n",
    "print(dict(zip(user_id,names))) #  converted to dictornary\n"
   ]
  },
  {
   "cell_type": "code",
   "execution_count": 32,
   "metadata": {},
   "outputs": [
    {
     "name": "stdout",
     "output_type": "stream",
     "text": [
      "<zip object at 0x000001E91AB81788>\n",
      "[('user1', 'navneet', 'navneet', 'yadav'), ('user2', 'smita', 'smita', 'yadav')]\n"
     ]
    }
   ],
   "source": [
    "user_id= ['user1','user2']\n",
    "names=['navneet','smita','mridul']\n",
    "last_names=['yadav','yadav','yadav']\n",
    "print(zip(user_id,names,names,last_names)) #  zip object which is iterator\n",
    "print(list(zip(user_id,names,names,last_names))) # converted to list\n",
    "# print(dict(zip(user_id,names,names,last_names))) #  cannot converted to dictornary, ValueError: dictionary update sequence element #0 has length 4; 2 is required\n"
   ]
  },
  {
   "cell_type": "markdown",
   "metadata": {},
   "source": [
    "# *args or * operator with zip"
   ]
  },
  {
   "cell_type": "code",
   "execution_count": 34,
   "metadata": {},
   "outputs": [
    {
     "name": "stdout",
     "output_type": "stream",
     "text": [
      "[(1, 3, 5, 7), (2, 4, 6, 8)]\n",
      "(1, 3, 5, 7)\n",
      "(2, 4, 6, 8)\n"
     ]
    }
   ],
   "source": [
    "l=[(1,2),(3,4),(5,6),(7,8)]\n",
    "#l1=[1,3,5,7], l2=[2,4,6,8]\n",
    "print(list(zip(*l)))\n",
    "l1,l2= list(zip(*l))\n",
    "print(l1)\n",
    "print(l2)"
   ]
  },
  {
   "cell_type": "code",
   "execution_count": 36,
   "metadata": {},
   "outputs": [
    {
     "name": "stdout",
     "output_type": "stream",
     "text": [
      "[2, 5, 7, 9]\n"
     ]
    }
   ],
   "source": [
    "l1=[1,4,3,9]\n",
    "l2=[2,5,7,8]\n",
    "# find the list of max no in both list\n",
    "\n",
    "new_list=[]\n",
    "for pair in zip(l1,l2):\n",
    "    new_list.append(max(pair))\n",
    "print(new_list)"
   ]
  },
  {
   "cell_type": "code",
   "execution_count": 47,
   "metadata": {},
   "outputs": [
    {
     "name": "stdout",
     "output_type": "stream",
     "text": [
      "[4.0, 5.0, 6.0]\n"
     ]
    }
   ],
   "source": [
    "# exercise: define a function that takes any number of lost containing numbers\n",
    "# input-[1,2,3],[4,5,6],[7,8,9]\n",
    "# return average (1+4+7)/3, (2+5+78/3,(3+6+9)/3\n",
    "# try to use lamda function\n",
    "\n",
    "# # for 2 list\n",
    "# def average_finder(l1,l2):\n",
    "#     averge=[]\n",
    "#     for pair in zip(l1,l2):\n",
    "#         average.append(sum(pair)/len(pair))\n",
    "#     return average\n",
    "# print(average_finder([1,2,3],[4,5,6]))\n",
    "\n",
    "# for n number of list\n",
    "# def average_finder(*args): # for variable arguments and gather all list into tuple\n",
    "#     averge=[]\n",
    "#     for pair in zip(*args): # this * operator will unpack tuple returned by first *args\n",
    "#         average.append(sum(pair)/len(pair))\n",
    "#     return average\n",
    "# print(average_finder([1,2,3],[4,5,6],[7,8,9]))\n",
    "\n",
    "# for n number of list with lambda\n",
    "average_finder= lambda *args : [sum(pair)/len(pair) for pair in zip(*args)]\n",
    "print(average_finder([1,2,3],[4,5,6],[7,8,9]))   \n"
   ]
  },
  {
   "cell_type": "markdown",
   "metadata": {},
   "source": [
    "# any and all function"
   ]
  },
  {
   "cell_type": "code",
   "execution_count": 60,
   "metadata": {},
   "outputs": [
    {
     "name": "stdout",
     "output_type": "stream",
     "text": [
      "[True, True, True, True, True]\n",
      "True\n",
      "True\n",
      "[True, True, False, True, True]\n",
      "False\n",
      "False\n",
      "True\n",
      "False\n"
     ]
    }
   ],
   "source": [
    "# all function checked all values in iterable are True or not-->if all True than return True else False\n",
    "# any function checked any value in iterable is True or not-->-->if any True than return True else False\n",
    "\n",
    "numbers1=[2,4,6,8,10]\n",
    "\n",
    "# find number are even or odd\n",
    "\n",
    "# all function with loop\n",
    "even1=[]\n",
    "for num in numbers1:\n",
    "    even1.append(num%2==0)\n",
    "print(even1)  \n",
    "print(all([True, True, True, True, True]))\n",
    "\n",
    "# all function with list comprehension\n",
    "print(all([num%2==0 for num in numbers1]))\n",
    "\n",
    "numbers1=[2,4,5,8,10]\n",
    "\n",
    "# all function with loop\n",
    "even1=[]\n",
    "for num in numbers1:\n",
    "    even1.append(num%2==0)\n",
    "print(even1)  \n",
    "print(all([True, True, False, True, True]))\n",
    "\n",
    "# all function with list comprehension\n",
    "print(all([num%2==0 for num in numbers1]))\n",
    "\n",
    "####### any function\n",
    "numbers2=[1,2,3,4,5,6]\n",
    "# all function with list comprehension\n",
    "print(any([num%2==0 for num in numbers2])) # will return True\n",
    "numbers3=[1,3,5,7,9,11]\n",
    "# all function with list comprehension\n",
    "print(any([num%2==0 for num in numbers3])) # will return False\n"
   ]
  },
  {
   "cell_type": "code",
   "execution_count": 62,
   "metadata": {},
   "outputs": [
    {
     "name": "stdout",
     "output_type": "stream",
     "text": [
      "6\n",
      "wron input, enter float or int only\n"
     ]
    }
   ],
   "source": [
    "# exercise : find total of all numbers \n",
    "def my_sum(*args):\n",
    "    if all([(type(arg)== int or type(arg)== float) for arg in args]):\n",
    "        total=0\n",
    "        for num in args:\n",
    "            total+= num\n",
    "        return total\n",
    "    else:\n",
    "        return 'wrong input, enter float or int only'\n",
    "print(my_sum(1,2,3))\n",
    "print(my_sum(1,2,3,'navneet'))"
   ]
  },
  {
   "cell_type": "markdown",
   "metadata": {},
   "source": [
    "# advance min() and max()"
   ]
  },
  {
   "cell_type": "code",
   "execution_count": 3,
   "metadata": {},
   "outputs": [
    {
     "name": "stdout",
     "output_type": "stream",
     "text": [
      "navneet\n",
      "smita\n",
      "navneet\n",
      "smita\n",
      "{'name': 'harshit', 'score': 90, 'age': 24}\n",
      "harshit\n",
      "{'name': 'harshit', 'score': 90, 'age': 24}\n",
      "harshit\n"
     ]
    }
   ],
   "source": [
    "# here we pass key word as function\n",
    "\n",
    "# example:-\n",
    "names=['navneet','smita','mridul']\n",
    "#find the string with max length\n",
    "\n",
    "# with normal function\n",
    "def func(item):\n",
    "    return len(item)\n",
    "print(max(names, key=func)) # here we donot call func, and max function find maximum according to key= func\n",
    "print(min(names, key=func))\n",
    "\n",
    "# with lambda expression\n",
    "print(max(names, key= lambda item : len(item))) \n",
    "print(min(names, key= lambda item : len(item)))\n",
    "\n",
    "\n",
    "#example: find stundent name  according to score maximum\n",
    "s=[\n",
    "    {'name':'harshit', 'score':90,'age': 24},\n",
    "    {'name':'mohit', 'score':70,'age': 19},\n",
    "    {'name':'rohit', 'score':60,'age': 23}\n",
    "]\n",
    "\n",
    "print(max(s,key= lambda item : item['score'])) #dictionay according to maximum score \n",
    "print(max(s,key= lambda item : item['score'])['name']) # student name according to score  maximum\n",
    "\n",
    "######### by get method #############\n",
    "print(max(s,key= lambda item : item.get('score'))) #dictionay according to maximum score \n",
    "print(max(s,key= lambda item : item.get('score')).get('name')) #dictionay according to maximum score "
   ]
  },
  {
   "cell_type": "markdown",
   "metadata": {},
   "source": [
    "# advance sorted() function"
   ]
  },
  {
   "cell_type": "code",
   "execution_count": 13,
   "metadata": {},
   "outputs": [
    {
     "name": "stdout",
     "output_type": "stream",
     "text": [
      "['apples', 'banana', 'grapes', 'kiwi']\n",
      "['apples', 'banana', 'grapes', 'kiwi']\n",
      "[{'model': 'faith apollo venus', 'price': 35000}, {'model': 'taylor 814ce', 'price': 45000}, {'model': 'faith napture', 'price': 50000}, {'model': 'yamaha f310', 'price': 84000}]\n",
      "[{'model': 'yamaha f310', 'price': 84000}, {'model': 'faith napture', 'price': 50000}, {'model': 'taylor 814ce', 'price': 45000}, {'model': 'faith apollo venus', 'price': 35000}]\n"
     ]
    }
   ],
   "source": [
    "# we cannot sort tuple(as tuples are ummutable)  & set(as set donot have sequence) by sort method\n",
    "# we can sort list, tuple, set by sorted \n",
    "# sorted() function returns  list with sorted elsemnts\n",
    "\n",
    "fruits=('banana','grapes','apples','kiwi')\n",
    "# fruits.sort() #AttributeError: 'tuple' object has no attribute 'sort'\n",
    "# sorted(fruits)  #AttributeError: 'tuple' object has no attribute 'sort'\n",
    "print(sorted(fruits))\n",
    "sorted_fruits=sorted(fruits)\n",
    "print(sorted_fruits)\n",
    "\n",
    "\n",
    "# example-2\n",
    "guiters=[\n",
    "    {'model': 'yamaha f310','price':84000},\n",
    "    {'model': 'faith napture','price':50000},\n",
    "    {'model': 'faith apollo venus','price':35000},\n",
    "    {'model': 'taylor 814ce','price':45000},\n",
    "]\n",
    "# sort guiters according to price\n",
    "\n",
    "print(sorted(guiters, key= lambda d: d.get('price'))) #sorted by min to max price\n",
    "print(sorted(guiters, key= lambda d: d.get('price') , reverse= True)) # sorted by max to min price"
   ]
  },
  {
   "cell_type": "markdown",
   "metadata": {},
   "source": [
    "# doc strings"
   ]
  },
  {
   "cell_type": "code",
   "execution_count": 18,
   "metadata": {},
   "outputs": [
    {
     "name": "stdout",
     "output_type": "stream",
     "text": [
      "this function takes 2 numbers  and returns their sum\n",
      "Return the number of items in a container.\n",
      "\n",
      "Return the sum of a 'start' value (default: 0) plus an iterable of numbers\n",
      "\n",
      "When the iterable is empty, return the start value.\n",
      "This function is intended specifically for use with numeric values and may\n",
      "reject non-numeric types.\n",
      "\n",
      "max(iterable, *[, default=obj, key=func]) -> value\n",
      "max(arg1, arg2, *args, *[, key=func]) -> value\n",
      "\n",
      "With a single iterable argument, return its biggest item. The\n",
      "default keyword-only argument specifies an object to return if\n",
      "the provided iterable is empty.\n",
      "With two or more arguments, return the largest argument.\n"
     ]
    }
   ],
   "source": [
    "# doc string is message which is given to user\n",
    "# see doc string (function name.__doc__)\n",
    "# doc string written in single(''' doc string message''') or double(\"\"\" doc string message\"\"\")\n",
    "\n",
    "def add(a,b):\n",
    "    '''this function takes 2 numbers  and returns their sum'''\n",
    "    return a+b\n",
    "print(add.__doc__) # see doc string (function name.__doc__)\n",
    "\n",
    "# to check builtin functions\n",
    "print(len.__doc__)\n",
    "print()\n",
    "print(sum.__doc__)\n",
    "print()\n",
    "print(max.__doc__)"
   ]
  },
  {
   "cell_type": "markdown",
   "metadata": {},
   "source": [
    "# help() function"
   ]
  },
  {
   "cell_type": "code",
   "execution_count": 19,
   "metadata": {},
   "outputs": [
    {
     "name": "stdout",
     "output_type": "stream",
     "text": [
      "Help on built-in function sum in module builtins:\n",
      "\n",
      "sum(iterable, start=0, /)\n",
      "    Return the sum of a 'start' value (default: 0) plus an iterable of numbers\n",
      "    \n",
      "    When the iterable is empty, return the start value.\n",
      "    This function is intended specifically for use with numeric values and may\n",
      "    reject non-numeric types.\n",
      "\n",
      "None\n"
     ]
    }
   ],
   "source": [
    "# used to get info about any builtin function\n",
    "print(help(sum))"
   ]
  },
  {
   "cell_type": "code",
   "execution_count": 20,
   "metadata": {},
   "outputs": [
    {
     "name": "stdout",
     "output_type": "stream",
     "text": [
      "Help on built-in function len in module builtins:\n",
      "\n",
      "len(obj, /)\n",
      "    Return the number of items in a container.\n",
      "\n",
      "None\n"
     ]
    }
   ],
   "source": [
    "print(help(len))"
   ]
  },
  {
   "cell_type": "code",
   "execution_count": null,
   "metadata": {},
   "outputs": [],
   "source": []
  },
  {
   "cell_type": "code",
   "execution_count": null,
   "metadata": {},
   "outputs": [],
   "source": []
  }
 ],
 "metadata": {
  "kernelspec": {
   "display_name": "Python 3",
   "language": "python",
   "name": "python3"
  },
  "language_info": {
   "codemirror_mode": {
    "name": "ipython",
    "version": 3
   },
   "file_extension": ".py",
   "mimetype": "text/x-python",
   "name": "python",
   "nbconvert_exporter": "python",
   "pygments_lexer": "ipython3",
   "version": "3.7.6"
  }
 },
 "nbformat": 4,
 "nbformat_minor": 4
}
