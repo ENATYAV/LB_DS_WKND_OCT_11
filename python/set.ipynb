{
 "cells": [
  {
   "cell_type": "code",
   "execution_count": 22,
   "metadata": {},
   "outputs": [
    {
     "name": "stdout",
     "output_type": "stream",
     "text": [
      "{1, 2, 3, 4, 5, 6, 7}\n",
      "{1, 2.0, 'navneet'}\n",
      "{1, 2.0, 'navneet'}\n",
      "{1, 2.0, 1.1, 'navneet'}\n"
     ]
    },
    {
     "ename": "TypeError",
     "evalue": "unhashable type: 'list'",
     "output_type": "error",
     "traceback": [
      "\u001b[1;31m---------------------------------------------------------------------------\u001b[0m",
      "\u001b[1;31mTypeError\u001b[0m                                 Traceback (most recent call last)",
      "\u001b[1;32m<ipython-input-22-2c1e325a2215>\u001b[0m in \u001b[0;36m<module>\u001b[1;34m\u001b[0m\n\u001b[0;32m     16\u001b[0m \u001b[0mprint\u001b[0m\u001b[1;33m(\u001b[0m\u001b[0ms\u001b[0m\u001b[1;33m)\u001b[0m\u001b[1;33m\u001b[0m\u001b[1;33m\u001b[0m\u001b[0m\n\u001b[0;32m     17\u001b[0m \u001b[1;33m\u001b[0m\u001b[0m\n\u001b[1;32m---> 18\u001b[1;33m \u001b[0ms\u001b[0m\u001b[1;33m=\u001b[0m\u001b[1;33m{\u001b[0m\u001b[1;36m1\u001b[0m\u001b[1;33m,\u001b[0m\u001b[1;36m1.1\u001b[0m\u001b[1;33m,\u001b[0m\u001b[1;36m2.0\u001b[0m\u001b[1;33m,\u001b[0m\u001b[1;34m'navneet'\u001b[0m\u001b[1;33m,\u001b[0m \u001b[1;33m[\u001b[0m\u001b[1;36m1\u001b[0m\u001b[1;33m]\u001b[0m\u001b[1;33m,\u001b[0m\u001b[1;33m{\u001b[0m\u001b[1;36m1\u001b[0m\u001b[1;33m:\u001b[0m\u001b[1;36m1\u001b[0m\u001b[1;33m}\u001b[0m\u001b[1;33m}\u001b[0m\u001b[1;33m\u001b[0m\u001b[1;33m\u001b[0m\u001b[0m\n\u001b[0m\u001b[0;32m     19\u001b[0m \u001b[0mprint\u001b[0m\u001b[1;33m(\u001b[0m\u001b[0ms\u001b[0m\u001b[1;33m)\u001b[0m\u001b[1;33m\u001b[0m\u001b[1;33m\u001b[0m\u001b[0m\n",
      "\u001b[1;31mTypeError\u001b[0m: unhashable type: 'list'"
     ]
    }
   ],
   "source": [
    "# set is unordered collection data structure\n",
    "# we can store unique elements, cannot store duplicate\n",
    "# set are mutable\n",
    "# to remove duplicate elements we can use set\n",
    "# we can store int, float, string, None, boolean values\n",
    "# in set we cannot store list, dictionary, tuple\n",
    "\n",
    "s={1,2,3,4,4,5,5,6,7}\n",
    "print(s)\n",
    "\n",
    "s= {1,2.0,'navneet'}\n",
    "print(s)\n",
    "s= {1,1.0,2.0,'navneet'} # 1 & 1.0 will be treated as same\n",
    "print(s)\n",
    "s= {1,1.1,2.0,'navneet'} \n",
    "print(s)\n",
    "\n",
    "s={1,1.1,2.0,'navneet', [1],{1:1}}  # TypeError: unhashable type: 'list', as we cannot store list & dictionay in set\n",
    "print(s)"
   ]
  },
  {
   "cell_type": "markdown",
   "metadata": {},
   "source": [
    "# methods in set\n"
   ]
  },
  {
   "cell_type": "markdown",
   "metadata": {},
   "source": [
    "# add() method "
   ]
  },
  {
   "cell_type": "code",
   "execution_count": 5,
   "metadata": {},
   "outputs": [
    {
     "name": "stdout",
     "output_type": "stream",
     "text": [
      "{1, 2, 3, 4, 5, 6, 7, 8}\n",
      "{1, 2, 3, 4, 5, 6, 7, 8}\n"
     ]
    }
   ],
   "source": [
    "#add() method -->to add elements\n",
    "# pass element to add\n",
    "s={1,2,3,4,5,6,7}\n",
    "s.add(8)\n",
    "print(s)\n",
    "s.add(4) # cannot add 4 again as 4 is already exist.\n",
    "print(s)\n"
   ]
  },
  {
   "cell_type": "markdown",
   "metadata": {},
   "source": [
    "# remove() method"
   ]
  },
  {
   "cell_type": "code",
   "execution_count": 9,
   "metadata": {},
   "outputs": [
    {
     "name": "stdout",
     "output_type": "stream",
     "text": [
      "{1, 2, 3, 5, 6, 7}\n",
      "None\n"
     ]
    }
   ],
   "source": [
    "# remove() method-- to remove element\n",
    "# if we delete item donot exit in set will give  key error\n",
    "s={1,2,3,4,5,6,7}\n",
    "removed =s.remove(4) # donot return removed item\n",
    "print(s)\n",
    "print(removed)\n",
    "\n",
    "# s.remove(8) KeyError: 8, as 8 is not element of set"
   ]
  },
  {
   "cell_type": "markdown",
   "metadata": {},
   "source": [
    "# discard()-->method"
   ]
  },
  {
   "cell_type": "code",
   "execution_count": 12,
   "metadata": {},
   "outputs": [
    {
     "name": "stdout",
     "output_type": "stream",
     "text": [
      "{1, 2, 3, 4, 5, 6}\n"
     ]
    }
   ],
   "source": [
    "# discard method is also used to delete element\n",
    "# this will not give error if we want to delete element which is not part of set\n",
    "\n",
    "s={1,2,3,4,5,6,7}\n",
    "s.discard(8) # will not give key error while not part of set\n",
    "s.discard(7) # 7 is part of set , so will be removed\n",
    "print(s)"
   ]
  },
  {
   "cell_type": "markdown",
   "metadata": {},
   "source": [
    "# clear() method"
   ]
  },
  {
   "cell_type": "code",
   "execution_count": 14,
   "metadata": {},
   "outputs": [
    {
     "name": "stdout",
     "output_type": "stream",
     "text": [
      "set()\n"
     ]
    }
   ],
   "source": [
    "# this clear set\n",
    "s={1,2,3,4,5,6,7}\n",
    "s.clear()\n",
    "print(s)"
   ]
  },
  {
   "cell_type": "markdown",
   "metadata": {},
   "source": [
    "# copy( ) method"
   ]
  },
  {
   "cell_type": "code",
   "execution_count": 18,
   "metadata": {},
   "outputs": [
    {
     "name": "stdout",
     "output_type": "stream",
     "text": [
      "{1, 2, 3, 4, 5, 6, 7} 2163423890568\n",
      "{1, 2, 3, 4, 5, 6, 7} 2163423891240\n"
     ]
    }
   ],
   "source": [
    "# will make copy\n",
    "s= {1,2,3,4,5,6,7}\n",
    "print(s , id(s))\n",
    "s1=s.copy()\n",
    "print(s1, id(s1))"
   ]
  },
  {
   "cell_type": "markdown",
   "metadata": {},
   "source": [
    "# loop in set"
   ]
  },
  {
   "cell_type": "code",
   "execution_count": 28,
   "metadata": {},
   "outputs": [
    {
     "name": "stdout",
     "output_type": "stream",
     "text": [
      "present\n",
      "present\n",
      "c\n",
      "a\n",
      "b\n"
     ]
    }
   ],
   "source": [
    "# \"in\" keyword is used to check membership/ element is part of set or not\n",
    "\n",
    "s= {'a','b','c'}\n",
    "if 'a' in s:\n",
    "    print('present')\n",
    "else:\n",
    "    print('not present')\n",
    "s1= {1,2,3,4,5,6,7}\n",
    "if 1 in s1:\n",
    "    print('present')\n",
    "else:\n",
    "    print('not present')\n",
    "# for loop\n",
    "s= {'a','b','c'}\n",
    "for i in s:\n",
    "    print(i) # may print in any order"
   ]
  },
  {
   "cell_type": "markdown",
   "metadata": {},
   "source": [
    "# union & intersection in set"
   ]
  },
  {
   "cell_type": "code",
   "execution_count": 30,
   "metadata": {},
   "outputs": [
    {
     "name": "stdout",
     "output_type": "stream",
     "text": [
      "{1, 2, 3, 4, 5, 6}\n",
      "{3, 4}\n"
     ]
    }
   ],
   "source": [
    "s1= {1,2,3,4}\n",
    "s2= {3,4,5,6}\n",
    "\n",
    "# union-->combaines element in both\n",
    "# {1,2,3,4,5,6}\n",
    "union_set= s1|s2\n",
    "print(union_set)\n",
    "\n",
    "# intersection-->common element in both\n",
    "# {3,4}\n",
    "\n",
    "intersection_set= s1 & s2\n",
    "print(intersection_set)"
   ]
  },
  {
   "cell_type": "code",
   "execution_count": 33,
   "metadata": {},
   "outputs": [
    {
     "name": "stdout",
     "output_type": "stream",
     "text": [
      "{1, 2, 3, 4, 5}\n",
      "{1, 2, 3, 4, 5}\n",
      "{1, 2, 3, 4, 5, 6, 7, 8, 9, 10}\n"
     ]
    }
   ],
   "source": [
    "# we can create set from list, tupla & range() function\n",
    "\n",
    "l=[1,2,3,3,4,4,5]\n",
    "s= set(l) # duplicate elements/items will be removed\n",
    "print(s)\n",
    "\n",
    "tpl=(1,2,3,3,4,4,5)\n",
    "s= set(tpl) # duplicate elements/items will be removed\n",
    "print(s)\n",
    "\n",
    "s= set(range(1,11))\n",
    "print(s)"
   ]
  },
  {
   "cell_type": "code",
   "execution_count": null,
   "metadata": {},
   "outputs": [],
   "source": []
  }
 ],
 "metadata": {
  "kernelspec": {
   "display_name": "Python 3",
   "language": "python",
   "name": "python3"
  },
  "language_info": {
   "codemirror_mode": {
    "name": "ipython",
    "version": 3
   },
   "file_extension": ".py",
   "mimetype": "text/x-python",
   "name": "python",
   "nbconvert_exporter": "python",
   "pygments_lexer": "ipython3",
   "version": "3.7.6"
  }
 },
 "nbformat": 4,
 "nbformat_minor": 4
}
