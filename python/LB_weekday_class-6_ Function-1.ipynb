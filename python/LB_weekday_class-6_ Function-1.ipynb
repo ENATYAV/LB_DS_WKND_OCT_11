{
 "cells": [
  {
   "cell_type": "code",
   "execution_count": null,
   "metadata": {},
   "outputs": [],
   "source": [
    "# function defination: funcation is define by keyword 'def', this is only defination\n",
    "# funcation call: execution of code inside funcation\n",
    "# using funcation we follow\"DRY(Donot repeate yourself) principle\n",
    "# by default finction return 'None' , it good practice to return \n",
    "# we can return any thing we want and can assign to any variable"
   ]
  },
  {
   "cell_type": "code",
   "execution_count": 4,
   "metadata": {},
   "outputs": [
    {
     "name": "stdout",
     "output_type": "stream",
     "text": [
      "enter first name: navneet\n",
      "enter last name: yadav\n",
      "enter date of birth : 31/10/1984\n",
      "employee full name is navneetyadav and date of birth is 31/10/1984\n"
     ]
    }
   ],
   "source": [
    "# def emp_detail(): #funcation defination\n",
    "#     f_name=input('enter first name: ')\n",
    "#     l_name=input('enter last name: ')\n",
    "#     d_o_b=input('enter date of birth : ')\n",
    "#     print(f'employee full name is {f_name+l_name} and date of birth is {d_o_b}') # returning \"None\"\n",
    "# emp_detail() # funcation call"
   ]
  },
  {
   "cell_type": "code",
   "execution_count": 5,
   "metadata": {},
   "outputs": [
    {
     "name": "stdout",
     "output_type": "stream",
     "text": [
      "enter first name: navneet\n",
      "enter last name: yadav\n",
      "enter date of birth : 31/10/1984\n",
      "employee full name is navneetyadav and date of birth is 31/10/1984\n",
      "None\n"
     ]
    }
   ],
   "source": [
    "# print(emp_detail())"
   ]
  },
  {
   "cell_type": "code",
   "execution_count": 7,
   "metadata": {},
   "outputs": [
    {
     "name": "stdout",
     "output_type": "stream",
     "text": [
      "enter the no of employee for which you want to  enter the detail: 5\n",
      "enter first name: abc\n",
      "enter last name: xyz\n",
      "enter date of birth : 31/10/1984\n",
      "employee full name is abcxyz and date of birth is 31/10/1984\n",
      "enter first name: cde\n",
      "enter last name: tuv\n",
      "enter date of birth : 31/10/1984\n",
      "employee full name is cdetuv and date of birth is 31/10/1984\n",
      "enter first name: fgh\n",
      "enter last name: xuv\n",
      "enter date of birth : 31/10/1084\n",
      "employee full name is fghxuv and date of birth is 31/10/1084\n",
      "enter first name: ghu\n",
      "enter last name: rzx\n",
      "enter date of birth : 31/10/1984\n",
      "employee full name is ghurzx and date of birth is 31/10/1984\n",
      "enter first name: yyy\n",
      "enter last name: xxx\n",
      "enter date of birth : 31/10/1984\n",
      "employee full name is yyyxxx and date of birth is 31/10/1984\n"
     ]
    }
   ],
   "source": [
    "# no_of_detail= eval(input('enter the no of employee for which you want to  enter the detail: '))\n",
    "# for i in range(no_of_detail):\n",
    "#     emp_detail()"
   ]
  },
  {
   "cell_type": "code",
   "execution_count": 18,
   "metadata": {},
   "outputs": [
    {
     "name": "stdout",
     "output_type": "stream",
     "text": [
      "enter the no of employee for which you want to  enter the detail: 2\n",
      "enter first name: a\n",
      "enter last name: b\n",
      "enter date of birth : 31\n",
      "enter first name: b\n",
      "enter last name: c\n",
      "enter date of birth : 31\n",
      "{'emp1': ('a b', '31'), 'emp2': ('b c', '31')}\n"
     ]
    }
   ],
   "source": [
    "def emp_detail(): #funcation defination\n",
    "    f_name=input('enter first name: ')\n",
    "    l_name=input('enter last name: ')\n",
    "    d_o_b=input('enter date of birth : ')\n",
    "    return f_name+ ' ' + l_name , d_o_b\n",
    "no_of_detail= eval(input('enter the no of employee for which you want to  enter the detail: '))\n",
    "emp_dict={}\n",
    "for i in range(1,no_of_detail+1):\n",
    "    emp_dict['emp' + str(i)] = emp_detail()\n",
    "print(emp_dict)"
   ]
  },
  {
   "cell_type": "code",
   "execution_count": 19,
   "metadata": {},
   "outputs": [
    {
     "name": "stdout",
     "output_type": "stream",
     "text": [
      "enter the no of employee for which you want to  enter the detail: 2\n",
      "{'emp1': 10, 'emp2': 10}\n"
     ]
    }
   ],
   "source": [
    "\n",
    "def emp_detail(): #funcation defination\n",
    "    return 10 # will retirun 10 \n",
    "    f_name=input('enter first name: ')\n",
    "    l_name=input('enter last name: ')\n",
    "    d_o_b=input('enter date of birth : ')\n",
    "    return f_name+ ' ' + l_name , d_o_b # this value will not returned as function returned 10 and once fuction returns than execution stops\n",
    "no_of_detail= eval(input('enter the no of employee for which you want to  enter the detail: '))\n",
    "emp_dict={}\n",
    "for i in range(1,no_of_detail+1):\n",
    "    emp_dict['emp' + str(i)] = emp_detail()\n",
    "print(emp_dict)"
   ]
  },
  {
   "cell_type": "code",
   "execution_count": 20,
   "metadata": {},
   "outputs": [
    {
     "name": "stdout",
     "output_type": "stream",
     "text": [
      "enter ist number: 11\n",
      "enter ist number: 5\n",
      "[16, 6, 2.2, 2, 1, 161051]\n"
     ]
    }
   ],
   "source": [
    "# exercise:\n",
    "# define a function and take two numbers from user\n",
    "# returns the result of all airthmetic opeations in for of list\n",
    "def arth_cal(a,b):\n",
    "    addition=a+b\n",
    "    substruction= a-b\n",
    "    float_div= a/b\n",
    "    int_div=a//b\n",
    "    mod_div=a%b\n",
    "    power= a**b\n",
    "    return [addition,substruction,float_div,int_div,mod_div,power]\n",
    "num1= int(input('enter ist number: '))\n",
    "num2= int(input('enter ist number: '))\n",
    "print(arth_cal(num1,num2))\n",
    "    "
   ]
  },
  {
   "cell_type": "code",
   "execution_count": 40,
   "metadata": {},
   "outputs": [
    {
     "name": "stdout",
     "output_type": "stream",
     "text": [
      "enter any number :15\n",
      "0 1 1 2 3 5 8 13 21 34 "
     ]
    }
   ],
   "source": [
    "#exercise \n",
    "# define a function that print fabonacci servies maximum vauleshould not exceed 50 \n",
    "\n",
    "# firts method\n",
    "def fabonacci_series(n):\n",
    "    a=0\n",
    "    b=1\n",
    "    if n==1:\n",
    "            print(a)\n",
    "    elif n==2:\n",
    "            print(a,b,)\n",
    "    else:\n",
    "        print(a,b,end=\" \")\n",
    "        for i in range(n-2):\n",
    "            c=a+b\n",
    "            if c<50:\n",
    "                print(c,end=\" \")\n",
    "            else:\n",
    "                break\n",
    "            a=b\n",
    "            b=c\n",
    "number= int(input('enter any number :'))\n",
    "fabonacci_series(number)     \n",
    "                "
   ]
  },
  {
   "cell_type": "markdown",
   "metadata": {},
   "source": [
    "# types of arguments\n",
    "   #1. Positional\n",
    "   #2. Default\n",
    "   #3. keyword\n",
    "   #4. variable length\n",
    "       #(a)  * args\n",
    "       #(b)  **kwargs"
   ]
  },
  {
   "cell_type": "code",
   "execution_count": 49,
   "metadata": {},
   "outputs": [
    {
     "data": {
      "text/plain": [
       "(30, -10, 200, 0.5, 0, 100000000000000000000)"
      ]
     },
     "execution_count": 49,
     "metadata": {},
     "output_type": "execute_result"
    }
   ],
   "source": [
    "# positional arguments : order and no of argument is importent\n",
    "# note: no of argument passed dueting function call == no of defined positional argument \n",
    "\n",
    "def arith_op(a,b):         # a,b are poitional argument\n",
    "    return a+b,a-b,a*b,a/b,a//b,a**b\n",
    "arith_op(10,20) # here in place or 10,20 values , can take input from user and use these variable \n",
    "\n",
    "# it is important that we should pass no of argument as defined in funcation other wise give give error\n",
    "\n",
    "# def arith_op(a,b):         # a,b are poitional argument\n",
    "#     return a+b,a-b,a*b,a/b,a//b,a**b\n",
    "# arith_op(10,20,30) # TypeError: arith_op() takes 2 positional arguments but 3 were given because we passed 3 argument while in fuction can only pass two\n",
    "\n",
    "\n"
   ]
  },
  {
   "cell_type": "code",
   "execution_count": 48,
   "metadata": {},
   "outputs": [
    {
     "name": "stdout",
     "output_type": "stream",
     "text": [
      "1 2 3 5 8 13 21 34 "
     ]
    }
   ],
   "source": [
    "# default argumet: we set default values in argument\n",
    "# default should follow to positional argument\n",
    "# default values should be according to operation inside the function\n",
    "# note: \n",
    "#   1. max no of argument passed during function call == no of (defined positional argument + default argement)\n",
    "#   2. min no of argument during function call == no of defined positional arguemnet \n",
    "\n",
    "\n",
    "def fib(i=0,j=1,n=50): # here i,j,n are set to default\n",
    "    k=i+j\n",
    "    if (k<=n):\n",
    "        i=j\n",
    "        j=k\n",
    "        print(k,end=\" \")\n",
    "        fib(i,j,n)\n",
    "fib() # if passing than take thar same value , if not passing any argument when default argument as set in function\n",
    "\n",
    "# default should follow to positional argument\n",
    "\n",
    "def fib(n,i=0,j=1): # n is positional argument & i &j are default\n",
    "    k=i+j\n",
    "    if (k<=n):\n",
    "        i=j\n",
    "        j=k\n",
    "        print(k,end=\" \")\n",
    "        fib(i,j,n)\n",
    "fib(50) # atleast one argument need to passed , beacuse one argument is positional, Maximum we can pass 3 arguemnt in this funcation"
   ]
  },
  {
   "cell_type": "code",
   "execution_count": 62,
   "metadata": {},
   "outputs": [
    {
     "name": "stdout",
     "output_type": "stream",
     "text": [
      "10 20 30 40\n",
      "10 20 30 40\n",
      "10 20 30 40\n"
     ]
    }
   ],
   "source": [
    "#keyworded argument\n",
    "# used to assign particular value to argument either defined in any order\n",
    "# if we have keyworded positional  and default argument than default argument should follow the keyworded positional\n",
    "\n",
    "def arith_op(a,b,c,d):         # a,b,c,d are poitional parameter\n",
    "    print(a,b,c,d)\n",
    "arith_op(10,20,30,40)         # a,b,c,d are poitionalarguments\n",
    "\n",
    "def arith_op(b,a,c,d):        # a,b,c,d are poitional parameter \n",
    "    print(a,b,c,d)\n",
    "arith_op(a=10,b=20,c=30,d=40) # a,b,c,d are keyworded argument\n",
    "\n",
    "# if we have keyworded positional  and default argument than default argument should follow the keyworded positional\n",
    "\n",
    "def arith_op(a,b,c=0,d=0):         \n",
    "    print(a,b,c,d)\n",
    "arith_op(b=20,a=10,d=40,c=30)\n"
   ]
  },
  {
   "cell_type": "code",
   "execution_count": 69,
   "metadata": {},
   "outputs": [
    {
     "name": "stdout",
     "output_type": "stream",
     "text": [
      "() <class 'tuple'>\n",
      "(10,) <class 'tuple'>\n",
      "(10, 20) <class 'tuple'>\n",
      "(10, 20, 30) <class 'tuple'>\n",
      "(10, 20, 30, 40) <class 'tuple'>\n",
      "0\n",
      "10\n",
      "30\n",
      "60\n",
      "100\n"
     ]
    }
   ],
   "source": [
    "# variable arguments: in this we can use any number of argument\n",
    "# 1. *args\n",
    "# 2. ** kwargs\n",
    "\n",
    "#*args -->takes any number of arguments in form of tuple\n",
    "def arith_op(* args):         \n",
    "    print(args, type(args))\n",
    "arith_op()\n",
    "arith_op(10)\n",
    "arith_op(10,20)\n",
    "arith_op(10,20,30)\n",
    "arith_op(10,20,30,40)\n",
    "\n",
    "# we can run loop on args\n",
    "def arith_op(* args):\n",
    "    total=0\n",
    "    for i in args:\n",
    "        total+=i\n",
    "    return total\n",
    "print(arith_op())\n",
    "print(arith_op(10))\n",
    "print(arith_op(10,20))\n",
    "print(arith_op(10,20,30))\n",
    "print(arith_op(10,20,30,40))\n"
   ]
  },
  {
   "cell_type": "markdown",
   "metadata": {},
   "source": [
    "# **kwargs- keyworded arguments"
   ]
  },
  {
   "cell_type": "code",
   "execution_count": 4,
   "metadata": {},
   "outputs": [
    {
     "name": "stdout",
     "output_type": "stream",
     "text": [
      "{'name': 'navneet', 'email': 'navneet.wide@gmail.com', 'street': 'hkm', 'city': 'alwar', 'state': 'rajasthan', 'pin': 301001} <class 'dict'>\n",
      "navneet\n",
      "navneet.wide@gmail.com\n",
      "hkm\n",
      "alwar\n",
      "rajasthan\n",
      "301001\n"
     ]
    }
   ],
   "source": [
    "# variable length keyworded arguments:\n",
    "## arguments gathers in form of dictionary\n",
    "def emp_info(**kwargs):    ## **kwargs converts into dictionary\n",
    "    print(kwargs,type(kwargs))\n",
    "    print(kwargs['name'])\n",
    "    print(kwargs['email'])\n",
    "    print(kwargs['street'])\n",
    "    print(kwargs['city'])\n",
    "    print(kwargs['state'])\n",
    "    print(kwargs['pin'])\n",
    "emp_info(name='navneet',email='navneet.wide@gmail.com',street='hkm',city='alwar',state='rajasthan',pin=301001) # pass keyworded arguments "
   ]
  },
  {
   "cell_type": "code",
   "execution_count": null,
   "metadata": {},
   "outputs": [],
   "source": []
  },
  {
   "cell_type": "code",
   "execution_count": null,
   "metadata": {},
   "outputs": [],
   "source": []
  }
 ],
 "metadata": {
  "kernelspec": {
   "display_name": "Python 3",
   "language": "python",
   "name": "python3"
  },
  "language_info": {
   "codemirror_mode": {
    "name": "ipython",
    "version": 3
   },
   "file_extension": ".py",
   "mimetype": "text/x-python",
   "name": "python",
   "nbconvert_exporter": "python",
   "pygments_lexer": "ipython3",
   "version": "3.7.6"
  }
 },
 "nbformat": 4,
 "nbformat_minor": 4
}
