{
 "cells": [
  {
   "cell_type": "markdown",
   "metadata": {},
   "source": [
    "# dictionary from tuples with two element inside list"
   ]
  },
  {
   "cell_type": "code",
   "execution_count": 2,
   "metadata": {},
   "outputs": [
    {
     "name": "stdout",
     "output_type": "stream",
     "text": [
      "{'user1': 'navneet', 'user2': 'smita', 'user3': 'mridul'}\n"
     ]
    }
   ],
   "source": [
    "lst= [('user1', 'navneet'), ('user2', 'smita'), ('user3', 'mridul')]\n",
    "user_dict= dict(lst)\n",
    "print(user_dict)"
   ]
  },
  {
   "cell_type": "code",
   "execution_count": 21,
   "metadata": {},
   "outputs": [
    {
     "name": "stdout",
     "output_type": "stream",
     "text": [
      "{'name': 'harshit', 'age': 24} <class 'dict'>\n",
      "{'name': 'harshit', 'age': 24} <class 'dict'>\n",
      "{'name': 'harshit', 'age': 24, 'fav_movies': ['coco', 'kimi no nawa'], 'fav_tunes': ['aweking', 'fairy tale']} <class 'dict'>\n",
      "{'user1': {'first_name': 'navneet', 'last_name': 'yadav', 'age': 36}, 'user2': {'first_name': 'smita', 'last_name': 'yadav', 'age': 35}, 'user3': {'first_name': 'mridul', 'last_name': 'yadav', 'age': 10}} <class 'dict'>\n"
     ]
    }
   ],
   "source": [
    "# dictionary is unordered/unsequenced collection of data types\n",
    "# stores data in key: value form\n",
    "# {}-->stores data in curly brackets\n",
    "# keys can be any immutable data type int , float, string, tuple, dictionay inside dictionay etc\n",
    "# in dictionay we can store complex data type\n",
    "\n",
    "# fist method\n",
    "user= {'name':'harshit','age':24}\n",
    "print(user, type(user))\n",
    "\n",
    "# second method\n",
    "user= dict(name='harshit',age=24)\n",
    "print(user, type(user))\n",
    "\n",
    "# third way--> dictionay in mutiline with mutidata type\n",
    "\n",
    "user_info= {\n",
    "    'name':'harshit',\n",
    "    'age' : 24,\n",
    "    'fav_movies':['coco','kimi no nawa'],\n",
    "    'fav_tunes':['aweking','fairy tale']\n",
    "}\n",
    "print(user_info, type(user_info))\n",
    "\n",
    "# complex data type\n",
    "\n",
    "users={\n",
    "    'user1': {\n",
    "        'first_name':'navneet',\n",
    "        'last_name': 'yadav',\n",
    "        'age': 36\n",
    "    },\n",
    "    'user2' : {\n",
    "        'first_name':'smita',\n",
    "        'last_name': 'yadav',\n",
    "        'age': 35\n",
    "    },\n",
    "    'user3' : {\n",
    "        'first_name':'mridul',\n",
    "        'last_name': 'yadav',\n",
    "        'age': 10\n",
    "    }\n",
    "}\n",
    "print(users, type(users))"
   ]
  },
  {
   "cell_type": "markdown",
   "metadata": {},
   "source": [
    "# access data in dictionay"
   ]
  },
  {
   "cell_type": "code",
   "execution_count": 9,
   "metadata": {},
   "outputs": [
    {
     "name": "stdout",
     "output_type": "stream",
     "text": [
      "harshit\n",
      "24\n"
     ]
    }
   ],
   "source": [
    "user= {'name':'harshit','age':24}\n",
    "\n",
    "\n",
    "# we cannot access by indexing as dictionay is unordered data collection\n",
    "# print(user[0]) # KeyError: 0--> as no indexing in dictionay\n",
    "\n",
    "# we can access data from keys\n",
    "print(user['name']) \n",
    "print(user['age']) \n"
   ]
  },
  {
   "cell_type": "markdown",
   "metadata": {},
   "source": [
    "# add data in empty dictionay"
   ]
  },
  {
   "cell_type": "code",
   "execution_count": 22,
   "metadata": {},
   "outputs": [
    {
     "name": "stdout",
     "output_type": "stream",
     "text": [
      "{'name': 'Navneet', 'age': 36} <class 'dict'>\n"
     ]
    }
   ],
   "source": [
    "user_info2={} # empty dictionary\n",
    "user_info2['name'] = 'Navneet'\n",
    "user_info2['age'] = 36\n",
    "print(user_info2, type(user_info2))\n"
   ]
  },
  {
   "cell_type": "code",
   "execution_count": 26,
   "metadata": {},
   "outputs": [
    {
     "name": "stdout",
     "output_type": "stream",
     "text": [
      "present\n",
      "not present\n"
     ]
    }
   ],
   "source": [
    "# check if key exist in dictionay or not\n",
    "\n",
    "user_info= {\n",
    "    'name':'harshit',\n",
    "    'age' : 24,\n",
    "    'fav_movies':['coco','kimi no nawa'],\n",
    "    'fav_tunes':['aweking','fairy tale']\n",
    "}\n",
    "\n",
    "if 'name' in user_info:\n",
    "    print('present')\n",
    "    \n",
    "if 'song' in user_info:\n",
    "    print('present')\n",
    "else:\n",
    "    print('not present')"
   ]
  },
  {
   "cell_type": "code",
   "execution_count": 27,
   "metadata": {},
   "outputs": [
    {
     "name": "stdout",
     "output_type": "stream",
     "text": [
      "present\n"
     ]
    }
   ],
   "source": [
    "# check if values exist in dictionay or not\n",
    "# we can check with values() method\n",
    "user_info= {\n",
    "    'name':'harshit',\n",
    "    'age' : 24,\n",
    "    'fav_movies':['coco','kimi no nawa'],\n",
    "    'fav_tunes':['aweking','fairy tale']\n",
    "}\n",
    "\n",
    "\n",
    "if 'harshit' in user_info.values():\n",
    "    print('present')\n",
    "else:\n",
    "    print('not present')\n"
   ]
  },
  {
   "cell_type": "markdown",
   "metadata": {},
   "source": [
    "# loops in dictionay"
   ]
  },
  {
   "cell_type": "code",
   "execution_count": 32,
   "metadata": {},
   "outputs": [
    {
     "name": "stdout",
     "output_type": "stream",
     "text": [
      "name\n",
      "age\n",
      "fav_movies\n",
      "fav_tunes\n",
      "harshit\n",
      "24\n",
      "['coco', 'kimi no nawa']\n",
      "['aweking', 'fairy tale']\n",
      "harshit\n",
      "24\n",
      "['coco', 'kimi no nawa']\n",
      "['aweking', 'fairy tale']\n"
     ]
    }
   ],
   "source": [
    "#  for loop for keys\n",
    "for i in user_info:\n",
    "    print(i)\n",
    "    \n",
    "#  for loop for values\n",
    "for i in user_info.values():\n",
    "    print(i)\n",
    "    # or\n",
    "for i in user_info:\n",
    "    print(user_info[i])"
   ]
  },
  {
   "cell_type": "markdown",
   "metadata": {},
   "source": [
    "# keys() & value() methods"
   ]
  },
  {
   "cell_type": "code",
   "execution_count": 31,
   "metadata": {},
   "outputs": [
    {
     "name": "stdout",
     "output_type": "stream",
     "text": [
      "dict_keys(['name', 'age', 'fav_movies', 'fav_tunes'])\n",
      "<class 'dict_keys'>\n",
      "dict_values(['harshit', 24, ['coco', 'kimi no nawa'], ['aweking', 'fairy tale']])\n",
      "<class 'dict_values'>\n"
     ]
    }
   ],
   "source": [
    "# keys method\n",
    "user_info_keys= user_info.keys() # returnd dict_keys which is like list\n",
    "print(user_info_keys)\n",
    "print(type(user_info_keys))\n",
    "\n",
    "# values method\n",
    "user_info_values= user_info.values() # returnd dict_values which is like list\n",
    "print(user_info_values)\n",
    "print(type(user_info_values))\n"
   ]
  },
  {
   "cell_type": "markdown",
   "metadata": {},
   "source": [
    "# items() method"
   ]
  },
  {
   "cell_type": "code",
   "execution_count": 35,
   "metadata": {},
   "outputs": [
    {
     "name": "stdout",
     "output_type": "stream",
     "text": [
      "dict_items([('name', 'harshit'), ('age', 24), ('fav_movies', ['coco', 'kimi no nawa']), ('fav_tunes', ['aweking', 'fairy tale'])])\n",
      "<class 'dict_items'>\n"
     ]
    }
   ],
   "source": [
    "# this method returns dict_items in form of tuples inside list. in tuple keys & values are stored\n",
    "# we can use tuple unpacking to access keys & values seperately\n",
    "\n",
    "user_info= {\n",
    "    'name':'harshit',\n",
    "    'age' : 24,\n",
    "    'fav_movies':['coco','kimi no nawa'],\n",
    "    'fav_tunes':['aweking','fairy tale']\n",
    "}\n",
    "\n",
    "user_items= user_info.items() # returns like [(),(),()]\n",
    "print(user_items)\n",
    "print(type(user_items))\n"
   ]
  },
  {
   "cell_type": "code",
   "execution_count": 38,
   "metadata": {},
   "outputs": [
    {
     "name": "stdout",
     "output_type": "stream",
     "text": [
      "key is name and value is harshit\n",
      "key is age and value is 24\n",
      "key is fav_movies and value is ['coco', 'kimi no nawa']\n",
      "key is fav_tunes and value is ['aweking', 'fairy tale']\n"
     ]
    }
   ],
   "source": [
    "# for loop in dictionay using items() method\n",
    "\n",
    "user_info= {\n",
    "    'name':'harshit',\n",
    "    'age' : 24,\n",
    "    'fav_movies':['coco','kimi no nawa'],\n",
    "    'fav_tunes':['aweking','fairy tale']\n",
    "}\n",
    "\n",
    "for key, value in user_info.items():# tuple unpacking, we can use any variable in place of key & value\n",
    "    print(f'key is {key} and value is {value}')\n",
    "    "
   ]
  },
  {
   "cell_type": "markdown",
   "metadata": {},
   "source": [
    "# add data in dictionary"
   ]
  },
  {
   "cell_type": "code",
   "execution_count": 39,
   "metadata": {},
   "outputs": [
    {
     "name": "stdout",
     "output_type": "stream",
     "text": [
      "{'name': 'harshit', 'age': 24, 'fav_movies': ['coco', 'kimi no nawa'], 'fav_tunes': ['aweking', 'fairy tale'], 'fav_song': ['song1', 'song2', 'song2']}\n"
     ]
    }
   ],
   "source": [
    "# we can add data in dictionay in key: value pair\n",
    "\n",
    "user_info= {\n",
    "    'name':'harshit',\n",
    "    'age' : 24,\n",
    "    'fav_movies':['coco','kimi no nawa'],\n",
    "    'fav_tunes':['aweking','fairy tale']\n",
    "}\n",
    "\n",
    "user_info['fav_song']= ['song1', 'song2','song2']\n",
    "print(user_info)"
   ]
  },
  {
   "cell_type": "markdown",
   "metadata": {},
   "source": [
    "# delete data from dictionay\n",
    "#pop()method\n",
    "#popitem() method"
   ]
  },
  {
   "cell_type": "code",
   "execution_count": 55,
   "metadata": {},
   "outputs": [
    {
     "name": "stdout",
     "output_type": "stream",
     "text": [
      "popped item is ['aweking', 'fairy tale']\n",
      "{'name': 'harshit', 'age': 24, 'fav_movies': ['coco', 'kimi no nawa']}\n",
      "('fav_tunes', ['aweking', 'fairy tale']) <class 'tuple'>\n",
      "{'name': 'harshit', 'age': 24, 'fav_movies': ['coco', 'kimi no nawa']}\n"
     ]
    }
   ],
   "source": [
    "# pop() method\n",
    "# item can be deleted with the help of keys and returns values & can store in any variable\n",
    "# need to pass atleast one argement , cann't use like in list\n",
    "#we have to pass atleast on argument to pop\n",
    "\n",
    "user_info= {\n",
    "    'name':'harshit',\n",
    "    'age' : 24,\n",
    "    'fav_movies':['coco','kimi no nawa'],\n",
    "    'fav_tunes':['aweking','fairy tale']\n",
    "}\n",
    "\n",
    "# popped= user_info.pop() # error : TypeError: pop expected at least 1 arguments, got 0, we have to pass atleast on argument to pop\n",
    "popped= user_info.pop('fav_tunes')\n",
    "print(f'popped item is {popped}')\n",
    "print(user_info)\n",
    "\n",
    "\n",
    "# popitem() method is used to delete rendom key value pair\n",
    "# returns key and value pair in tuple\n",
    "# donot pass any arugument\n",
    "\n",
    "user_info= {\n",
    "    'name':'harshit',\n",
    "    'age' : 24,\n",
    "    'fav_movies':['coco','kimi no nawa'],\n",
    "    'fav_tunes':['aweking','fairy tale']\n",
    "}\n",
    "popped_item= user_info.popitem() # remdomly delete key & value pait and will return key and value pair in tuple\n",
    "print(popped_item, type(popped_item))\n",
    "print(user_info)\n"
   ]
  },
  {
   "cell_type": "markdown",
   "metadata": {},
   "source": [
    "# update() method"
   ]
  },
  {
   "cell_type": "code",
   "execution_count": 60,
   "metadata": {},
   "outputs": [
    {
     "name": "stdout",
     "output_type": "stream",
     "text": [
      "{'name': 'harshit', 'age': 24, 'fav_movies': ['coco', 'kimi no nawa'], 'fav_tunes': ['aweking', 'fairy tale'], 'state': 'rajasthan', 'district': 'alwar'}\n",
      "{'name': 'navneet yadav', 'age': 24, 'fav_movies': ['coco', 'kimi no nawa'], 'fav_tunes': ['aweking', 'fairy tale'], 'district': 'alwar'}\n",
      "{'name': 'harshit', 'age': 24, 'fav_movies': ['coco', 'kimi no nawa'], 'fav_tunes': ['aweking', 'fairy tale']}\n"
     ]
    }
   ],
   "source": [
    "# update() method used to add one dictionay data to another \n",
    "# we pass dictionay which to be update\n",
    "#if any key is already exist than no duplicate key store, key previous value will be replaces by new value\n",
    "# if we update with empty dictionary, than there will no change that means no new data is added\n",
    "\n",
    "user_info= {\n",
    "    'name':'harshit',\n",
    "    'age' : 24,\n",
    "    'fav_movies':['coco','kimi no nawa'],\n",
    "    'fav_tunes':['aweking','fairy tale']\n",
    "}\n",
    "\n",
    "more_info={\n",
    "    'state': 'rajasthan',\n",
    "    'district': 'alwar'\n",
    "}\n",
    "\n",
    "user_info.update(more_info)# more_info dictionay will be updated in user_info dictonay\n",
    "print(user_info)\n",
    "\n",
    "#if any key is already exist than no duplicate key store, key previous value will be replaces by new value\n",
    "\n",
    "user_info= {\n",
    "    'name':'harshit',\n",
    "    'age' : 24,\n",
    "    'fav_movies':['coco','kimi no nawa'],\n",
    "    'fav_tunes':['aweking','fairy tale']\n",
    "}\n",
    "\n",
    "more_info={\n",
    "    'name': 'navneet yadav', # key is already exist in user_info dictionay so will be update ii's value in user_info dictionary\n",
    "    'district': 'alwar'\n",
    "}\n",
    "user_info.update(more_info)# more_info dictionay will be updated in user_info dictonay\n",
    "print(user_info)\n",
    "\n",
    "# if we update with empty dictionary, than there will no change that means no new data is added\n",
    "user_info= {\n",
    "    'name':'harshit',\n",
    "    'age' : 24,\n",
    "    'fav_movies':['coco','kimi no nawa'],\n",
    "    'fav_tunes':['aweking','fairy tale']\n",
    "}\n",
    "user_info.update({})\n",
    "print(user_info)"
   ]
  },
  {
   "cell_type": "markdown",
   "metadata": {},
   "source": [
    "# fromkeys(), get(), copy(),clear() methods\n"
   ]
  },
  {
   "cell_type": "code",
   "execution_count": 65,
   "metadata": {},
   "outputs": [
    {
     "name": "stdout",
     "output_type": "stream",
     "text": [
      "{'name': 'unknown', 'age': 'unknown', 'height': 'unknown'}\n",
      "{'name': 'unknown', 'age': 'unknown', 'height': 'unknown'}\n",
      "{'a': 'unknown', 'b': 'unknown', 'c': 'unknown'}\n",
      "{0: 'unknown', 1: 'unknown', 2: 'unknown', 3: 'unknown', 4: 'unknown', 5: 'unknown'}\n"
     ]
    }
   ],
   "source": [
    "# fromkeys()\n",
    "# use to create dictionary with different keys with same value\n",
    "d=dict.fromkeys(['name','age', 'height'], 'unknown') # element inside list are keys and default value 'unknown' will be assigned to them\n",
    "print(d)\n",
    "d=dict.fromkeys(('name','age', 'height'), 'unknown') # element inside tuple are keys and default value 'unknown' will be assigned to them\n",
    "print(d)\n",
    "d=dict.fromkeys('abc', 'unknown') # element of string are keys and default value 'unknown' will be assigned to them\n",
    "print(d)\n",
    "\n",
    "d=dict.fromkeys(range(6), 'unknown')\n",
    "print(d)\n",
    "\n"
   ]
  },
  {
   "cell_type": "code",
   "execution_count": 75,
   "metadata": {},
   "outputs": [
    {
     "name": "stdout",
     "output_type": "stream",
     "text": [
      "harshit\n",
      "harshit\n",
      "None\n",
      "not found !!\n",
      "navneet\n"
     ]
    }
   ],
   "source": [
    "# get() method\n",
    "# by this we can acces value of key as normal by key\n",
    "# normal way give error if key is not exist but get() method donot give any error\n",
    "# we pass key as argument for which we want to access value\n",
    "# get method returns value of key\n",
    "# get method returns 'None' if key is not exist, we can return other than 'None' what we want\n",
    "# if duplicate keys exist in dictionay than last key value replaces previous key value\n",
    "\n",
    "\n",
    "user_info= {\n",
    "    'name':'harshit',\n",
    "    'age' : 24,\n",
    "    'fav_movies':['coco','kimi no nawa'],\n",
    "    'fav_tunes':['aweking','fairy tale']\n",
    "}\n",
    "\n",
    "print(user_info['name'])\n",
    "print(user_info.get('name'))\n",
    "\n",
    "# print(user_info['fav_song']) # will give KeyError: 'fav_song', as no key is exist with 'fav_song'\n",
    "print(user_info.get('fav_song')) # no error, will return 'None'\n",
    "print(user_info.get('fav_song','not found !!')) # no error, will return 'not found !!'\n",
    "\n",
    "user_info= {\n",
    "    'name':'harshit',\n",
    "    'age' : 24,\n",
    "    'fav_movies':['coco','kimi no nawa'],\n",
    "    'fav_tunes':['aweking','fairy tale'],\n",
    "    'name':'navneet',\n",
    "}\n",
    "print(user_info.get('name')) # this will return 'navneet' not 'harshit' as both has same key , last value of 'name' key is' navneet'\n"
   ]
  },
  {
   "cell_type": "code",
   "execution_count": 70,
   "metadata": {},
   "outputs": [
    {
     "name": "stdout",
     "output_type": "stream",
     "text": [
      "{}\n"
     ]
    }
   ],
   "source": [
    "# clear() method --empty the dictionay\n",
    "\n",
    "user_info= {\n",
    "    'name':'harshit',\n",
    "    'age' : 24,\n",
    "    'fav_movies':['coco','kimi no nawa'],\n",
    "    'fav_tunes':['aweking','fairy tale']\n",
    "}\n",
    "\n",
    "user_info.clear()\n",
    "print(user_info)"
   ]
  },
  {
   "cell_type": "code",
   "execution_count": 71,
   "metadata": {},
   "outputs": [
    {
     "name": "stdout",
     "output_type": "stream",
     "text": [
      "{'name': 'harshit', 'age': 24, 'fav_movies': ['coco', 'kimi no nawa'], 'fav_tunes': ['aweking', 'fairy tale']} 1991589712504\n",
      "{'name': 'harshit', 'age': 24, 'fav_movies': ['coco', 'kimi no nawa'], 'fav_tunes': ['aweking', 'fairy tale']} 1991589713784\n"
     ]
    }
   ],
   "source": [
    "# clear() method --make a copy of dictionary\n",
    "user_info= {\n",
    "    'name':'harshit',\n",
    "    'age' : 24,\n",
    "    'fav_movies':['coco','kimi no nawa'],\n",
    "    'fav_tunes':['aweking','fairy tale']\n",
    "}\n",
    "print(user_info, id(user_info))\n",
    "new_dict=user_info.copy()\n",
    "print(new_dict, id(new_dict))\n"
   ]
  },
  {
   "cell_type": "code",
   "execution_count": 73,
   "metadata": {},
   "outputs": [
    {
     "name": "stdout",
     "output_type": "stream",
     "text": [
      "True\n",
      "('age', 24)\n",
      "{'name': 'harshit'}\n"
     ]
    }
   ],
   "source": [
    "d= {'name':'harshit','age' : 24,}\n",
    "d1=d  # here d1 & d are same dictionay, stored in same memory location\n",
    "print(d1 is d) # \n",
    "print(d1.popitem()) # this not only pop from d1 , also from d also, as both are same dictionay\n",
    "print(d)"
   ]
  },
  {
   "cell_type": "code",
   "execution_count": 5,
   "metadata": {},
   "outputs": [
    {
     "name": "stdout",
     "output_type": "stream",
     "text": [
      "enter a number :10\n",
      "{1: 1, 2: 8, 3: 27, 4: 64, 5: 125, 6: 216, 7: 343, 8: 512, 9: 729, 10: 1000}\n"
     ]
    }
   ],
   "source": [
    "#Exercise\n",
    "# define a function and take input a number(n)\n",
    "# returns a dictionary containing cubeof numbers from 1 to n\n",
    "num= eval(input('enter a number :'))\n",
    "def cube_finder(n):\n",
    "    cube_dict={}\n",
    "    for i in range(1,n+1):\n",
    "        cube_dict[i]= i**3\n",
    "    return cube_dict\n",
    "print(cube_finder(num))\n"
   ]
  },
  {
   "cell_type": "code",
   "execution_count": 9,
   "metadata": {},
   "outputs": [
    {
     "name": "stdout",
     "output_type": "stream",
     "text": [
      "enter your name: navneet yadav\n",
      "{'n': 2, 'a': 3, 'v': 2, 'e': 2, 't': 1, ' ': 1, 'y': 1, 'd': 1}\n"
     ]
    }
   ],
   "source": [
    "# exercise: word counter\n",
    "# input-->'navneet'\n",
    "# output--> {'n':2,'a':1,'e':2,'t':1}\n",
    "name= input('enter your name: ')\n",
    "def char_count(s):\n",
    "    name_char_count={}\n",
    "    for char in s:\n",
    "        name_char_count[char]= s.count(char)\n",
    "    return name_char_count\n",
    "print(char_count(name))\n",
    "\n"
   ]
  },
  {
   "cell_type": "code",
   "execution_count": 1,
   "metadata": {},
   "outputs": [
    {
     "name": "stdout",
     "output_type": "stream",
     "text": [
      "enter name  :navneet\n",
      "enter age  :36\n",
      "enter movies with comma seperated: movie1,movie2,movie3\n",
      "enter songs with comma seperated: song1,song2,song3\n",
      "{'name': 'navneet', 'age': '36', 'fav_movie': ['movie1', 'movie2', 'movie3'], 'song': ['song1', 'song2', 'song3']}\n",
      "name:navneet\n",
      "age:36\n",
      "fav_movie:['movie1', 'movie2', 'movie3']\n",
      "song:['song1', 'song2', 'song3']\n"
     ]
    }
   ],
   "source": [
    "# exercise: take inputs from user and store into dictionary\n",
    "\n",
    "\n",
    "user_info={}\n",
    "name= input('enter name  :')\n",
    "age= input('enter age  :')\n",
    "fav_movie= input('enter movies with comma seperated: ').split(',')\n",
    "fav_song= input('enter songs with comma seperated: ').split(',')\n",
    "user_info['name']=name\n",
    "user_info['age']=age\n",
    "user_info['fav_movie']=fav_movie\n",
    "user_info['song']=fav_song\n",
    "print(user_info)\n",
    "for key,value in user_info.items():\n",
    "    print(f\"{key}:{value}\")\n",
    "\n"
   ]
  },
  {
   "cell_type": "code",
   "execution_count": 2,
   "metadata": {},
   "outputs": [
    {
     "name": "stdout",
     "output_type": "stream",
     "text": [
      "8360\n",
      "17431\n"
     ]
    }
   ],
   "source": [
    "# dictionaly from tuple inside list\n",
    "\n"
   ]
  },
  {
   "cell_type": "code",
   "execution_count": 3,
   "metadata": {},
   "outputs": [
    {
     "name": "stdout",
     "output_type": "stream",
     "text": [
      "97\n",
      "65\n",
      "98\n",
      "66\n"
     ]
    }
   ],
   "source": []
  },
  {
   "cell_type": "code",
   "execution_count": null,
   "metadata": {},
   "outputs": [],
   "source": []
  },
  {
   "cell_type": "code",
   "execution_count": null,
   "metadata": {},
   "outputs": [],
   "source": []
  },
  {
   "cell_type": "code",
   "execution_count": null,
   "metadata": {},
   "outputs": [],
   "source": []
  }
 ],
 "metadata": {
  "kernelspec": {
   "display_name": "Python 3",
   "language": "python",
   "name": "python3"
  },
  "language_info": {
   "codemirror_mode": {
    "name": "ipython",
    "version": 3
   },
   "file_extension": ".py",
   "mimetype": "text/x-python",
   "name": "python",
   "nbconvert_exporter": "python",
   "pygments_lexer": "ipython3",
   "version": "3.7.6"
  }
 },
 "nbformat": 4,
 "nbformat_minor": 4
}
